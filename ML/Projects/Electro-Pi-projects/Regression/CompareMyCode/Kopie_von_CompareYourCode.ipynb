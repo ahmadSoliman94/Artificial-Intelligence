{
  "nbformat": 4,
  "nbformat_minor": 0,
  "metadata": {
    "colab": {
      "name": "Kopie von CompareYourCode.ipynb",
      "provenance": [],
      "include_colab_link": true
    },
    "kernelspec": {
      "name": "python3",
      "display_name": "Python 3"
    }
  },
  "cells": [
    {
      "cell_type": "markdown",
      "metadata": {
        "id": "view-in-github",
        "colab_type": "text"
      },
      "source": [
        "<a href=\"https://colab.research.google.com/github/ahmadSoliman94/Machine-Learning/blob/main/ML/Projects/Electro-Pi-projects/Regression/CompareMyCode/Kopie_von_CompareYourCode.ipynb\" target=\"_parent\"><img src=\"https://colab.research.google.com/assets/colab-badge.svg\" alt=\"Open In Colab\"/></a>"
      ]
    },
    {
      "cell_type": "markdown",
      "metadata": {
        "id": "4jHx3DgvH9Mk"
      },
      "source": [
        "# Comparison .. Who is better you ? or scikit learn !\n",
        "\n",
        "* Use All your Codes that you 've Developed for Machine Learning  [ Your Package ]\n",
        "\n",
        "* And  Then Run Scikit Learn Code For the Same Task then notice who will do better."
      ]
    },
    {
      "cell_type": "code",
      "metadata": {
        "id": "LwWnjc91H418",
        "colab": {
          "base_uri": "https://localhost:8080/"
        },
        "outputId": "dc5f96e5-8cc7-49fd-e22e-1d99a648bf1c"
      },
      "source": [
        "# Colab Block Of Code \n",
        "from google.colab import drive\n",
        "drive.mount('/content/drive/')"
      ],
      "execution_count": null,
      "outputs": [
        {
          "output_type": "stream",
          "name": "stdout",
          "text": [
            "Drive already mounted at /content/drive/; to attempt to forcibly remount, call drive.mount(\"/content/drive/\", force_remount=True).\n"
          ]
        }
      ]
    },
    {
      "cell_type": "code",
      "metadata": {
        "id": "byVSikHpIbl2"
      },
      "source": [
        "#Colab Code#\n",
        "import os\n",
        "os.chdir('drive/My Drive/Colab Notebooks/')"
      ],
      "execution_count": null,
      "outputs": []
    },
    {
      "cell_type": "code",
      "source": [
        "!ls "
      ],
      "metadata": {
        "colab": {
          "base_uri": "https://localhost:8080/"
        },
        "id": "U5VfjfZzVcmE",
        "outputId": "78b4d67d-6783-4589-9b20-d60fbd8c9f98"
      },
      "execution_count": null,
      "outputs": [
        {
          "output_type": "stream",
          "name": "stdout",
          "text": [
            "'Kopie von Classification.ipynb'\n",
            "'Kopie von CompareYourCode.ipynb'\n",
            "'Kopie von Mins Of Coding2.ipynb'\n",
            "'Kopie von Multiple Linear Regression.ipynb'\n",
            "'Kopie von Numpy.ipynb'\n",
            "'Kopie von pandas.ipynb'\n",
            "'Kopie von Pre_processing.ipynb'\n",
            "'Kopie von ٌRegression CapStone.ipynb'\n",
            "'Kopie von Regressors.ipynb'\n",
            "'Kopie von Simple Linear Regression.ipynb'\n",
            "'Kopie von Transformation.ipynb'\n",
            " __pycache__\n",
            " statistic.py\n",
            " Transformation.py\n"
          ]
        }
      ]
    },
    {
      "cell_type": "markdown",
      "metadata": {
        "id": "mCMdHcPzIfMb"
      },
      "source": [
        "**First**: Load Your Package "
      ]
    },
    {
      "cell_type": "code",
      "metadata": {
        "id": "26l4CkxWIoaE",
        "colab": {
          "base_uri": "https://localhost:8080/"
        },
        "outputId": "8bda578a-952e-46e9-a80a-72dbdf946ff4"
      },
      "source": [
        "# you have two ways \n",
        "# from ...........NameofyourPackageFile...........  import * \n",
        "#if you use OOP\n",
        "import numpy as np   # For Matrices Manipulations\n",
        "import pandas as pd  # For Data frames etc \n",
        "import openpyxl   # For Excel Files\n",
        "import os   # For Changing to the Correct Directory \n",
        "from Transformation import Transformer"
      ],
      "execution_count": null,
      "outputs": [
        {
          "output_type": "stream",
          "name": "stdout",
          "text": [
            "Check your Result here : 1.0  The Answer Should  be equal to 1.0\n"
          ]
        }
      ]
    },
    {
      "cell_type": "markdown",
      "metadata": {
        "id": "Qhj9wPYmI_2U"
      },
      "source": [
        "**Second**  Let's import Our Dependencies and  Load the data then  Transfer it into Numpy Array of Features and Lables."
      ]
    },
    {
      "cell_type": "code",
      "metadata": {
        "id": "XXF1K6hSJQEb",
        "colab": {
          "base_uri": "https://localhost:8080/"
        },
        "outputId": "fef46bb0-a86d-4baa-8a67-3dd9e5218668"
      },
      "source": [
        "data=pd.read_excel('/content/drive/MyDrive/Fusion/slr02.xlsx', engine = 'openpyxl')\n",
        "X= data.iloc[:,:-1].values\n",
        "y=data.iloc[:,-1:].values\n",
        "#print Shapes and Types\n",
        "print(f'Shape of X: {X.shape}' , f'Type:  {type(X)}')\n",
        "print(f'Shape of y: {y.shape}' , f'Type:  {type(y)}')"
      ],
      "execution_count": null,
      "outputs": [
        {
          "output_type": "stream",
          "name": "stdout",
          "text": [
            "Shape of X: (15, 1) Type:  <class 'numpy.ndarray'>\n",
            "Shape of y: (15, 1) Type:  <class 'numpy.ndarray'>\n"
          ]
        }
      ]
    },
    {
      "cell_type": "code",
      "source": [
        "data"
      ],
      "metadata": {
        "colab": {
          "base_uri": "https://localhost:8080/",
          "height": 519
        },
        "id": "vpQ6DaBBDEDf",
        "outputId": "8731156b-b642-4ea6-dde6-e60299aca57f"
      },
      "execution_count": null,
      "outputs": [
        {
          "output_type": "execute_result",
          "data": {
            "text/plain": [
              "            X          Y\n",
              "0   20.000000  88.599998\n",
              "1   16.000000  71.599998\n",
              "2   19.799999  93.300003\n",
              "3   18.400000  84.300003\n",
              "4   17.100000  80.599998\n",
              "5   15.500000  75.199997\n",
              "6   14.700000  69.699997\n",
              "7   17.100000  82.000000\n",
              "8   15.400000  69.400002\n",
              "9   16.200001  83.300003\n",
              "10  15.000000  79.599998\n",
              "11  17.200001  82.599998\n",
              "12  16.000000  80.599998\n",
              "13  17.000000  83.500000\n",
              "14  14.400000  76.300003"
            ],
            "text/html": [
              "\n",
              "  <div id=\"df-9c90d1d6-ed0c-4484-9d6c-8093cf57ce57\">\n",
              "    <div class=\"colab-df-container\">\n",
              "      <div>\n",
              "<style scoped>\n",
              "    .dataframe tbody tr th:only-of-type {\n",
              "        vertical-align: middle;\n",
              "    }\n",
              "\n",
              "    .dataframe tbody tr th {\n",
              "        vertical-align: top;\n",
              "    }\n",
              "\n",
              "    .dataframe thead th {\n",
              "        text-align: right;\n",
              "    }\n",
              "</style>\n",
              "<table border=\"1\" class=\"dataframe\">\n",
              "  <thead>\n",
              "    <tr style=\"text-align: right;\">\n",
              "      <th></th>\n",
              "      <th>X</th>\n",
              "      <th>Y</th>\n",
              "    </tr>\n",
              "  </thead>\n",
              "  <tbody>\n",
              "    <tr>\n",
              "      <th>0</th>\n",
              "      <td>20.000000</td>\n",
              "      <td>88.599998</td>\n",
              "    </tr>\n",
              "    <tr>\n",
              "      <th>1</th>\n",
              "      <td>16.000000</td>\n",
              "      <td>71.599998</td>\n",
              "    </tr>\n",
              "    <tr>\n",
              "      <th>2</th>\n",
              "      <td>19.799999</td>\n",
              "      <td>93.300003</td>\n",
              "    </tr>\n",
              "    <tr>\n",
              "      <th>3</th>\n",
              "      <td>18.400000</td>\n",
              "      <td>84.300003</td>\n",
              "    </tr>\n",
              "    <tr>\n",
              "      <th>4</th>\n",
              "      <td>17.100000</td>\n",
              "      <td>80.599998</td>\n",
              "    </tr>\n",
              "    <tr>\n",
              "      <th>5</th>\n",
              "      <td>15.500000</td>\n",
              "      <td>75.199997</td>\n",
              "    </tr>\n",
              "    <tr>\n",
              "      <th>6</th>\n",
              "      <td>14.700000</td>\n",
              "      <td>69.699997</td>\n",
              "    </tr>\n",
              "    <tr>\n",
              "      <th>7</th>\n",
              "      <td>17.100000</td>\n",
              "      <td>82.000000</td>\n",
              "    </tr>\n",
              "    <tr>\n",
              "      <th>8</th>\n",
              "      <td>15.400000</td>\n",
              "      <td>69.400002</td>\n",
              "    </tr>\n",
              "    <tr>\n",
              "      <th>9</th>\n",
              "      <td>16.200001</td>\n",
              "      <td>83.300003</td>\n",
              "    </tr>\n",
              "    <tr>\n",
              "      <th>10</th>\n",
              "      <td>15.000000</td>\n",
              "      <td>79.599998</td>\n",
              "    </tr>\n",
              "    <tr>\n",
              "      <th>11</th>\n",
              "      <td>17.200001</td>\n",
              "      <td>82.599998</td>\n",
              "    </tr>\n",
              "    <tr>\n",
              "      <th>12</th>\n",
              "      <td>16.000000</td>\n",
              "      <td>80.599998</td>\n",
              "    </tr>\n",
              "    <tr>\n",
              "      <th>13</th>\n",
              "      <td>17.000000</td>\n",
              "      <td>83.500000</td>\n",
              "    </tr>\n",
              "    <tr>\n",
              "      <th>14</th>\n",
              "      <td>14.400000</td>\n",
              "      <td>76.300003</td>\n",
              "    </tr>\n",
              "  </tbody>\n",
              "</table>\n",
              "</div>\n",
              "      <button class=\"colab-df-convert\" onclick=\"convertToInteractive('df-9c90d1d6-ed0c-4484-9d6c-8093cf57ce57')\"\n",
              "              title=\"Convert this dataframe to an interactive table.\"\n",
              "              style=\"display:none;\">\n",
              "        \n",
              "  <svg xmlns=\"http://www.w3.org/2000/svg\" height=\"24px\"viewBox=\"0 0 24 24\"\n",
              "       width=\"24px\">\n",
              "    <path d=\"M0 0h24v24H0V0z\" fill=\"none\"/>\n",
              "    <path d=\"M18.56 5.44l.94 2.06.94-2.06 2.06-.94-2.06-.94-.94-2.06-.94 2.06-2.06.94zm-11 1L8.5 8.5l.94-2.06 2.06-.94-2.06-.94L8.5 2.5l-.94 2.06-2.06.94zm10 10l.94 2.06.94-2.06 2.06-.94-2.06-.94-.94-2.06-.94 2.06-2.06.94z\"/><path d=\"M17.41 7.96l-1.37-1.37c-.4-.4-.92-.59-1.43-.59-.52 0-1.04.2-1.43.59L10.3 9.45l-7.72 7.72c-.78.78-.78 2.05 0 2.83L4 21.41c.39.39.9.59 1.41.59.51 0 1.02-.2 1.41-.59l7.78-7.78 2.81-2.81c.8-.78.8-2.07 0-2.86zM5.41 20L4 18.59l7.72-7.72 1.47 1.35L5.41 20z\"/>\n",
              "  </svg>\n",
              "      </button>\n",
              "      \n",
              "  <style>\n",
              "    .colab-df-container {\n",
              "      display:flex;\n",
              "      flex-wrap:wrap;\n",
              "      gap: 12px;\n",
              "    }\n",
              "\n",
              "    .colab-df-convert {\n",
              "      background-color: #E8F0FE;\n",
              "      border: none;\n",
              "      border-radius: 50%;\n",
              "      cursor: pointer;\n",
              "      display: none;\n",
              "      fill: #1967D2;\n",
              "      height: 32px;\n",
              "      padding: 0 0 0 0;\n",
              "      width: 32px;\n",
              "    }\n",
              "\n",
              "    .colab-df-convert:hover {\n",
              "      background-color: #E2EBFA;\n",
              "      box-shadow: 0px 1px 2px rgba(60, 64, 67, 0.3), 0px 1px 3px 1px rgba(60, 64, 67, 0.15);\n",
              "      fill: #174EA6;\n",
              "    }\n",
              "\n",
              "    [theme=dark] .colab-df-convert {\n",
              "      background-color: #3B4455;\n",
              "      fill: #D2E3FC;\n",
              "    }\n",
              "\n",
              "    [theme=dark] .colab-df-convert:hover {\n",
              "      background-color: #434B5C;\n",
              "      box-shadow: 0px 1px 3px 1px rgba(0, 0, 0, 0.15);\n",
              "      filter: drop-shadow(0px 1px 2px rgba(0, 0, 0, 0.3));\n",
              "      fill: #FFFFFF;\n",
              "    }\n",
              "  </style>\n",
              "\n",
              "      <script>\n",
              "        const buttonEl =\n",
              "          document.querySelector('#df-9c90d1d6-ed0c-4484-9d6c-8093cf57ce57 button.colab-df-convert');\n",
              "        buttonEl.style.display =\n",
              "          google.colab.kernel.accessAllowed ? 'block' : 'none';\n",
              "\n",
              "        async function convertToInteractive(key) {\n",
              "          const element = document.querySelector('#df-9c90d1d6-ed0c-4484-9d6c-8093cf57ce57');\n",
              "          const dataTable =\n",
              "            await google.colab.kernel.invokeFunction('convertToInteractive',\n",
              "                                                     [key], {});\n",
              "          if (!dataTable) return;\n",
              "\n",
              "          const docLinkHtml = 'Like what you see? Visit the ' +\n",
              "            '<a target=\"_blank\" href=https://colab.research.google.com/notebooks/data_table.ipynb>data table notebook</a>'\n",
              "            + ' to learn more about interactive tables.';\n",
              "          element.innerHTML = '';\n",
              "          dataTable['output_type'] = 'display_data';\n",
              "          await google.colab.output.renderOutput(dataTable, element);\n",
              "          const docLink = document.createElement('div');\n",
              "          docLink.innerHTML = docLinkHtml;\n",
              "          element.appendChild(docLink);\n",
              "        }\n",
              "      </script>\n",
              "    </div>\n",
              "  </div>\n",
              "  "
            ]
          },
          "metadata": {},
          "execution_count": 6
        }
      ]
    },
    {
      "cell_type": "code",
      "source": [
        "def tt_split(X, y, test_size=None,random_state=None):\n",
        "    np.random.seed(random_state)\n",
        "    i = int((1 - test_size) * X.shape[0]) \n",
        "    o = np.random.permutation(X.shape[0])\n",
        "    \n",
        "    X_train, X_test = np.split(np.take(X,o,axis=0), [i])\n",
        "    y_train, y_test = np.split(np.take(y,o), [i])\n",
        "    return X_train, X_test, y_train, y_test"
      ],
      "metadata": {
        "id": "zGmfdf9RdbsZ"
      },
      "execution_count": null,
      "outputs": []
    },
    {
      "cell_type": "markdown",
      "metadata": {
        "id": "d7jFpQLrJYab"
      },
      "source": [
        "**Third** : Load your Train Test Splitter and Transformer to Scale Down the Training and Testing  Features [X_train,X_test] \n"
      ]
    },
    {
      "cell_type": "code",
      "metadata": {
        "id": "s_hq8qb_JU17",
        "colab": {
          "base_uri": "https://localhost:8080/"
        },
        "outputId": "7d92a8b3-9f82-4bcd-eff1-582a22e2b438"
      },
      "source": [
        "X_train,X_test,y_train,y_test= tt_split(X,y,0.25,42)\n",
        "X_train = X_train.reshape(-1,1)\n",
        "X_test = X_test.reshape(-1,1)\n",
        "y_train = y_train.reshape(-1,1)\n",
        "y_test = y_test.reshape(-1,1)\n",
        "\n",
        "print('Training Features Shape ', X_train.shape , 'Testing Features Shape',X_test.shape)\n",
        "print('Training Labels Shape ', y_train.shape  , 'Testing labels Shape', y_test.shape)"
      ],
      "execution_count": null,
      "outputs": [
        {
          "output_type": "stream",
          "name": "stdout",
          "text": [
            "Training Features Shape  (11, 1) Testing Features Shape (4, 1)\n",
            "Training Labels Shape  (11, 1) Testing labels Shape (4, 1)\n"
          ]
        }
      ]
    },
    {
      "cell_type": "code",
      "metadata": {
        "id": "dWDaxIEnn7U2"
      },
      "source": [
        "T= Transformer(X_train)\n",
        "X_train_scaled = T.StandardScalertransform()"
      ],
      "execution_count": null,
      "outputs": []
    },
    {
      "cell_type": "code",
      "source": [
        "T= Transformer(X_test)\n",
        "X_test_scaled = T.StandardScalertransform()"
      ],
      "metadata": {
        "id": "km6CAs73str9"
      },
      "execution_count": null,
      "outputs": []
    },
    {
      "cell_type": "code",
      "source": [
        "import statistic \n",
        "from sklearn.metrics import mean_squared_error, r2_score\n",
        "\n",
        "x_mean = statistic.statistic.Mean(X_train_scaled)\n",
        "y_mean = statistic.statistic.Mean(y_train)\n",
        "cov = statistic.statistic.Covariance(X_train_scaled,x_mean,y_train,y_mean)\n",
        "var_x = statistic.statistic.Variance(X_train_scaled,x_mean)"
      ],
      "metadata": {
        "id": "vFRybwvF0BFv"
      },
      "execution_count": null,
      "outputs": []
    },
    {
      "cell_type": "code",
      "metadata": {
        "id": "46gje5DVJwVj"
      },
      "source": [
        "#Put Your Code here\n",
        "coefficents = statistic.statistic.coefficents(X_train_scaled,cov,var_x,x_mean,y_mean)"
      ],
      "execution_count": null,
      "outputs": []
    },
    {
      "cell_type": "markdown",
      "metadata": {
        "id": "aNJe43suKDUb"
      },
      "source": [
        "**Fifth** Use Your Betas and Testing Data set to Get your own Predictions "
      ]
    },
    {
      "cell_type": "code",
      "metadata": {
        "id": "z3BjZKwRI-iU",
        "colab": {
          "base_uri": "https://localhost:8080/"
        },
        "outputId": "1e2b0306-1222-4209-fc92-d143da5a9121"
      },
      "source": [
        "Predictions = statistic.statistic.SimpleLinearRegression(X_train_scaled,X_test_scaled,coefficents)\n",
        "Predictions"
      ],
      "execution_count": null,
      "outputs": [
        {
          "output_type": "execute_result",
          "data": {
            "text/plain": [
              "[array([76.53635901]),\n",
              " array([80.48314913]),\n",
              " array([89.9554439]),\n",
              " array([75.35232123])]"
            ]
          },
          "metadata": {},
          "execution_count": 13
        }
      ]
    },
    {
      "cell_type": "code",
      "source": [
        "y_test"
      ],
      "metadata": {
        "colab": {
          "base_uri": "https://localhost:8080/"
        },
        "id": "5KpifLbTCsXR",
        "outputId": "70c35d2b-4cb6-4552-f532-1f9c1ff81c7f"
      },
      "execution_count": null,
      "outputs": [
        {
          "output_type": "execute_result",
          "data": {
            "text/plain": [
              "array([[79.59999847],\n",
              "       [80.59999847],\n",
              "       [84.30000305],\n",
              "       [69.69999695]])"
            ]
          },
          "metadata": {},
          "execution_count": 14
        }
      ]
    },
    {
      "cell_type": "markdown",
      "metadata": {
        "id": "IysXC_7xanal"
      },
      "source": [
        "**Sixth** Evaluate Your Model. "
      ]
    },
    {
      "cell_type": "code",
      "metadata": {
        "id": "nCW5C_YrIeBE",
        "colab": {
          "base_uri": "https://localhost:8080/"
        },
        "outputId": "0ec4292a-2e78-4135-d79b-66ec843a6843"
      },
      "source": [
        "MSE= statistic.statistic.MSE(y_test,Predictions)\n",
        "print('Mean Squared Error between Predictions and Actual is :',MSE)\n"
      ],
      "execution_count": null,
      "outputs": [
        {
          "output_type": "stream",
          "name": "stdout",
          "text": [
            "Mean Squared Error between Predictions and Actual is : 18.333080371551475\n"
          ]
        }
      ]
    },
    {
      "cell_type": "markdown",
      "metadata": {
        "id": "l1_iRtSPa3Lr"
      },
      "source": [
        "**Seventh** Now Let's Start Executing your Opponent! **Scikit-Learn**\n"
      ]
    },
    {
      "cell_type": "code",
      "metadata": {
        "id": "wEjW9X91bkNm"
      },
      "source": [
        "from sklearn.model_selection import train_test_split\n",
        "X_train_, X_test_, y_train_, y_test_ = train_test_split(X, y,test_size=0.25,random_state=42,shuffle=True )"
      ],
      "execution_count": null,
      "outputs": []
    },
    {
      "cell_type": "code",
      "source": [
        "print('Training Features Shape ', X_train_.shape , 'Testing Features Shape',X_test_.shape)\n",
        "print('Training Labels Shape ', y_train_.shape  , 'Testing labels Shape', y_test_.shape)"
      ],
      "metadata": {
        "colab": {
          "base_uri": "https://localhost:8080/"
        },
        "id": "SldRLbFEANTF",
        "outputId": "cbbbe05a-af25-421a-a916-f87b1ccf2aa0"
      },
      "execution_count": null,
      "outputs": [
        {
          "output_type": "stream",
          "name": "stdout",
          "text": [
            "Training Features Shape  (11, 1) Testing Features Shape (4, 1)\n",
            "Training Labels Shape  (11, 1) Testing labels Shape (4, 1)\n"
          ]
        }
      ]
    },
    {
      "cell_type": "code",
      "source": [
        "from sklearn.preprocessing import StandardScaler\n",
        "scaler = StandardScaler()\n",
        "x_train_sc = scaler.fit_transform(X_train_)\n",
        "x_test_sc = scaler.transform(X_test_)"
      ],
      "metadata": {
        "id": "vStoUh6WL8VM"
      },
      "execution_count": null,
      "outputs": []
    },
    {
      "cell_type": "code",
      "metadata": {
        "id": "nzQS4vN2bt-r"
      },
      "source": [
        "from sklearn.linear_model import LinearRegression\n",
        "# Build the Model\n",
        "linreg = LinearRegression()\n",
        "# fit the model to the training data (learn the coefficients)\n",
        "linreg.fit(x_train_sc, y_train_)\n",
        "# Use the Model for Prediction\n",
        "y_pred = linreg.predict(x_test_sc)"
      ],
      "execution_count": null,
      "outputs": []
    },
    {
      "cell_type": "code",
      "source": [
        "y_pred\n"
      ],
      "metadata": {
        "colab": {
          "base_uri": "https://localhost:8080/"
        },
        "id": "dWE6Ayas_-fZ",
        "outputId": "2cf590b8-9853-4b06-f12b-2cf332489ec1"
      },
      "execution_count": null,
      "outputs": [
        {
          "output_type": "execute_result",
          "data": {
            "text/plain": [
              "array([[78.0301368 ],\n",
              "       [81.5872436 ],\n",
              "       [91.54713993],\n",
              "       [80.87581953]])"
            ]
          },
          "metadata": {},
          "execution_count": 20
        }
      ]
    },
    {
      "cell_type": "code",
      "source": [
        "y_test_"
      ],
      "metadata": {
        "colab": {
          "base_uri": "https://localhost:8080/"
        },
        "id": "rCvEX-SCLjvl",
        "outputId": "45fa5fad-3848-4573-f142-0182bdf2600a"
      },
      "execution_count": null,
      "outputs": [
        {
          "output_type": "execute_result",
          "data": {
            "text/plain": [
              "array([[83.30000305],\n",
              "       [82.59999847],\n",
              "       [88.59999847],\n",
              "       [83.5       ]])"
            ]
          },
          "metadata": {},
          "execution_count": 21
        }
      ]
    },
    {
      "cell_type": "code",
      "source": [
        "\n",
        "mean_squared_error(y_test_,y_pred)\n"
      ],
      "metadata": {
        "colab": {
          "base_uri": "https://localhost:8080/"
        },
        "id": "yLMmsX0xCwcN",
        "outputId": "d2c44e4b-2fbd-4b3f-831a-a477324a1f65"
      },
      "execution_count": null,
      "outputs": [
        {
          "output_type": "execute_result",
          "data": {
            "text/plain": [
              "11.092282161560412"
            ]
          },
          "metadata": {},
          "execution_count": 22
        }
      ]
    },
    {
      "cell_type": "markdown",
      "metadata": {
        "id": "jdjxXWojpSmM"
      },
      "source": [
        "**Visualize** your Model and Scikit-Learn Model To See the difference in Fittting around the Testing Data \n"
      ]
    },
    {
      "cell_type": "code",
      "metadata": {
        "id": "bWWki0dWpLGV",
        "colab": {
          "base_uri": "https://localhost:8080/",
          "height": 517
        },
        "outputId": "fc814452-696e-4769-cb78-457bb3a803bb"
      },
      "source": [
        "#Help your self with this Block Read Wisely and know exactly !!!!! What are you trying to plot !!!!!\n",
        "\n",
        "import matplotlib.pyplot as plt\n",
        "fig, (ax1,ax2) = plt.subplots(1,2,figsize=(10,8))\n",
        "ax1.set_title('PREDICTION VS ACTUAL (My Model) ', fontsize=12 , fontstyle='italic')\n",
        "ax1.plot(X_test_scaled, Predictions, alpha =0.9, c='r',label='prediction')  ## REPLACE X AND Y WITH  What you want to be plotted \n",
        "ax1.scatter(X_train_scaled, y_train, linewidth=2.0,c='b', label='actual') ## FOR Points  o\n",
        "ax1.legend(loc='upper left')\n",
        "\n",
        "ax2.set_title('PREDICTION VS ACTUAL (sklearn Model) ', fontsize=12 , fontstyle='italic')\n",
        "ax2.plot(x_test_sc, y_pred, alpha =0.9, c='r',label='prediction')  ## REPLACE X AND Y WITH  What you want to be plotted \n",
        "ax2.scatter(x_train_sc, y_train_, linewidth=2.0,c='b', label='actual') ## FOR Points  o\n",
        "ax2.legend(loc='upper left')\n"
      ],
      "execution_count": null,
      "outputs": [
        {
          "output_type": "execute_result",
          "data": {
            "text/plain": [
              "<matplotlib.legend.Legend at 0x7f0d005c6290>"
            ]
          },
          "metadata": {},
          "execution_count": 23
        },
        {
          "output_type": "display_data",
          "data": {
            "text/plain": [
              "<Figure size 720x576 with 2 Axes>"
            ],
            "image/png": "[encoded data removed]"
          },
          "metadata": {
            "needs_background": "light"
          }
        }
      ]
    },
    {
      "cell_type": "code",
      "source": [
        ""
      ],
      "metadata": {
        "id": "TvSF4eBtPNpC"
      },
      "execution_count": null,
      "outputs": []
    }
  ]
}