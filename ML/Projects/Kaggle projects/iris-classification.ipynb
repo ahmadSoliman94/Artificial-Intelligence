{
 "cells": [
  {
   "cell_type": "code",
   "execution_count": 1,
   "id": "2d407acb",
   "metadata": {
    "_cell_guid": "b1076dfc-b9ad-4769-8c92-a6c4dae69d19",
    "_uuid": "8f2839f25d086af736a60e9eeb907d3b93b6e0e5",
    "execution": {
     "iopub.execute_input": "2022-05-11T13:38:38.387682Z",
     "iopub.status.busy": "2022-05-11T13:38:38.387167Z",
     "iopub.status.idle": "2022-05-11T13:38:39.390142Z",
     "shell.execute_reply": "2022-05-11T13:38:39.389344Z"
    },
    "papermill": {
     "duration": 1.048166,
     "end_time": "2022-05-11T13:38:39.392379",
     "exception": false,
     "start_time": "2022-05-11T13:38:38.344213",
     "status": "completed"
    },
    "tags": []
   },
   "outputs": [
    {
     "name": "stdout",
     "output_type": "stream",
     "text": [
      "/kaggle/input/iris/Iris.csv\n",
      "/kaggle/input/iris/database.sqlite\n"
     ]
    }
   ],
   "source": [
    "# This Python 3 environment comes with many helpful analytics libraries installed\n",
    "# It is defined by the kaggle/python Docker image: https://github.com/kaggle/docker-python\n",
    "# For example, here's several helpful packages to load\n",
    "\n",
    "import numpy as np # linear algebra\n",
    "import pandas as pd # data processing, CSV file I/O (e.g. pd.read_csv)\n",
    "import seaborn as sns\n",
    "import matplotlib.pyplot as plt\n",
    "\n",
    "\n",
    "# Input data files are available in the read-only \"../input/\" directory\n",
    "# For example, running this (by clicking run or pressing Shift+Enter) will list all files under the input directory\n",
    "\n",
    "import os\n",
    "for dirname, _, filenames in os.walk('/kaggle/input'):\n",
    "    for filename in filenames:\n",
    "        print(os.path.join(dirname, filename))\n",
    "\n",
    "# You can write up to 20GB to the current directory (/kaggle/working/) that gets preserved as output when you create a version using \"Save & Run All\" \n",
    "# You can also write temporary files to /kaggle/temp/, but they won't be saved outside of the current session"
   ]
  },
  {
   "cell_type": "markdown",
   "id": "c3b62ad6",
   "metadata": {
    "papermill": {
     "duration": 0.047059,
     "end_time": "2022-05-11T13:38:39.486869",
     "exception": false,
     "start_time": "2022-05-11T13:38:39.439810",
     "status": "completed"
    },
    "tags": []
   },
   "source": [
    "### Load the Data"
   ]
  },
  {
   "cell_type": "code",
   "execution_count": 2,
   "id": "989ca339",
   "metadata": {
    "execution": {
     "iopub.execute_input": "2022-05-11T13:38:39.574256Z",
     "iopub.status.busy": "2022-05-11T13:38:39.573460Z",
     "iopub.status.idle": "2022-05-11T13:38:39.577228Z",
     "shell.execute_reply": "2022-05-11T13:38:39.576695Z"
    },
    "papermill": {
     "duration": 0.047125,
     "end_time": "2022-05-11T13:38:39.578765",
     "exception": false,
     "start_time": "2022-05-11T13:38:39.531640",
     "status": "completed"
    },
    "tags": []
   },
   "outputs": [],
   "source": [
    "os.chdir('/kaggle/input/iris/')"
   ]
  },
  {
   "cell_type": "code",
   "execution_count": 3,
   "id": "fd481d2d",
   "metadata": {
    "execution": {
     "iopub.execute_input": "2022-05-11T13:38:39.661546Z",
     "iopub.status.busy": "2022-05-11T13:38:39.661275Z",
     "iopub.status.idle": "2022-05-11T13:38:40.455023Z",
     "shell.execute_reply": "2022-05-11T13:38:40.454248Z"
    },
    "papermill": {
     "duration": 0.837593,
     "end_time": "2022-05-11T13:38:40.457040",
     "exception": false,
     "start_time": "2022-05-11T13:38:39.619447",
     "status": "completed"
    },
    "tags": []
   },
   "outputs": [
    {
     "name": "stdout",
     "output_type": "stream",
     "text": [
      "Iris.csv  database.sqlite\r\n"
     ]
    }
   ],
   "source": [
    "!ls"
   ]
  },
  {
   "cell_type": "code",
   "execution_count": 4,
   "id": "004e7a4b",
   "metadata": {
    "execution": {
     "iopub.execute_input": "2022-05-11T13:38:40.540826Z",
     "iopub.status.busy": "2022-05-11T13:38:40.540295Z",
     "iopub.status.idle": "2022-05-11T13:38:40.555271Z",
     "shell.execute_reply": "2022-05-11T13:38:40.554703Z"
    },
    "papermill": {
     "duration": 0.059108,
     "end_time": "2022-05-11T13:38:40.557040",
     "exception": false,
     "start_time": "2022-05-11T13:38:40.497932",
     "status": "completed"
    },
    "tags": []
   },
   "outputs": [],
   "source": [
    "data  = pd.read_csv('Iris.csv')"
   ]
  },
  {
   "cell_type": "code",
   "execution_count": 5,
   "id": "9171e94e",
   "metadata": {
    "execution": {
     "iopub.execute_input": "2022-05-11T13:38:40.640238Z",
     "iopub.status.busy": "2022-05-11T13:38:40.639730Z",
     "iopub.status.idle": "2022-05-11T13:38:40.661518Z",
     "shell.execute_reply": "2022-05-11T13:38:40.660955Z"
    },
    "papermill": {
     "duration": 0.065707,
     "end_time": "2022-05-11T13:38:40.663232",
     "exception": false,
     "start_time": "2022-05-11T13:38:40.597525",
     "status": "completed"
    },
    "tags": []
   },
   "outputs": [
    {
     "data": {
      "text/html": [
       "<div>\n",
       "<style scoped>\n",
       "    .dataframe tbody tr th:only-of-type {\n",
       "        vertical-align: middle;\n",
       "    }\n",
       "\n",
       "    .dataframe tbody tr th {\n",
       "        vertical-align: top;\n",
       "    }\n",
       "\n",
       "    .dataframe thead th {\n",
       "        text-align: right;\n",
       "    }\n",
       "</style>\n",
       "<table border=\"1\" class=\"dataframe\">\n",
       "  <thead>\n",
       "    <tr style=\"text-align: right;\">\n",
       "      <th></th>\n",
       "      <th>Id</th>\n",
       "      <th>SepalLengthCm</th>\n",
       "      <th>SepalWidthCm</th>\n",
       "      <th>PetalLengthCm</th>\n",
       "      <th>PetalWidthCm</th>\n",
       "      <th>Species</th>\n",
       "    </tr>\n",
       "  </thead>\n",
       "  <tbody>\n",
       "    <tr>\n",
       "      <th>0</th>\n",
       "      <td>1</td>\n",
       "      <td>5.1</td>\n",
       "      <td>3.5</td>\n",
       "      <td>1.4</td>\n",
       "      <td>0.2</td>\n",
       "      <td>Iris-setosa</td>\n",
       "    </tr>\n",
       "    <tr>\n",
       "      <th>1</th>\n",
       "      <td>2</td>\n",
       "      <td>4.9</td>\n",
       "      <td>3.0</td>\n",
       "      <td>1.4</td>\n",
       "      <td>0.2</td>\n",
       "      <td>Iris-setosa</td>\n",
       "    </tr>\n",
       "    <tr>\n",
       "      <th>2</th>\n",
       "      <td>3</td>\n",
       "      <td>4.7</td>\n",
       "      <td>3.2</td>\n",
       "      <td>1.3</td>\n",
       "      <td>0.2</td>\n",
       "      <td>Iris-setosa</td>\n",
       "    </tr>\n",
       "    <tr>\n",
       "      <th>3</th>\n",
       "      <td>4</td>\n",
       "      <td>4.6</td>\n",
       "      <td>3.1</td>\n",
       "      <td>1.5</td>\n",
       "      <td>0.2</td>\n",
       "      <td>Iris-setosa</td>\n",
       "    </tr>\n",
       "    <tr>\n",
       "      <th>4</th>\n",
       "      <td>5</td>\n",
       "      <td>5.0</td>\n",
       "      <td>3.6</td>\n",
       "      <td>1.4</td>\n",
       "      <td>0.2</td>\n",
       "      <td>Iris-setosa</td>\n",
       "    </tr>\n",
       "  </tbody>\n",
       "</table>\n",
       "</div>"
      ],
      "text/plain": [
       "   Id  SepalLengthCm  SepalWidthCm  PetalLengthCm  PetalWidthCm      Species\n",
       "0   1            5.1           3.5            1.4           0.2  Iris-setosa\n",
       "1   2            4.9           3.0            1.4           0.2  Iris-setosa\n",
       "2   3            4.7           3.2            1.3           0.2  Iris-setosa\n",
       "3   4            4.6           3.1            1.5           0.2  Iris-setosa\n",
       "4   5            5.0           3.6            1.4           0.2  Iris-setosa"
      ]
     },
     "execution_count": 5,
     "metadata": {},
     "output_type": "execute_result"
    }
   ],
   "source": [
    "data.head()"
   ]
  },
  {
   "cell_type": "code",
   "execution_count": 6,
   "id": "ef0a3094",
   "metadata": {
    "execution": {
     "iopub.execute_input": "2022-05-11T13:38:40.749286Z",
     "iopub.status.busy": "2022-05-11T13:38:40.748530Z",
     "iopub.status.idle": "2022-05-11T13:38:40.785020Z",
     "shell.execute_reply": "2022-05-11T13:38:40.784400Z"
    },
    "papermill": {
     "duration": 0.081956,
     "end_time": "2022-05-11T13:38:40.787382",
     "exception": false,
     "start_time": "2022-05-11T13:38:40.705426",
     "status": "completed"
    },
    "tags": []
   },
   "outputs": [
    {
     "data": {
      "text/html": [
       "<div>\n",
       "<style scoped>\n",
       "    .dataframe tbody tr th:only-of-type {\n",
       "        vertical-align: middle;\n",
       "    }\n",
       "\n",
       "    .dataframe tbody tr th {\n",
       "        vertical-align: top;\n",
       "    }\n",
       "\n",
       "    .dataframe thead th {\n",
       "        text-align: right;\n",
       "    }\n",
       "</style>\n",
       "<table border=\"1\" class=\"dataframe\">\n",
       "  <thead>\n",
       "    <tr style=\"text-align: right;\">\n",
       "      <th></th>\n",
       "      <th>Id</th>\n",
       "      <th>SepalLengthCm</th>\n",
       "      <th>SepalWidthCm</th>\n",
       "      <th>PetalLengthCm</th>\n",
       "      <th>PetalWidthCm</th>\n",
       "    </tr>\n",
       "  </thead>\n",
       "  <tbody>\n",
       "    <tr>\n",
       "      <th>count</th>\n",
       "      <td>150.000000</td>\n",
       "      <td>150.000000</td>\n",
       "      <td>150.000000</td>\n",
       "      <td>150.000000</td>\n",
       "      <td>150.000000</td>\n",
       "    </tr>\n",
       "    <tr>\n",
       "      <th>mean</th>\n",
       "      <td>75.500000</td>\n",
       "      <td>5.843333</td>\n",
       "      <td>3.054000</td>\n",
       "      <td>3.758667</td>\n",
       "      <td>1.198667</td>\n",
       "    </tr>\n",
       "    <tr>\n",
       "      <th>std</th>\n",
       "      <td>43.445368</td>\n",
       "      <td>0.828066</td>\n",
       "      <td>0.433594</td>\n",
       "      <td>1.764420</td>\n",
       "      <td>0.763161</td>\n",
       "    </tr>\n",
       "    <tr>\n",
       "      <th>min</th>\n",
       "      <td>1.000000</td>\n",
       "      <td>4.300000</td>\n",
       "      <td>2.000000</td>\n",
       "      <td>1.000000</td>\n",
       "      <td>0.100000</td>\n",
       "    </tr>\n",
       "    <tr>\n",
       "      <th>25%</th>\n",
       "      <td>38.250000</td>\n",
       "      <td>5.100000</td>\n",
       "      <td>2.800000</td>\n",
       "      <td>1.600000</td>\n",
       "      <td>0.300000</td>\n",
       "    </tr>\n",
       "    <tr>\n",
       "      <th>50%</th>\n",
       "      <td>75.500000</td>\n",
       "      <td>5.800000</td>\n",
       "      <td>3.000000</td>\n",
       "      <td>4.350000</td>\n",
       "      <td>1.300000</td>\n",
       "    </tr>\n",
       "    <tr>\n",
       "      <th>75%</th>\n",
       "      <td>112.750000</td>\n",
       "      <td>6.400000</td>\n",
       "      <td>3.300000</td>\n",
       "      <td>5.100000</td>\n",
       "      <td>1.800000</td>\n",
       "    </tr>\n",
       "    <tr>\n",
       "      <th>max</th>\n",
       "      <td>150.000000</td>\n",
       "      <td>7.900000</td>\n",
       "      <td>4.400000</td>\n",
       "      <td>6.900000</td>\n",
       "      <td>2.500000</td>\n",
       "    </tr>\n",
       "  </tbody>\n",
       "</table>\n",
       "</div>"
      ],
      "text/plain": [
       "               Id  SepalLengthCm  SepalWidthCm  PetalLengthCm  PetalWidthCm\n",
       "count  150.000000     150.000000    150.000000     150.000000    150.000000\n",
       "mean    75.500000       5.843333      3.054000       3.758667      1.198667\n",
       "std     43.445368       0.828066      0.433594       1.764420      0.763161\n",
       "min      1.000000       4.300000      2.000000       1.000000      0.100000\n",
       "25%     38.250000       5.100000      2.800000       1.600000      0.300000\n",
       "50%     75.500000       5.800000      3.000000       4.350000      1.300000\n",
       "75%    112.750000       6.400000      3.300000       5.100000      1.800000\n",
       "max    150.000000       7.900000      4.400000       6.900000      2.500000"
      ]
     },
     "execution_count": 6,
     "metadata": {},
     "output_type": "execute_result"
    }
   ],
   "source": [
    "data.describe()"
   ]
  },
  {
   "cell_type": "code",
   "execution_count": 7,
   "id": "a8a36e63",
   "metadata": {
    "execution": {
     "iopub.execute_input": "2022-05-11T13:38:40.888281Z",
     "iopub.status.busy": "2022-05-11T13:38:40.887798Z",
     "iopub.status.idle": "2022-05-11T13:38:40.902402Z",
     "shell.execute_reply": "2022-05-11T13:38:40.901339Z"
    },
    "papermill": {
     "duration": 0.060686,
     "end_time": "2022-05-11T13:38:40.904446",
     "exception": false,
     "start_time": "2022-05-11T13:38:40.843760",
     "status": "completed"
    },
    "tags": []
   },
   "outputs": [
    {
     "name": "stdout",
     "output_type": "stream",
     "text": [
      "<class 'pandas.core.frame.DataFrame'>\n",
      "RangeIndex: 150 entries, 0 to 149\n",
      "Data columns (total 6 columns):\n",
      " #   Column         Non-Null Count  Dtype  \n",
      "---  ------         --------------  -----  \n",
      " 0   Id             150 non-null    int64  \n",
      " 1   SepalLengthCm  150 non-null    float64\n",
      " 2   SepalWidthCm   150 non-null    float64\n",
      " 3   PetalLengthCm  150 non-null    float64\n",
      " 4   PetalWidthCm   150 non-null    float64\n",
      " 5   Species        150 non-null    object \n",
      "dtypes: float64(4), int64(1), object(1)\n",
      "memory usage: 7.2+ KB\n"
     ]
    }
   ],
   "source": [
    "data.info()"
   ]
  },
  {
   "cell_type": "code",
   "execution_count": 8,
   "id": "26fadc7b",
   "metadata": {
    "execution": {
     "iopub.execute_input": "2022-05-11T13:38:40.992150Z",
     "iopub.status.busy": "2022-05-11T13:38:40.991314Z",
     "iopub.status.idle": "2022-05-11T13:38:40.995693Z",
     "shell.execute_reply": "2022-05-11T13:38:40.995092Z"
    },
    "papermill": {
     "duration": 0.049387,
     "end_time": "2022-05-11T13:38:40.997396",
     "exception": false,
     "start_time": "2022-05-11T13:38:40.948009",
     "status": "completed"
    },
    "tags": []
   },
   "outputs": [],
   "source": [
    "data_copy = data.copy()"
   ]
  },
  {
   "cell_type": "code",
   "execution_count": 9,
   "id": "61bddd03",
   "metadata": {
    "execution": {
     "iopub.execute_input": "2022-05-11T13:38:41.084499Z",
     "iopub.status.busy": "2022-05-11T13:38:41.084227Z",
     "iopub.status.idle": "2022-05-11T13:38:41.096509Z",
     "shell.execute_reply": "2022-05-11T13:38:41.095710Z"
    },
    "papermill": {
     "duration": 0.058404,
     "end_time": "2022-05-11T13:38:41.098262",
     "exception": false,
     "start_time": "2022-05-11T13:38:41.039858",
     "status": "completed"
    },
    "tags": []
   },
   "outputs": [
    {
     "data": {
      "text/html": [
       "<div>\n",
       "<style scoped>\n",
       "    .dataframe tbody tr th:only-of-type {\n",
       "        vertical-align: middle;\n",
       "    }\n",
       "\n",
       "    .dataframe tbody tr th {\n",
       "        vertical-align: top;\n",
       "    }\n",
       "\n",
       "    .dataframe thead th {\n",
       "        text-align: right;\n",
       "    }\n",
       "</style>\n",
       "<table border=\"1\" class=\"dataframe\">\n",
       "  <thead>\n",
       "    <tr style=\"text-align: right;\">\n",
       "      <th></th>\n",
       "      <th>Id</th>\n",
       "      <th>SepalLengthCm</th>\n",
       "      <th>SepalWidthCm</th>\n",
       "      <th>PetalLengthCm</th>\n",
       "      <th>PetalWidthCm</th>\n",
       "      <th>Species</th>\n",
       "    </tr>\n",
       "  </thead>\n",
       "  <tbody>\n",
       "    <tr>\n",
       "      <th>0</th>\n",
       "      <td>1</td>\n",
       "      <td>5.1</td>\n",
       "      <td>3.5</td>\n",
       "      <td>1.4</td>\n",
       "      <td>0.2</td>\n",
       "      <td>Iris-setosa</td>\n",
       "    </tr>\n",
       "    <tr>\n",
       "      <th>1</th>\n",
       "      <td>2</td>\n",
       "      <td>4.9</td>\n",
       "      <td>3.0</td>\n",
       "      <td>1.4</td>\n",
       "      <td>0.2</td>\n",
       "      <td>Iris-setosa</td>\n",
       "    </tr>\n",
       "    <tr>\n",
       "      <th>2</th>\n",
       "      <td>3</td>\n",
       "      <td>4.7</td>\n",
       "      <td>3.2</td>\n",
       "      <td>1.3</td>\n",
       "      <td>0.2</td>\n",
       "      <td>Iris-setosa</td>\n",
       "    </tr>\n",
       "    <tr>\n",
       "      <th>3</th>\n",
       "      <td>4</td>\n",
       "      <td>4.6</td>\n",
       "      <td>3.1</td>\n",
       "      <td>1.5</td>\n",
       "      <td>0.2</td>\n",
       "      <td>Iris-setosa</td>\n",
       "    </tr>\n",
       "    <tr>\n",
       "      <th>4</th>\n",
       "      <td>5</td>\n",
       "      <td>5.0</td>\n",
       "      <td>3.6</td>\n",
       "      <td>1.4</td>\n",
       "      <td>0.2</td>\n",
       "      <td>Iris-setosa</td>\n",
       "    </tr>\n",
       "  </tbody>\n",
       "</table>\n",
       "</div>"
      ],
      "text/plain": [
       "   Id  SepalLengthCm  SepalWidthCm  PetalLengthCm  PetalWidthCm      Species\n",
       "0   1            5.1           3.5            1.4           0.2  Iris-setosa\n",
       "1   2            4.9           3.0            1.4           0.2  Iris-setosa\n",
       "2   3            4.7           3.2            1.3           0.2  Iris-setosa\n",
       "3   4            4.6           3.1            1.5           0.2  Iris-setosa\n",
       "4   5            5.0           3.6            1.4           0.2  Iris-setosa"
      ]
     },
     "execution_count": 9,
     "metadata": {},
     "output_type": "execute_result"
    }
   ],
   "source": [
    "data_copy.head()"
   ]
  },
  {
   "cell_type": "markdown",
   "id": "9855fade",
   "metadata": {
    "papermill": {
     "duration": 0.04212,
     "end_time": "2022-05-11T13:38:41.183023",
     "exception": false,
     "start_time": "2022-05-11T13:38:41.140903",
     "status": "completed"
    },
    "tags": []
   },
   "source": [
    "## Data Cleaning\n"
   ]
  },
  {
   "cell_type": "markdown",
   "id": "42cd5ae9",
   "metadata": {
    "papermill": {
     "duration": 0.042002,
     "end_time": "2022-05-11T13:38:41.267193",
     "exception": false,
     "start_time": "2022-05-11T13:38:41.225191",
     "status": "completed"
    },
    "tags": []
   },
   "source": [
    "### Check for Missing Data"
   ]
  },
  {
   "cell_type": "code",
   "execution_count": 10,
   "id": "c382c343",
   "metadata": {
    "execution": {
     "iopub.execute_input": "2022-05-11T13:38:41.353907Z",
     "iopub.status.busy": "2022-05-11T13:38:41.353279Z",
     "iopub.status.idle": "2022-05-11T13:38:41.360020Z",
     "shell.execute_reply": "2022-05-11T13:38:41.358966Z"
    },
    "papermill": {
     "duration": 0.051854,
     "end_time": "2022-05-11T13:38:41.361871",
     "exception": false,
     "start_time": "2022-05-11T13:38:41.310017",
     "status": "completed"
    },
    "tags": []
   },
   "outputs": [
    {
     "name": "stdout",
     "output_type": "stream",
     "text": [
      "Id               0\n",
      "SepalLengthCm    0\n",
      "SepalWidthCm     0\n",
      "PetalLengthCm    0\n",
      "PetalWidthCm     0\n",
      "Species          0\n",
      "dtype: int64\n"
     ]
    }
   ],
   "source": [
    "print(data_copy.isnull().sum().sort_values(ascending=False))"
   ]
  },
  {
   "cell_type": "code",
   "execution_count": 11,
   "id": "67b59c82",
   "metadata": {
    "execution": {
     "iopub.execute_input": "2022-05-11T13:38:41.449100Z",
     "iopub.status.busy": "2022-05-11T13:38:41.448646Z",
     "iopub.status.idle": "2022-05-11T13:38:41.455878Z",
     "shell.execute_reply": "2022-05-11T13:38:41.455121Z"
    },
    "papermill": {
     "duration": 0.053083,
     "end_time": "2022-05-11T13:38:41.457506",
     "exception": false,
     "start_time": "2022-05-11T13:38:41.404423",
     "status": "completed"
    },
    "tags": []
   },
   "outputs": [
    {
     "data": {
      "text/plain": [
       "Id               0\n",
       "SepalLengthCm    0\n",
       "SepalWidthCm     0\n",
       "PetalLengthCm    0\n",
       "PetalWidthCm     0\n",
       "Species          0\n",
       "dtype: int64"
      ]
     },
     "execution_count": 11,
     "metadata": {},
     "output_type": "execute_result"
    }
   ],
   "source": [
    "# or\n",
    "data_copy.isna().sum()"
   ]
  },
  {
   "cell_type": "markdown",
   "id": "d675475a",
   "metadata": {
    "papermill": {
     "duration": 0.043067,
     "end_time": "2022-05-11T13:38:41.543554",
     "exception": false,
     "start_time": "2022-05-11T13:38:41.500487",
     "status": "completed"
    },
    "tags": []
   },
   "source": [
    "### Remove unuesd column"
   ]
  },
  {
   "cell_type": "code",
   "execution_count": 12,
   "id": "4ed585e8",
   "metadata": {
    "execution": {
     "iopub.execute_input": "2022-05-11T13:38:41.631529Z",
     "iopub.status.busy": "2022-05-11T13:38:41.631158Z",
     "iopub.status.idle": "2022-05-11T13:38:41.635949Z",
     "shell.execute_reply": "2022-05-11T13:38:41.635426Z"
    },
    "papermill": {
     "duration": 0.05091,
     "end_time": "2022-05-11T13:38:41.637524",
     "exception": false,
     "start_time": "2022-05-11T13:38:41.586614",
     "status": "completed"
    },
    "tags": []
   },
   "outputs": [],
   "source": [
    "data_copy.drop('Id', axis=1,inplace= True)"
   ]
  },
  {
   "cell_type": "code",
   "execution_count": 13,
   "id": "dd63fb37",
   "metadata": {
    "execution": {
     "iopub.execute_input": "2022-05-11T13:38:41.725145Z",
     "iopub.status.busy": "2022-05-11T13:38:41.724739Z",
     "iopub.status.idle": "2022-05-11T13:38:41.735678Z",
     "shell.execute_reply": "2022-05-11T13:38:41.734860Z"
    },
    "papermill": {
     "duration": 0.056963,
     "end_time": "2022-05-11T13:38:41.737282",
     "exception": false,
     "start_time": "2022-05-11T13:38:41.680319",
     "status": "completed"
    },
    "tags": []
   },
   "outputs": [
    {
     "data": {
      "text/html": [
       "<div>\n",
       "<style scoped>\n",
       "    .dataframe tbody tr th:only-of-type {\n",
       "        vertical-align: middle;\n",
       "    }\n",
       "\n",
       "    .dataframe tbody tr th {\n",
       "        vertical-align: top;\n",
       "    }\n",
       "\n",
       "    .dataframe thead th {\n",
       "        text-align: right;\n",
       "    }\n",
       "</style>\n",
       "<table border=\"1\" class=\"dataframe\">\n",
       "  <thead>\n",
       "    <tr style=\"text-align: right;\">\n",
       "      <th></th>\n",
       "      <th>SepalLengthCm</th>\n",
       "      <th>SepalWidthCm</th>\n",
       "      <th>PetalLengthCm</th>\n",
       "      <th>PetalWidthCm</th>\n",
       "      <th>Species</th>\n",
       "    </tr>\n",
       "  </thead>\n",
       "  <tbody>\n",
       "    <tr>\n",
       "      <th>0</th>\n",
       "      <td>5.1</td>\n",
       "      <td>3.5</td>\n",
       "      <td>1.4</td>\n",
       "      <td>0.2</td>\n",
       "      <td>Iris-setosa</td>\n",
       "    </tr>\n",
       "    <tr>\n",
       "      <th>1</th>\n",
       "      <td>4.9</td>\n",
       "      <td>3.0</td>\n",
       "      <td>1.4</td>\n",
       "      <td>0.2</td>\n",
       "      <td>Iris-setosa</td>\n",
       "    </tr>\n",
       "    <tr>\n",
       "      <th>2</th>\n",
       "      <td>4.7</td>\n",
       "      <td>3.2</td>\n",
       "      <td>1.3</td>\n",
       "      <td>0.2</td>\n",
       "      <td>Iris-setosa</td>\n",
       "    </tr>\n",
       "    <tr>\n",
       "      <th>3</th>\n",
       "      <td>4.6</td>\n",
       "      <td>3.1</td>\n",
       "      <td>1.5</td>\n",
       "      <td>0.2</td>\n",
       "      <td>Iris-setosa</td>\n",
       "    </tr>\n",
       "    <tr>\n",
       "      <th>4</th>\n",
       "      <td>5.0</td>\n",
       "      <td>3.6</td>\n",
       "      <td>1.4</td>\n",
       "      <td>0.2</td>\n",
       "      <td>Iris-setosa</td>\n",
       "    </tr>\n",
       "  </tbody>\n",
       "</table>\n",
       "</div>"
      ],
      "text/plain": [
       "   SepalLengthCm  SepalWidthCm  PetalLengthCm  PetalWidthCm      Species\n",
       "0            5.1           3.5            1.4           0.2  Iris-setosa\n",
       "1            4.9           3.0            1.4           0.2  Iris-setosa\n",
       "2            4.7           3.2            1.3           0.2  Iris-setosa\n",
       "3            4.6           3.1            1.5           0.2  Iris-setosa\n",
       "4            5.0           3.6            1.4           0.2  Iris-setosa"
      ]
     },
     "execution_count": 13,
     "metadata": {},
     "output_type": "execute_result"
    }
   ],
   "source": [
    "data_copy.head()"
   ]
  },
  {
   "cell_type": "markdown",
   "id": "51db91ff",
   "metadata": {
    "papermill": {
     "duration": 0.043555,
     "end_time": "2022-05-11T13:38:41.824889",
     "exception": false,
     "start_time": "2022-05-11T13:38:41.781334",
     "status": "completed"
    },
    "tags": []
   },
   "source": [
    "### Data visualization"
   ]
  },
  {
   "cell_type": "code",
   "execution_count": 14,
   "id": "236b1016",
   "metadata": {
    "execution": {
     "iopub.execute_input": "2022-05-11T13:38:41.913510Z",
     "iopub.status.busy": "2022-05-11T13:38:41.913132Z",
     "iopub.status.idle": "2022-05-11T13:38:42.231160Z",
     "shell.execute_reply": "2022-05-11T13:38:42.229985Z"
    },
    "papermill": {
     "duration": 0.36466,
     "end_time": "2022-05-11T13:38:42.233000",
     "exception": false,
     "start_time": "2022-05-11T13:38:41.868340",
     "status": "completed"
    },
    "tags": []
   },
   "outputs": [
    {
     "data": {
      "text/plain": [
       "<AxesSubplot:>"
      ]
     },
     "execution_count": 14,
     "metadata": {},
     "output_type": "execute_result"
    },
    {
     "data": {
      "image/png": "[encoded data removed]",
      "text/plain": [
       "<Figure size 432x288 with 2 Axes>"
      ]
     },
     "metadata": {
      "needs_background": "light"
     },
     "output_type": "display_data"
    }
   ],
   "source": [
    "sns.heatmap(data_copy.corr(),annot=True)"
   ]
  },
  {
   "cell_type": "code",
   "execution_count": 15,
   "id": "965b34eb",
   "metadata": {
    "execution": {
     "iopub.execute_input": "2022-05-11T13:38:42.324817Z",
     "iopub.status.busy": "2022-05-11T13:38:42.324243Z",
     "iopub.status.idle": "2022-05-11T13:38:42.883501Z",
     "shell.execute_reply": "2022-05-11T13:38:42.882703Z"
    },
    "papermill": {
     "duration": 0.6071,
     "end_time": "2022-05-11T13:38:42.885368",
     "exception": false,
     "start_time": "2022-05-11T13:38:42.278268",
     "status": "completed"
    },
    "tags": []
   },
   "outputs": [
    {
     "data": {
      "text/plain": [
       "<AxesSubplot:xlabel='Species', ylabel='SepalWidthCm'>"
      ]
     },
     "execution_count": 15,
     "metadata": {},
     "output_type": "execute_result"
    },
    {
     "data": {
      "image/png": "[encoded data removed]",
      "text/plain": [
       "<Figure size 1080x720 with 4 Axes>"
      ]
     },
     "metadata": {
      "needs_background": "light"
     },
     "output_type": "display_data"
    }
   ],
   "source": [
    "plt.figure(figsize=(15,10))\n",
    "plt.subplot(2,2,1)\n",
    "sns.boxplot(x='Species',y='PetalLengthCm',data=data_copy)\n",
    "plt.subplot(2,2,2)\n",
    "sns.boxplot(x='Species',y='PetalWidthCm',data=data_copy)\n",
    "plt.subplot(2,2,3)\n",
    "sns.boxplot(x='Species',y='SepalLengthCm',data=data_copy)\n",
    "plt.subplot(2,2,4)\n",
    "sns.boxplot(x='Species',y='SepalWidthCm',data=data_copy)"
   ]
  },
  {
   "cell_type": "code",
   "execution_count": 16,
   "id": "e8130583",
   "metadata": {
    "execution": {
     "iopub.execute_input": "2022-05-11T13:38:42.979241Z",
     "iopub.status.busy": "2022-05-11T13:38:42.978962Z",
     "iopub.status.idle": "2022-05-11T13:38:42.985284Z",
     "shell.execute_reply": "2022-05-11T13:38:42.984723Z"
    },
    "papermill": {
     "duration": 0.055138,
     "end_time": "2022-05-11T13:38:42.986787",
     "exception": false,
     "start_time": "2022-05-11T13:38:42.931649",
     "status": "completed"
    },
    "tags": []
   },
   "outputs": [
    {
     "data": {
      "text/plain": [
       "[50, 50, 50]"
      ]
     },
     "execution_count": 16,
     "metadata": {},
     "output_type": "execute_result"
    }
   ],
   "source": [
    "count_list = [(data_copy.Species == 'Iris-setosa').sum(), (data_copy.Species == 'Iris-versicolor').sum(), (data_copy.Species == 'Iris-virginica').sum()]\n",
    "count_list"
   ]
  },
  {
   "cell_type": "code",
   "execution_count": 17,
   "id": "0f2d16e0",
   "metadata": {
    "execution": {
     "iopub.execute_input": "2022-05-11T13:38:43.082749Z",
     "iopub.status.busy": "2022-05-11T13:38:43.082212Z",
     "iopub.status.idle": "2022-05-11T13:38:43.087071Z",
     "shell.execute_reply": "2022-05-11T13:38:43.086509Z"
    },
    "papermill": {
     "duration": 0.054603,
     "end_time": "2022-05-11T13:38:43.088580",
     "exception": false,
     "start_time": "2022-05-11T13:38:43.033977",
     "status": "completed"
    },
    "tags": []
   },
   "outputs": [
    {
     "data": {
      "text/plain": [
       "['Iris-setosa', 'Iris-versicolor', 'Iris-virginica']"
      ]
     },
     "execution_count": 17,
     "metadata": {},
     "output_type": "execute_result"
    }
   ],
   "source": [
    "label_list= list(data_copy['Species'].unique())\n",
    "label_list"
   ]
  },
  {
   "cell_type": "code",
   "execution_count": 18,
   "id": "c9c10e48",
   "metadata": {
    "execution": {
     "iopub.execute_input": "2022-05-11T13:38:43.185221Z",
     "iopub.status.busy": "2022-05-11T13:38:43.184698Z",
     "iopub.status.idle": "2022-05-11T13:38:43.189654Z",
     "shell.execute_reply": "2022-05-11T13:38:43.188529Z"
    },
    "papermill": {
     "duration": 0.05523,
     "end_time": "2022-05-11T13:38:43.191461",
     "exception": false,
     "start_time": "2022-05-11T13:38:43.136231",
     "status": "completed"
    },
    "tags": []
   },
   "outputs": [
    {
     "name": "stdout",
     "output_type": "stream",
     "text": [
      "Iris-setosa: 50\n",
      "Iris-versicolor: 50\n",
      "Iris-virginica: 50\n"
     ]
    }
   ],
   "source": [
    "print(f'{label_list[0]}: {count_list[0]}')\n",
    "print(f'{label_list[1]}: {count_list[1]}')\n",
    "print(f'{label_list[2]}: {count_list[2]}')"
   ]
  },
  {
   "cell_type": "code",
   "execution_count": 19,
   "id": "b79aa4e7",
   "metadata": {
    "execution": {
     "iopub.execute_input": "2022-05-11T13:38:43.287134Z",
     "iopub.status.busy": "2022-05-11T13:38:43.286684Z",
     "iopub.status.idle": "2022-05-11T13:38:43.445531Z",
     "shell.execute_reply": "2022-05-11T13:38:43.444781Z"
    },
    "papermill": {
     "duration": 0.209021,
     "end_time": "2022-05-11T13:38:43.447372",
     "exception": false,
     "start_time": "2022-05-11T13:38:43.238351",
     "status": "completed"
    },
    "tags": []
   },
   "outputs": [
    {
     "data": {
      "text/plain": [
       "<AxesSubplot:xlabel='Species', ylabel='count'>"
      ]
     },
     "execution_count": 19,
     "metadata": {},
     "output_type": "execute_result"
    },
    {
     "data": {
      "image/png": "[encoded data removed]",
      "text/plain": [
       "<Figure size 432x288 with 1 Axes>"
      ]
     },
     "metadata": {
      "needs_background": "light"
     },
     "output_type": "display_data"
    }
   ],
   "source": [
    "sns.countplot(x='Species',data=data_copy)"
   ]
  },
  {
   "cell_type": "markdown",
   "id": "d07f425b",
   "metadata": {
    "papermill": {
     "duration": 0.047933,
     "end_time": "2022-05-11T13:38:43.543285",
     "exception": false,
     "start_time": "2022-05-11T13:38:43.495352",
     "status": "completed"
    },
    "tags": []
   },
   "source": [
    "### Convert categorical data"
   ]
  },
  {
   "cell_type": "code",
   "execution_count": 20,
   "id": "61b98c98",
   "metadata": {
    "execution": {
     "iopub.execute_input": "2022-05-11T13:38:43.640473Z",
     "iopub.status.busy": "2022-05-11T13:38:43.640038Z",
     "iopub.status.idle": "2022-05-11T13:38:43.650594Z",
     "shell.execute_reply": "2022-05-11T13:38:43.650039Z"
    },
    "papermill": {
     "duration": 0.060969,
     "end_time": "2022-05-11T13:38:43.652199",
     "exception": false,
     "start_time": "2022-05-11T13:38:43.591230",
     "status": "completed"
    },
    "tags": []
   },
   "outputs": [
    {
     "data": {
      "text/html": [
       "<div>\n",
       "<style scoped>\n",
       "    .dataframe tbody tr th:only-of-type {\n",
       "        vertical-align: middle;\n",
       "    }\n",
       "\n",
       "    .dataframe tbody tr th {\n",
       "        vertical-align: top;\n",
       "    }\n",
       "\n",
       "    .dataframe thead th {\n",
       "        text-align: right;\n",
       "    }\n",
       "</style>\n",
       "<table border=\"1\" class=\"dataframe\">\n",
       "  <thead>\n",
       "    <tr style=\"text-align: right;\">\n",
       "      <th></th>\n",
       "      <th>Iris-setosa</th>\n",
       "      <th>Iris-versicolor</th>\n",
       "      <th>Iris-virginica</th>\n",
       "    </tr>\n",
       "  </thead>\n",
       "  <tbody>\n",
       "    <tr>\n",
       "      <th>0</th>\n",
       "      <td>1</td>\n",
       "      <td>0</td>\n",
       "      <td>0</td>\n",
       "    </tr>\n",
       "    <tr>\n",
       "      <th>1</th>\n",
       "      <td>1</td>\n",
       "      <td>0</td>\n",
       "      <td>0</td>\n",
       "    </tr>\n",
       "    <tr>\n",
       "      <th>2</th>\n",
       "      <td>1</td>\n",
       "      <td>0</td>\n",
       "      <td>0</td>\n",
       "    </tr>\n",
       "    <tr>\n",
       "      <th>3</th>\n",
       "      <td>1</td>\n",
       "      <td>0</td>\n",
       "      <td>0</td>\n",
       "    </tr>\n",
       "    <tr>\n",
       "      <th>4</th>\n",
       "      <td>1</td>\n",
       "      <td>0</td>\n",
       "      <td>0</td>\n",
       "    </tr>\n",
       "    <tr>\n",
       "      <th>...</th>\n",
       "      <td>...</td>\n",
       "      <td>...</td>\n",
       "      <td>...</td>\n",
       "    </tr>\n",
       "    <tr>\n",
       "      <th>145</th>\n",
       "      <td>0</td>\n",
       "      <td>0</td>\n",
       "      <td>1</td>\n",
       "    </tr>\n",
       "    <tr>\n",
       "      <th>146</th>\n",
       "      <td>0</td>\n",
       "      <td>0</td>\n",
       "      <td>1</td>\n",
       "    </tr>\n",
       "    <tr>\n",
       "      <th>147</th>\n",
       "      <td>0</td>\n",
       "      <td>0</td>\n",
       "      <td>1</td>\n",
       "    </tr>\n",
       "    <tr>\n",
       "      <th>148</th>\n",
       "      <td>0</td>\n",
       "      <td>0</td>\n",
       "      <td>1</td>\n",
       "    </tr>\n",
       "    <tr>\n",
       "      <th>149</th>\n",
       "      <td>0</td>\n",
       "      <td>0</td>\n",
       "      <td>1</td>\n",
       "    </tr>\n",
       "  </tbody>\n",
       "</table>\n",
       "<p>150 rows × 3 columns</p>\n",
       "</div>"
      ],
      "text/plain": [
       "     Iris-setosa  Iris-versicolor  Iris-virginica\n",
       "0              1                0               0\n",
       "1              1                0               0\n",
       "2              1                0               0\n",
       "3              1                0               0\n",
       "4              1                0               0\n",
       "..           ...              ...             ...\n",
       "145            0                0               1\n",
       "146            0                0               1\n",
       "147            0                0               1\n",
       "148            0                0               1\n",
       "149            0                0               1\n",
       "\n",
       "[150 rows x 3 columns]"
      ]
     },
     "execution_count": 20,
     "metadata": {},
     "output_type": "execute_result"
    }
   ],
   "source": [
    "Species=pd.get_dummies(data_copy[\"Species\"])\n",
    "Species"
   ]
  },
  {
   "cell_type": "markdown",
   "id": "4a49a4b3",
   "metadata": {
    "papermill": {
     "duration": 0.047573,
     "end_time": "2022-05-11T13:38:43.747889",
     "exception": false,
     "start_time": "2022-05-11T13:38:43.700316",
     "status": "completed"
    },
    "tags": []
   },
   "source": [
    "### Merging dummies with dataframe "
   ]
  },
  {
   "cell_type": "code",
   "execution_count": 21,
   "id": "124399fb",
   "metadata": {
    "execution": {
     "iopub.execute_input": "2022-05-11T13:38:43.846421Z",
     "iopub.status.busy": "2022-05-11T13:38:43.845955Z",
     "iopub.status.idle": "2022-05-11T13:38:43.850489Z",
     "shell.execute_reply": "2022-05-11T13:38:43.849970Z"
    },
    "papermill": {
     "duration": 0.055195,
     "end_time": "2022-05-11T13:38:43.852064",
     "exception": false,
     "start_time": "2022-05-11T13:38:43.796869",
     "status": "completed"
    },
    "tags": []
   },
   "outputs": [],
   "source": [
    "data_copy = pd.concat([data_copy.drop(\"Species\", axis = 1),Species], axis =1)"
   ]
  },
  {
   "cell_type": "code",
   "execution_count": 22,
   "id": "c7dc37f3",
   "metadata": {
    "execution": {
     "iopub.execute_input": "2022-05-11T13:38:43.949726Z",
     "iopub.status.busy": "2022-05-11T13:38:43.949213Z",
     "iopub.status.idle": "2022-05-11T13:38:43.962993Z",
     "shell.execute_reply": "2022-05-11T13:38:43.962475Z"
    },
    "papermill": {
     "duration": 0.064128,
     "end_time": "2022-05-11T13:38:43.964529",
     "exception": false,
     "start_time": "2022-05-11T13:38:43.900401",
     "status": "completed"
    },
    "tags": []
   },
   "outputs": [
    {
     "data": {
      "text/html": [
       "<div>\n",
       "<style scoped>\n",
       "    .dataframe tbody tr th:only-of-type {\n",
       "        vertical-align: middle;\n",
       "    }\n",
       "\n",
       "    .dataframe tbody tr th {\n",
       "        vertical-align: top;\n",
       "    }\n",
       "\n",
       "    .dataframe thead th {\n",
       "        text-align: right;\n",
       "    }\n",
       "</style>\n",
       "<table border=\"1\" class=\"dataframe\">\n",
       "  <thead>\n",
       "    <tr style=\"text-align: right;\">\n",
       "      <th></th>\n",
       "      <th>SepalLengthCm</th>\n",
       "      <th>SepalWidthCm</th>\n",
       "      <th>PetalLengthCm</th>\n",
       "      <th>PetalWidthCm</th>\n",
       "      <th>Iris-setosa</th>\n",
       "      <th>Iris-versicolor</th>\n",
       "      <th>Iris-virginica</th>\n",
       "    </tr>\n",
       "  </thead>\n",
       "  <tbody>\n",
       "    <tr>\n",
       "      <th>0</th>\n",
       "      <td>5.1</td>\n",
       "      <td>3.5</td>\n",
       "      <td>1.4</td>\n",
       "      <td>0.2</td>\n",
       "      <td>1</td>\n",
       "      <td>0</td>\n",
       "      <td>0</td>\n",
       "    </tr>\n",
       "    <tr>\n",
       "      <th>1</th>\n",
       "      <td>4.9</td>\n",
       "      <td>3.0</td>\n",
       "      <td>1.4</td>\n",
       "      <td>0.2</td>\n",
       "      <td>1</td>\n",
       "      <td>0</td>\n",
       "      <td>0</td>\n",
       "    </tr>\n",
       "    <tr>\n",
       "      <th>2</th>\n",
       "      <td>4.7</td>\n",
       "      <td>3.2</td>\n",
       "      <td>1.3</td>\n",
       "      <td>0.2</td>\n",
       "      <td>1</td>\n",
       "      <td>0</td>\n",
       "      <td>0</td>\n",
       "    </tr>\n",
       "    <tr>\n",
       "      <th>3</th>\n",
       "      <td>4.6</td>\n",
       "      <td>3.1</td>\n",
       "      <td>1.5</td>\n",
       "      <td>0.2</td>\n",
       "      <td>1</td>\n",
       "      <td>0</td>\n",
       "      <td>0</td>\n",
       "    </tr>\n",
       "    <tr>\n",
       "      <th>4</th>\n",
       "      <td>5.0</td>\n",
       "      <td>3.6</td>\n",
       "      <td>1.4</td>\n",
       "      <td>0.2</td>\n",
       "      <td>1</td>\n",
       "      <td>0</td>\n",
       "      <td>0</td>\n",
       "    </tr>\n",
       "    <tr>\n",
       "      <th>...</th>\n",
       "      <td>...</td>\n",
       "      <td>...</td>\n",
       "      <td>...</td>\n",
       "      <td>...</td>\n",
       "      <td>...</td>\n",
       "      <td>...</td>\n",
       "      <td>...</td>\n",
       "    </tr>\n",
       "    <tr>\n",
       "      <th>145</th>\n",
       "      <td>6.7</td>\n",
       "      <td>3.0</td>\n",
       "      <td>5.2</td>\n",
       "      <td>2.3</td>\n",
       "      <td>0</td>\n",
       "      <td>0</td>\n",
       "      <td>1</td>\n",
       "    </tr>\n",
       "    <tr>\n",
       "      <th>146</th>\n",
       "      <td>6.3</td>\n",
       "      <td>2.5</td>\n",
       "      <td>5.0</td>\n",
       "      <td>1.9</td>\n",
       "      <td>0</td>\n",
       "      <td>0</td>\n",
       "      <td>1</td>\n",
       "    </tr>\n",
       "    <tr>\n",
       "      <th>147</th>\n",
       "      <td>6.5</td>\n",
       "      <td>3.0</td>\n",
       "      <td>5.2</td>\n",
       "      <td>2.0</td>\n",
       "      <td>0</td>\n",
       "      <td>0</td>\n",
       "      <td>1</td>\n",
       "    </tr>\n",
       "    <tr>\n",
       "      <th>148</th>\n",
       "      <td>6.2</td>\n",
       "      <td>3.4</td>\n",
       "      <td>5.4</td>\n",
       "      <td>2.3</td>\n",
       "      <td>0</td>\n",
       "      <td>0</td>\n",
       "      <td>1</td>\n",
       "    </tr>\n",
       "    <tr>\n",
       "      <th>149</th>\n",
       "      <td>5.9</td>\n",
       "      <td>3.0</td>\n",
       "      <td>5.1</td>\n",
       "      <td>1.8</td>\n",
       "      <td>0</td>\n",
       "      <td>0</td>\n",
       "      <td>1</td>\n",
       "    </tr>\n",
       "  </tbody>\n",
       "</table>\n",
       "<p>150 rows × 7 columns</p>\n",
       "</div>"
      ],
      "text/plain": [
       "     SepalLengthCm  SepalWidthCm  PetalLengthCm  PetalWidthCm  Iris-setosa  \\\n",
       "0              5.1           3.5            1.4           0.2            1   \n",
       "1              4.9           3.0            1.4           0.2            1   \n",
       "2              4.7           3.2            1.3           0.2            1   \n",
       "3              4.6           3.1            1.5           0.2            1   \n",
       "4              5.0           3.6            1.4           0.2            1   \n",
       "..             ...           ...            ...           ...          ...   \n",
       "145            6.7           3.0            5.2           2.3            0   \n",
       "146            6.3           2.5            5.0           1.9            0   \n",
       "147            6.5           3.0            5.2           2.0            0   \n",
       "148            6.2           3.4            5.4           2.3            0   \n",
       "149            5.9           3.0            5.1           1.8            0   \n",
       "\n",
       "     Iris-versicolor  Iris-virginica  \n",
       "0                  0               0  \n",
       "1                  0               0  \n",
       "2                  0               0  \n",
       "3                  0               0  \n",
       "4                  0               0  \n",
       "..               ...             ...  \n",
       "145                0               1  \n",
       "146                0               1  \n",
       "147                0               1  \n",
       "148                0               1  \n",
       "149                0               1  \n",
       "\n",
       "[150 rows x 7 columns]"
      ]
     },
     "execution_count": 22,
     "metadata": {},
     "output_type": "execute_result"
    }
   ],
   "source": [
    "data_copy"
   ]
  },
  {
   "cell_type": "markdown",
   "id": "2f43df95",
   "metadata": {
    "papermill": {
     "duration": 0.048588,
     "end_time": "2022-05-11T13:38:44.062355",
     "exception": false,
     "start_time": "2022-05-11T13:38:44.013767",
     "status": "completed"
    },
    "tags": []
   },
   "source": [
    "###  Splitting Data"
   ]
  },
  {
   "cell_type": "code",
   "execution_count": 23,
   "id": "ddfc4bd6",
   "metadata": {
    "execution": {
     "iopub.execute_input": "2022-05-11T13:38:44.161763Z",
     "iopub.status.busy": "2022-05-11T13:38:44.161449Z",
     "iopub.status.idle": "2022-05-11T13:38:44.167555Z",
     "shell.execute_reply": "2022-05-11T13:38:44.166714Z"
    },
    "papermill": {
     "duration": 0.058638,
     "end_time": "2022-05-11T13:38:44.170268",
     "exception": false,
     "start_time": "2022-05-11T13:38:44.111630",
     "status": "completed"
    },
    "tags": []
   },
   "outputs": [
    {
     "name": "stdout",
     "output_type": "stream",
     "text": [
      " X_shape: (150, 4) \n",
      " y_shape: (150, 3)\n"
     ]
    }
   ],
   "source": [
    "X = data_copy[['SepalLengthCm','SepalWidthCm','PetalLengthCm','PetalWidthCm']].values\n",
    "y = data_copy[['Iris-setosa', 'Iris-versicolor', 'Iris-virginica']].values\n",
    "print(f' X_shape: {X.shape} \\n y_shape: {y.shape}')"
   ]
  },
  {
   "cell_type": "code",
   "execution_count": 24,
   "id": "443147b1",
   "metadata": {
    "execution": {
     "iopub.execute_input": "2022-05-11T13:38:44.271352Z",
     "iopub.status.busy": "2022-05-11T13:38:44.270857Z",
     "iopub.status.idle": "2022-05-11T13:38:44.446959Z",
     "shell.execute_reply": "2022-05-11T13:38:44.445848Z"
    },
    "papermill": {
     "duration": 0.228913,
     "end_time": "2022-05-11T13:38:44.449641",
     "exception": false,
     "start_time": "2022-05-11T13:38:44.220728",
     "status": "completed"
    },
    "tags": []
   },
   "outputs": [
    {
     "name": "stdout",
     "output_type": "stream",
     "text": [
      " X_train: (105, 4) & X_test: (45, 4)\n",
      " y_train: (105, 3) & y_test: (45, 3)\n"
     ]
    }
   ],
   "source": [
    "from sklearn.model_selection import train_test_split\n",
    "X_train,X_test,y_train,y_test =train_test_split(X,y , test_size=0.30, random_state=101,shuffle=True)\n",
    "print(f' X_train: {X_train.shape} & X_test: {X_test.shape}')\n",
    "print(f' y_train: {y_train.shape} & y_test: {y_test.shape}')"
   ]
  },
  {
   "cell_type": "markdown",
   "id": "48a2ce71",
   "metadata": {
    "papermill": {
     "duration": 0.048867,
     "end_time": "2022-05-11T13:38:44.548487",
     "exception": false,
     "start_time": "2022-05-11T13:38:44.499620",
     "status": "completed"
    },
    "tags": []
   },
   "source": [
    "### Scaling the Data"
   ]
  },
  {
   "cell_type": "code",
   "execution_count": 25,
   "id": "2c5d7fa2",
   "metadata": {
    "execution": {
     "iopub.execute_input": "2022-05-11T13:38:44.649620Z",
     "iopub.status.busy": "2022-05-11T13:38:44.649339Z",
     "iopub.status.idle": "2022-05-11T13:38:44.655499Z",
     "shell.execute_reply": "2022-05-11T13:38:44.654573Z"
    },
    "papermill": {
     "duration": 0.058776,
     "end_time": "2022-05-11T13:38:44.657322",
     "exception": false,
     "start_time": "2022-05-11T13:38:44.598546",
     "status": "completed"
    },
    "tags": []
   },
   "outputs": [
    {
     "name": "stdout",
     "output_type": "stream",
     "text": [
      "0.0\n",
      "1.0\n"
     ]
    }
   ],
   "source": [
    "# Normalization \n",
    "from sklearn.preprocessing import MinMaxScaler\n",
    "scaler = MinMaxScaler()\n",
    "X_train_scaled = scaler.fit_transform(X_train)\n",
    "X_test_scaled = scaler.transform(X_test)\n",
    "\n",
    "print(np.min(X_train_scaled))\n",
    "print(np.max(X_train_scaled))"
   ]
  },
  {
   "cell_type": "markdown",
   "id": "9983e6a0",
   "metadata": {
    "papermill": {
     "duration": 0.049419,
     "end_time": "2022-05-11T13:38:44.756543",
     "exception": false,
     "start_time": "2022-05-11T13:38:44.707124",
     "status": "completed"
    },
    "tags": []
   },
   "source": [
    "## Select the Model\n"
   ]
  },
  {
   "cell_type": "markdown",
   "id": "7516e819",
   "metadata": {
    "papermill": {
     "duration": 0.048965,
     "end_time": "2022-05-11T13:38:44.855461",
     "exception": false,
     "start_time": "2022-05-11T13:38:44.806496",
     "status": "completed"
    },
    "tags": []
   },
   "source": [
    "### Build a Decision Tree Classifier"
   ]
  },
  {
   "cell_type": "code",
   "execution_count": 26,
   "id": "e0fabb37",
   "metadata": {
    "execution": {
     "iopub.execute_input": "2022-05-11T13:38:44.956050Z",
     "iopub.status.busy": "2022-05-11T13:38:44.955554Z",
     "iopub.status.idle": "2022-05-11T13:38:45.094254Z",
     "shell.execute_reply": "2022-05-11T13:38:45.093412Z"
    },
    "papermill": {
     "duration": 0.191271,
     "end_time": "2022-05-11T13:38:45.096461",
     "exception": false,
     "start_time": "2022-05-11T13:38:44.905190",
     "status": "completed"
    },
    "tags": []
   },
   "outputs": [],
   "source": [
    "from sklearn.tree import DecisionTreeClassifier\n",
    "\n",
    "clf = DecisionTreeClassifier(criterion='entropy',splitter='best',max_depth=1,random_state=42)\n",
    "clf.fit(X_train_scaled, y_train)\n",
    "\n",
    "y_pred_en = clf.predict(X_test_scaled)\n",
    "y_pred_train = clf.predict(X_train_scaled)"
   ]
  },
  {
   "cell_type": "code",
   "execution_count": 27,
   "id": "49413f82",
   "metadata": {
    "execution": {
     "iopub.execute_input": "2022-05-11T13:38:45.197101Z",
     "iopub.status.busy": "2022-05-11T13:38:45.196590Z",
     "iopub.status.idle": "2022-05-11T13:38:45.207515Z",
     "shell.execute_reply": "2022-05-11T13:38:45.206407Z"
    },
    "papermill": {
     "duration": 0.063421,
     "end_time": "2022-05-11T13:38:45.209425",
     "exception": false,
     "start_time": "2022-05-11T13:38:45.146004",
     "status": "completed"
    },
    "tags": []
   },
   "outputs": [
    {
     "name": "stdout",
     "output_type": "stream",
     "text": [
      "Accuracy score of Test:  55.55555555555556\n",
      "Accuracy score of Train:  71.42857142857143\n"
     ]
    }
   ],
   "source": [
    "from sklearn.metrics import accuracy_score ,confusion_matrix\n",
    "y_pred_en = clf.predict(X_test_scaled)\n",
    "y_pred_train = clf.predict(X_train_scaled)\n",
    "print('Accuracy score of Test: ', accuracy_score(y_test, y_pred_en)*100)\n",
    "print('Accuracy score of Train: ', accuracy_score(y_train, y_pred_train)*100)"
   ]
  },
  {
   "cell_type": "markdown",
   "id": "b8664f57",
   "metadata": {
    "papermill": {
     "duration": 0.049197,
     "end_time": "2022-05-11T13:38:45.308253",
     "exception": false,
     "start_time": "2022-05-11T13:38:45.259056",
     "status": "completed"
    },
    "tags": []
   },
   "source": [
    "### Evaluate the Model"
   ]
  },
  {
   "cell_type": "code",
   "execution_count": 28,
   "id": "99554468",
   "metadata": {
    "execution": {
     "iopub.execute_input": "2022-05-11T13:38:45.410115Z",
     "iopub.status.busy": "2022-05-11T13:38:45.409590Z",
     "iopub.status.idle": "2022-05-11T13:38:45.790654Z",
     "shell.execute_reply": "2022-05-11T13:38:45.789822Z"
    },
    "papermill": {
     "duration": 0.434145,
     "end_time": "2022-05-11T13:38:45.792456",
     "exception": false,
     "start_time": "2022-05-11T13:38:45.358311",
     "status": "completed"
    },
    "tags": []
   },
   "outputs": [
    {
     "data": {
      "image/png": "[encoded data removed]",
      "text/plain": [
       "<Figure size 432x288 with 2 Axes>"
      ]
     },
     "metadata": {
      "needs_background": "light"
     },
     "output_type": "display_data"
    }
   ],
   "source": [
    "    \n",
    "lables = ['Iris-setosa', 'Iris-versicolor', 'Iris-virginica']\n",
    "ax= plt.subplot()\n",
    "\n",
    "cm = confusion_matrix(np.asarray(y_test).argmax(axis=1), np.asarray(y_pred_en).argmax(axis=1))\n",
    "sns.heatmap(cm, annot=True, fmt='g', ax=ax);  #annot=True to annotate cells, ftm='g' to disable scientific notation\n",
    "\n",
    "# labels, title and ticks\n",
    "ax.set_xlabel('Predicted labels');ax.set_ylabel('True labels'); \n",
    "ax.set_title('Confusion Matrix'); \n",
    "ax.xaxis.set_ticklabels(lables); ax.yaxis.set_ticklabels(lables);"
   ]
  },
  {
   "cell_type": "code",
   "execution_count": 29,
   "id": "6083d797",
   "metadata": {
    "execution": {
     "iopub.execute_input": "2022-05-11T13:38:45.897360Z",
     "iopub.status.busy": "2022-05-11T13:38:45.896951Z",
     "iopub.status.idle": "2022-05-11T13:38:45.912194Z",
     "shell.execute_reply": "2022-05-11T13:38:45.910965Z"
    },
    "papermill": {
     "duration": 0.069901,
     "end_time": "2022-05-11T13:38:45.914058",
     "exception": false,
     "start_time": "2022-05-11T13:38:45.844157",
     "status": "completed"
    },
    "tags": []
   },
   "outputs": [
    {
     "name": "stdout",
     "output_type": "stream",
     "text": [
      "              precision    recall  f1-score   support\n",
      "\n",
      "           0       1.00      1.00      1.00        13\n",
      "           1       0.00      0.00      0.00        20\n",
      "           2       0.38      1.00      0.55        12\n",
      "\n",
      "   micro avg       0.56      0.56      0.56        45\n",
      "   macro avg       0.46      0.67      0.52        45\n",
      "weighted avg       0.39      0.56      0.43        45\n",
      " samples avg       0.56      0.56      0.56        45\n",
      "\n"
     ]
    },
    {
     "name": "stderr",
     "output_type": "stream",
     "text": [
      "/opt/conda/lib/python3.7/site-packages/sklearn/metrics/_classification.py:1318: UndefinedMetricWarning: Precision and F-score are ill-defined and being set to 0.0 in labels with no predicted samples. Use `zero_division` parameter to control this behavior.\n",
      "  _warn_prf(average, modifier, msg_start, len(result))\n"
     ]
    }
   ],
   "source": [
    "from sklearn.metrics import classification_report\n",
    "print(classification_report(y_test, y_pred_en))"
   ]
  },
  {
   "cell_type": "markdown",
   "id": "82493be6",
   "metadata": {
    "papermill": {
     "duration": 0.051524,
     "end_time": "2022-05-11T13:38:46.016899",
     "exception": false,
     "start_time": "2022-05-11T13:38:45.965375",
     "status": "completed"
    },
    "tags": []
   },
   "source": [
    "## Cross Validation\n",
    "#### 1. To Get the Best Hyper Parameters\n",
    "#### 2. For Validating the Model"
   ]
  },
  {
   "cell_type": "markdown",
   "id": "e5de4dd8",
   "metadata": {
    "papermill": {
     "duration": 0.051633,
     "end_time": "2022-05-11T13:38:46.120828",
     "exception": false,
     "start_time": "2022-05-11T13:38:46.069195",
     "status": "completed"
    },
    "tags": []
   },
   "source": [
    "##### Grid Search CV :Getting Best Hyper Parameters"
   ]
  },
  {
   "cell_type": "code",
   "execution_count": 30,
   "id": "4223a098",
   "metadata": {
    "execution": {
     "iopub.execute_input": "2022-05-11T13:38:46.227201Z",
     "iopub.status.busy": "2022-05-11T13:38:46.226630Z",
     "iopub.status.idle": "2022-05-11T13:38:46.232212Z",
     "shell.execute_reply": "2022-05-11T13:38:46.231567Z"
    },
    "papermill": {
     "duration": 0.060684,
     "end_time": "2022-05-11T13:38:46.233777",
     "exception": false,
     "start_time": "2022-05-11T13:38:46.173093",
     "status": "completed"
    },
    "tags": []
   },
   "outputs": [
    {
     "data": {
      "text/plain": [
       "dict_keys(['ccp_alpha', 'class_weight', 'criterion', 'max_depth', 'max_features', 'max_leaf_nodes', 'min_impurity_decrease', 'min_samples_leaf', 'min_samples_split', 'min_weight_fraction_leaf', 'random_state', 'splitter'])"
      ]
     },
     "execution_count": 30,
     "metadata": {},
     "output_type": "execute_result"
    }
   ],
   "source": [
    "clf.get_params().keys()"
   ]
  },
  {
   "cell_type": "code",
   "execution_count": 31,
   "id": "90291f22",
   "metadata": {
    "execution": {
     "iopub.execute_input": "2022-05-11T13:38:46.339193Z",
     "iopub.status.busy": "2022-05-11T13:38:46.338801Z",
     "iopub.status.idle": "2022-05-11T13:38:47.694698Z",
     "shell.execute_reply": "2022-05-11T13:38:47.693805Z"
    },
    "papermill": {
     "duration": 1.411229,
     "end_time": "2022-05-11T13:38:47.697046",
     "exception": false,
     "start_time": "2022-05-11T13:38:46.285817",
     "status": "completed"
    },
    "tags": []
   },
   "outputs": [
    {
     "name": "stdout",
     "output_type": "stream",
     "text": [
      "best accuracy is : 97.0909090909091\n"
     ]
    },
    {
     "data": {
      "text/plain": [
       "{'criterion': 'gini', 'max_depth': 5, 'random_state': 42, 'splitter': 'random'}"
      ]
     },
     "execution_count": 31,
     "metadata": {},
     "output_type": "execute_result"
    }
   ],
   "source": [
    "from sklearn.model_selection import GridSearchCV\n",
    "parameters= {'criterion':['gini', 'entropy'],\n",
    "             'max_depth':[3,5,7],'splitter':['best', 'random'],\n",
    "            'random_state': [0,42]}\n",
    "\n",
    "\n",
    "grid_search = GridSearchCV(estimator = clf,        # The Classifer That we need its best Parameters \n",
    "                           param_grid = parameters,       # It must Be Dictionary or List Of Dictionaries \n",
    "                           scoring = 'accuracy',          # The type of Evaluation Metric \n",
    "                           cv = 10,                       # default None : Means K Fold =5 , you can change it to any 'int' Number\n",
    "                           n_jobs = -1)                  # None :  For No Parallel Jobs , int : For a Certain Number of Parallel jobs , -1 : for Using ALL PROCESSORS! \n",
    " \n",
    "\n",
    "\n",
    "grid_search = grid_search.fit(X_train_scaled, y_train)\n",
    "\n",
    "print(\"best accuracy is :\" , grid_search.best_score_ * 100)\n",
    "\n",
    "grid_search.best_params_ "
   ]
  },
  {
   "cell_type": "code",
   "execution_count": 32,
   "id": "91ac52d9",
   "metadata": {
    "execution": {
     "iopub.execute_input": "2022-05-11T13:38:47.802818Z",
     "iopub.status.busy": "2022-05-11T13:38:47.802394Z",
     "iopub.status.idle": "2022-05-11T13:38:47.832464Z",
     "shell.execute_reply": "2022-05-11T13:38:47.831257Z"
    },
    "papermill": {
     "duration": 0.085666,
     "end_time": "2022-05-11T13:38:47.834781",
     "exception": false,
     "start_time": "2022-05-11T13:38:47.749115",
     "status": "completed"
    },
    "tags": []
   },
   "outputs": [
    {
     "name": "stdout",
     "output_type": "stream",
     "text": [
      "Validation score: 94.18182% (4.76211%)\n",
      "Accuracy score: \n"
     ]
    }
   ],
   "source": [
    "clf = DecisionTreeClassifier(criterion='gini',splitter='random',max_depth=3,random_state=42)\n",
    "clf.fit(X_train_scaled, y_train)\n",
    "\n",
    "# Applying k-Fold Cross Validation\n",
    "from sklearn.model_selection import cross_val_score\n",
    "results = cross_val_score(estimator = clf, X = X_train_scaled, y = y_train, cv = 10)\n",
    "print(\"Validation score: %.5f%% (%.5f%%)\" % (results.mean()*100.0, results.std()*100.0))\n",
    "\n",
    "y_pred = clf.predict(X_test_scaled)\n",
    "dt_acc = accuracy_score(y_test, y_pred)*100\n",
    "print('Accuracy score: ', )"
   ]
  },
  {
   "cell_type": "code",
   "execution_count": 33,
   "id": "2e6224ca",
   "metadata": {
    "execution": {
     "iopub.execute_input": "2022-05-11T13:38:47.942330Z",
     "iopub.status.busy": "2022-05-11T13:38:47.941526Z",
     "iopub.status.idle": "2022-05-11T13:38:48.194546Z",
     "shell.execute_reply": "2022-05-11T13:38:48.194020Z"
    },
    "papermill": {
     "duration": 0.308216,
     "end_time": "2022-05-11T13:38:48.196341",
     "exception": false,
     "start_time": "2022-05-11T13:38:47.888125",
     "status": "completed"
    },
    "tags": []
   },
   "outputs": [
    {
     "data": {
      "image/png": "[encoded data removed]",
      "text/plain": [
       "<Figure size 432x288 with 2 Axes>"
      ]
     },
     "metadata": {
      "needs_background": "light"
     },
     "output_type": "display_data"
    }
   ],
   "source": [
    "    \n",
    "lables = ['Iris-setosa', 'Iris-versicolor', 'Iris-virginica']\n",
    "ax= plt.subplot()\n",
    "\n",
    "cm = confusion_matrix(np.asarray(y_test).argmax(axis=1), np.asarray(y_pred).argmax(axis=1))\n",
    "sns.heatmap(cm, annot=True, fmt='g', ax=ax);  #annot=True to annotate cells, ftm='g' to disable scientific notation\n",
    "\n",
    "# labels, title and ticks\n",
    "ax.set_xlabel('Predicted labels');ax.set_ylabel('True labels'); \n",
    "ax.set_title('Confusion Matrix'); \n",
    "ax.xaxis.set_ticklabels(lables); ax.yaxis.set_ticklabels(lables);"
   ]
  },
  {
   "cell_type": "code",
   "execution_count": 34,
   "id": "ae1760bb",
   "metadata": {
    "execution": {
     "iopub.execute_input": "2022-05-11T13:38:48.304762Z",
     "iopub.status.busy": "2022-05-11T13:38:48.303989Z",
     "iopub.status.idle": "2022-05-11T13:38:48.315294Z",
     "shell.execute_reply": "2022-05-11T13:38:48.314647Z"
    },
    "papermill": {
     "duration": 0.067828,
     "end_time": "2022-05-11T13:38:48.317446",
     "exception": false,
     "start_time": "2022-05-11T13:38:48.249618",
     "status": "completed"
    },
    "tags": []
   },
   "outputs": [
    {
     "name": "stdout",
     "output_type": "stream",
     "text": [
      "              precision    recall  f1-score   support\n",
      "\n",
      "           0       1.00      0.92      0.96        13\n",
      "           1       0.90      0.95      0.93        20\n",
      "           2       0.92      0.92      0.92        12\n",
      "\n",
      "   micro avg       0.93      0.93      0.93        45\n",
      "   macro avg       0.94      0.93      0.93        45\n",
      "weighted avg       0.94      0.93      0.93        45\n",
      " samples avg       0.93      0.93      0.93        45\n",
      "\n"
     ]
    }
   ],
   "source": [
    "from sklearn.metrics import classification_report\n",
    "print(classification_report(y_test, y_pred))"
   ]
  },
  {
   "cell_type": "markdown",
   "id": "e6abbd28",
   "metadata": {
    "papermill": {
     "duration": 0.05349,
     "end_time": "2022-05-11T13:38:48.425721",
     "exception": false,
     "start_time": "2022-05-11T13:38:48.372231",
     "status": "completed"
    },
    "tags": []
   },
   "source": [
    "### Build a K-Neighbors Classifier"
   ]
  },
  {
   "cell_type": "code",
   "execution_count": 35,
   "id": "c4cf2807",
   "metadata": {
    "execution": {
     "iopub.execute_input": "2022-05-11T13:38:48.534891Z",
     "iopub.status.busy": "2022-05-11T13:38:48.534500Z",
     "iopub.status.idle": "2022-05-11T13:38:48.537719Z",
     "shell.execute_reply": "2022-05-11T13:38:48.537167Z"
    },
    "papermill": {
     "duration": 0.060066,
     "end_time": "2022-05-11T13:38:48.539317",
     "exception": false,
     "start_time": "2022-05-11T13:38:48.479251",
     "status": "completed"
    },
    "tags": []
   },
   "outputs": [],
   "source": [
    "from sklearn.neighbors import KNeighborsClassifier\n",
    "\n",
    "kn_clf = KNeighborsClassifier()"
   ]
  },
  {
   "cell_type": "code",
   "execution_count": 36,
   "id": "ea109f92",
   "metadata": {
    "execution": {
     "iopub.execute_input": "2022-05-11T13:38:48.648890Z",
     "iopub.status.busy": "2022-05-11T13:38:48.648214Z",
     "iopub.status.idle": "2022-05-11T13:38:48.652935Z",
     "shell.execute_reply": "2022-05-11T13:38:48.652354Z"
    },
    "papermill": {
     "duration": 0.06176,
     "end_time": "2022-05-11T13:38:48.654508",
     "exception": false,
     "start_time": "2022-05-11T13:38:48.592748",
     "status": "completed"
    },
    "tags": []
   },
   "outputs": [
    {
     "data": {
      "text/plain": [
       "dict_keys(['algorithm', 'leaf_size', 'metric', 'metric_params', 'n_jobs', 'n_neighbors', 'p', 'weights'])"
      ]
     },
     "execution_count": 36,
     "metadata": {},
     "output_type": "execute_result"
    }
   ],
   "source": [
    "kn_clf.get_params().keys()"
   ]
  },
  {
   "cell_type": "code",
   "execution_count": 37,
   "id": "ba148ce1",
   "metadata": {
    "execution": {
     "iopub.execute_input": "2022-05-11T13:38:48.772403Z",
     "iopub.status.busy": "2022-05-11T13:38:48.771864Z",
     "iopub.status.idle": "2022-05-11T13:38:50.500084Z",
     "shell.execute_reply": "2022-05-11T13:38:50.498991Z"
    },
    "papermill": {
     "duration": 1.793739,
     "end_time": "2022-05-11T13:38:50.502011",
     "exception": false,
     "start_time": "2022-05-11T13:38:48.708272",
     "status": "completed"
    },
    "tags": []
   },
   "outputs": [
    {
     "name": "stdout",
     "output_type": "stream",
     "text": [
      "best accuracy is : 97.0909090909091\n"
     ]
    },
    {
     "data": {
      "text/plain": [
       "{'algorithm': 'auto', 'n_neighbors': 5, 'p': 2, 'weights': 'uniform'}"
      ]
     },
     "execution_count": 37,
     "metadata": {},
     "output_type": "execute_result"
    }
   ],
   "source": [
    "parameters= {'algorithm':['auto', 'ball_tree', 'kd_tree', 'brute'],\n",
    "             'n_neighbors':[3,5,7],'weights':['uniform', 'distance'],'p':[2,3,5,6,7]}\n",
    "\n",
    "\n",
    "grid_search = GridSearchCV(estimator = kn_clf,        # The Classifer That we need its best Parameters \n",
    "                           param_grid = parameters,       # It must Be Dictionary or List Of Dictionaries \n",
    "                           scoring = 'accuracy',          # The type of Evaluation Metric \n",
    "                           cv = 10,                       # default None : Means K Fold =5 , you can change it to any 'int' Number\n",
    "                           n_jobs = -1)                  # None :  For No Parallel Jobs , int : For a Certain Number of Parallel jobs , -1 : for Using ALL PROCESSORS! \n",
    " \n",
    "\n",
    "\n",
    "grid_search = grid_search.fit(X_train_scaled, y_train)\n",
    "\n",
    "print(\"best accuracy is :\" , grid_search.best_score_ * 100)\n",
    "\n",
    "grid_search.best_params_ "
   ]
  },
  {
   "cell_type": "code",
   "execution_count": 38,
   "id": "31e5f993",
   "metadata": {
    "execution": {
     "iopub.execute_input": "2022-05-11T13:38:50.612323Z",
     "iopub.status.busy": "2022-05-11T13:38:50.611470Z",
     "iopub.status.idle": "2022-05-11T13:38:50.656961Z",
     "shell.execute_reply": "2022-05-11T13:38:50.656111Z"
    },
    "papermill": {
     "duration": 0.102694,
     "end_time": "2022-05-11T13:38:50.658931",
     "exception": false,
     "start_time": "2022-05-11T13:38:50.556237",
     "status": "completed"
    },
    "tags": []
   },
   "outputs": [
    {
     "name": "stdout",
     "output_type": "stream",
     "text": [
      "Validation score: 97.09091% (4.44990%)\n",
      "Accuracy score:  97.77777777777777\n"
     ]
    }
   ],
   "source": [
    "kn_clf = KNeighborsClassifier(algorithm='auto',n_neighbors=5,p=2,weights='uniform')\n",
    "kn_clf.fit(X_train_scaled, y_train)\n",
    "\n",
    "# Applying k-Fold Cross Validation\n",
    "from sklearn.model_selection import cross_val_score\n",
    "results = cross_val_score(estimator = kn_clf, X = X_train_scaled, y = y_train, cv = 10)\n",
    "print(\"Validation score: %.5f%% (%.5f%%)\" % (results.mean()*100.0, results.std()*100.0))\n",
    "\n",
    "y_pred = kn_clf.predict(X_test_scaled)\n",
    "kn_acc = accuracy_score(y_test, y_pred)*100\n",
    "print('Accuracy score: ', kn_acc)"
   ]
  },
  {
   "cell_type": "code",
   "execution_count": 39,
   "id": "52faf7d9",
   "metadata": {
    "execution": {
     "iopub.execute_input": "2022-05-11T13:38:50.769877Z",
     "iopub.status.busy": "2022-05-11T13:38:50.769303Z",
     "iopub.status.idle": "2022-05-11T13:38:51.023587Z",
     "shell.execute_reply": "2022-05-11T13:38:51.023059Z"
    },
    "papermill": {
     "duration": 0.311921,
     "end_time": "2022-05-11T13:38:51.025187",
     "exception": false,
     "start_time": "2022-05-11T13:38:50.713266",
     "status": "completed"
    },
    "tags": []
   },
   "outputs": [
    {
     "data": {
      "image/png": "[encoded data removed]",
      "text/plain": [
       "<Figure size 432x288 with 2 Axes>"
      ]
     },
     "metadata": {
      "needs_background": "light"
     },
     "output_type": "display_data"
    }
   ],
   "source": [
    "    \n",
    "lables = ['Iris-setosa', 'Iris-versicolor', 'Iris-virginica']\n",
    "ax= plt.subplot()\n",
    "\n",
    "cm = confusion_matrix(np.asarray(y_test).argmax(axis=1), np.asarray(y_pred).argmax(axis=1))\n",
    "sns.heatmap(cm, annot=True, fmt='g', ax=ax);  #annot=True to annotate cells, ftm='g' to disable scientific notation\n",
    "\n",
    "# labels, title and ticks\n",
    "ax.set_xlabel('Predicted labels');ax.set_ylabel('True labels'); \n",
    "ax.set_title('Confusion Matrix'); \n",
    "ax.xaxis.set_ticklabels(lables); ax.yaxis.set_ticklabels(lables);"
   ]
  },
  {
   "cell_type": "code",
   "execution_count": 40,
   "id": "35cbbcdc",
   "metadata": {
    "execution": {
     "iopub.execute_input": "2022-05-11T13:38:51.137529Z",
     "iopub.status.busy": "2022-05-11T13:38:51.137150Z",
     "iopub.status.idle": "2022-05-11T13:38:51.148383Z",
     "shell.execute_reply": "2022-05-11T13:38:51.147078Z"
    },
    "papermill": {
     "duration": 0.069794,
     "end_time": "2022-05-11T13:38:51.150691",
     "exception": false,
     "start_time": "2022-05-11T13:38:51.080897",
     "status": "completed"
    },
    "tags": []
   },
   "outputs": [
    {
     "name": "stdout",
     "output_type": "stream",
     "text": [
      "              precision    recall  f1-score   support\n",
      "\n",
      "           0       1.00      1.00      1.00        13\n",
      "           1       0.95      1.00      0.98        20\n",
      "           2       1.00      0.92      0.96        12\n",
      "\n",
      "   micro avg       0.98      0.98      0.98        45\n",
      "   macro avg       0.98      0.97      0.98        45\n",
      "weighted avg       0.98      0.98      0.98        45\n",
      " samples avg       0.98      0.98      0.98        45\n",
      "\n"
     ]
    }
   ],
   "source": [
    "print(classification_report(y_test, y_pred))"
   ]
  },
  {
   "cell_type": "markdown",
   "id": "718e078f",
   "metadata": {
    "papermill": {
     "duration": 0.055489,
     "end_time": "2022-05-11T13:38:51.262485",
     "exception": false,
     "start_time": "2022-05-11T13:38:51.206996",
     "status": "completed"
    },
    "tags": []
   },
   "source": [
    "### Bilid a SVM"
   ]
  },
  {
   "cell_type": "code",
   "execution_count": 41,
   "id": "f9beecde",
   "metadata": {
    "execution": {
     "iopub.execute_input": "2022-05-11T13:38:51.376292Z",
     "iopub.status.busy": "2022-05-11T13:38:51.376037Z",
     "iopub.status.idle": "2022-05-11T13:38:51.389549Z",
     "shell.execute_reply": "2022-05-11T13:38:51.388782Z"
    },
    "papermill": {
     "duration": 0.073864,
     "end_time": "2022-05-11T13:38:51.392326",
     "exception": false,
     "start_time": "2022-05-11T13:38:51.318462",
     "status": "completed"
    },
    "tags": []
   },
   "outputs": [
    {
     "name": "stdout",
     "output_type": "stream",
     "text": [
      "dict_keys(['C', 'break_ties', 'cache_size', 'class_weight', 'coef0', 'decision_function_shape', 'degree', 'gamma', 'kernel', 'max_iter', 'probability', 'random_state', 'shrinking', 'tol', 'verbose'])\n"
     ]
    }
   ],
   "source": [
    "from sklearn.svm import SVC\n",
    "from sklearn.preprocessing import LabelEncoder\n",
    "from sklearn.model_selection import train_test_split\n",
    "from sklearn.preprocessing import MinMaxScaler\n",
    "\n",
    "# spliting Data\n",
    "X_ = data.drop(columns=\"Species\")\n",
    "y_ = (data[\"Species\"])\n",
    "\n",
    "# Convert traget Label\n",
    "le = LabelEncoder()\n",
    "y_ = le.fit_transform(y_)\n",
    "\n",
    "\n",
    "X_train_, X_test_, y_train_, y_test_ = train_test_split(X_, y_, test_size = 0.20, random_state = 0)\n",
    "\n",
    "# Scaling\n",
    "sc = MinMaxScaler()\n",
    "X_train_sc = sc.fit_transform(X_train_)\n",
    "X_test_sc = sc.transform(X_test_)\n",
    "\n",
    "\n",
    "svm_clf = SVC()\n",
    "print(svm_clf.get_params().keys())\n"
   ]
  },
  {
   "cell_type": "code",
   "execution_count": 42,
   "id": "3f31e5eb",
   "metadata": {
    "execution": {
     "iopub.execute_input": "2022-05-11T13:38:51.506549Z",
     "iopub.status.busy": "2022-05-11T13:38:51.506288Z",
     "iopub.status.idle": "2022-05-11T13:38:52.604581Z",
     "shell.execute_reply": "2022-05-11T13:38:52.603557Z"
    },
    "papermill": {
     "duration": 1.156968,
     "end_time": "2022-05-11T13:38:52.606394",
     "exception": false,
     "start_time": "2022-05-11T13:38:51.449426",
     "status": "completed"
    },
    "tags": []
   },
   "outputs": [
    {
     "name": "stdout",
     "output_type": "stream",
     "text": [
      "best accuracy is : 100.0\n",
      "{'C': 1, 'degree': 2, 'gamma': 'scale', 'kernel': 'rbf'}\n"
     ]
    }
   ],
   "source": [
    "#Grid-Search-CV \n",
    "parameters= {'C':[1,0.3,0.001,3,10],\n",
    "             'kernel':['linear', 'rbf','poly'],\n",
    "             'degree':[2,3,5,7],\n",
    "             'gamma':['scale', 'auto']}\n",
    "\n",
    "\n",
    "grid_search = GridSearchCV(estimator = svm_clf,        # The Classifer That we need its best Parameters \n",
    "                           param_grid = parameters,       # It must Be Dictionary or List Of Dictionaries \n",
    "                           scoring = 'accuracy',          # The type of Evaluation Metric \n",
    "                           cv = 10,                       # default None : Means K Fold =5 , you can change it to any 'int' Number\n",
    "                           n_jobs = -1)                  # None :  For No Parallel Jobs , int : For a Certain Number of Parallel jobs , -1 : for Using ALL PROCESSORS! \n",
    " \n",
    "\n",
    "\n",
    "grid_search = grid_search.fit(X_train_sc, y_train_)\n",
    "\n",
    "print(\"best accuracy is :\" , grid_search.best_score_ * 100)\n",
    "\n",
    "print(grid_search.best_params_)\n"
   ]
  },
  {
   "cell_type": "code",
   "execution_count": 43,
   "id": "3e32e981",
   "metadata": {
    "execution": {
     "iopub.execute_input": "2022-05-11T13:38:52.720554Z",
     "iopub.status.busy": "2022-05-11T13:38:52.719836Z",
     "iopub.status.idle": "2022-05-11T13:38:52.743571Z",
     "shell.execute_reply": "2022-05-11T13:38:52.742707Z"
    },
    "papermill": {
     "duration": 0.082375,
     "end_time": "2022-05-11T13:38:52.745381",
     "exception": false,
     "start_time": "2022-05-11T13:38:52.663006",
     "status": "completed"
    },
    "tags": []
   },
   "outputs": [
    {
     "name": "stdout",
     "output_type": "stream",
     "text": [
      "Validation score: 100.00000% (0.00000%)\n",
      "Accuracy score:  100.0\n"
     ]
    }
   ],
   "source": [
    "svm_clf = SVC(gamma='scale' ,C=1,kernel='rbf')\n",
    "svm_clf.fit(X_train_sc, y_train_)\n",
    "y_pred_ = svm_clf.predict(X_test_sc)\n",
    "\n",
    "# Applying k-Fold Cross Validation\n",
    "from sklearn.model_selection import cross_val_score\n",
    "results = cross_val_score(estimator = svm_clf, X = X_train_sc, y = y_train_, cv = 10)\n",
    "print(\"Validation score: %.5f%% (%.5f%%)\" % (results.mean()*100.0, results.std()*100.0))\n",
    "\n",
    "y_pred_ = svm_clf.predict(X_test_sc)\n",
    "svm_acc = accuracy_score(y_test_, y_pred_)*100\n",
    "print('Accuracy score: ', svm_acc)"
   ]
  },
  {
   "cell_type": "code",
   "execution_count": 44,
   "id": "8002188a",
   "metadata": {
    "execution": {
     "iopub.execute_input": "2022-05-11T13:38:52.862513Z",
     "iopub.status.busy": "2022-05-11T13:38:52.862124Z",
     "iopub.status.idle": "2022-05-11T13:38:53.100838Z",
     "shell.execute_reply": "2022-05-11T13:38:53.100007Z"
    },
    "papermill": {
     "duration": 0.300484,
     "end_time": "2022-05-11T13:38:53.102613",
     "exception": false,
     "start_time": "2022-05-11T13:38:52.802129",
     "status": "completed"
    },
    "tags": []
   },
   "outputs": [
    {
     "data": {
      "image/png": "[encoded data removed]",
      "text/plain": [
       "<Figure size 432x288 with 2 Axes>"
      ]
     },
     "metadata": {
      "needs_background": "light"
     },
     "output_type": "display_data"
    }
   ],
   "source": [
    "    \n",
    "lables = ['Iris-setosa', 'Iris-versicolor', 'Iris-virginica']\n",
    "ax= plt.subplot()\n",
    "\n",
    "cm = confusion_matrix(y_test_,y_pred_)\n",
    "sns.heatmap(cm, annot=True, fmt='g', ax=ax);  #annot=True to annotate cells, ftm='g' to disable scientific notation\n",
    "\n",
    "# labels, title and ticks\n",
    "ax.set_xlabel('Predicted labels');ax.set_ylabel('True labels'); \n",
    "ax.set_title('Confusion Matrix'); \n",
    "ax.xaxis.set_ticklabels(lables); ax.yaxis.set_ticklabels(lables);"
   ]
  },
  {
   "cell_type": "code",
   "execution_count": 45,
   "id": "aa8ce915",
   "metadata": {
    "execution": {
     "iopub.execute_input": "2022-05-11T13:38:53.218262Z",
     "iopub.status.busy": "2022-05-11T13:38:53.217992Z",
     "iopub.status.idle": "2022-05-11T13:38:53.225879Z",
     "shell.execute_reply": "2022-05-11T13:38:53.224949Z"
    },
    "papermill": {
     "duration": 0.068029,
     "end_time": "2022-05-11T13:38:53.227901",
     "exception": false,
     "start_time": "2022-05-11T13:38:53.159872",
     "status": "completed"
    },
    "tags": []
   },
   "outputs": [
    {
     "name": "stdout",
     "output_type": "stream",
     "text": [
      "              precision    recall  f1-score   support\n",
      "\n",
      "           0       1.00      1.00      1.00        11\n",
      "           1       1.00      1.00      1.00        13\n",
      "           2       1.00      1.00      1.00         6\n",
      "\n",
      "    accuracy                           1.00        30\n",
      "   macro avg       1.00      1.00      1.00        30\n",
      "weighted avg       1.00      1.00      1.00        30\n",
      "\n"
     ]
    }
   ],
   "source": [
    "print(classification_report(y_test_, y_pred_))"
   ]
  },
  {
   "cell_type": "code",
   "execution_count": 46,
   "id": "ddcb9856",
   "metadata": {
    "execution": {
     "iopub.execute_input": "2022-05-11T13:38:53.345395Z",
     "iopub.status.busy": "2022-05-11T13:38:53.344896Z",
     "iopub.status.idle": "2022-05-11T13:38:53.353508Z",
     "shell.execute_reply": "2022-05-11T13:38:53.352992Z"
    },
    "papermill": {
     "duration": 0.068905,
     "end_time": "2022-05-11T13:38:53.355076",
     "exception": false,
     "start_time": "2022-05-11T13:38:53.286171",
     "status": "completed"
    },
    "tags": []
   },
   "outputs": [
    {
     "data": {
      "text/html": [
       "<div>\n",
       "<style scoped>\n",
       "    .dataframe tbody tr th:only-of-type {\n",
       "        vertical-align: middle;\n",
       "    }\n",
       "\n",
       "    .dataframe tbody tr th {\n",
       "        vertical-align: top;\n",
       "    }\n",
       "\n",
       "    .dataframe thead th {\n",
       "        text-align: right;\n",
       "    }\n",
       "</style>\n",
       "<table border=\"1\" class=\"dataframe\">\n",
       "  <thead>\n",
       "    <tr style=\"text-align: right;\">\n",
       "      <th></th>\n",
       "      <th>Accuracy</th>\n",
       "    </tr>\n",
       "  </thead>\n",
       "  <tbody>\n",
       "    <tr>\n",
       "      <th>Decision Tree Classifier</th>\n",
       "      <td>93.333333</td>\n",
       "    </tr>\n",
       "    <tr>\n",
       "      <th>K-Neighbors Classifier</th>\n",
       "      <td>97.777778</td>\n",
       "    </tr>\n",
       "    <tr>\n",
       "      <th>SVM Classifier</th>\n",
       "      <td>100.000000</td>\n",
       "    </tr>\n",
       "  </tbody>\n",
       "</table>\n",
       "</div>"
      ],
      "text/plain": [
       "                            Accuracy\n",
       "Decision Tree Classifier   93.333333\n",
       "K-Neighbors Classifier     97.777778\n",
       "SVM Classifier            100.000000"
      ]
     },
     "execution_count": 46,
     "metadata": {},
     "output_type": "execute_result"
    }
   ],
   "source": [
    "acc = [dt_acc,kn_acc,svm_acc]\n",
    "labels = ['Decision Tree Classifier', 'K-Neighbors Classifier', 'SVM Classifier']\n",
    "accs = {'Accuracy': acc}\n",
    "df = pd.DataFrame(accs,index=labels)\n",
    "df"
   ]
  },
  {
   "cell_type": "code",
   "execution_count": null,
   "id": "23c84e2a",
   "metadata": {
    "papermill": {
     "duration": 0.057559,
     "end_time": "2022-05-11T13:38:53.471297",
     "exception": false,
     "start_time": "2022-05-11T13:38:53.413738",
     "status": "completed"
    },
    "tags": []
   },
   "outputs": [],
   "source": []
  }
 ],
 "metadata": {
  "kernelspec": {
   "display_name": "Python 3",
   "language": "python",
   "name": "python3"
  },
  "language_info": {
   "codemirror_mode": {
    "name": "ipython",
    "version": 3
   },
   "file_extension": ".py",
   "mimetype": "text/x-python",
   "name": "python",
   "nbconvert_exporter": "python",
   "pygments_lexer": "ipython3",
   "version": "3.7.12"
  },
  "papermill": {
   "default_parameters": {},
   "duration": 25.745501,
   "end_time": "2022-05-11T13:38:56.151013",
   "environment_variables": {},
   "exception": null,
   "input_path": "__notebook__.ipynb",
   "output_path": "__notebook__.ipynb",
   "parameters": {},
   "start_time": "2022-05-11T13:38:30.405512",
   "version": "2.3.4"
  }
 },
 "nbformat": 4,
 "nbformat_minor": 5
}
