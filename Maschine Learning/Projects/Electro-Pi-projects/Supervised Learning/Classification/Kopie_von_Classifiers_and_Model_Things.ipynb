{
  "nbformat": 4,
  "nbformat_minor": 0,
  "metadata": {
    "colab": {
      "name": "Kopie von Classifiers and Model Things",
      "provenance": [],
      "collapsed_sections": [],
      "include_colab_link": true
    },
    "kernelspec": {
      "name": "python3",
      "display_name": "Python 3"
    },
    "accelerator": "TPU"
  },
  "cells": [
    {
      "cell_type": "markdown",
      "metadata": {
        "id": "view-in-github",
        "colab_type": "text"
      },
      "source": [
        "<a href=\"https://colab.research.google.com/github/ahmadSoliman94/Machine-Learning/blob/main/ML/Projects/Electro-Pi-projects/Classification/Kopie_von_Classifiers_and_Model_Things.ipynb\" target=\"_parent\"><img src=\"https://colab.research.google.com/assets/colab-badge.svg\" alt=\"Open In Colab\"/></a>"
      ]
    },
    {
      "cell_type": "markdown",
      "metadata": {
        "id": "XLtyB6vppMMu"
      },
      "source": [
        "Welcome to  your first Classification Tasks \n",
        "Get Ready to Dig in Classification World"
      ]
    },
    {
      "cell_type": "markdown",
      "metadata": {
        "id": "7jAc_lgxpaiz"
      },
      "source": [
        "# **Classifiers** \n"
      ]
    },
    {
      "cell_type": "code",
      "metadata": {
        "id": "m3fVUwyapnSr",
        "colab": {
          "base_uri": "https://localhost:8080/"
        },
        "outputId": "8474ffd2-05a0-4bb3-a3d5-eacb2ea2e04f"
      },
      "source": [
        "from google.colab import drive\n",
        "drive.mount('/content/drive')\n",
        "import os \n",
        "os.chdir('drive/My Drive/')"
      ],
      "execution_count": null,
      "outputs": [
        {
          "output_type": "stream",
          "name": "stdout",
          "text": [
            "Drive already mounted at /content/drive; to attempt to forcibly remount, call drive.mount(\"/content/drive\", force_remount=True).\n"
          ]
        }
      ]
    },
    {
      "cell_type": "code",
      "source": [
        "!ls\n",
        "os.chdir('Fusion/')"
      ],
      "metadata": {
        "colab": {
          "base_uri": "https://localhost:8080/"
        },
        "id": "2TAqNOniHtYN",
        "outputId": "ab17888f-2478-413b-9a6a-d9626f76bbe6"
      },
      "execution_count": null,
      "outputs": [
        {
          "output_type": "stream",
          "name": "stdout",
          "text": [
            " Classroom\t    Fusion\t       'Medical deep learning'\n",
            "'Colab Notebooks'   Hands-on-projects   projcet\n"
          ]
        }
      ]
    },
    {
      "cell_type": "code",
      "source": [
        "!ls"
      ],
      "metadata": {
        "colab": {
          "base_uri": "https://localhost:8080/"
        },
        "id": "2UMYPUfLHyv6",
        "outputId": "b4dffc1f-4ed8-4fc6-fc76-79989f4d0d61"
      },
      "execution_count": null,
      "outputs": [
        {
          "output_type": "stream",
          "name": "stdout",
          "text": [
            " 50_Startups.csv\t   diabetes_null.csv   slr02.xlsx\n",
            " boston.csv\t\t   Insurance.xlsx      Social_Network_Ads.csv\n",
            "'Concrete_Data (4).xlsx'   Salary_Data.csv     unprocessed_data.csv\n"
          ]
        }
      ]
    },
    {
      "cell_type": "code",
      "metadata": {
        "id": "TqSycbbvrBBy"
      },
      "source": [
        "# imports\n",
        "import numpy as np\n",
        "import pandas as pd\n",
        "from sklearn.model_selection import train_test_split\n",
        "from sklearn.tree import DecisionTreeClassifier\n",
        "from sklearn.metrics import accuracy_score, precision_score,recall_score\n",
        "from sklearn import tree"
      ],
      "execution_count": null,
      "outputs": []
    },
    {
      "cell_type": "code",
      "metadata": {
        "id": "PrvJsTSwrBEd",
        "colab": {
          "base_uri": "https://localhost:8080/"
        },
        "outputId": "5e829e5a-69ea-4e67-b1a1-fe23ff2b920d"
      },
      "source": [
        "dataset = pd.read_csv('Social_Network_Ads.csv')\n",
        "print(dataset)"
      ],
      "execution_count": null,
      "outputs": [
        {
          "output_type": "stream",
          "name": "stdout",
          "text": [
            "      User ID  Gender  Age  EstimatedSalary  Purchased\n",
            "0    15624510    Male   19            19000          0\n",
            "1    15810944    Male   35            20000          0\n",
            "2    15668575  Female   26            43000          0\n",
            "3    15603246  Female   27            57000          0\n",
            "4    15804002    Male   19            76000          0\n",
            "..        ...     ...  ...              ...        ...\n",
            "395  15691863  Female   46            41000          1\n",
            "396  15706071    Male   51            23000          1\n",
            "397  15654296  Female   50            20000          1\n",
            "398  15755018    Male   36            33000          0\n",
            "399  15594041  Female   49            36000          1\n",
            "\n",
            "[400 rows x 5 columns]\n"
          ]
        }
      ]
    },
    {
      "cell_type": "markdown",
      "metadata": {
        "id": "vtGxI2SZJbjD"
      },
      "source": [
        "Do you remember Label Encoding ? \n",
        "Look at this "
      ]
    },
    {
      "cell_type": "code",
      "metadata": {
        "id": "-bK2ZxaXDW5u",
        "colab": {
          "base_uri": "https://localhost:8080/"
        },
        "outputId": "3c1f1abc-8b98-47b0-e565-1df9e7f0c123"
      },
      "source": [
        "X = dataset.iloc[:, :-1].values\n",
        "y = dataset.iloc[:, -1].values\n",
        "# splitting into test and train\n",
        "X_train, X_test, y_train, y_test = train_test_split(X,y, test_size = 0.20)\n",
        "X_train"
      ],
      "execution_count": null,
      "outputs": [
        {
          "output_type": "execute_result",
          "data": {
            "text/plain": [
              "array([[15694879, 'Male', 37, 144000],\n",
              "       [15631159, 'Male', 47, 20000],\n",
              "       [15569641, 'Female', 58, 95000],\n",
              "       ...,\n",
              "       [15668575, 'Female', 26, 43000],\n",
              "       [15736760, 'Female', 47, 49000],\n",
              "       [15671249, 'Male', 46, 88000]], dtype=object)"
            ]
          },
          "metadata": {},
          "execution_count": 6
        }
      ]
    },
    {
      "cell_type": "code",
      "metadata": {
        "id": "GEiTEKC-JYGV",
        "colab": {
          "base_uri": "https://localhost:8080/"
        },
        "outputId": "ca1c58cf-e84d-420c-e18d-afbe77e06a1e"
      },
      "source": [
        "from sklearn.preprocessing import LabelEncoder\n",
        "encoder=LabelEncoder()\n",
        "X_train[:,1] = encoder.fit_transform(X_train[:,1])\n",
        "X_test[:,1]=encoder.transform(X_test[:,1] )\n",
        "X_train"
      ],
      "execution_count": null,
      "outputs": [
        {
          "output_type": "execute_result",
          "data": {
            "text/plain": [
              "array([[15694879, 1, 37, 144000],\n",
              "       [15631159, 1, 47, 20000],\n",
              "       [15569641, 0, 58, 95000],\n",
              "       ...,\n",
              "       [15668575, 0, 26, 43000],\n",
              "       [15736760, 0, 47, 49000],\n",
              "       [15671249, 1, 46, 88000]], dtype=object)"
            ]
          },
          "metadata": {},
          "execution_count": 7
        }
      ]
    },
    {
      "cell_type": "markdown",
      "metadata": {
        "id": "H75qBDuwKmYq"
      },
      "source": [
        "# **Decisison Tree**"
      ]
    },
    {
      "cell_type": "code",
      "metadata": {
        "id": "QRvhOhGPKUX9",
        "colab": {
          "base_uri": "https://localhost:8080/"
        },
        "outputId": "0805b42f-cf79-4958-b59b-2c6a4a432344"
      },
      "source": [
        "# function to perform training with entropy\n",
        "clf = DecisionTreeClassifier()\n",
        "clf.fit(X_train, y_train)"
      ],
      "execution_count": null,
      "outputs": [
        {
          "output_type": "execute_result",
          "data": {
            "text/plain": [
              "DecisionTreeClassifier()"
            ]
          },
          "metadata": {},
          "execution_count": 8
        }
      ]
    },
    {
      "cell_type": "code",
      "metadata": {
        "id": "Qk93b_-HDW83",
        "colab": {
          "base_uri": "https://localhost:8080/"
        },
        "outputId": "3895662a-333b-4906-c4d5-eded4c62296f"
      },
      "source": [
        "y_pred_en = clf.predict(X_test)\n",
        "y_pred_train = clf.predict(X_train)\n",
        "print('Accuracy score of Test: ', accuracy_score(y_test, y_pred_en)*100)\n",
        "print('Accuracy score of Train: ', accuracy_score(y_train, y_pred_train)*100)\n"
      ],
      "execution_count": null,
      "outputs": [
        {
          "output_type": "stream",
          "name": "stdout",
          "text": [
            "Accuracy score of Test:  81.25\n",
            "Accuracy score of Train:  100.0\n"
          ]
        }
      ]
    },
    {
      "cell_type": "code",
      "metadata": {
        "id": "GW12zkxPrDNo",
        "colab": {
          "base_uri": "https://localhost:8080/",
          "height": 1000
        },
        "outputId": "7691fcdd-095e-42ea-cd62-c4b22885aa80"
      },
      "source": [
        "# # For Visualization  of the Tree \n",
        "# import graphviz\n",
        "# X = dataset.iloc[:, :-1]\n",
        "# Y = dataset.iloc[:, -1]\n",
        "# dot_data = tree.export_graphviz(clf, out_file=None, \n",
        "#                          feature_names = X.columns,  \n",
        "#                          class_names = [\"yes\",\"no\"],  \n",
        "#                          filled=True, rounded=True,  \n",
        "#                          special_characters=True)  \n",
        "# graph = graphviz.Source(dot_data)  \n",
        "# graph"
      ],
      "execution_count": null,
      "outputs": [
        {
          "output_type": "execute_result",
          "data": {
            "text/plain": [
              "<graphviz.files.Source at 0x7f1a85246fd0>"
            ],
            "image/svg+xml": "<?xml version=\"1.0\" encoding=\"UTF-8\" standalone=\"no\"?>\n<!DOCTYPE svg PUBLIC \"-//W3C//DTD SVG 1.1//EN\"\n \"http://www.w3.org/Graphics/SVG/1.1/DTD/svg11.dtd\">\n<!-- Generated by graphviz version 2.40.1 (20161225.0304)\n -->\n<!-- Title: Tree Pages: 1 -->\n<svg width=\"2337pt\" height=\"1385pt\"\n viewBox=\"0.00 0.00 2337.00 1385.00\" xmlns=\"http://www.w3.org/2000/svg\" xmlns:xlink=\"http://www.w3.org/1999/xlink\">\n<g id=\"graph0\" class=\"graph\" transform=\"scale(1 1) rotate(0) translate(4 1381)\">\n<title>Tree</title>\n<polygon fill=\"#ffffff\" stroke=\"transparent\" points=\"-4,4 -4,-1381 2333,-1381 2333,4 -4,4\"/>\n<!-- 0 -->\n<g id=\"node1\" class=\"node\">\n<title>0</title>\n<path fill=\"#f4c9aa\" stroke=\"#000000\" d=\"M1214.5,-1377C1214.5,-1377 1106.5,-1377 1106.5,-1377 1100.5,-1377 1094.5,-1371 1094.5,-1365 1094.5,-1365 1094.5,-1306 1094.5,-1306 1094.5,-1300 1100.5,-1294 1106.5,-1294 1106.5,-1294 1214.5,-1294 1214.5,-1294 1220.5,-1294 1226.5,-1300 1226.5,-1306 1226.5,-1306 1226.5,-1365 1226.5,-1365 1226.5,-1371 1220.5,-1377 1214.5,-1377\"/>\n<text text-anchor=\"start\" x=\"1125.5\" y=\"-1361.8\" font-family=\"Helvetica,sans-Serif\" font-size=\"14.00\" fill=\"#000000\">Age ≤ 42.5</text>\n<text text-anchor=\"start\" x=\"1122.5\" y=\"-1346.8\" font-family=\"Helvetica,sans-Serif\" font-size=\"14.00\" fill=\"#000000\">gini = 0.462</text>\n<text text-anchor=\"start\" x=\"1112.5\" y=\"-1331.8\" font-family=\"Helvetica,sans-Serif\" font-size=\"14.00\" fill=\"#000000\">samples = 320</text>\n<text text-anchor=\"start\" x=\"1102.5\" y=\"-1316.8\" font-family=\"Helvetica,sans-Serif\" font-size=\"14.00\" fill=\"#000000\">value = [204, 116]</text>\n<text text-anchor=\"start\" x=\"1124\" y=\"-1301.8\" font-family=\"Helvetica,sans-Serif\" font-size=\"14.00\" fill=\"#000000\">class = yes</text>\n</g>\n<!-- 1 -->\n<g id=\"node2\" class=\"node\">\n<title>1</title>\n<path fill=\"#ea985d\" stroke=\"#000000\" d=\"M1083,-1258C1083,-1258 916,-1258 916,-1258 910,-1258 904,-1252 904,-1246 904,-1246 904,-1187 904,-1187 904,-1181 910,-1175 916,-1175 916,-1175 1083,-1175 1083,-1175 1089,-1175 1095,-1181 1095,-1187 1095,-1187 1095,-1246 1095,-1246 1095,-1252 1089,-1258 1083,-1258\"/>\n<text text-anchor=\"start\" x=\"912\" y=\"-1242.8\" font-family=\"Helvetica,sans-Serif\" font-size=\"14.00\" fill=\"#000000\">EstimatedSalary ≤ 91500.0</text>\n<text text-anchor=\"start\" x=\"961.5\" y=\"-1227.8\" font-family=\"Helvetica,sans-Serif\" font-size=\"14.00\" fill=\"#000000\">gini = 0.262</text>\n<text text-anchor=\"start\" x=\"951.5\" y=\"-1212.8\" font-family=\"Helvetica,sans-Serif\" font-size=\"14.00\" fill=\"#000000\">samples = 226</text>\n<text text-anchor=\"start\" x=\"945.5\" y=\"-1197.8\" font-family=\"Helvetica,sans-Serif\" font-size=\"14.00\" fill=\"#000000\">value = [191, 35]</text>\n<text text-anchor=\"start\" x=\"963\" y=\"-1182.8\" font-family=\"Helvetica,sans-Serif\" font-size=\"14.00\" fill=\"#000000\">class = yes</text>\n</g>\n<!-- 0&#45;&gt;1 -->\n<g id=\"edge1\" class=\"edge\">\n<title>0&#45;&gt;1</title>\n<path fill=\"none\" stroke=\"#000000\" d=\"M1104.19,-1293.8796C1091.1988,-1284.2774 1077.281,-1273.9903 1063.9723,-1264.1534\"/>\n<polygon fill=\"#000000\" stroke=\"#000000\" points=\"1065.9004,-1261.2263 1055.7782,-1258.0969 1061.7396,-1266.8555 1065.9004,-1261.2263\"/>\n<text text-anchor=\"middle\" x=\"1059.4867\" y=\"-1279.1203\" font-family=\"Helvetica,sans-Serif\" font-size=\"14.00\" fill=\"#000000\">True</text>\n</g>\n<!-- 42 -->\n<g id=\"node43\" class=\"node\">\n<title>42</title>\n<path fill=\"#59ade9\" stroke=\"#000000\" d=\"M1382,-1258C1382,-1258 1215,-1258 1215,-1258 1209,-1258 1203,-1252 1203,-1246 1203,-1246 1203,-1187 1203,-1187 1203,-1181 1209,-1175 1215,-1175 1215,-1175 1382,-1175 1382,-1175 1388,-1175 1394,-1181 1394,-1187 1394,-1187 1394,-1246 1394,-1246 1394,-1252 1388,-1258 1382,-1258\"/>\n<text text-anchor=\"start\" x=\"1211\" y=\"-1242.8\" font-family=\"Helvetica,sans-Serif\" font-size=\"14.00\" fill=\"#000000\">EstimatedSalary ≤ 41500.0</text>\n<text text-anchor=\"start\" x=\"1260.5\" y=\"-1227.8\" font-family=\"Helvetica,sans-Serif\" font-size=\"14.00\" fill=\"#000000\">gini = 0.238</text>\n<text text-anchor=\"start\" x=\"1254.5\" y=\"-1212.8\" font-family=\"Helvetica,sans-Serif\" font-size=\"14.00\" fill=\"#000000\">samples = 94</text>\n<text text-anchor=\"start\" x=\"1248.5\" y=\"-1197.8\" font-family=\"Helvetica,sans-Serif\" font-size=\"14.00\" fill=\"#000000\">value = [13, 81]</text>\n<text text-anchor=\"start\" x=\"1265\" y=\"-1182.8\" font-family=\"Helvetica,sans-Serif\" font-size=\"14.00\" fill=\"#000000\">class = no</text>\n</g>\n<!-- 0&#45;&gt;42 -->\n<g id=\"edge42\" class=\"edge\">\n<title>0&#45;&gt;42</title>\n<path fill=\"none\" stroke=\"#000000\" d=\"M1208.7657,-1293.8796C1219.6278,-1284.513 1231.2456,-1274.4948 1242.3973,-1264.8784\"/>\n<polygon fill=\"#000000\" stroke=\"#000000\" points=\"1244.7408,-1267.4792 1250.0283,-1258.2981 1240.1694,-1262.178 1244.7408,-1267.4792\"/>\n<text text-anchor=\"middle\" x=\"1248.1851\" y=\"-1279.53\" font-family=\"Helvetica,sans-Serif\" font-size=\"14.00\" fill=\"#000000\">False</text>\n</g>\n<!-- 2 -->\n<g id=\"node3\" class=\"node\">\n<title>2</title>\n<path fill=\"#e68640\" stroke=\"#000000\" d=\"M766.5,-1139C766.5,-1139 674.5,-1139 674.5,-1139 668.5,-1139 662.5,-1133 662.5,-1127 662.5,-1127 662.5,-1068 662.5,-1068 662.5,-1062 668.5,-1056 674.5,-1056 674.5,-1056 766.5,-1056 766.5,-1056 772.5,-1056 778.5,-1062 778.5,-1068 778.5,-1068 778.5,-1127 778.5,-1127 778.5,-1133 772.5,-1139 766.5,-1139\"/>\n<text text-anchor=\"start\" x=\"685.5\" y=\"-1123.8\" font-family=\"Helvetica,sans-Serif\" font-size=\"14.00\" fill=\"#000000\">Age ≤ 41.5</text>\n<text text-anchor=\"start\" x=\"682.5\" y=\"-1108.8\" font-family=\"Helvetica,sans-Serif\" font-size=\"14.00\" fill=\"#000000\">gini = 0.069</text>\n<text text-anchor=\"start\" x=\"672.5\" y=\"-1093.8\" font-family=\"Helvetica,sans-Serif\" font-size=\"14.00\" fill=\"#000000\">samples = 195</text>\n<text text-anchor=\"start\" x=\"670.5\" y=\"-1078.8\" font-family=\"Helvetica,sans-Serif\" font-size=\"14.00\" fill=\"#000000\">value = [188, 7]</text>\n<text text-anchor=\"start\" x=\"684\" y=\"-1063.8\" font-family=\"Helvetica,sans-Serif\" font-size=\"14.00\" fill=\"#000000\">class = yes</text>\n</g>\n<!-- 1&#45;&gt;2 -->\n<g id=\"edge2\" class=\"edge\">\n<title>1&#45;&gt;2</title>\n<path fill=\"none\" stroke=\"#000000\" d=\"M903.8744,-1175.7134C865.8088,-1159.4776 822.8907,-1141.172 788.15,-1126.3543\"/>\n<polygon fill=\"#000000\" stroke=\"#000000\" points=\"789.1505,-1122.976 778.579,-1122.2721 786.4041,-1129.4148 789.1505,-1122.976\"/>\n</g>\n<!-- 29 -->\n<g id=\"node30\" class=\"node\">\n<title>29</title>\n<path fill=\"#4ea8e8\" stroke=\"#000000\" d=\"M1087,-1139C1087,-1139 912,-1139 912,-1139 906,-1139 900,-1133 900,-1127 900,-1127 900,-1068 900,-1068 900,-1062 906,-1056 912,-1056 912,-1056 1087,-1056 1087,-1056 1093,-1056 1099,-1062 1099,-1068 1099,-1068 1099,-1127 1099,-1127 1099,-1133 1093,-1139 1087,-1139\"/>\n<text text-anchor=\"start\" x=\"908\" y=\"-1123.8\" font-family=\"Helvetica,sans-Serif\" font-size=\"14.00\" fill=\"#000000\">EstimatedSalary ≤ 117500.0</text>\n<text text-anchor=\"start\" x=\"961.5\" y=\"-1108.8\" font-family=\"Helvetica,sans-Serif\" font-size=\"14.00\" fill=\"#000000\">gini = 0.175</text>\n<text text-anchor=\"start\" x=\"955.5\" y=\"-1093.8\" font-family=\"Helvetica,sans-Serif\" font-size=\"14.00\" fill=\"#000000\">samples = 31</text>\n<text text-anchor=\"start\" x=\"954\" y=\"-1078.8\" font-family=\"Helvetica,sans-Serif\" font-size=\"14.00\" fill=\"#000000\">value = [3, 28]</text>\n<text text-anchor=\"start\" x=\"966\" y=\"-1063.8\" font-family=\"Helvetica,sans-Serif\" font-size=\"14.00\" fill=\"#000000\">class = no</text>\n</g>\n<!-- 1&#45;&gt;29 -->\n<g id=\"edge29\" class=\"edge\">\n<title>1&#45;&gt;29</title>\n<path fill=\"none\" stroke=\"#000000\" d=\"M999.5,-1174.8796C999.5,-1166.6838 999.5,-1157.9891 999.5,-1149.5013\"/>\n<polygon fill=\"#000000\" stroke=\"#000000\" points=\"1003.0001,-1149.298 999.5,-1139.2981 996.0001,-1149.2981 1003.0001,-1149.298\"/>\n</g>\n<!-- 3 -->\n<g id=\"node4\" class=\"node\">\n<title>3</title>\n<path fill=\"#e6843d\" stroke=\"#000000\" d=\"M516.5,-1020C516.5,-1020 382.5,-1020 382.5,-1020 376.5,-1020 370.5,-1014 370.5,-1008 370.5,-1008 370.5,-949 370.5,-949 370.5,-943 376.5,-937 382.5,-937 382.5,-937 516.5,-937 516.5,-937 522.5,-937 528.5,-943 528.5,-949 528.5,-949 528.5,-1008 528.5,-1008 528.5,-1014 522.5,-1020 516.5,-1020\"/>\n<text text-anchor=\"start\" x=\"378.5\" y=\"-1004.8\" font-family=\"Helvetica,sans-Serif\" font-size=\"14.00\" fill=\"#000000\">User ID ≤ 15577906.0</text>\n<text text-anchor=\"start\" x=\"411.5\" y=\"-989.8\" font-family=\"Helvetica,sans-Serif\" font-size=\"14.00\" fill=\"#000000\">gini = 0.042</text>\n<text text-anchor=\"start\" x=\"401.5\" y=\"-974.8\" font-family=\"Helvetica,sans-Serif\" font-size=\"14.00\" fill=\"#000000\">samples = 185</text>\n<text text-anchor=\"start\" x=\"399.5\" y=\"-959.8\" font-family=\"Helvetica,sans-Serif\" font-size=\"14.00\" fill=\"#000000\">value = [181, 4]</text>\n<text text-anchor=\"start\" x=\"413\" y=\"-944.8\" font-family=\"Helvetica,sans-Serif\" font-size=\"14.00\" fill=\"#000000\">class = yes</text>\n</g>\n<!-- 2&#45;&gt;3 -->\n<g id=\"edge3\" class=\"edge\">\n<title>2&#45;&gt;3</title>\n<path fill=\"none\" stroke=\"#000000\" d=\"M662.3637,-1071.9715C626.148,-1056.0687 578.8438,-1035.2967 538.0286,-1017.3742\"/>\n<polygon fill=\"#000000\" stroke=\"#000000\" points=\"539.1806,-1014.0575 528.6172,-1013.2415 536.3661,-1020.4668 539.1806,-1014.0575\"/>\n</g>\n<!-- 22 -->\n<g id=\"node23\" class=\"node\">\n<title>22</title>\n<path fill=\"#f0b78e\" stroke=\"#000000\" d=\"M804,-1020C804,-1020 637,-1020 637,-1020 631,-1020 625,-1014 625,-1008 625,-1008 625,-949 625,-949 625,-943 631,-937 637,-937 637,-937 804,-937 804,-937 810,-937 816,-943 816,-949 816,-949 816,-1008 816,-1008 816,-1014 810,-1020 804,-1020\"/>\n<text text-anchor=\"start\" x=\"633\" y=\"-1004.8\" font-family=\"Helvetica,sans-Serif\" font-size=\"14.00\" fill=\"#000000\">EstimatedSalary ≤ 79500.0</text>\n<text text-anchor=\"start\" x=\"687\" y=\"-989.8\" font-family=\"Helvetica,sans-Serif\" font-size=\"14.00\" fill=\"#000000\">gini = 0.42</text>\n<text text-anchor=\"start\" x=\"676.5\" y=\"-974.8\" font-family=\"Helvetica,sans-Serif\" font-size=\"14.00\" fill=\"#000000\">samples = 10</text>\n<text text-anchor=\"start\" x=\"679\" y=\"-959.8\" font-family=\"Helvetica,sans-Serif\" font-size=\"14.00\" fill=\"#000000\">value = [7, 3]</text>\n<text text-anchor=\"start\" x=\"684\" y=\"-944.8\" font-family=\"Helvetica,sans-Serif\" font-size=\"14.00\" fill=\"#000000\">class = yes</text>\n</g>\n<!-- 2&#45;&gt;22 -->\n<g id=\"edge22\" class=\"edge\">\n<title>2&#45;&gt;22</title>\n<path fill=\"none\" stroke=\"#000000\" d=\"M720.5,-1055.8796C720.5,-1047.6838 720.5,-1038.9891 720.5,-1030.5013\"/>\n<polygon fill=\"#000000\" stroke=\"#000000\" points=\"724.0001,-1030.298 720.5,-1020.2981 717.0001,-1030.2981 724.0001,-1030.298\"/>\n</g>\n<!-- 4 -->\n<g id=\"node5\" class=\"node\">\n<title>4</title>\n<path fill=\"#eeab7b\" stroke=\"#000000\" d=\"M250,-901C250,-901 175,-901 175,-901 169,-901 163,-895 163,-889 163,-889 163,-830 163,-830 163,-824 169,-818 175,-818 175,-818 250,-818 250,-818 256,-818 262,-824 262,-830 262,-830 262,-889 262,-889 262,-895 256,-901 250,-901\"/>\n<text text-anchor=\"start\" x=\"177.5\" y=\"-885.8\" font-family=\"Helvetica,sans-Serif\" font-size=\"14.00\" fill=\"#000000\">Age ≤ 37.5</text>\n<text text-anchor=\"start\" x=\"174.5\" y=\"-870.8\" font-family=\"Helvetica,sans-Serif\" font-size=\"14.00\" fill=\"#000000\">gini = 0.375</text>\n<text text-anchor=\"start\" x=\"173\" y=\"-855.8\" font-family=\"Helvetica,sans-Serif\" font-size=\"14.00\" fill=\"#000000\">samples = 8</text>\n<text text-anchor=\"start\" x=\"171\" y=\"-840.8\" font-family=\"Helvetica,sans-Serif\" font-size=\"14.00\" fill=\"#000000\">value = [6, 2]</text>\n<text text-anchor=\"start\" x=\"176\" y=\"-825.8\" font-family=\"Helvetica,sans-Serif\" font-size=\"14.00\" fill=\"#000000\">class = yes</text>\n</g>\n<!-- 3&#45;&gt;4 -->\n<g id=\"edge4\" class=\"edge\">\n<title>3&#45;&gt;4</title>\n<path fill=\"none\" stroke=\"#000000\" d=\"M370.2529,-938.7093C337.9362,-922.4827 301.2284,-904.0514 271.359,-889.0537\"/>\n<polygon fill=\"#000000\" stroke=\"#000000\" points=\"272.8285,-885.8751 262.3212,-884.5157 269.6874,-892.1308 272.8285,-885.8751\"/>\n</g>\n<!-- 9 -->\n<g id=\"node10\" class=\"node\">\n<title>9</title>\n<path fill=\"#e5823b\" stroke=\"#000000\" d=\"M495.5,-901C495.5,-901 403.5,-901 403.5,-901 397.5,-901 391.5,-895 391.5,-889 391.5,-889 391.5,-830 391.5,-830 391.5,-824 397.5,-818 403.5,-818 403.5,-818 495.5,-818 495.5,-818 501.5,-818 507.5,-824 507.5,-830 507.5,-830 507.5,-889 507.5,-889 507.5,-895 501.5,-901 495.5,-901\"/>\n<text text-anchor=\"start\" x=\"414.5\" y=\"-885.8\" font-family=\"Helvetica,sans-Serif\" font-size=\"14.00\" fill=\"#000000\">Age ≤ 36.5</text>\n<text text-anchor=\"start\" x=\"411.5\" y=\"-870.8\" font-family=\"Helvetica,sans-Serif\" font-size=\"14.00\" fill=\"#000000\">gini = 0.022</text>\n<text text-anchor=\"start\" x=\"401.5\" y=\"-855.8\" font-family=\"Helvetica,sans-Serif\" font-size=\"14.00\" fill=\"#000000\">samples = 177</text>\n<text text-anchor=\"start\" x=\"399.5\" y=\"-840.8\" font-family=\"Helvetica,sans-Serif\" font-size=\"14.00\" fill=\"#000000\">value = [175, 2]</text>\n<text text-anchor=\"start\" x=\"413\" y=\"-825.8\" font-family=\"Helvetica,sans-Serif\" font-size=\"14.00\" fill=\"#000000\">class = yes</text>\n</g>\n<!-- 3&#45;&gt;9 -->\n<g id=\"edge9\" class=\"edge\">\n<title>3&#45;&gt;9</title>\n<path fill=\"none\" stroke=\"#000000\" d=\"M449.5,-936.8796C449.5,-928.6838 449.5,-919.9891 449.5,-911.5013\"/>\n<polygon fill=\"#000000\" stroke=\"#000000\" points=\"453.0001,-911.298 449.5,-901.2981 446.0001,-911.2981 453.0001,-911.298\"/>\n</g>\n<!-- 5 -->\n<g id=\"node6\" class=\"node\">\n<title>5</title>\n<path fill=\"#e58139\" stroke=\"#000000\" d=\"M87,-774.5C87,-774.5 12,-774.5 12,-774.5 6,-774.5 0,-768.5 0,-762.5 0,-762.5 0,-718.5 0,-718.5 0,-712.5 6,-706.5 12,-706.5 12,-706.5 87,-706.5 87,-706.5 93,-706.5 99,-712.5 99,-718.5 99,-718.5 99,-762.5 99,-762.5 99,-768.5 93,-774.5 87,-774.5\"/>\n<text text-anchor=\"start\" x=\"20\" y=\"-759.3\" font-family=\"Helvetica,sans-Serif\" font-size=\"14.00\" fill=\"#000000\">gini = 0.0</text>\n<text text-anchor=\"start\" x=\"10\" y=\"-744.3\" font-family=\"Helvetica,sans-Serif\" font-size=\"14.00\" fill=\"#000000\">samples = 5</text>\n<text text-anchor=\"start\" x=\"8\" y=\"-729.3\" font-family=\"Helvetica,sans-Serif\" font-size=\"14.00\" fill=\"#000000\">value = [5, 0]</text>\n<text text-anchor=\"start\" x=\"13\" y=\"-714.3\" font-family=\"Helvetica,sans-Serif\" font-size=\"14.00\" fill=\"#000000\">class = yes</text>\n</g>\n<!-- 4&#45;&gt;5 -->\n<g id=\"edge5\" class=\"edge\">\n<title>4&#45;&gt;5</title>\n<path fill=\"none\" stroke=\"#000000\" d=\"M162.7089,-823.1495C144.2775,-809.6934 123.2827,-794.3659 104.4208,-780.5955\"/>\n<polygon fill=\"#000000\" stroke=\"#000000\" points=\"106.3429,-777.6653 96.2024,-774.5956 102.2153,-783.319 106.3429,-777.6653\"/>\n</g>\n<!-- 6 -->\n<g id=\"node7\" class=\"node\">\n<title>6</title>\n<path fill=\"#9ccef2\" stroke=\"#000000\" d=\"M296,-782C296,-782 129,-782 129,-782 123,-782 117,-776 117,-770 117,-770 117,-711 117,-711 117,-705 123,-699 129,-699 129,-699 296,-699 296,-699 302,-699 308,-705 308,-711 308,-711 308,-770 308,-770 308,-776 302,-782 296,-782\"/>\n<text text-anchor=\"start\" x=\"125\" y=\"-766.8\" font-family=\"Helvetica,sans-Serif\" font-size=\"14.00\" fill=\"#000000\">EstimatedSalary ≤ 58000.0</text>\n<text text-anchor=\"start\" x=\"174.5\" y=\"-751.8\" font-family=\"Helvetica,sans-Serif\" font-size=\"14.00\" fill=\"#000000\">gini = 0.444</text>\n<text text-anchor=\"start\" x=\"173\" y=\"-736.8\" font-family=\"Helvetica,sans-Serif\" font-size=\"14.00\" fill=\"#000000\">samples = 3</text>\n<text text-anchor=\"start\" x=\"171\" y=\"-721.8\" font-family=\"Helvetica,sans-Serif\" font-size=\"14.00\" fill=\"#000000\">value = [1, 2]</text>\n<text text-anchor=\"start\" x=\"179\" y=\"-706.8\" font-family=\"Helvetica,sans-Serif\" font-size=\"14.00\" fill=\"#000000\">class = no</text>\n</g>\n<!-- 4&#45;&gt;6 -->\n<g id=\"edge6\" class=\"edge\">\n<title>4&#45;&gt;6</title>\n<path fill=\"none\" stroke=\"#000000\" d=\"M212.5,-817.8796C212.5,-809.6838 212.5,-800.9891 212.5,-792.5013\"/>\n<polygon fill=\"#000000\" stroke=\"#000000\" points=\"216.0001,-792.298 212.5,-782.2981 209.0001,-792.2981 216.0001,-792.298\"/>\n</g>\n<!-- 7 -->\n<g id=\"node8\" class=\"node\">\n<title>7</title>\n<path fill=\"#e58139\" stroke=\"#000000\" d=\"M178,-655.5C178,-655.5 103,-655.5 103,-655.5 97,-655.5 91,-649.5 91,-643.5 91,-643.5 91,-599.5 91,-599.5 91,-593.5 97,-587.5 103,-587.5 103,-587.5 178,-587.5 178,-587.5 184,-587.5 190,-593.5 190,-599.5 190,-599.5 190,-643.5 190,-643.5 190,-649.5 184,-655.5 178,-655.5\"/>\n<text text-anchor=\"start\" x=\"111\" y=\"-640.3\" font-family=\"Helvetica,sans-Serif\" font-size=\"14.00\" fill=\"#000000\">gini = 0.0</text>\n<text text-anchor=\"start\" x=\"101\" y=\"-625.3\" font-family=\"Helvetica,sans-Serif\" font-size=\"14.00\" fill=\"#000000\">samples = 1</text>\n<text text-anchor=\"start\" x=\"99\" y=\"-610.3\" font-family=\"Helvetica,sans-Serif\" font-size=\"14.00\" fill=\"#000000\">value = [1, 0]</text>\n<text text-anchor=\"start\" x=\"104\" y=\"-595.3\" font-family=\"Helvetica,sans-Serif\" font-size=\"14.00\" fill=\"#000000\">class = yes</text>\n</g>\n<!-- 6&#45;&gt;7 -->\n<g id=\"edge7\" class=\"edge\">\n<title>6&#45;&gt;7</title>\n<path fill=\"none\" stroke=\"#000000\" d=\"M187.3179,-698.8796C180.5983,-687.7735 173.3243,-675.7513 166.5586,-664.5691\"/>\n<polygon fill=\"#000000\" stroke=\"#000000\" points=\"169.4332,-662.5589 161.262,-655.8149 163.4441,-666.1826 169.4332,-662.5589\"/>\n</g>\n<!-- 8 -->\n<g id=\"node9\" class=\"node\">\n<title>8</title>\n<path fill=\"#399de5\" stroke=\"#000000\" d=\"M295,-655.5C295,-655.5 220,-655.5 220,-655.5 214,-655.5 208,-649.5 208,-643.5 208,-643.5 208,-599.5 208,-599.5 208,-593.5 214,-587.5 220,-587.5 220,-587.5 295,-587.5 295,-587.5 301,-587.5 307,-593.5 307,-599.5 307,-599.5 307,-643.5 307,-643.5 307,-649.5 301,-655.5 295,-655.5\"/>\n<text text-anchor=\"start\" x=\"228\" y=\"-640.3\" font-family=\"Helvetica,sans-Serif\" font-size=\"14.00\" fill=\"#000000\">gini = 0.0</text>\n<text text-anchor=\"start\" x=\"218\" y=\"-625.3\" font-family=\"Helvetica,sans-Serif\" font-size=\"14.00\" fill=\"#000000\">samples = 2</text>\n<text text-anchor=\"start\" x=\"216\" y=\"-610.3\" font-family=\"Helvetica,sans-Serif\" font-size=\"14.00\" fill=\"#000000\">value = [0, 2]</text>\n<text text-anchor=\"start\" x=\"224\" y=\"-595.3\" font-family=\"Helvetica,sans-Serif\" font-size=\"14.00\" fill=\"#000000\">class = no</text>\n</g>\n<!-- 6&#45;&gt;8 -->\n<g id=\"edge8\" class=\"edge\">\n<title>6&#45;&gt;8</title>\n<path fill=\"none\" stroke=\"#000000\" d=\"M228.2388,-698.8796C232.3554,-687.9935 236.8049,-676.227 240.9618,-665.2344\"/>\n<polygon fill=\"#000000\" stroke=\"#000000\" points=\"244.2604,-666.4065 244.5238,-655.8149 237.7129,-663.9305 244.2604,-666.4065\"/>\n</g>\n<!-- 10 -->\n<g id=\"node11\" class=\"node\">\n<title>10</title>\n<path fill=\"#e58139\" stroke=\"#000000\" d=\"M430.5,-774.5C430.5,-774.5 338.5,-774.5 338.5,-774.5 332.5,-774.5 326.5,-768.5 326.5,-762.5 326.5,-762.5 326.5,-718.5 326.5,-718.5 326.5,-712.5 332.5,-706.5 338.5,-706.5 338.5,-706.5 430.5,-706.5 430.5,-706.5 436.5,-706.5 442.5,-712.5 442.5,-718.5 442.5,-718.5 442.5,-762.5 442.5,-762.5 442.5,-768.5 436.5,-774.5 430.5,-774.5\"/>\n<text text-anchor=\"start\" x=\"355\" y=\"-759.3\" font-family=\"Helvetica,sans-Serif\" font-size=\"14.00\" fill=\"#000000\">gini = 0.0</text>\n<text text-anchor=\"start\" x=\"336.5\" y=\"-744.3\" font-family=\"Helvetica,sans-Serif\" font-size=\"14.00\" fill=\"#000000\">samples = 125</text>\n<text text-anchor=\"start\" x=\"334.5\" y=\"-729.3\" font-family=\"Helvetica,sans-Serif\" font-size=\"14.00\" fill=\"#000000\">value = [125, 0]</text>\n<text text-anchor=\"start\" x=\"348\" y=\"-714.3\" font-family=\"Helvetica,sans-Serif\" font-size=\"14.00\" fill=\"#000000\">class = yes</text>\n</g>\n<!-- 9&#45;&gt;10 -->\n<g id=\"edge10\" class=\"edge\">\n<title>9&#45;&gt;10</title>\n<path fill=\"none\" stroke=\"#000000\" d=\"M426.7662,-817.8796C420.7599,-806.8835 414.263,-794.9893 408.2067,-783.9015\"/>\n<polygon fill=\"#000000\" stroke=\"#000000\" points=\"411.1088,-781.9133 403.2435,-774.8149 404.9655,-785.2689 411.1088,-781.9133\"/>\n</g>\n<!-- 11 -->\n<g id=\"node12\" class=\"node\">\n<title>11</title>\n<path fill=\"#e68641\" stroke=\"#000000\" d=\"M556,-782C556,-782 473,-782 473,-782 467,-782 461,-776 461,-770 461,-770 461,-711 461,-711 461,-705 467,-699 473,-699 473,-699 556,-699 556,-699 562,-699 568,-705 568,-711 568,-711 568,-770 568,-770 568,-776 562,-782 556,-782\"/>\n<text text-anchor=\"start\" x=\"479.5\" y=\"-766.8\" font-family=\"Helvetica,sans-Serif\" font-size=\"14.00\" fill=\"#000000\">Age ≤ 37.5</text>\n<text text-anchor=\"start\" x=\"476.5\" y=\"-751.8\" font-family=\"Helvetica,sans-Serif\" font-size=\"14.00\" fill=\"#000000\">gini = 0.074</text>\n<text text-anchor=\"start\" x=\"470.5\" y=\"-736.8\" font-family=\"Helvetica,sans-Serif\" font-size=\"14.00\" fill=\"#000000\">samples = 52</text>\n<text text-anchor=\"start\" x=\"469\" y=\"-721.8\" font-family=\"Helvetica,sans-Serif\" font-size=\"14.00\" fill=\"#000000\">value = [50, 2]</text>\n<text text-anchor=\"start\" x=\"478\" y=\"-706.8\" font-family=\"Helvetica,sans-Serif\" font-size=\"14.00\" fill=\"#000000\">class = yes</text>\n</g>\n<!-- 9&#45;&gt;11 -->\n<g id=\"edge11\" class=\"edge\">\n<title>9&#45;&gt;11</title>\n<path fill=\"none\" stroke=\"#000000\" d=\"M472.2338,-817.8796C476.9565,-809.2335 481.9824,-800.0322 486.859,-791.1042\"/>\n<polygon fill=\"#000000\" stroke=\"#000000\" points=\"489.947,-792.752 491.6691,-782.2981 483.8037,-789.3964 489.947,-792.752\"/>\n</g>\n<!-- 12 -->\n<g id=\"node13\" class=\"node\">\n<title>12</title>\n<path fill=\"#ea9a61\" stroke=\"#000000\" d=\"M448,-663C448,-663 365,-663 365,-663 359,-663 353,-657 353,-651 353,-651 353,-592 353,-592 353,-586 359,-580 365,-580 365,-580 448,-580 448,-580 454,-580 460,-586 460,-592 460,-592 460,-651 460,-651 460,-657 454,-663 448,-663\"/>\n<text text-anchor=\"start\" x=\"364\" y=\"-647.8\" font-family=\"Helvetica,sans-Serif\" font-size=\"14.00\" fill=\"#000000\">Gender ≤ 0.5</text>\n<text text-anchor=\"start\" x=\"368.5\" y=\"-632.8\" font-family=\"Helvetica,sans-Serif\" font-size=\"14.00\" fill=\"#000000\">gini = 0.278</text>\n<text text-anchor=\"start\" x=\"362.5\" y=\"-617.8\" font-family=\"Helvetica,sans-Serif\" font-size=\"14.00\" fill=\"#000000\">samples = 12</text>\n<text text-anchor=\"start\" x=\"361\" y=\"-602.8\" font-family=\"Helvetica,sans-Serif\" font-size=\"14.00\" fill=\"#000000\">value = [10, 2]</text>\n<text text-anchor=\"start\" x=\"370\" y=\"-587.8\" font-family=\"Helvetica,sans-Serif\" font-size=\"14.00\" fill=\"#000000\">class = yes</text>\n</g>\n<!-- 11&#45;&gt;12 -->\n<g id=\"edge12\" class=\"edge\">\n<title>11&#45;&gt;12</title>\n<path fill=\"none\" stroke=\"#000000\" d=\"M476.7268,-698.8796C468.4713,-689.7832 459.658,-680.0722 451.1626,-670.7116\"/>\n<polygon fill=\"#000000\" stroke=\"#000000\" points=\"453.7467,-668.3509 444.4344,-663.2981 448.5632,-673.0553 453.7467,-668.3509\"/>\n</g>\n<!-- 21 -->\n<g id=\"node22\" class=\"node\">\n<title>21</title>\n<path fill=\"#e58139\" stroke=\"#000000\" d=\"M573,-655.5C573,-655.5 490,-655.5 490,-655.5 484,-655.5 478,-649.5 478,-643.5 478,-643.5 478,-599.5 478,-599.5 478,-593.5 484,-587.5 490,-587.5 490,-587.5 573,-587.5 573,-587.5 579,-587.5 585,-593.5 585,-599.5 585,-599.5 585,-643.5 585,-643.5 585,-649.5 579,-655.5 573,-655.5\"/>\n<text text-anchor=\"start\" x=\"502\" y=\"-640.3\" font-family=\"Helvetica,sans-Serif\" font-size=\"14.00\" fill=\"#000000\">gini = 0.0</text>\n<text text-anchor=\"start\" x=\"487.5\" y=\"-625.3\" font-family=\"Helvetica,sans-Serif\" font-size=\"14.00\" fill=\"#000000\">samples = 40</text>\n<text text-anchor=\"start\" x=\"486\" y=\"-610.3\" font-family=\"Helvetica,sans-Serif\" font-size=\"14.00\" fill=\"#000000\">value = [40, 0]</text>\n<text text-anchor=\"start\" x=\"495\" y=\"-595.3\" font-family=\"Helvetica,sans-Serif\" font-size=\"14.00\" fill=\"#000000\">class = yes</text>\n</g>\n<!-- 11&#45;&gt;21 -->\n<g id=\"edge21\" class=\"edge\">\n<title>11&#45;&gt;21</title>\n<path fill=\"none\" stroke=\"#000000\" d=\"M520.4458,-698.8796C521.9695,-688.2134 523.614,-676.7021 525.1569,-665.9015\"/>\n<polygon fill=\"#000000\" stroke=\"#000000\" points=\"528.6484,-666.2094 526.5979,-655.8149 521.7187,-665.2194 528.6484,-666.2094\"/>\n</g>\n<!-- 13 -->\n<g id=\"node14\" class=\"node\">\n<title>13</title>\n<path fill=\"#e58139\" stroke=\"#000000\" d=\"M371,-536.5C371,-536.5 296,-536.5 296,-536.5 290,-536.5 284,-530.5 284,-524.5 284,-524.5 284,-480.5 284,-480.5 284,-474.5 290,-468.5 296,-468.5 296,-468.5 371,-468.5 371,-468.5 377,-468.5 383,-474.5 383,-480.5 383,-480.5 383,-524.5 383,-524.5 383,-530.5 377,-536.5 371,-536.5\"/>\n<text text-anchor=\"start\" x=\"304\" y=\"-521.3\" font-family=\"Helvetica,sans-Serif\" font-size=\"14.00\" fill=\"#000000\">gini = 0.0</text>\n<text text-anchor=\"start\" x=\"294\" y=\"-506.3\" font-family=\"Helvetica,sans-Serif\" font-size=\"14.00\" fill=\"#000000\">samples = 6</text>\n<text text-anchor=\"start\" x=\"292\" y=\"-491.3\" font-family=\"Helvetica,sans-Serif\" font-size=\"14.00\" fill=\"#000000\">value = [6, 0]</text>\n<text text-anchor=\"start\" x=\"297\" y=\"-476.3\" font-family=\"Helvetica,sans-Serif\" font-size=\"14.00\" fill=\"#000000\">class = yes</text>\n</g>\n<!-- 12&#45;&gt;13 -->\n<g id=\"edge13\" class=\"edge\">\n<title>12&#45;&gt;13</title>\n<path fill=\"none\" stroke=\"#000000\" d=\"M380.9681,-579.8796C374.1552,-568.7735 366.7802,-556.7513 359.9206,-545.5691\"/>\n<polygon fill=\"#000000\" stroke=\"#000000\" points=\"362.7628,-543.5087 354.5503,-536.8149 356.796,-547.1691 362.7628,-543.5087\"/>\n</g>\n<!-- 14 -->\n<g id=\"node15\" class=\"node\">\n<title>14</title>\n<path fill=\"#f2c09c\" stroke=\"#000000\" d=\"M547.5,-544C547.5,-544 413.5,-544 413.5,-544 407.5,-544 401.5,-538 401.5,-532 401.5,-532 401.5,-473 401.5,-473 401.5,-467 407.5,-461 413.5,-461 413.5,-461 547.5,-461 547.5,-461 553.5,-461 559.5,-467 559.5,-473 559.5,-473 559.5,-532 559.5,-532 559.5,-538 553.5,-544 547.5,-544\"/>\n<text text-anchor=\"start\" x=\"409.5\" y=\"-528.8\" font-family=\"Helvetica,sans-Serif\" font-size=\"14.00\" fill=\"#000000\">User ID ≤ 15629882.0</text>\n<text text-anchor=\"start\" x=\"442.5\" y=\"-513.8\" font-family=\"Helvetica,sans-Serif\" font-size=\"14.00\" fill=\"#000000\">gini = 0.444</text>\n<text text-anchor=\"start\" x=\"441\" y=\"-498.8\" font-family=\"Helvetica,sans-Serif\" font-size=\"14.00\" fill=\"#000000\">samples = 6</text>\n<text text-anchor=\"start\" x=\"439\" y=\"-483.8\" font-family=\"Helvetica,sans-Serif\" font-size=\"14.00\" fill=\"#000000\">value = [4, 2]</text>\n<text text-anchor=\"start\" x=\"444\" y=\"-468.8\" font-family=\"Helvetica,sans-Serif\" font-size=\"14.00\" fill=\"#000000\">class = yes</text>\n</g>\n<!-- 12&#45;&gt;14 -->\n<g id=\"edge14\" class=\"edge\">\n<title>12&#45;&gt;14</title>\n<path fill=\"none\" stroke=\"#000000\" d=\"M432.3816,-579.8796C437.8142,-571.1434 443.5992,-561.8404 449.2053,-552.8253\"/>\n<polygon fill=\"#000000\" stroke=\"#000000\" points=\"452.1993,-554.6383 454.5079,-544.2981 446.2549,-550.9418 452.1993,-554.6383\"/>\n</g>\n<!-- 15 -->\n<g id=\"node16\" class=\"node\">\n<title>15</title>\n<path fill=\"#e58139\" stroke=\"#000000\" d=\"M445,-417.5C445,-417.5 370,-417.5 370,-417.5 364,-417.5 358,-411.5 358,-405.5 358,-405.5 358,-361.5 358,-361.5 358,-355.5 364,-349.5 370,-349.5 370,-349.5 445,-349.5 445,-349.5 451,-349.5 457,-355.5 457,-361.5 457,-361.5 457,-405.5 457,-405.5 457,-411.5 451,-417.5 445,-417.5\"/>\n<text text-anchor=\"start\" x=\"378\" y=\"-402.3\" font-family=\"Helvetica,sans-Serif\" font-size=\"14.00\" fill=\"#000000\">gini = 0.0</text>\n<text text-anchor=\"start\" x=\"368\" y=\"-387.3\" font-family=\"Helvetica,sans-Serif\" font-size=\"14.00\" fill=\"#000000\">samples = 3</text>\n<text text-anchor=\"start\" x=\"366\" y=\"-372.3\" font-family=\"Helvetica,sans-Serif\" font-size=\"14.00\" fill=\"#000000\">value = [3, 0]</text>\n<text text-anchor=\"start\" x=\"371\" y=\"-357.3\" font-family=\"Helvetica,sans-Serif\" font-size=\"14.00\" fill=\"#000000\">class = yes</text>\n</g>\n<!-- 14&#45;&gt;15 -->\n<g id=\"edge15\" class=\"edge\">\n<title>14&#45;&gt;15</title>\n<path fill=\"none\" stroke=\"#000000\" d=\"M454.9681,-460.8796C448.1552,-449.7735 440.7802,-437.7513 433.9206,-426.5691\"/>\n<polygon fill=\"#000000\" stroke=\"#000000\" points=\"436.7628,-424.5087 428.5503,-417.8149 430.796,-428.1691 436.7628,-424.5087\"/>\n</g>\n<!-- 16 -->\n<g id=\"node17\" class=\"node\">\n<title>16</title>\n<path fill=\"#9ccef2\" stroke=\"#000000\" d=\"M621.5,-425C621.5,-425 487.5,-425 487.5,-425 481.5,-425 475.5,-419 475.5,-413 475.5,-413 475.5,-354 475.5,-354 475.5,-348 481.5,-342 487.5,-342 487.5,-342 621.5,-342 621.5,-342 627.5,-342 633.5,-348 633.5,-354 633.5,-354 633.5,-413 633.5,-413 633.5,-419 627.5,-425 621.5,-425\"/>\n<text text-anchor=\"start\" x=\"483.5\" y=\"-409.8\" font-family=\"Helvetica,sans-Serif\" font-size=\"14.00\" fill=\"#000000\">User ID ≤ 15689321.0</text>\n<text text-anchor=\"start\" x=\"516.5\" y=\"-394.8\" font-family=\"Helvetica,sans-Serif\" font-size=\"14.00\" fill=\"#000000\">gini = 0.444</text>\n<text text-anchor=\"start\" x=\"515\" y=\"-379.8\" font-family=\"Helvetica,sans-Serif\" font-size=\"14.00\" fill=\"#000000\">samples = 3</text>\n<text text-anchor=\"start\" x=\"513\" y=\"-364.8\" font-family=\"Helvetica,sans-Serif\" font-size=\"14.00\" fill=\"#000000\">value = [1, 2]</text>\n<text text-anchor=\"start\" x=\"521\" y=\"-349.8\" font-family=\"Helvetica,sans-Serif\" font-size=\"14.00\" fill=\"#000000\">class = no</text>\n</g>\n<!-- 14&#45;&gt;16 -->\n<g id=\"edge16\" class=\"edge\">\n<title>14&#45;&gt;16</title>\n<path fill=\"none\" stroke=\"#000000\" d=\"M506.3816,-460.8796C511.8142,-452.1434 517.5992,-442.8404 523.2053,-433.8253\"/>\n<polygon fill=\"#000000\" stroke=\"#000000\" points=\"526.1993,-435.6383 528.5079,-425.2981 520.2549,-431.9418 526.1993,-435.6383\"/>\n</g>\n<!-- 17 -->\n<g id=\"node18\" class=\"node\">\n<title>17</title>\n<path fill=\"#399de5\" stroke=\"#000000\" d=\"M511,-298.5C511,-298.5 436,-298.5 436,-298.5 430,-298.5 424,-292.5 424,-286.5 424,-286.5 424,-242.5 424,-242.5 424,-236.5 430,-230.5 436,-230.5 436,-230.5 511,-230.5 511,-230.5 517,-230.5 523,-236.5 523,-242.5 523,-242.5 523,-286.5 523,-286.5 523,-292.5 517,-298.5 511,-298.5\"/>\n<text text-anchor=\"start\" x=\"444\" y=\"-283.3\" font-family=\"Helvetica,sans-Serif\" font-size=\"14.00\" fill=\"#000000\">gini = 0.0</text>\n<text text-anchor=\"start\" x=\"434\" y=\"-268.3\" font-family=\"Helvetica,sans-Serif\" font-size=\"14.00\" fill=\"#000000\">samples = 1</text>\n<text text-anchor=\"start\" x=\"432\" y=\"-253.3\" font-family=\"Helvetica,sans-Serif\" font-size=\"14.00\" fill=\"#000000\">value = [0, 1]</text>\n<text text-anchor=\"start\" x=\"440\" y=\"-238.3\" font-family=\"Helvetica,sans-Serif\" font-size=\"14.00\" fill=\"#000000\">class = no</text>\n</g>\n<!-- 16&#45;&gt;17 -->\n<g id=\"edge17\" class=\"edge\">\n<title>16&#45;&gt;17</title>\n<path fill=\"none\" stroke=\"#000000\" d=\"M526.1701,-341.8796C518.5357,-330.6636 510.2652,-318.5131 502.5901,-307.2372\"/>\n<polygon fill=\"#000000\" stroke=\"#000000\" points=\"505.3775,-305.1122 496.8572,-298.8149 499.5908,-309.0511 505.3775,-305.1122\"/>\n</g>\n<!-- 18 -->\n<g id=\"node19\" class=\"node\">\n<title>18</title>\n<path fill=\"#ffffff\" stroke=\"#000000\" d=\"M720,-306C720,-306 553,-306 553,-306 547,-306 541,-300 541,-294 541,-294 541,-235 541,-235 541,-229 547,-223 553,-223 553,-223 720,-223 720,-223 726,-223 732,-229 732,-235 732,-235 732,-294 732,-294 732,-300 726,-306 720,-306\"/>\n<text text-anchor=\"start\" x=\"549\" y=\"-290.8\" font-family=\"Helvetica,sans-Serif\" font-size=\"14.00\" fill=\"#000000\">EstimatedSalary ≤ 71000.0</text>\n<text text-anchor=\"start\" x=\"607\" y=\"-275.8\" font-family=\"Helvetica,sans-Serif\" font-size=\"14.00\" fill=\"#000000\">gini = 0.5</text>\n<text text-anchor=\"start\" x=\"597\" y=\"-260.8\" font-family=\"Helvetica,sans-Serif\" font-size=\"14.00\" fill=\"#000000\">samples = 2</text>\n<text text-anchor=\"start\" x=\"595\" y=\"-245.8\" font-family=\"Helvetica,sans-Serif\" font-size=\"14.00\" fill=\"#000000\">value = [1, 1]</text>\n<text text-anchor=\"start\" x=\"600\" y=\"-230.8\" font-family=\"Helvetica,sans-Serif\" font-size=\"14.00\" fill=\"#000000\">class = yes</text>\n</g>\n<!-- 16&#45;&gt;18 -->\n<g id=\"edge18\" class=\"edge\">\n<title>16&#45;&gt;18</title>\n<path fill=\"none\" stroke=\"#000000\" d=\"M583.1796,-341.8796C589.2615,-333.0534 595.7422,-323.6485 602.0141,-314.5466\"/>\n<polygon fill=\"#000000\" stroke=\"#000000\" points=\"604.9059,-316.5184 607.698,-306.2981 599.1418,-312.5465 604.9059,-316.5184\"/>\n</g>\n<!-- 19 -->\n<g id=\"node20\" class=\"node\">\n<title>19</title>\n<path fill=\"#399de5\" stroke=\"#000000\" d=\"M616,-179.5C616,-179.5 541,-179.5 541,-179.5 535,-179.5 529,-173.5 529,-167.5 529,-167.5 529,-123.5 529,-123.5 529,-117.5 535,-111.5 541,-111.5 541,-111.5 616,-111.5 616,-111.5 622,-111.5 628,-117.5 628,-123.5 628,-123.5 628,-167.5 628,-167.5 628,-173.5 622,-179.5 616,-179.5\"/>\n<text text-anchor=\"start\" x=\"549\" y=\"-164.3\" font-family=\"Helvetica,sans-Serif\" font-size=\"14.00\" fill=\"#000000\">gini = 0.0</text>\n<text text-anchor=\"start\" x=\"539\" y=\"-149.3\" font-family=\"Helvetica,sans-Serif\" font-size=\"14.00\" fill=\"#000000\">samples = 1</text>\n<text text-anchor=\"start\" x=\"537\" y=\"-134.3\" font-family=\"Helvetica,sans-Serif\" font-size=\"14.00\" fill=\"#000000\">value = [0, 1]</text>\n<text text-anchor=\"start\" x=\"545\" y=\"-119.3\" font-family=\"Helvetica,sans-Serif\" font-size=\"14.00\" fill=\"#000000\">class = no</text>\n</g>\n<!-- 18&#45;&gt;19 -->\n<g id=\"edge19\" class=\"edge\">\n<title>18&#45;&gt;19</title>\n<path fill=\"none\" stroke=\"#000000\" d=\"M616.2144,-222.8796C610.855,-211.8835 605.0578,-199.9893 599.6537,-188.9015\"/>\n<polygon fill=\"#000000\" stroke=\"#000000\" points=\"602.7524,-187.2706 595.2249,-179.8149 596.46,-190.3375 602.7524,-187.2706\"/>\n</g>\n<!-- 20 -->\n<g id=\"node21\" class=\"node\">\n<title>20</title>\n<path fill=\"#e58139\" stroke=\"#000000\" d=\"M733,-179.5C733,-179.5 658,-179.5 658,-179.5 652,-179.5 646,-173.5 646,-167.5 646,-167.5 646,-123.5 646,-123.5 646,-117.5 652,-111.5 658,-111.5 658,-111.5 733,-111.5 733,-111.5 739,-111.5 745,-117.5 745,-123.5 745,-123.5 745,-167.5 745,-167.5 745,-173.5 739,-179.5 733,-179.5\"/>\n<text text-anchor=\"start\" x=\"666\" y=\"-164.3\" font-family=\"Helvetica,sans-Serif\" font-size=\"14.00\" fill=\"#000000\">gini = 0.0</text>\n<text text-anchor=\"start\" x=\"656\" y=\"-149.3\" font-family=\"Helvetica,sans-Serif\" font-size=\"14.00\" fill=\"#000000\">samples = 1</text>\n<text text-anchor=\"start\" x=\"654\" y=\"-134.3\" font-family=\"Helvetica,sans-Serif\" font-size=\"14.00\" fill=\"#000000\">value = [1, 0]</text>\n<text text-anchor=\"start\" x=\"659\" y=\"-119.3\" font-family=\"Helvetica,sans-Serif\" font-size=\"14.00\" fill=\"#000000\">class = yes</text>\n</g>\n<!-- 18&#45;&gt;20 -->\n<g id=\"edge20\" class=\"edge\">\n<title>18&#45;&gt;20</title>\n<path fill=\"none\" stroke=\"#000000\" d=\"M657.1353,-222.8796C662.5872,-211.8835 668.4843,-199.9893 673.9816,-188.9015\"/>\n<polygon fill=\"#000000\" stroke=\"#000000\" points=\"677.1804,-190.3289 678.4867,-179.8149 670.9089,-187.2195 677.1804,-190.3289\"/>\n</g>\n<!-- 23 -->\n<g id=\"node24\" class=\"node\">\n<title>23</title>\n<path fill=\"#e99355\" stroke=\"#000000\" d=\"M748.5,-901C748.5,-901 614.5,-901 614.5,-901 608.5,-901 602.5,-895 602.5,-889 602.5,-889 602.5,-830 602.5,-830 602.5,-824 608.5,-818 614.5,-818 614.5,-818 748.5,-818 748.5,-818 754.5,-818 760.5,-824 760.5,-830 760.5,-830 760.5,-889 760.5,-889 760.5,-895 754.5,-901 748.5,-901\"/>\n<text text-anchor=\"start\" x=\"610.5\" y=\"-885.8\" font-family=\"Helvetica,sans-Serif\" font-size=\"14.00\" fill=\"#000000\">User ID ≤ 15691361.0</text>\n<text text-anchor=\"start\" x=\"643.5\" y=\"-870.8\" font-family=\"Helvetica,sans-Serif\" font-size=\"14.00\" fill=\"#000000\">gini = 0.219</text>\n<text text-anchor=\"start\" x=\"642\" y=\"-855.8\" font-family=\"Helvetica,sans-Serif\" font-size=\"14.00\" fill=\"#000000\">samples = 8</text>\n<text text-anchor=\"start\" x=\"640\" y=\"-840.8\" font-family=\"Helvetica,sans-Serif\" font-size=\"14.00\" fill=\"#000000\">value = [7, 1]</text>\n<text text-anchor=\"start\" x=\"645\" y=\"-825.8\" font-family=\"Helvetica,sans-Serif\" font-size=\"14.00\" fill=\"#000000\">class = yes</text>\n</g>\n<!-- 22&#45;&gt;23 -->\n<g id=\"edge23\" class=\"edge\">\n<title>22&#45;&gt;23</title>\n<path fill=\"none\" stroke=\"#000000\" d=\"M706.8597,-936.8796C704.1147,-928.5037 701.1988,-919.6067 698.3591,-910.942\"/>\n<polygon fill=\"#000000\" stroke=\"#000000\" points=\"701.6389,-909.7107 695.1985,-901.2981 694.987,-911.8908 701.6389,-909.7107\"/>\n</g>\n<!-- 28 -->\n<g id=\"node29\" class=\"node\">\n<title>28</title>\n<path fill=\"#399de5\" stroke=\"#000000\" d=\"M866,-893.5C866,-893.5 791,-893.5 791,-893.5 785,-893.5 779,-887.5 779,-881.5 779,-881.5 779,-837.5 779,-837.5 779,-831.5 785,-825.5 791,-825.5 791,-825.5 866,-825.5 866,-825.5 872,-825.5 878,-831.5 878,-837.5 878,-837.5 878,-881.5 878,-881.5 878,-887.5 872,-893.5 866,-893.5\"/>\n<text text-anchor=\"start\" x=\"799\" y=\"-878.3\" font-family=\"Helvetica,sans-Serif\" font-size=\"14.00\" fill=\"#000000\">gini = 0.0</text>\n<text text-anchor=\"start\" x=\"789\" y=\"-863.3\" font-family=\"Helvetica,sans-Serif\" font-size=\"14.00\" fill=\"#000000\">samples = 2</text>\n<text text-anchor=\"start\" x=\"787\" y=\"-848.3\" font-family=\"Helvetica,sans-Serif\" font-size=\"14.00\" fill=\"#000000\">value = [0, 2]</text>\n<text text-anchor=\"start\" x=\"795\" y=\"-833.3\" font-family=\"Helvetica,sans-Serif\" font-size=\"14.00\" fill=\"#000000\">class = no</text>\n</g>\n<!-- 22&#45;&gt;28 -->\n<g id=\"edge28\" class=\"edge\">\n<title>22&#45;&gt;28</title>\n<path fill=\"none\" stroke=\"#000000\" d=\"M758.2732,-936.8796C768.7518,-925.3337 780.1291,-912.7976 790.6141,-901.2446\"/>\n<polygon fill=\"#000000\" stroke=\"#000000\" points=\"793.2282,-903.5722 797.357,-893.8149 788.0447,-898.8678 793.2282,-903.5722\"/>\n</g>\n<!-- 24 -->\n<g id=\"node25\" class=\"node\">\n<title>24</title>\n<path fill=\"#ffffff\" stroke=\"#000000\" d=\"M765,-782C765,-782 598,-782 598,-782 592,-782 586,-776 586,-770 586,-770 586,-711 586,-711 586,-705 592,-699 598,-699 598,-699 765,-699 765,-699 771,-699 777,-705 777,-711 777,-711 777,-770 777,-770 777,-776 771,-782 765,-782\"/>\n<text text-anchor=\"start\" x=\"594\" y=\"-766.8\" font-family=\"Helvetica,sans-Serif\" font-size=\"14.00\" fill=\"#000000\">EstimatedSalary ≤ 69000.0</text>\n<text text-anchor=\"start\" x=\"652\" y=\"-751.8\" font-family=\"Helvetica,sans-Serif\" font-size=\"14.00\" fill=\"#000000\">gini = 0.5</text>\n<text text-anchor=\"start\" x=\"642\" y=\"-736.8\" font-family=\"Helvetica,sans-Serif\" font-size=\"14.00\" fill=\"#000000\">samples = 2</text>\n<text text-anchor=\"start\" x=\"640\" y=\"-721.8\" font-family=\"Helvetica,sans-Serif\" font-size=\"14.00\" fill=\"#000000\">value = [1, 1]</text>\n<text text-anchor=\"start\" x=\"645\" y=\"-706.8\" font-family=\"Helvetica,sans-Serif\" font-size=\"14.00\" fill=\"#000000\">class = yes</text>\n</g>\n<!-- 23&#45;&gt;24 -->\n<g id=\"edge24\" class=\"edge\">\n<title>23&#45;&gt;24</title>\n<path fill=\"none\" stroke=\"#000000\" d=\"M681.5,-817.8796C681.5,-809.6838 681.5,-800.9891 681.5,-792.5013\"/>\n<polygon fill=\"#000000\" stroke=\"#000000\" points=\"685.0001,-792.298 681.5,-782.2981 678.0001,-792.2981 685.0001,-792.298\"/>\n</g>\n<!-- 27 -->\n<g id=\"node28\" class=\"node\">\n<title>27</title>\n<path fill=\"#e58139\" stroke=\"#000000\" d=\"M882,-774.5C882,-774.5 807,-774.5 807,-774.5 801,-774.5 795,-768.5 795,-762.5 795,-762.5 795,-718.5 795,-718.5 795,-712.5 801,-706.5 807,-706.5 807,-706.5 882,-706.5 882,-706.5 888,-706.5 894,-712.5 894,-718.5 894,-718.5 894,-762.5 894,-762.5 894,-768.5 888,-774.5 882,-774.5\"/>\n<text text-anchor=\"start\" x=\"815\" y=\"-759.3\" font-family=\"Helvetica,sans-Serif\" font-size=\"14.00\" fill=\"#000000\">gini = 0.0</text>\n<text text-anchor=\"start\" x=\"805\" y=\"-744.3\" font-family=\"Helvetica,sans-Serif\" font-size=\"14.00\" fill=\"#000000\">samples = 6</text>\n<text text-anchor=\"start\" x=\"803\" y=\"-729.3\" font-family=\"Helvetica,sans-Serif\" font-size=\"14.00\" fill=\"#000000\">value = [6, 0]</text>\n<text text-anchor=\"start\" x=\"808\" y=\"-714.3\" font-family=\"Helvetica,sans-Serif\" font-size=\"14.00\" fill=\"#000000\">class = yes</text>\n</g>\n<!-- 23&#45;&gt;27 -->\n<g id=\"edge27\" class=\"edge\">\n<title>23&#45;&gt;27</title>\n<path fill=\"none\" stroke=\"#000000\" d=\"M738.5095,-817.8796C755.0051,-805.8368 772.9763,-792.7167 789.3559,-780.7586\"/>\n<polygon fill=\"#000000\" stroke=\"#000000\" points=\"791.7472,-783.3463 797.76,-774.623 787.6196,-777.6927 791.7472,-783.3463\"/>\n</g>\n<!-- 25 -->\n<g id=\"node26\" class=\"node\">\n<title>25</title>\n<path fill=\"#e58139\" stroke=\"#000000\" d=\"M702,-655.5C702,-655.5 627,-655.5 627,-655.5 621,-655.5 615,-649.5 615,-643.5 615,-643.5 615,-599.5 615,-599.5 615,-593.5 621,-587.5 627,-587.5 627,-587.5 702,-587.5 702,-587.5 708,-587.5 714,-593.5 714,-599.5 714,-599.5 714,-643.5 714,-643.5 714,-649.5 708,-655.5 702,-655.5\"/>\n<text text-anchor=\"start\" x=\"635\" y=\"-640.3\" font-family=\"Helvetica,sans-Serif\" font-size=\"14.00\" fill=\"#000000\">gini = 0.0</text>\n<text text-anchor=\"start\" x=\"625\" y=\"-625.3\" font-family=\"Helvetica,sans-Serif\" font-size=\"14.00\" fill=\"#000000\">samples = 1</text>\n<text text-anchor=\"start\" x=\"623\" y=\"-610.3\" font-family=\"Helvetica,sans-Serif\" font-size=\"14.00\" fill=\"#000000\">value = [1, 0]</text>\n<text text-anchor=\"start\" x=\"628\" y=\"-595.3\" font-family=\"Helvetica,sans-Serif\" font-size=\"14.00\" fill=\"#000000\">class = yes</text>\n</g>\n<!-- 24&#45;&gt;25 -->\n<g id=\"edge25\" class=\"edge\">\n<title>24&#45;&gt;25</title>\n<path fill=\"none\" stroke=\"#000000\" d=\"M675.5542,-698.8796C674.0305,-688.2134 672.386,-676.7021 670.8431,-665.9015\"/>\n<polygon fill=\"#000000\" stroke=\"#000000\" points=\"674.2813,-665.2194 669.4021,-655.8149 667.3516,-666.2094 674.2813,-665.2194\"/>\n</g>\n<!-- 26 -->\n<g id=\"node27\" class=\"node\">\n<title>26</title>\n<path fill=\"#399de5\" stroke=\"#000000\" d=\"M819,-655.5C819,-655.5 744,-655.5 744,-655.5 738,-655.5 732,-649.5 732,-643.5 732,-643.5 732,-599.5 732,-599.5 732,-593.5 738,-587.5 744,-587.5 744,-587.5 819,-587.5 819,-587.5 825,-587.5 831,-593.5 831,-599.5 831,-599.5 831,-643.5 831,-643.5 831,-649.5 825,-655.5 819,-655.5\"/>\n<text text-anchor=\"start\" x=\"752\" y=\"-640.3\" font-family=\"Helvetica,sans-Serif\" font-size=\"14.00\" fill=\"#000000\">gini = 0.0</text>\n<text text-anchor=\"start\" x=\"742\" y=\"-625.3\" font-family=\"Helvetica,sans-Serif\" font-size=\"14.00\" fill=\"#000000\">samples = 1</text>\n<text text-anchor=\"start\" x=\"740\" y=\"-610.3\" font-family=\"Helvetica,sans-Serif\" font-size=\"14.00\" fill=\"#000000\">value = [0, 1]</text>\n<text text-anchor=\"start\" x=\"748\" y=\"-595.3\" font-family=\"Helvetica,sans-Serif\" font-size=\"14.00\" fill=\"#000000\">class = no</text>\n</g>\n<!-- 24&#45;&gt;26 -->\n<g id=\"edge26\" class=\"edge\">\n<title>24&#45;&gt;26</title>\n<path fill=\"none\" stroke=\"#000000\" d=\"M716.4751,-698.8796C726.0852,-687.4436 736.5115,-675.0363 746.1429,-663.575\"/>\n<polygon fill=\"#000000\" stroke=\"#000000\" points=\"748.91,-665.7225 752.6639,-655.8149 743.5509,-661.219 748.91,-665.7225\"/>\n</g>\n<!-- 30 -->\n<g id=\"node31\" class=\"node\">\n<title>30</title>\n<path fill=\"#6fb8ec\" stroke=\"#000000\" d=\"M1033,-1020C1033,-1020 858,-1020 858,-1020 852,-1020 846,-1014 846,-1008 846,-1008 846,-949 846,-949 846,-943 852,-937 858,-937 858,-937 1033,-937 1033,-937 1039,-937 1045,-943 1045,-949 1045,-949 1045,-1008 1045,-1008 1045,-1014 1039,-1020 1033,-1020\"/>\n<text text-anchor=\"start\" x=\"854\" y=\"-1004.8\" font-family=\"Helvetica,sans-Serif\" font-size=\"14.00\" fill=\"#000000\">EstimatedSalary ≤ 110000.0</text>\n<text text-anchor=\"start\" x=\"907.5\" y=\"-989.8\" font-family=\"Helvetica,sans-Serif\" font-size=\"14.00\" fill=\"#000000\">gini = 0.337</text>\n<text text-anchor=\"start\" x=\"901.5\" y=\"-974.8\" font-family=\"Helvetica,sans-Serif\" font-size=\"14.00\" fill=\"#000000\">samples = 14</text>\n<text text-anchor=\"start\" x=\"900\" y=\"-959.8\" font-family=\"Helvetica,sans-Serif\" font-size=\"14.00\" fill=\"#000000\">value = [3, 11]</text>\n<text text-anchor=\"start\" x=\"912\" y=\"-944.8\" font-family=\"Helvetica,sans-Serif\" font-size=\"14.00\" fill=\"#000000\">class = no</text>\n</g>\n<!-- 29&#45;&gt;30 -->\n<g id=\"edge30\" class=\"edge\">\n<title>29&#45;&gt;30</title>\n<path fill=\"none\" stroke=\"#000000\" d=\"M980.6134,-1055.8796C976.7717,-1047.4136 972.6885,-1038.4153 968.7166,-1029.6626\"/>\n<polygon fill=\"#000000\" stroke=\"#000000\" points=\"971.7867,-1027.9581 964.4672,-1020.2981 965.4123,-1030.8507 971.7867,-1027.9581\"/>\n</g>\n<!-- 41 -->\n<g id=\"node42\" class=\"node\">\n<title>41</title>\n<path fill=\"#399de5\" stroke=\"#000000\" d=\"M1158,-1012.5C1158,-1012.5 1075,-1012.5 1075,-1012.5 1069,-1012.5 1063,-1006.5 1063,-1000.5 1063,-1000.5 1063,-956.5 1063,-956.5 1063,-950.5 1069,-944.5 1075,-944.5 1075,-944.5 1158,-944.5 1158,-944.5 1164,-944.5 1170,-950.5 1170,-956.5 1170,-956.5 1170,-1000.5 1170,-1000.5 1170,-1006.5 1164,-1012.5 1158,-1012.5\"/>\n<text text-anchor=\"start\" x=\"1087\" y=\"-997.3\" font-family=\"Helvetica,sans-Serif\" font-size=\"14.00\" fill=\"#000000\">gini = 0.0</text>\n<text text-anchor=\"start\" x=\"1072.5\" y=\"-982.3\" font-family=\"Helvetica,sans-Serif\" font-size=\"14.00\" fill=\"#000000\">samples = 17</text>\n<text text-anchor=\"start\" x=\"1071\" y=\"-967.3\" font-family=\"Helvetica,sans-Serif\" font-size=\"14.00\" fill=\"#000000\">value = [0, 17]</text>\n<text text-anchor=\"start\" x=\"1083\" y=\"-952.3\" font-family=\"Helvetica,sans-Serif\" font-size=\"14.00\" fill=\"#000000\">class = no</text>\n</g>\n<!-- 29&#45;&gt;41 -->\n<g id=\"edge41\" class=\"edge\">\n<title>29&#45;&gt;41</title>\n<path fill=\"none\" stroke=\"#000000\" d=\"M1040.4209,-1055.8796C1051.7728,-1044.3337 1064.0982,-1031.7976 1075.457,-1020.2446\"/>\n<polygon fill=\"#000000\" stroke=\"#000000\" points=\"1078.2466,-1022.3995 1082.7618,-1012.8149 1073.2551,-1017.4919 1078.2466,-1022.3995\"/>\n</g>\n<!-- 31 -->\n<g id=\"node32\" class=\"node\">\n<title>31</title>\n<path fill=\"#399de5\" stroke=\"#000000\" d=\"M983,-893.5C983,-893.5 908,-893.5 908,-893.5 902,-893.5 896,-887.5 896,-881.5 896,-881.5 896,-837.5 896,-837.5 896,-831.5 902,-825.5 908,-825.5 908,-825.5 983,-825.5 983,-825.5 989,-825.5 995,-831.5 995,-837.5 995,-837.5 995,-881.5 995,-881.5 995,-887.5 989,-893.5 983,-893.5\"/>\n<text text-anchor=\"start\" x=\"916\" y=\"-878.3\" font-family=\"Helvetica,sans-Serif\" font-size=\"14.00\" fill=\"#000000\">gini = 0.0</text>\n<text text-anchor=\"start\" x=\"906\" y=\"-863.3\" font-family=\"Helvetica,sans-Serif\" font-size=\"14.00\" fill=\"#000000\">samples = 8</text>\n<text text-anchor=\"start\" x=\"904\" y=\"-848.3\" font-family=\"Helvetica,sans-Serif\" font-size=\"14.00\" fill=\"#000000\">value = [0, 8]</text>\n<text text-anchor=\"start\" x=\"912\" y=\"-833.3\" font-family=\"Helvetica,sans-Serif\" font-size=\"14.00\" fill=\"#000000\">class = no</text>\n</g>\n<!-- 30&#45;&gt;31 -->\n<g id=\"edge31\" class=\"edge\">\n<title>30&#45;&gt;31</title>\n<path fill=\"none\" stroke=\"#000000\" d=\"M945.5,-936.8796C945.5,-926.2134 945.5,-914.7021 945.5,-903.9015\"/>\n<polygon fill=\"#000000\" stroke=\"#000000\" points=\"949.0001,-903.8149 945.5,-893.8149 942.0001,-903.815 949.0001,-903.8149\"/>\n</g>\n<!-- 32 -->\n<g id=\"node33\" class=\"node\">\n<title>32</title>\n<path fill=\"#ffffff\" stroke=\"#000000\" d=\"M1102,-901C1102,-901 1025,-901 1025,-901 1019,-901 1013,-895 1013,-889 1013,-889 1013,-830 1013,-830 1013,-824 1019,-818 1025,-818 1025,-818 1102,-818 1102,-818 1108,-818 1114,-824 1114,-830 1114,-830 1114,-889 1114,-889 1114,-895 1108,-901 1102,-901\"/>\n<text text-anchor=\"start\" x=\"1021\" y=\"-885.8\" font-family=\"Helvetica,sans-Serif\" font-size=\"14.00\" fill=\"#000000\">Gender ≤ 0.5</text>\n<text text-anchor=\"start\" x=\"1034\" y=\"-870.8\" font-family=\"Helvetica,sans-Serif\" font-size=\"14.00\" fill=\"#000000\">gini = 0.5</text>\n<text text-anchor=\"start\" x=\"1024\" y=\"-855.8\" font-family=\"Helvetica,sans-Serif\" font-size=\"14.00\" fill=\"#000000\">samples = 6</text>\n<text text-anchor=\"start\" x=\"1022\" y=\"-840.8\" font-family=\"Helvetica,sans-Serif\" font-size=\"14.00\" fill=\"#000000\">value = [3, 3]</text>\n<text text-anchor=\"start\" x=\"1027\" y=\"-825.8\" font-family=\"Helvetica,sans-Serif\" font-size=\"14.00\" fill=\"#000000\">class = yes</text>\n</g>\n<!-- 30&#45;&gt;32 -->\n<g id=\"edge32\" class=\"edge\">\n<title>30&#45;&gt;32</title>\n<path fill=\"none\" stroke=\"#000000\" d=\"M986.7707,-936.8796C995.8799,-927.6931 1005.6108,-917.8798 1014.9776,-908.4336\"/>\n<polygon fill=\"#000000\" stroke=\"#000000\" points=\"1017.4973,-910.8634 1022.0532,-901.2981 1012.5267,-905.9345 1017.4973,-910.8634\"/>\n</g>\n<!-- 33 -->\n<g id=\"node34\" class=\"node\">\n<title>33</title>\n<path fill=\"#f6d5bd\" stroke=\"#000000\" d=\"M1094.5,-782C1094.5,-782 960.5,-782 960.5,-782 954.5,-782 948.5,-776 948.5,-770 948.5,-770 948.5,-711 948.5,-711 948.5,-705 954.5,-699 960.5,-699 960.5,-699 1094.5,-699 1094.5,-699 1100.5,-699 1106.5,-705 1106.5,-711 1106.5,-711 1106.5,-770 1106.5,-770 1106.5,-776 1100.5,-782 1094.5,-782\"/>\n<text text-anchor=\"start\" x=\"956.5\" y=\"-766.8\" font-family=\"Helvetica,sans-Serif\" font-size=\"14.00\" fill=\"#000000\">User ID ≤ 15794812.0</text>\n<text text-anchor=\"start\" x=\"994\" y=\"-751.8\" font-family=\"Helvetica,sans-Serif\" font-size=\"14.00\" fill=\"#000000\">gini = 0.48</text>\n<text text-anchor=\"start\" x=\"988\" y=\"-736.8\" font-family=\"Helvetica,sans-Serif\" font-size=\"14.00\" fill=\"#000000\">samples = 5</text>\n<text text-anchor=\"start\" x=\"986\" y=\"-721.8\" font-family=\"Helvetica,sans-Serif\" font-size=\"14.00\" fill=\"#000000\">value = [3, 2]</text>\n<text text-anchor=\"start\" x=\"991\" y=\"-706.8\" font-family=\"Helvetica,sans-Serif\" font-size=\"14.00\" fill=\"#000000\">class = yes</text>\n</g>\n<!-- 32&#45;&gt;33 -->\n<g id=\"edge33\" class=\"edge\">\n<title>32&#45;&gt;33</title>\n<path fill=\"none\" stroke=\"#000000\" d=\"M1050.9089,-817.8796C1048.3751,-809.5037 1045.6835,-800.6067 1043.0623,-791.942\"/>\n<polygon fill=\"#000000\" stroke=\"#000000\" points=\"1046.3905,-790.8562 1040.1448,-782.2981 1039.6904,-792.8832 1046.3905,-790.8562\"/>\n</g>\n<!-- 40 -->\n<g id=\"node41\" class=\"node\">\n<title>40</title>\n<path fill=\"#399de5\" stroke=\"#000000\" d=\"M1212,-774.5C1212,-774.5 1137,-774.5 1137,-774.5 1131,-774.5 1125,-768.5 1125,-762.5 1125,-762.5 1125,-718.5 1125,-718.5 1125,-712.5 1131,-706.5 1137,-706.5 1137,-706.5 1212,-706.5 1212,-706.5 1218,-706.5 1224,-712.5 1224,-718.5 1224,-718.5 1224,-762.5 1224,-762.5 1224,-768.5 1218,-774.5 1212,-774.5\"/>\n<text text-anchor=\"start\" x=\"1145\" y=\"-759.3\" font-family=\"Helvetica,sans-Serif\" font-size=\"14.00\" fill=\"#000000\">gini = 0.0</text>\n<text text-anchor=\"start\" x=\"1135\" y=\"-744.3\" font-family=\"Helvetica,sans-Serif\" font-size=\"14.00\" fill=\"#000000\">samples = 1</text>\n<text text-anchor=\"start\" x=\"1133\" y=\"-729.3\" font-family=\"Helvetica,sans-Serif\" font-size=\"14.00\" fill=\"#000000\">value = [0, 1]</text>\n<text text-anchor=\"start\" x=\"1141\" y=\"-714.3\" font-family=\"Helvetica,sans-Serif\" font-size=\"14.00\" fill=\"#000000\">class = no</text>\n</g>\n<!-- 32&#45;&gt;40 -->\n<g id=\"edge40\" class=\"edge\">\n<title>32&#45;&gt;40</title>\n<path fill=\"none\" stroke=\"#000000\" d=\"M1102.3224,-817.8796C1113.0921,-806.3337 1124.7854,-793.7976 1135.5617,-782.2446\"/>\n<polygon fill=\"#000000\" stroke=\"#000000\" points=\"1138.2303,-784.5149 1142.492,-774.8149 1133.1115,-779.7402 1138.2303,-784.5149\"/>\n</g>\n<!-- 34 -->\n<g id=\"node35\" class=\"node\">\n<title>34</title>\n<path fill=\"#eeab7b\" stroke=\"#000000\" d=\"M1042,-663C1042,-663 867,-663 867,-663 861,-663 855,-657 855,-651 855,-651 855,-592 855,-592 855,-586 861,-580 867,-580 867,-580 1042,-580 1042,-580 1048,-580 1054,-586 1054,-592 1054,-592 1054,-651 1054,-651 1054,-657 1048,-663 1042,-663\"/>\n<text text-anchor=\"start\" x=\"863\" y=\"-647.8\" font-family=\"Helvetica,sans-Serif\" font-size=\"14.00\" fill=\"#000000\">EstimatedSalary ≤ 115000.0</text>\n<text text-anchor=\"start\" x=\"916.5\" y=\"-632.8\" font-family=\"Helvetica,sans-Serif\" font-size=\"14.00\" fill=\"#000000\">gini = 0.375</text>\n<text text-anchor=\"start\" x=\"915\" y=\"-617.8\" font-family=\"Helvetica,sans-Serif\" font-size=\"14.00\" fill=\"#000000\">samples = 4</text>\n<text text-anchor=\"start\" x=\"913\" y=\"-602.8\" font-family=\"Helvetica,sans-Serif\" font-size=\"14.00\" fill=\"#000000\">value = [3, 1]</text>\n<text text-anchor=\"start\" x=\"918\" y=\"-587.8\" font-family=\"Helvetica,sans-Serif\" font-size=\"14.00\" fill=\"#000000\">class = yes</text>\n</g>\n<!-- 33&#45;&gt;34 -->\n<g id=\"edge34\" class=\"edge\">\n<title>33&#45;&gt;34</title>\n<path fill=\"none\" stroke=\"#000000\" d=\"M1001.9681,-698.8796C996.609,-690.1434 990.9021,-680.8404 985.3718,-671.8253\"/>\n<polygon fill=\"#000000\" stroke=\"#000000\" points=\"988.3533,-669.9919 980.1408,-663.2981 982.3865,-673.6522 988.3533,-669.9919\"/>\n</g>\n<!-- 39 -->\n<g id=\"node40\" class=\"node\">\n<title>39</title>\n<path fill=\"#399de5\" stroke=\"#000000\" d=\"M1159,-655.5C1159,-655.5 1084,-655.5 1084,-655.5 1078,-655.5 1072,-649.5 1072,-643.5 1072,-643.5 1072,-599.5 1072,-599.5 1072,-593.5 1078,-587.5 1084,-587.5 1084,-587.5 1159,-587.5 1159,-587.5 1165,-587.5 1171,-593.5 1171,-599.5 1171,-599.5 1171,-643.5 1171,-643.5 1171,-649.5 1165,-655.5 1159,-655.5\"/>\n<text text-anchor=\"start\" x=\"1092\" y=\"-640.3\" font-family=\"Helvetica,sans-Serif\" font-size=\"14.00\" fill=\"#000000\">gini = 0.0</text>\n<text text-anchor=\"start\" x=\"1082\" y=\"-625.3\" font-family=\"Helvetica,sans-Serif\" font-size=\"14.00\" fill=\"#000000\">samples = 1</text>\n<text text-anchor=\"start\" x=\"1080\" y=\"-610.3\" font-family=\"Helvetica,sans-Serif\" font-size=\"14.00\" fill=\"#000000\">value = [0, 1]</text>\n<text text-anchor=\"start\" x=\"1088\" y=\"-595.3\" font-family=\"Helvetica,sans-Serif\" font-size=\"14.00\" fill=\"#000000\">class = no</text>\n</g>\n<!-- 33&#45;&gt;39 -->\n<g id=\"edge39\" class=\"edge\">\n<title>33&#45;&gt;39</title>\n<path fill=\"none\" stroke=\"#000000\" d=\"M1060.3766,-698.8796C1069.3232,-687.5536 1079.0224,-675.2748 1088.0029,-663.9058\"/>\n<polygon fill=\"#000000\" stroke=\"#000000\" points=\"1090.942,-665.8316 1094.3941,-655.8149 1085.449,-661.4926 1090.942,-665.8316\"/>\n</g>\n<!-- 35 -->\n<g id=\"node36\" class=\"node\">\n<title>35</title>\n<path fill=\"#e58139\" stroke=\"#000000\" d=\"M918,-536.5C918,-536.5 843,-536.5 843,-536.5 837,-536.5 831,-530.5 831,-524.5 831,-524.5 831,-480.5 831,-480.5 831,-474.5 837,-468.5 843,-468.5 843,-468.5 918,-468.5 918,-468.5 924,-468.5 930,-474.5 930,-480.5 930,-480.5 930,-524.5 930,-524.5 930,-530.5 924,-536.5 918,-536.5\"/>\n<text text-anchor=\"start\" x=\"851\" y=\"-521.3\" font-family=\"Helvetica,sans-Serif\" font-size=\"14.00\" fill=\"#000000\">gini = 0.0</text>\n<text text-anchor=\"start\" x=\"841\" y=\"-506.3\" font-family=\"Helvetica,sans-Serif\" font-size=\"14.00\" fill=\"#000000\">samples = 2</text>\n<text text-anchor=\"start\" x=\"839\" y=\"-491.3\" font-family=\"Helvetica,sans-Serif\" font-size=\"14.00\" fill=\"#000000\">value = [2, 0]</text>\n<text text-anchor=\"start\" x=\"844\" y=\"-476.3\" font-family=\"Helvetica,sans-Serif\" font-size=\"14.00\" fill=\"#000000\">class = yes</text>\n</g>\n<!-- 34&#45;&gt;35 -->\n<g id=\"edge35\" class=\"edge\">\n<title>34&#45;&gt;35</title>\n<path fill=\"none\" stroke=\"#000000\" d=\"M928.6184,-579.8796C921.7121,-568.7735 914.2361,-556.7513 907.2825,-545.5691\"/>\n<polygon fill=\"#000000\" stroke=\"#000000\" points=\"910.0917,-543.4587 901.8387,-536.8149 904.1473,-547.1552 910.0917,-543.4587\"/>\n</g>\n<!-- 36 -->\n<g id=\"node37\" class=\"node\">\n<title>36</title>\n<path fill=\"#ffffff\" stroke=\"#000000\" d=\"M1094.5,-544C1094.5,-544 960.5,-544 960.5,-544 954.5,-544 948.5,-538 948.5,-532 948.5,-532 948.5,-473 948.5,-473 948.5,-467 954.5,-461 960.5,-461 960.5,-461 1094.5,-461 1094.5,-461 1100.5,-461 1106.5,-467 1106.5,-473 1106.5,-473 1106.5,-532 1106.5,-532 1106.5,-538 1100.5,-544 1094.5,-544\"/>\n<text text-anchor=\"start\" x=\"956.5\" y=\"-528.8\" font-family=\"Helvetica,sans-Serif\" font-size=\"14.00\" fill=\"#000000\">User ID ≤ 15741698.5</text>\n<text text-anchor=\"start\" x=\"998\" y=\"-513.8\" font-family=\"Helvetica,sans-Serif\" font-size=\"14.00\" fill=\"#000000\">gini = 0.5</text>\n<text text-anchor=\"start\" x=\"988\" y=\"-498.8\" font-family=\"Helvetica,sans-Serif\" font-size=\"14.00\" fill=\"#000000\">samples = 2</text>\n<text text-anchor=\"start\" x=\"986\" y=\"-483.8\" font-family=\"Helvetica,sans-Serif\" font-size=\"14.00\" fill=\"#000000\">value = [1, 1]</text>\n<text text-anchor=\"start\" x=\"991\" y=\"-468.8\" font-family=\"Helvetica,sans-Serif\" font-size=\"14.00\" fill=\"#000000\">class = yes</text>\n</g>\n<!-- 34&#45;&gt;36 -->\n<g id=\"edge36\" class=\"edge\">\n<title>34&#45;&gt;36</title>\n<path fill=\"none\" stroke=\"#000000\" d=\"M980.0319,-579.8796C985.391,-571.1434 991.0979,-561.8404 996.6282,-552.8253\"/>\n<polygon fill=\"#000000\" stroke=\"#000000\" points=\"999.6135,-554.6522 1001.8592,-544.2981 993.6467,-550.9919 999.6135,-554.6522\"/>\n</g>\n<!-- 37 -->\n<g id=\"node38\" class=\"node\">\n<title>37</title>\n<path fill=\"#399de5\" stroke=\"#000000\" d=\"M1021,-417.5C1021,-417.5 946,-417.5 946,-417.5 940,-417.5 934,-411.5 934,-405.5 934,-405.5 934,-361.5 934,-361.5 934,-355.5 940,-349.5 946,-349.5 946,-349.5 1021,-349.5 1021,-349.5 1027,-349.5 1033,-355.5 1033,-361.5 1033,-361.5 1033,-405.5 1033,-405.5 1033,-411.5 1027,-417.5 1021,-417.5\"/>\n<text text-anchor=\"start\" x=\"954\" y=\"-402.3\" font-family=\"Helvetica,sans-Serif\" font-size=\"14.00\" fill=\"#000000\">gini = 0.0</text>\n<text text-anchor=\"start\" x=\"944\" y=\"-387.3\" font-family=\"Helvetica,sans-Serif\" font-size=\"14.00\" fill=\"#000000\">samples = 1</text>\n<text text-anchor=\"start\" x=\"942\" y=\"-372.3\" font-family=\"Helvetica,sans-Serif\" font-size=\"14.00\" fill=\"#000000\">value = [0, 1]</text>\n<text text-anchor=\"start\" x=\"950\" y=\"-357.3\" font-family=\"Helvetica,sans-Serif\" font-size=\"14.00\" fill=\"#000000\">class = no</text>\n</g>\n<!-- 36&#45;&gt;37 -->\n<g id=\"edge37\" class=\"edge\">\n<title>36&#45;&gt;37</title>\n<path fill=\"none\" stroke=\"#000000\" d=\"M1012.1109,-460.8796C1008.0858,-449.9935 1003.7352,-438.227 999.6707,-427.2344\"/>\n<polygon fill=\"#000000\" stroke=\"#000000\" points=\"1002.9387,-425.9805 996.1879,-417.8149 996.3732,-428.4082 1002.9387,-425.9805\"/>\n</g>\n<!-- 38 -->\n<g id=\"node39\" class=\"node\">\n<title>38</title>\n<path fill=\"#e58139\" stroke=\"#000000\" d=\"M1138,-417.5C1138,-417.5 1063,-417.5 1063,-417.5 1057,-417.5 1051,-411.5 1051,-405.5 1051,-405.5 1051,-361.5 1051,-361.5 1051,-355.5 1057,-349.5 1063,-349.5 1063,-349.5 1138,-349.5 1138,-349.5 1144,-349.5 1150,-355.5 1150,-361.5 1150,-361.5 1150,-405.5 1150,-405.5 1150,-411.5 1144,-417.5 1138,-417.5\"/>\n<text text-anchor=\"start\" x=\"1071\" y=\"-402.3\" font-family=\"Helvetica,sans-Serif\" font-size=\"14.00\" fill=\"#000000\">gini = 0.0</text>\n<text text-anchor=\"start\" x=\"1061\" y=\"-387.3\" font-family=\"Helvetica,sans-Serif\" font-size=\"14.00\" fill=\"#000000\">samples = 1</text>\n<text text-anchor=\"start\" x=\"1059\" y=\"-372.3\" font-family=\"Helvetica,sans-Serif\" font-size=\"14.00\" fill=\"#000000\">value = [1, 0]</text>\n<text text-anchor=\"start\" x=\"1064\" y=\"-357.3\" font-family=\"Helvetica,sans-Serif\" font-size=\"14.00\" fill=\"#000000\">class = yes</text>\n</g>\n<!-- 36&#45;&gt;38 -->\n<g id=\"edge38\" class=\"edge\">\n<title>36&#45;&gt;38</title>\n<path fill=\"none\" stroke=\"#000000\" d=\"M1053.0319,-460.8796C1059.8448,-449.7735 1067.2198,-437.7513 1074.0794,-426.5691\"/>\n<polygon fill=\"#000000\" stroke=\"#000000\" points=\"1077.204,-428.1691 1079.4497,-417.8149 1071.2372,-424.5087 1077.204,-428.1691\"/>\n</g>\n<!-- 43 -->\n<g id=\"node44\" class=\"node\">\n<title>43</title>\n<path fill=\"#3fa0e6\" stroke=\"#000000\" d=\"M1382,-1139C1382,-1139 1215,-1139 1215,-1139 1209,-1139 1203,-1133 1203,-1127 1203,-1127 1203,-1068 1203,-1068 1203,-1062 1209,-1056 1215,-1056 1215,-1056 1382,-1056 1382,-1056 1388,-1056 1394,-1062 1394,-1068 1394,-1068 1394,-1127 1394,-1127 1394,-1133 1388,-1139 1382,-1139\"/>\n<text text-anchor=\"start\" x=\"1211\" y=\"-1123.8\" font-family=\"Helvetica,sans-Serif\" font-size=\"14.00\" fill=\"#000000\">EstimatedSalary ≤ 22500.0</text>\n<text text-anchor=\"start\" x=\"1260.5\" y=\"-1108.8\" font-family=\"Helvetica,sans-Serif\" font-size=\"14.00\" fill=\"#000000\">gini = 0.059</text>\n<text text-anchor=\"start\" x=\"1254.5\" y=\"-1093.8\" font-family=\"Helvetica,sans-Serif\" font-size=\"14.00\" fill=\"#000000\">samples = 33</text>\n<text text-anchor=\"start\" x=\"1253\" y=\"-1078.8\" font-family=\"Helvetica,sans-Serif\" font-size=\"14.00\" fill=\"#000000\">value = [1, 32]</text>\n<text text-anchor=\"start\" x=\"1265\" y=\"-1063.8\" font-family=\"Helvetica,sans-Serif\" font-size=\"14.00\" fill=\"#000000\">class = no</text>\n</g>\n<!-- 42&#45;&gt;43 -->\n<g id=\"edge43\" class=\"edge\">\n<title>42&#45;&gt;43</title>\n<path fill=\"none\" stroke=\"#000000\" d=\"M1298.5,-1174.8796C1298.5,-1166.6838 1298.5,-1157.9891 1298.5,-1149.5013\"/>\n<polygon fill=\"#000000\" stroke=\"#000000\" points=\"1302.0001,-1149.298 1298.5,-1139.2981 1295.0001,-1149.2981 1302.0001,-1149.298\"/>\n</g>\n<!-- 48 -->\n<g id=\"node49\" class=\"node\">\n<title>48</title>\n<path fill=\"#69b5eb\" stroke=\"#000000\" d=\"M1622,-1139C1622,-1139 1455,-1139 1455,-1139 1449,-1139 1443,-1133 1443,-1127 1443,-1127 1443,-1068 1443,-1068 1443,-1062 1449,-1056 1455,-1056 1455,-1056 1622,-1056 1622,-1056 1628,-1056 1634,-1062 1634,-1068 1634,-1068 1634,-1127 1634,-1127 1634,-1133 1628,-1139 1622,-1139\"/>\n<text text-anchor=\"start\" x=\"1451\" y=\"-1123.8\" font-family=\"Helvetica,sans-Serif\" font-size=\"14.00\" fill=\"#000000\">EstimatedSalary ≤ 44500.0</text>\n<text text-anchor=\"start\" x=\"1500.5\" y=\"-1108.8\" font-family=\"Helvetica,sans-Serif\" font-size=\"14.00\" fill=\"#000000\">gini = 0.316</text>\n<text text-anchor=\"start\" x=\"1494.5\" y=\"-1093.8\" font-family=\"Helvetica,sans-Serif\" font-size=\"14.00\" fill=\"#000000\">samples = 61</text>\n<text text-anchor=\"start\" x=\"1488.5\" y=\"-1078.8\" font-family=\"Helvetica,sans-Serif\" font-size=\"14.00\" fill=\"#000000\">value = [12, 49]</text>\n<text text-anchor=\"start\" x=\"1505\" y=\"-1063.8\" font-family=\"Helvetica,sans-Serif\" font-size=\"14.00\" fill=\"#000000\">class = no</text>\n</g>\n<!-- 42&#45;&gt;48 -->\n<g id=\"edge48\" class=\"edge\">\n<title>42&#45;&gt;48</title>\n<path fill=\"none\" stroke=\"#000000\" d=\"M1382.4404,-1174.8796C1402.811,-1164.7791 1424.7099,-1153.9209 1445.4727,-1143.626\"/>\n<polygon fill=\"#000000\" stroke=\"#000000\" points=\"1447.2027,-1146.6749 1454.607,-1139.0969 1444.0931,-1140.4035 1447.2027,-1146.6749\"/>\n</g>\n<!-- 44 -->\n<g id=\"node45\" class=\"node\">\n<title>44</title>\n<path fill=\"#6ab6ec\" stroke=\"#000000\" d=\"M1334.5,-1020C1334.5,-1020 1200.5,-1020 1200.5,-1020 1194.5,-1020 1188.5,-1014 1188.5,-1008 1188.5,-1008 1188.5,-949 1188.5,-949 1188.5,-943 1194.5,-937 1200.5,-937 1200.5,-937 1334.5,-937 1334.5,-937 1340.5,-937 1346.5,-943 1346.5,-949 1346.5,-949 1346.5,-1008 1346.5,-1008 1346.5,-1014 1340.5,-1020 1334.5,-1020\"/>\n<text text-anchor=\"start\" x=\"1196.5\" y=\"-1004.8\" font-family=\"Helvetica,sans-Serif\" font-size=\"14.00\" fill=\"#000000\">User ID ≤ 15680336.5</text>\n<text text-anchor=\"start\" x=\"1234\" y=\"-989.8\" font-family=\"Helvetica,sans-Serif\" font-size=\"14.00\" fill=\"#000000\">gini = 0.32</text>\n<text text-anchor=\"start\" x=\"1228\" y=\"-974.8\" font-family=\"Helvetica,sans-Serif\" font-size=\"14.00\" fill=\"#000000\">samples = 5</text>\n<text text-anchor=\"start\" x=\"1226\" y=\"-959.8\" font-family=\"Helvetica,sans-Serif\" font-size=\"14.00\" fill=\"#000000\">value = [1, 4]</text>\n<text text-anchor=\"start\" x=\"1234\" y=\"-944.8\" font-family=\"Helvetica,sans-Serif\" font-size=\"14.00\" fill=\"#000000\">class = no</text>\n</g>\n<!-- 43&#45;&gt;44 -->\n<g id=\"edge44\" class=\"edge\">\n<title>43&#45;&gt;44</title>\n<path fill=\"none\" stroke=\"#000000\" d=\"M1287.6577,-1055.8796C1285.4992,-1047.5938 1283.2079,-1038.798 1280.9737,-1030.2216\"/>\n<polygon fill=\"#000000\" stroke=\"#000000\" points=\"1284.2965,-1029.0928 1278.3886,-1020.2981 1277.5226,-1030.8575 1284.2965,-1029.0928\"/>\n</g>\n<!-- 47 -->\n<g id=\"node48\" class=\"node\">\n<title>47</title>\n<path fill=\"#399de5\" stroke=\"#000000\" d=\"M1459,-1012.5C1459,-1012.5 1376,-1012.5 1376,-1012.5 1370,-1012.5 1364,-1006.5 1364,-1000.5 1364,-1000.5 1364,-956.5 1364,-956.5 1364,-950.5 1370,-944.5 1376,-944.5 1376,-944.5 1459,-944.5 1459,-944.5 1465,-944.5 1471,-950.5 1471,-956.5 1471,-956.5 1471,-1000.5 1471,-1000.5 1471,-1006.5 1465,-1012.5 1459,-1012.5\"/>\n<text text-anchor=\"start\" x=\"1388\" y=\"-997.3\" font-family=\"Helvetica,sans-Serif\" font-size=\"14.00\" fill=\"#000000\">gini = 0.0</text>\n<text text-anchor=\"start\" x=\"1373.5\" y=\"-982.3\" font-family=\"Helvetica,sans-Serif\" font-size=\"14.00\" fill=\"#000000\">samples = 28</text>\n<text text-anchor=\"start\" x=\"1372\" y=\"-967.3\" font-family=\"Helvetica,sans-Serif\" font-size=\"14.00\" fill=\"#000000\">value = [0, 28]</text>\n<text text-anchor=\"start\" x=\"1384\" y=\"-952.3\" font-family=\"Helvetica,sans-Serif\" font-size=\"14.00\" fill=\"#000000\">class = no</text>\n</g>\n<!-- 43&#45;&gt;47 -->\n<g id=\"edge47\" class=\"edge\">\n<title>43&#45;&gt;47</title>\n<path fill=\"none\" stroke=\"#000000\" d=\"M1340.1204,-1055.8796C1351.7763,-1044.2237 1364.4413,-1031.5587 1376.0852,-1019.9148\"/>\n<polygon fill=\"#000000\" stroke=\"#000000\" points=\"1378.5889,-1022.3609 1383.1851,-1012.8149 1373.6391,-1017.4111 1378.5889,-1022.3609\"/>\n</g>\n<!-- 45 -->\n<g id=\"node46\" class=\"node\">\n<title>45</title>\n<path fill=\"#399de5\" stroke=\"#000000\" d=\"M1222,-893.5C1222,-893.5 1147,-893.5 1147,-893.5 1141,-893.5 1135,-887.5 1135,-881.5 1135,-881.5 1135,-837.5 1135,-837.5 1135,-831.5 1141,-825.5 1147,-825.5 1147,-825.5 1222,-825.5 1222,-825.5 1228,-825.5 1234,-831.5 1234,-837.5 1234,-837.5 1234,-881.5 1234,-881.5 1234,-887.5 1228,-893.5 1222,-893.5\"/>\n<text text-anchor=\"start\" x=\"1155\" y=\"-878.3\" font-family=\"Helvetica,sans-Serif\" font-size=\"14.00\" fill=\"#000000\">gini = 0.0</text>\n<text text-anchor=\"start\" x=\"1145\" y=\"-863.3\" font-family=\"Helvetica,sans-Serif\" font-size=\"14.00\" fill=\"#000000\">samples = 4</text>\n<text text-anchor=\"start\" x=\"1143\" y=\"-848.3\" font-family=\"Helvetica,sans-Serif\" font-size=\"14.00\" fill=\"#000000\">value = [0, 4]</text>\n<text text-anchor=\"start\" x=\"1151\" y=\"-833.3\" font-family=\"Helvetica,sans-Serif\" font-size=\"14.00\" fill=\"#000000\">class = no</text>\n</g>\n<!-- 44&#45;&gt;45 -->\n<g id=\"edge45\" class=\"edge\">\n<title>44&#45;&gt;45</title>\n<path fill=\"none\" stroke=\"#000000\" d=\"M1238.4706,-936.8796C1230.6477,-925.6636 1222.173,-913.5131 1214.3083,-902.2372\"/>\n<polygon fill=\"#000000\" stroke=\"#000000\" points=\"1217.0254,-900.0147 1208.4339,-893.8149 1211.284,-904.0192 1217.0254,-900.0147\"/>\n</g>\n<!-- 46 -->\n<g id=\"node47\" class=\"node\">\n<title>46</title>\n<path fill=\"#e58139\" stroke=\"#000000\" d=\"M1339,-893.5C1339,-893.5 1264,-893.5 1264,-893.5 1258,-893.5 1252,-887.5 1252,-881.5 1252,-881.5 1252,-837.5 1252,-837.5 1252,-831.5 1258,-825.5 1264,-825.5 1264,-825.5 1339,-825.5 1339,-825.5 1345,-825.5 1351,-831.5 1351,-837.5 1351,-837.5 1351,-881.5 1351,-881.5 1351,-887.5 1345,-893.5 1339,-893.5\"/>\n<text text-anchor=\"start\" x=\"1272\" y=\"-878.3\" font-family=\"Helvetica,sans-Serif\" font-size=\"14.00\" fill=\"#000000\">gini = 0.0</text>\n<text text-anchor=\"start\" x=\"1262\" y=\"-863.3\" font-family=\"Helvetica,sans-Serif\" font-size=\"14.00\" fill=\"#000000\">samples = 1</text>\n<text text-anchor=\"start\" x=\"1260\" y=\"-848.3\" font-family=\"Helvetica,sans-Serif\" font-size=\"14.00\" fill=\"#000000\">value = [1, 0]</text>\n<text text-anchor=\"start\" x=\"1265\" y=\"-833.3\" font-family=\"Helvetica,sans-Serif\" font-size=\"14.00\" fill=\"#000000\">class = yes</text>\n</g>\n<!-- 44&#45;&gt;46 -->\n<g id=\"edge46\" class=\"edge\">\n<title>44&#45;&gt;46</title>\n<path fill=\"none\" stroke=\"#000000\" d=\"M1279.3916,-936.8796C1282.4705,-926.1034 1285.7958,-914.4647 1288.9092,-903.5677\"/>\n<polygon fill=\"#000000\" stroke=\"#000000\" points=\"1292.3138,-904.3917 1291.6957,-893.8149 1285.5831,-902.4686 1292.3138,-904.3917\"/>\n</g>\n<!-- 49 -->\n<g id=\"node50\" class=\"node\">\n<title>49</title>\n<path fill=\"#eeab7b\" stroke=\"#000000\" d=\"M1576,-1020C1576,-1020 1501,-1020 1501,-1020 1495,-1020 1489,-1014 1489,-1008 1489,-1008 1489,-949 1489,-949 1489,-943 1495,-937 1501,-937 1501,-937 1576,-937 1576,-937 1582,-937 1588,-943 1588,-949 1588,-949 1588,-1008 1588,-1008 1588,-1014 1582,-1020 1576,-1020\"/>\n<text text-anchor=\"start\" x=\"1503.5\" y=\"-1004.8\" font-family=\"Helvetica,sans-Serif\" font-size=\"14.00\" fill=\"#000000\">Age ≤ 59.5</text>\n<text text-anchor=\"start\" x=\"1500.5\" y=\"-989.8\" font-family=\"Helvetica,sans-Serif\" font-size=\"14.00\" fill=\"#000000\">gini = 0.375</text>\n<text text-anchor=\"start\" x=\"1499\" y=\"-974.8\" font-family=\"Helvetica,sans-Serif\" font-size=\"14.00\" fill=\"#000000\">samples = 4</text>\n<text text-anchor=\"start\" x=\"1497\" y=\"-959.8\" font-family=\"Helvetica,sans-Serif\" font-size=\"14.00\" fill=\"#000000\">value = [3, 1]</text>\n<text text-anchor=\"start\" x=\"1502\" y=\"-944.8\" font-family=\"Helvetica,sans-Serif\" font-size=\"14.00\" fill=\"#000000\">class = yes</text>\n</g>\n<!-- 48&#45;&gt;49 -->\n<g id=\"edge49\" class=\"edge\">\n<title>48&#45;&gt;49</title>\n<path fill=\"none\" stroke=\"#000000\" d=\"M1538.5,-1055.8796C1538.5,-1047.6838 1538.5,-1038.9891 1538.5,-1030.5013\"/>\n<polygon fill=\"#000000\" stroke=\"#000000\" points=\"1542.0001,-1030.298 1538.5,-1020.2981 1535.0001,-1030.2981 1542.0001,-1030.298\"/>\n</g>\n<!-- 52 -->\n<g id=\"node53\" class=\"node\">\n<title>52</title>\n<path fill=\"#5eafea\" stroke=\"#000000\" d=\"M1727,-1020C1727,-1020 1644,-1020 1644,-1020 1638,-1020 1632,-1014 1632,-1008 1632,-1008 1632,-949 1632,-949 1632,-943 1638,-937 1644,-937 1644,-937 1727,-937 1727,-937 1733,-937 1739,-943 1739,-949 1739,-949 1739,-1008 1739,-1008 1739,-1014 1733,-1020 1727,-1020\"/>\n<text text-anchor=\"start\" x=\"1650.5\" y=\"-1004.8\" font-family=\"Helvetica,sans-Serif\" font-size=\"14.00\" fill=\"#000000\">Age ≤ 46.5</text>\n<text text-anchor=\"start\" x=\"1647.5\" y=\"-989.8\" font-family=\"Helvetica,sans-Serif\" font-size=\"14.00\" fill=\"#000000\">gini = 0.266</text>\n<text text-anchor=\"start\" x=\"1641.5\" y=\"-974.8\" font-family=\"Helvetica,sans-Serif\" font-size=\"14.00\" fill=\"#000000\">samples = 57</text>\n<text text-anchor=\"start\" x=\"1640\" y=\"-959.8\" font-family=\"Helvetica,sans-Serif\" font-size=\"14.00\" fill=\"#000000\">value = [9, 48]</text>\n<text text-anchor=\"start\" x=\"1652\" y=\"-944.8\" font-family=\"Helvetica,sans-Serif\" font-size=\"14.00\" fill=\"#000000\">class = no</text>\n</g>\n<!-- 48&#45;&gt;52 -->\n<g id=\"edge52\" class=\"edge\">\n<title>48&#45;&gt;52</title>\n<path fill=\"none\" stroke=\"#000000\" d=\"M1589.9135,-1055.8796C1601.5952,-1046.4229 1614.0975,-1036.302 1626.081,-1026.6011\"/>\n<polygon fill=\"#000000\" stroke=\"#000000\" points=\"1628.2968,-1029.3105 1633.8671,-1020.2981 1623.8924,-1023.8697 1628.2968,-1029.3105\"/>\n</g>\n<!-- 50 -->\n<g id=\"node51\" class=\"node\">\n<title>50</title>\n<path fill=\"#e58139\" stroke=\"#000000\" d=\"M1459,-893.5C1459,-893.5 1384,-893.5 1384,-893.5 1378,-893.5 1372,-887.5 1372,-881.5 1372,-881.5 1372,-837.5 1372,-837.5 1372,-831.5 1378,-825.5 1384,-825.5 1384,-825.5 1459,-825.5 1459,-825.5 1465,-825.5 1471,-831.5 1471,-837.5 1471,-837.5 1471,-881.5 1471,-881.5 1471,-887.5 1465,-893.5 1459,-893.5\"/>\n<text text-anchor=\"start\" x=\"1392\" y=\"-878.3\" font-family=\"Helvetica,sans-Serif\" font-size=\"14.00\" fill=\"#000000\">gini = 0.0</text>\n<text text-anchor=\"start\" x=\"1382\" y=\"-863.3\" font-family=\"Helvetica,sans-Serif\" font-size=\"14.00\" fill=\"#000000\">samples = 3</text>\n<text text-anchor=\"start\" x=\"1380\" y=\"-848.3\" font-family=\"Helvetica,sans-Serif\" font-size=\"14.00\" fill=\"#000000\">value = [3, 0]</text>\n<text text-anchor=\"start\" x=\"1385\" y=\"-833.3\" font-family=\"Helvetica,sans-Serif\" font-size=\"14.00\" fill=\"#000000\">class = yes</text>\n</g>\n<!-- 49&#45;&gt;50 -->\n<g id=\"edge50\" class=\"edge\">\n<title>49&#45;&gt;50</title>\n<path fill=\"none\" stroke=\"#000000\" d=\"M1497.5791,-936.8796C1486.2272,-925.3337 1473.9018,-912.7976 1462.543,-901.2446\"/>\n<polygon fill=\"#000000\" stroke=\"#000000\" points=\"1464.7449,-898.4919 1455.2382,-893.8149 1459.7534,-903.3995 1464.7449,-898.4919\"/>\n</g>\n<!-- 51 -->\n<g id=\"node52\" class=\"node\">\n<title>51</title>\n<path fill=\"#399de5\" stroke=\"#000000\" d=\"M1576,-893.5C1576,-893.5 1501,-893.5 1501,-893.5 1495,-893.5 1489,-887.5 1489,-881.5 1489,-881.5 1489,-837.5 1489,-837.5 1489,-831.5 1495,-825.5 1501,-825.5 1501,-825.5 1576,-825.5 1576,-825.5 1582,-825.5 1588,-831.5 1588,-837.5 1588,-837.5 1588,-881.5 1588,-881.5 1588,-887.5 1582,-893.5 1576,-893.5\"/>\n<text text-anchor=\"start\" x=\"1509\" y=\"-878.3\" font-family=\"Helvetica,sans-Serif\" font-size=\"14.00\" fill=\"#000000\">gini = 0.0</text>\n<text text-anchor=\"start\" x=\"1499\" y=\"-863.3\" font-family=\"Helvetica,sans-Serif\" font-size=\"14.00\" fill=\"#000000\">samples = 1</text>\n<text text-anchor=\"start\" x=\"1497\" y=\"-848.3\" font-family=\"Helvetica,sans-Serif\" font-size=\"14.00\" fill=\"#000000\">value = [0, 1]</text>\n<text text-anchor=\"start\" x=\"1505\" y=\"-833.3\" font-family=\"Helvetica,sans-Serif\" font-size=\"14.00\" fill=\"#000000\">class = no</text>\n</g>\n<!-- 49&#45;&gt;51 -->\n<g id=\"edge51\" class=\"edge\">\n<title>49&#45;&gt;51</title>\n<path fill=\"none\" stroke=\"#000000\" d=\"M1538.5,-936.8796C1538.5,-926.2134 1538.5,-914.7021 1538.5,-903.9015\"/>\n<polygon fill=\"#000000\" stroke=\"#000000\" points=\"1542.0001,-903.8149 1538.5,-893.8149 1535.0001,-903.815 1542.0001,-903.8149\"/>\n</g>\n<!-- 53 -->\n<g id=\"node54\" class=\"node\">\n<title>53</title>\n<path fill=\"#b5daf5\" stroke=\"#000000\" d=\"M1752.5,-901C1752.5,-901 1618.5,-901 1618.5,-901 1612.5,-901 1606.5,-895 1606.5,-889 1606.5,-889 1606.5,-830 1606.5,-830 1606.5,-824 1612.5,-818 1618.5,-818 1618.5,-818 1752.5,-818 1752.5,-818 1758.5,-818 1764.5,-824 1764.5,-830 1764.5,-830 1764.5,-889 1764.5,-889 1764.5,-895 1758.5,-901 1752.5,-901\"/>\n<text text-anchor=\"start\" x=\"1614.5\" y=\"-885.8\" font-family=\"Helvetica,sans-Serif\" font-size=\"14.00\" fill=\"#000000\">User ID ≤ 15693025.0</text>\n<text text-anchor=\"start\" x=\"1647.5\" y=\"-870.8\" font-family=\"Helvetica,sans-Serif\" font-size=\"14.00\" fill=\"#000000\">gini = 0.473</text>\n<text text-anchor=\"start\" x=\"1641.5\" y=\"-855.8\" font-family=\"Helvetica,sans-Serif\" font-size=\"14.00\" fill=\"#000000\">samples = 13</text>\n<text text-anchor=\"start\" x=\"1644\" y=\"-840.8\" font-family=\"Helvetica,sans-Serif\" font-size=\"14.00\" fill=\"#000000\">value = [5, 8]</text>\n<text text-anchor=\"start\" x=\"1652\" y=\"-825.8\" font-family=\"Helvetica,sans-Serif\" font-size=\"14.00\" fill=\"#000000\">class = no</text>\n</g>\n<!-- 52&#45;&gt;53 -->\n<g id=\"edge53\" class=\"edge\">\n<title>52&#45;&gt;53</title>\n<path fill=\"none\" stroke=\"#000000\" d=\"M1685.5,-936.8796C1685.5,-928.6838 1685.5,-919.9891 1685.5,-911.5013\"/>\n<polygon fill=\"#000000\" stroke=\"#000000\" points=\"1689.0001,-911.298 1685.5,-901.2981 1682.0001,-911.2981 1689.0001,-911.298\"/>\n</g>\n<!-- 64 -->\n<g id=\"node65\" class=\"node\">\n<title>64</title>\n<path fill=\"#4da7e8\" stroke=\"#000000\" d=\"M1990.5,-901C1990.5,-901 1856.5,-901 1856.5,-901 1850.5,-901 1844.5,-895 1844.5,-889 1844.5,-889 1844.5,-830 1844.5,-830 1844.5,-824 1850.5,-818 1856.5,-818 1856.5,-818 1990.5,-818 1990.5,-818 1996.5,-818 2002.5,-824 2002.5,-830 2002.5,-830 2002.5,-889 2002.5,-889 2002.5,-895 1996.5,-901 1990.5,-901\"/>\n<text text-anchor=\"start\" x=\"1852.5\" y=\"-885.8\" font-family=\"Helvetica,sans-Serif\" font-size=\"14.00\" fill=\"#000000\">User ID ≤ 15787569.0</text>\n<text text-anchor=\"start\" x=\"1885.5\" y=\"-870.8\" font-family=\"Helvetica,sans-Serif\" font-size=\"14.00\" fill=\"#000000\">gini = 0.165</text>\n<text text-anchor=\"start\" x=\"1879.5\" y=\"-855.8\" font-family=\"Helvetica,sans-Serif\" font-size=\"14.00\" fill=\"#000000\">samples = 44</text>\n<text text-anchor=\"start\" x=\"1878\" y=\"-840.8\" font-family=\"Helvetica,sans-Serif\" font-size=\"14.00\" fill=\"#000000\">value = [4, 40]</text>\n<text text-anchor=\"start\" x=\"1890\" y=\"-825.8\" font-family=\"Helvetica,sans-Serif\" font-size=\"14.00\" fill=\"#000000\">class = no</text>\n</g>\n<!-- 52&#45;&gt;64 -->\n<g id=\"edge64\" class=\"edge\">\n<title>52&#45;&gt;64</title>\n<path fill=\"none\" stroke=\"#000000\" d=\"M1739.2086,-951.6457C1767.5306,-937.4847 1802.9992,-919.7504 1835.2369,-903.6316\"/>\n<polygon fill=\"#000000\" stroke=\"#000000\" points=\"1836.8562,-906.7351 1844.2352,-899.1324 1833.7257,-900.4741 1836.8562,-906.7351\"/>\n</g>\n<!-- 54 -->\n<g id=\"node55\" class=\"node\">\n<title>54</title>\n<path fill=\"#f8e0ce\" stroke=\"#000000\" d=\"M1427,-782C1427,-782 1350,-782 1350,-782 1344,-782 1338,-776 1338,-770 1338,-770 1338,-711 1338,-711 1338,-705 1344,-699 1350,-699 1350,-699 1427,-699 1427,-699 1433,-699 1439,-705 1439,-711 1439,-711 1439,-770 1439,-770 1439,-776 1433,-782 1427,-782\"/>\n<text text-anchor=\"start\" x=\"1346\" y=\"-766.8\" font-family=\"Helvetica,sans-Serif\" font-size=\"14.00\" fill=\"#000000\">Gender ≤ 0.5</text>\n<text text-anchor=\"start\" x=\"1355\" y=\"-751.8\" font-family=\"Helvetica,sans-Serif\" font-size=\"14.00\" fill=\"#000000\">gini = 0.49</text>\n<text text-anchor=\"start\" x=\"1349\" y=\"-736.8\" font-family=\"Helvetica,sans-Serif\" font-size=\"14.00\" fill=\"#000000\">samples = 7</text>\n<text text-anchor=\"start\" x=\"1347\" y=\"-721.8\" font-family=\"Helvetica,sans-Serif\" font-size=\"14.00\" fill=\"#000000\">value = [4, 3]</text>\n<text text-anchor=\"start\" x=\"1352\" y=\"-706.8\" font-family=\"Helvetica,sans-Serif\" font-size=\"14.00\" fill=\"#000000\">class = yes</text>\n</g>\n<!-- 53&#45;&gt;54 -->\n<g id=\"edge54\" class=\"edge\">\n<title>53&#45;&gt;54</title>\n<path fill=\"none\" stroke=\"#000000\" d=\"M1606.0637,-822.0775C1602.8422,-820.6811 1599.6452,-819.3168 1596.5,-818 1547.3629,-797.4281 1490.6448,-776.4761 1448.8596,-761.5526\"/>\n<polygon fill=\"#000000\" stroke=\"#000000\" points=\"1449.9722,-758.2336 1439.3775,-758.178 1447.6251,-764.8284 1449.9722,-758.2336\"/>\n</g>\n<!-- 59 -->\n<g id=\"node60\" class=\"node\">\n<title>59</title>\n<path fill=\"#61b1ea\" stroke=\"#000000\" d=\"M1769,-782C1769,-782 1602,-782 1602,-782 1596,-782 1590,-776 1590,-770 1590,-770 1590,-711 1590,-711 1590,-705 1596,-699 1602,-699 1602,-699 1769,-699 1769,-699 1775,-699 1781,-705 1781,-711 1781,-711 1781,-770 1781,-770 1781,-776 1775,-782 1769,-782\"/>\n<text text-anchor=\"start\" x=\"1598\" y=\"-766.8\" font-family=\"Helvetica,sans-Serif\" font-size=\"14.00\" fill=\"#000000\">EstimatedSalary ≤ 85500.0</text>\n<text text-anchor=\"start\" x=\"1647.5\" y=\"-751.8\" font-family=\"Helvetica,sans-Serif\" font-size=\"14.00\" fill=\"#000000\">gini = 0.278</text>\n<text text-anchor=\"start\" x=\"1646\" y=\"-736.8\" font-family=\"Helvetica,sans-Serif\" font-size=\"14.00\" fill=\"#000000\">samples = 6</text>\n<text text-anchor=\"start\" x=\"1644\" y=\"-721.8\" font-family=\"Helvetica,sans-Serif\" font-size=\"14.00\" fill=\"#000000\">value = [1, 5]</text>\n<text text-anchor=\"start\" x=\"1652\" y=\"-706.8\" font-family=\"Helvetica,sans-Serif\" font-size=\"14.00\" fill=\"#000000\">class = no</text>\n</g>\n<!-- 53&#45;&gt;59 -->\n<g id=\"edge59\" class=\"edge\">\n<title>53&#45;&gt;59</title>\n<path fill=\"none\" stroke=\"#000000\" d=\"M1685.5,-817.8796C1685.5,-809.6838 1685.5,-800.9891 1685.5,-792.5013\"/>\n<polygon fill=\"#000000\" stroke=\"#000000\" points=\"1689.0001,-792.298 1685.5,-782.2981 1682.0001,-792.2981 1689.0001,-792.298\"/>\n</g>\n<!-- 55 -->\n<g id=\"node56\" class=\"node\">\n<title>55</title>\n<path fill=\"#e58139\" stroke=\"#000000\" d=\"M1279,-655.5C1279,-655.5 1204,-655.5 1204,-655.5 1198,-655.5 1192,-649.5 1192,-643.5 1192,-643.5 1192,-599.5 1192,-599.5 1192,-593.5 1198,-587.5 1204,-587.5 1204,-587.5 1279,-587.5 1279,-587.5 1285,-587.5 1291,-593.5 1291,-599.5 1291,-599.5 1291,-643.5 1291,-643.5 1291,-649.5 1285,-655.5 1279,-655.5\"/>\n<text text-anchor=\"start\" x=\"1212\" y=\"-640.3\" font-family=\"Helvetica,sans-Serif\" font-size=\"14.00\" fill=\"#000000\">gini = 0.0</text>\n<text text-anchor=\"start\" x=\"1202\" y=\"-625.3\" font-family=\"Helvetica,sans-Serif\" font-size=\"14.00\" fill=\"#000000\">samples = 3</text>\n<text text-anchor=\"start\" x=\"1200\" y=\"-610.3\" font-family=\"Helvetica,sans-Serif\" font-size=\"14.00\" fill=\"#000000\">value = [3, 0]</text>\n<text text-anchor=\"start\" x=\"1205\" y=\"-595.3\" font-family=\"Helvetica,sans-Serif\" font-size=\"14.00\" fill=\"#000000\">class = yes</text>\n</g>\n<!-- 54&#45;&gt;55 -->\n<g id=\"edge55\" class=\"edge\">\n<title>54&#45;&gt;55</title>\n<path fill=\"none\" stroke=\"#000000\" d=\"M1337.9109,-699.547C1323.0553,-687.5209 1306.8122,-674.3718 1291.9643,-662.3521\"/>\n<polygon fill=\"#000000\" stroke=\"#000000\" points=\"1293.8514,-659.3766 1283.8767,-655.805 1289.447,-664.8173 1293.8514,-659.3766\"/>\n</g>\n<!-- 56 -->\n<g id=\"node57\" class=\"node\">\n<title>56</title>\n<path fill=\"#7bbeee\" stroke=\"#000000\" d=\"M1455.5,-663C1455.5,-663 1321.5,-663 1321.5,-663 1315.5,-663 1309.5,-657 1309.5,-651 1309.5,-651 1309.5,-592 1309.5,-592 1309.5,-586 1315.5,-580 1321.5,-580 1321.5,-580 1455.5,-580 1455.5,-580 1461.5,-580 1467.5,-586 1467.5,-592 1467.5,-592 1467.5,-651 1467.5,-651 1467.5,-657 1461.5,-663 1455.5,-663\"/>\n<text text-anchor=\"start\" x=\"1317.5\" y=\"-647.8\" font-family=\"Helvetica,sans-Serif\" font-size=\"14.00\" fill=\"#000000\">User ID ≤ 15673520.0</text>\n<text text-anchor=\"start\" x=\"1350.5\" y=\"-632.8\" font-family=\"Helvetica,sans-Serif\" font-size=\"14.00\" fill=\"#000000\">gini = 0.375</text>\n<text text-anchor=\"start\" x=\"1349\" y=\"-617.8\" font-family=\"Helvetica,sans-Serif\" font-size=\"14.00\" fill=\"#000000\">samples = 4</text>\n<text text-anchor=\"start\" x=\"1347\" y=\"-602.8\" font-family=\"Helvetica,sans-Serif\" font-size=\"14.00\" fill=\"#000000\">value = [1, 3]</text>\n<text text-anchor=\"start\" x=\"1355\" y=\"-587.8\" font-family=\"Helvetica,sans-Serif\" font-size=\"14.00\" fill=\"#000000\">class = no</text>\n</g>\n<!-- 54&#45;&gt;56 -->\n<g id=\"edge56\" class=\"edge\">\n<title>54&#45;&gt;56</title>\n<path fill=\"none\" stroke=\"#000000\" d=\"M1388.5,-698.8796C1388.5,-690.6838 1388.5,-681.9891 1388.5,-673.5013\"/>\n<polygon fill=\"#000000\" stroke=\"#000000\" points=\"1392.0001,-673.298 1388.5,-663.2981 1385.0001,-673.2981 1392.0001,-673.298\"/>\n</g>\n<!-- 57 -->\n<g id=\"node58\" class=\"node\">\n<title>57</title>\n<path fill=\"#399de5\" stroke=\"#000000\" d=\"M1325,-536.5C1325,-536.5 1250,-536.5 1250,-536.5 1244,-536.5 1238,-530.5 1238,-524.5 1238,-524.5 1238,-480.5 1238,-480.5 1238,-474.5 1244,-468.5 1250,-468.5 1250,-468.5 1325,-468.5 1325,-468.5 1331,-468.5 1337,-474.5 1337,-480.5 1337,-480.5 1337,-524.5 1337,-524.5 1337,-530.5 1331,-536.5 1325,-536.5\"/>\n<text text-anchor=\"start\" x=\"1258\" y=\"-521.3\" font-family=\"Helvetica,sans-Serif\" font-size=\"14.00\" fill=\"#000000\">gini = 0.0</text>\n<text text-anchor=\"start\" x=\"1248\" y=\"-506.3\" font-family=\"Helvetica,sans-Serif\" font-size=\"14.00\" fill=\"#000000\">samples = 3</text>\n<text text-anchor=\"start\" x=\"1246\" y=\"-491.3\" font-family=\"Helvetica,sans-Serif\" font-size=\"14.00\" fill=\"#000000\">value = [0, 3]</text>\n<text text-anchor=\"start\" x=\"1254\" y=\"-476.3\" font-family=\"Helvetica,sans-Serif\" font-size=\"14.00\" fill=\"#000000\">class = no</text>\n</g>\n<!-- 56&#45;&gt;57 -->\n<g id=\"edge57\" class=\"edge\">\n<title>56&#45;&gt;57</title>\n<path fill=\"none\" stroke=\"#000000\" d=\"M1353.1751,-579.8796C1343.469,-568.4436 1332.9384,-556.0363 1323.2107,-544.575\"/>\n<polygon fill=\"#000000\" stroke=\"#000000\" points=\"1325.7638,-542.1743 1316.6244,-536.8149 1320.4269,-546.7039 1325.7638,-542.1743\"/>\n</g>\n<!-- 58 -->\n<g id=\"node59\" class=\"node\">\n<title>58</title>\n<path fill=\"#e58139\" stroke=\"#000000\" d=\"M1442,-536.5C1442,-536.5 1367,-536.5 1367,-536.5 1361,-536.5 1355,-530.5 1355,-524.5 1355,-524.5 1355,-480.5 1355,-480.5 1355,-474.5 1361,-468.5 1367,-468.5 1367,-468.5 1442,-468.5 1442,-468.5 1448,-468.5 1454,-474.5 1454,-480.5 1454,-480.5 1454,-524.5 1454,-524.5 1454,-530.5 1448,-536.5 1442,-536.5\"/>\n<text text-anchor=\"start\" x=\"1375\" y=\"-521.3\" font-family=\"Helvetica,sans-Serif\" font-size=\"14.00\" fill=\"#000000\">gini = 0.0</text>\n<text text-anchor=\"start\" x=\"1365\" y=\"-506.3\" font-family=\"Helvetica,sans-Serif\" font-size=\"14.00\" fill=\"#000000\">samples = 1</text>\n<text text-anchor=\"start\" x=\"1363\" y=\"-491.3\" font-family=\"Helvetica,sans-Serif\" font-size=\"14.00\" fill=\"#000000\">value = [1, 0]</text>\n<text text-anchor=\"start\" x=\"1368\" y=\"-476.3\" font-family=\"Helvetica,sans-Serif\" font-size=\"14.00\" fill=\"#000000\">class = yes</text>\n</g>\n<!-- 56&#45;&gt;58 -->\n<g id=\"edge58\" class=\"edge\">\n<title>56&#45;&gt;58</title>\n<path fill=\"none\" stroke=\"#000000\" d=\"M1394.096,-579.8796C1395.5301,-569.2134 1397.0779,-557.7021 1398.53,-546.9015\"/>\n<polygon fill=\"#000000\" stroke=\"#000000\" points=\"1402.0224,-547.1922 1399.8862,-536.8149 1395.0848,-546.2593 1402.0224,-547.1922\"/>\n</g>\n<!-- 60 -->\n<g id=\"node61\" class=\"node\">\n<title>60</title>\n<path fill=\"#ffffff\" stroke=\"#000000\" d=\"M1665,-663C1665,-663 1498,-663 1498,-663 1492,-663 1486,-657 1486,-651 1486,-651 1486,-592 1486,-592 1486,-586 1492,-580 1498,-580 1498,-580 1665,-580 1665,-580 1671,-580 1677,-586 1677,-592 1677,-592 1677,-651 1677,-651 1677,-657 1671,-663 1665,-663\"/>\n<text text-anchor=\"start\" x=\"1494\" y=\"-647.8\" font-family=\"Helvetica,sans-Serif\" font-size=\"14.00\" fill=\"#000000\">EstimatedSalary ≤ 52000.0</text>\n<text text-anchor=\"start\" x=\"1552\" y=\"-632.8\" font-family=\"Helvetica,sans-Serif\" font-size=\"14.00\" fill=\"#000000\">gini = 0.5</text>\n<text text-anchor=\"start\" x=\"1542\" y=\"-617.8\" font-family=\"Helvetica,sans-Serif\" font-size=\"14.00\" fill=\"#000000\">samples = 2</text>\n<text text-anchor=\"start\" x=\"1540\" y=\"-602.8\" font-family=\"Helvetica,sans-Serif\" font-size=\"14.00\" fill=\"#000000\">value = [1, 1]</text>\n<text text-anchor=\"start\" x=\"1545\" y=\"-587.8\" font-family=\"Helvetica,sans-Serif\" font-size=\"14.00\" fill=\"#000000\">class = yes</text>\n</g>\n<!-- 59&#45;&gt;60 -->\n<g id=\"edge60\" class=\"edge\">\n<title>59&#45;&gt;60</title>\n<path fill=\"none\" stroke=\"#000000\" d=\"M1649.1258,-698.8796C1641.2548,-689.8733 1632.8571,-680.2644 1624.7515,-670.9897\"/>\n<polygon fill=\"#000000\" stroke=\"#000000\" points=\"1627.2454,-668.5246 1618.0294,-663.2981 1621.9746,-673.131 1627.2454,-668.5246\"/>\n</g>\n<!-- 63 -->\n<g id=\"node64\" class=\"node\">\n<title>63</title>\n<path fill=\"#399de5\" stroke=\"#000000\" d=\"M1782,-655.5C1782,-655.5 1707,-655.5 1707,-655.5 1701,-655.5 1695,-649.5 1695,-643.5 1695,-643.5 1695,-599.5 1695,-599.5 1695,-593.5 1701,-587.5 1707,-587.5 1707,-587.5 1782,-587.5 1782,-587.5 1788,-587.5 1794,-593.5 1794,-599.5 1794,-599.5 1794,-643.5 1794,-643.5 1794,-649.5 1788,-655.5 1782,-655.5\"/>\n<text text-anchor=\"start\" x=\"1715\" y=\"-640.3\" font-family=\"Helvetica,sans-Serif\" font-size=\"14.00\" fill=\"#000000\">gini = 0.0</text>\n<text text-anchor=\"start\" x=\"1705\" y=\"-625.3\" font-family=\"Helvetica,sans-Serif\" font-size=\"14.00\" fill=\"#000000\">samples = 4</text>\n<text text-anchor=\"start\" x=\"1703\" y=\"-610.3\" font-family=\"Helvetica,sans-Serif\" font-size=\"14.00\" fill=\"#000000\">value = [0, 4]</text>\n<text text-anchor=\"start\" x=\"1711\" y=\"-595.3\" font-family=\"Helvetica,sans-Serif\" font-size=\"14.00\" fill=\"#000000\">class = no</text>\n</g>\n<!-- 59&#45;&gt;63 -->\n<g id=\"edge63\" class=\"edge\">\n<title>59&#45;&gt;63</title>\n<path fill=\"none\" stroke=\"#000000\" d=\"M1706.1353,-698.8796C1711.5872,-687.8835 1717.4843,-675.9893 1722.9816,-664.9015\"/>\n<polygon fill=\"#000000\" stroke=\"#000000\" points=\"1726.1804,-666.3289 1727.4867,-655.8149 1719.9089,-663.2195 1726.1804,-666.3289\"/>\n</g>\n<!-- 61 -->\n<g id=\"node62\" class=\"node\">\n<title>61</title>\n<path fill=\"#399de5\" stroke=\"#000000\" d=\"M1597,-536.5C1597,-536.5 1522,-536.5 1522,-536.5 1516,-536.5 1510,-530.5 1510,-524.5 1510,-524.5 1510,-480.5 1510,-480.5 1510,-474.5 1516,-468.5 1522,-468.5 1522,-468.5 1597,-468.5 1597,-468.5 1603,-468.5 1609,-474.5 1609,-480.5 1609,-480.5 1609,-524.5 1609,-524.5 1609,-530.5 1603,-536.5 1597,-536.5\"/>\n<text text-anchor=\"start\" x=\"1530\" y=\"-521.3\" font-family=\"Helvetica,sans-Serif\" font-size=\"14.00\" fill=\"#000000\">gini = 0.0</text>\n<text text-anchor=\"start\" x=\"1520\" y=\"-506.3\" font-family=\"Helvetica,sans-Serif\" font-size=\"14.00\" fill=\"#000000\">samples = 1</text>\n<text text-anchor=\"start\" x=\"1518\" y=\"-491.3\" font-family=\"Helvetica,sans-Serif\" font-size=\"14.00\" fill=\"#000000\">value = [0, 1]</text>\n<text text-anchor=\"start\" x=\"1526\" y=\"-476.3\" font-family=\"Helvetica,sans-Serif\" font-size=\"14.00\" fill=\"#000000\">class = no</text>\n</g>\n<!-- 60&#45;&gt;61 -->\n<g id=\"edge61\" class=\"edge\">\n<title>60&#45;&gt;61</title>\n<path fill=\"none\" stroke=\"#000000\" d=\"M1573.8055,-579.8796C1571.8336,-569.2134 1569.7054,-557.7021 1567.7087,-546.9015\"/>\n<polygon fill=\"#000000\" stroke=\"#000000\" points=\"1571.1036,-546.012 1565.8439,-536.8149 1564.2203,-547.2846 1571.1036,-546.012\"/>\n</g>\n<!-- 62 -->\n<g id=\"node63\" class=\"node\">\n<title>62</title>\n<path fill=\"#e58139\" stroke=\"#000000\" d=\"M1714,-536.5C1714,-536.5 1639,-536.5 1639,-536.5 1633,-536.5 1627,-530.5 1627,-524.5 1627,-524.5 1627,-480.5 1627,-480.5 1627,-474.5 1633,-468.5 1639,-468.5 1639,-468.5 1714,-468.5 1714,-468.5 1720,-468.5 1726,-474.5 1726,-480.5 1726,-480.5 1726,-524.5 1726,-524.5 1726,-530.5 1720,-536.5 1714,-536.5\"/>\n<text text-anchor=\"start\" x=\"1647\" y=\"-521.3\" font-family=\"Helvetica,sans-Serif\" font-size=\"14.00\" fill=\"#000000\">gini = 0.0</text>\n<text text-anchor=\"start\" x=\"1637\" y=\"-506.3\" font-family=\"Helvetica,sans-Serif\" font-size=\"14.00\" fill=\"#000000\">samples = 1</text>\n<text text-anchor=\"start\" x=\"1635\" y=\"-491.3\" font-family=\"Helvetica,sans-Serif\" font-size=\"14.00\" fill=\"#000000\">value = [1, 0]</text>\n<text text-anchor=\"start\" x=\"1640\" y=\"-476.3\" font-family=\"Helvetica,sans-Serif\" font-size=\"14.00\" fill=\"#000000\">class = yes</text>\n</g>\n<!-- 60&#45;&gt;62 -->\n<g id=\"edge62\" class=\"edge\">\n<title>60&#45;&gt;62</title>\n<path fill=\"none\" stroke=\"#000000\" d=\"M1614.7264,-579.8796C1623.7681,-568.5536 1633.5705,-556.2748 1642.6466,-544.9058\"/>\n<polygon fill=\"#000000\" stroke=\"#000000\" points=\"1645.602,-546.8137 1649.1057,-536.8149 1640.1315,-542.4464 1645.602,-546.8137\"/>\n</g>\n<!-- 65 -->\n<g id=\"node66\" class=\"node\">\n<title>65</title>\n<path fill=\"#49a5e7\" stroke=\"#000000\" d=\"M1990.5,-782C1990.5,-782 1856.5,-782 1856.5,-782 1850.5,-782 1844.5,-776 1844.5,-770 1844.5,-770 1844.5,-711 1844.5,-711 1844.5,-705 1850.5,-699 1856.5,-699 1856.5,-699 1990.5,-699 1990.5,-699 1996.5,-699 2002.5,-705 2002.5,-711 2002.5,-711 2002.5,-770 2002.5,-770 2002.5,-776 1996.5,-782 1990.5,-782\"/>\n<text text-anchor=\"start\" x=\"1852.5\" y=\"-766.8\" font-family=\"Helvetica,sans-Serif\" font-size=\"14.00\" fill=\"#000000\">User ID ≤ 15715128.5</text>\n<text text-anchor=\"start\" x=\"1885.5\" y=\"-751.8\" font-family=\"Helvetica,sans-Serif\" font-size=\"14.00\" fill=\"#000000\">gini = 0.136</text>\n<text text-anchor=\"start\" x=\"1879.5\" y=\"-736.8\" font-family=\"Helvetica,sans-Serif\" font-size=\"14.00\" fill=\"#000000\">samples = 41</text>\n<text text-anchor=\"start\" x=\"1878\" y=\"-721.8\" font-family=\"Helvetica,sans-Serif\" font-size=\"14.00\" fill=\"#000000\">value = [3, 38]</text>\n<text text-anchor=\"start\" x=\"1890\" y=\"-706.8\" font-family=\"Helvetica,sans-Serif\" font-size=\"14.00\" fill=\"#000000\">class = no</text>\n</g>\n<!-- 64&#45;&gt;65 -->\n<g id=\"edge65\" class=\"edge\">\n<title>64&#45;&gt;65</title>\n<path fill=\"none\" stroke=\"#000000\" d=\"M1923.5,-817.8796C1923.5,-809.6838 1923.5,-800.9891 1923.5,-792.5013\"/>\n<polygon fill=\"#000000\" stroke=\"#000000\" points=\"1927.0001,-792.298 1923.5,-782.2981 1920.0001,-792.2981 1927.0001,-792.298\"/>\n</g>\n<!-- 80 -->\n<g id=\"node81\" class=\"node\">\n<title>80</title>\n<path fill=\"#9ccef2\" stroke=\"#000000\" d=\"M2229.5,-782C2229.5,-782 2095.5,-782 2095.5,-782 2089.5,-782 2083.5,-776 2083.5,-770 2083.5,-770 2083.5,-711 2083.5,-711 2083.5,-705 2089.5,-699 2095.5,-699 2095.5,-699 2229.5,-699 2229.5,-699 2235.5,-699 2241.5,-705 2241.5,-711 2241.5,-711 2241.5,-770 2241.5,-770 2241.5,-776 2235.5,-782 2229.5,-782\"/>\n<text text-anchor=\"start\" x=\"2091.5\" y=\"-766.8\" font-family=\"Helvetica,sans-Serif\" font-size=\"14.00\" fill=\"#000000\">User ID ≤ 15794932.0</text>\n<text text-anchor=\"start\" x=\"2124.5\" y=\"-751.8\" font-family=\"Helvetica,sans-Serif\" font-size=\"14.00\" fill=\"#000000\">gini = 0.444</text>\n<text text-anchor=\"start\" x=\"2123\" y=\"-736.8\" font-family=\"Helvetica,sans-Serif\" font-size=\"14.00\" fill=\"#000000\">samples = 3</text>\n<text text-anchor=\"start\" x=\"2121\" y=\"-721.8\" font-family=\"Helvetica,sans-Serif\" font-size=\"14.00\" fill=\"#000000\">value = [1, 2]</text>\n<text text-anchor=\"start\" x=\"2129\" y=\"-706.8\" font-family=\"Helvetica,sans-Serif\" font-size=\"14.00\" fill=\"#000000\">class = no</text>\n</g>\n<!-- 64&#45;&gt;80 -->\n<g id=\"edge80\" class=\"edge\">\n<title>64&#45;&gt;80</title>\n<path fill=\"none\" stroke=\"#000000\" d=\"M2002.7516,-820.04C2025.6633,-808.6321 2050.8101,-796.1113 2074.2348,-784.448\"/>\n<polygon fill=\"#000000\" stroke=\"#000000\" points=\"2076.0711,-787.4435 2083.4629,-779.8532 2072.9511,-781.1773 2076.0711,-787.4435\"/>\n</g>\n<!-- 66 -->\n<g id=\"node67\" class=\"node\">\n<title>66</title>\n<path fill=\"#5caeea\" stroke=\"#000000\" d=\"M1958.5,-663C1958.5,-663 1824.5,-663 1824.5,-663 1818.5,-663 1812.5,-657 1812.5,-651 1812.5,-651 1812.5,-592 1812.5,-592 1812.5,-586 1818.5,-580 1824.5,-580 1824.5,-580 1958.5,-580 1958.5,-580 1964.5,-580 1970.5,-586 1970.5,-592 1970.5,-592 1970.5,-651 1970.5,-651 1970.5,-657 1964.5,-663 1958.5,-663\"/>\n<text text-anchor=\"start\" x=\"1820.5\" y=\"-647.8\" font-family=\"Helvetica,sans-Serif\" font-size=\"14.00\" fill=\"#000000\">User ID ≤ 15698184.0</text>\n<text text-anchor=\"start\" x=\"1853.5\" y=\"-632.8\" font-family=\"Helvetica,sans-Serif\" font-size=\"14.00\" fill=\"#000000\">gini = 0.255</text>\n<text text-anchor=\"start\" x=\"1847.5\" y=\"-617.8\" font-family=\"Helvetica,sans-Serif\" font-size=\"14.00\" fill=\"#000000\">samples = 20</text>\n<text text-anchor=\"start\" x=\"1846\" y=\"-602.8\" font-family=\"Helvetica,sans-Serif\" font-size=\"14.00\" fill=\"#000000\">value = [3, 17]</text>\n<text text-anchor=\"start\" x=\"1858\" y=\"-587.8\" font-family=\"Helvetica,sans-Serif\" font-size=\"14.00\" fill=\"#000000\">class = no</text>\n</g>\n<!-- 65&#45;&gt;66 -->\n<g id=\"edge66\" class=\"edge\">\n<title>65&#45;&gt;66</title>\n<path fill=\"none\" stroke=\"#000000\" d=\"M1912.308,-698.8796C1910.0798,-690.5938 1907.7146,-681.798 1905.4083,-673.2216\"/>\n<polygon fill=\"#000000\" stroke=\"#000000\" points=\"1908.7166,-672.0461 1902.7398,-663.2981 1901.9568,-673.8639 1908.7166,-672.0461\"/>\n</g>\n<!-- 79 -->\n<g id=\"node80\" class=\"node\">\n<title>79</title>\n<path fill=\"#399de5\" stroke=\"#000000\" d=\"M2083,-655.5C2083,-655.5 2000,-655.5 2000,-655.5 1994,-655.5 1988,-649.5 1988,-643.5 1988,-643.5 1988,-599.5 1988,-599.5 1988,-593.5 1994,-587.5 2000,-587.5 2000,-587.5 2083,-587.5 2083,-587.5 2089,-587.5 2095,-593.5 2095,-599.5 2095,-599.5 2095,-643.5 2095,-643.5 2095,-649.5 2089,-655.5 2083,-655.5\"/>\n<text text-anchor=\"start\" x=\"2012\" y=\"-640.3\" font-family=\"Helvetica,sans-Serif\" font-size=\"14.00\" fill=\"#000000\">gini = 0.0</text>\n<text text-anchor=\"start\" x=\"1997.5\" y=\"-625.3\" font-family=\"Helvetica,sans-Serif\" font-size=\"14.00\" fill=\"#000000\">samples = 21</text>\n<text text-anchor=\"start\" x=\"1996\" y=\"-610.3\" font-family=\"Helvetica,sans-Serif\" font-size=\"14.00\" fill=\"#000000\">value = [0, 21]</text>\n<text text-anchor=\"start\" x=\"2008\" y=\"-595.3\" font-family=\"Helvetica,sans-Serif\" font-size=\"14.00\" fill=\"#000000\">class = no</text>\n</g>\n<!-- 65&#45;&gt;79 -->\n<g id=\"edge79\" class=\"edge\">\n<title>65&#45;&gt;79</title>\n<path fill=\"none\" stroke=\"#000000\" d=\"M1964.7707,-698.8796C1976.2195,-687.3337 1988.6503,-674.7976 2000.1062,-663.2446\"/>\n<polygon fill=\"#000000\" stroke=\"#000000\" points=\"2002.9175,-665.3802 2007.4734,-655.8149 1997.9469,-660.4514 2002.9175,-665.3802\"/>\n</g>\n<!-- 67 -->\n<g id=\"node68\" class=\"node\">\n<title>67</title>\n<path fill=\"#50a9e8\" stroke=\"#000000\" d=\"M1963,-544C1963,-544 1788,-544 1788,-544 1782,-544 1776,-538 1776,-532 1776,-532 1776,-473 1776,-473 1776,-467 1782,-461 1788,-461 1788,-461 1963,-461 1963,-461 1969,-461 1975,-467 1975,-473 1975,-473 1975,-532 1975,-532 1975,-538 1969,-544 1963,-544\"/>\n<text text-anchor=\"start\" x=\"1784\" y=\"-528.8\" font-family=\"Helvetica,sans-Serif\" font-size=\"14.00\" fill=\"#000000\">EstimatedSalary ≤ 136000.0</text>\n<text text-anchor=\"start\" x=\"1837.5\" y=\"-513.8\" font-family=\"Helvetica,sans-Serif\" font-size=\"14.00\" fill=\"#000000\">gini = 0.188</text>\n<text text-anchor=\"start\" x=\"1831.5\" y=\"-498.8\" font-family=\"Helvetica,sans-Serif\" font-size=\"14.00\" fill=\"#000000\">samples = 19</text>\n<text text-anchor=\"start\" x=\"1830\" y=\"-483.8\" font-family=\"Helvetica,sans-Serif\" font-size=\"14.00\" fill=\"#000000\">value = [2, 17]</text>\n<text text-anchor=\"start\" x=\"1842\" y=\"-468.8\" font-family=\"Helvetica,sans-Serif\" font-size=\"14.00\" fill=\"#000000\">class = no</text>\n</g>\n<!-- 66&#45;&gt;67 -->\n<g id=\"edge67\" class=\"edge\">\n<title>66&#45;&gt;67</title>\n<path fill=\"none\" stroke=\"#000000\" d=\"M1885.904,-579.8796C1884.7899,-571.5938 1883.6073,-562.798 1882.4542,-554.2216\"/>\n<polygon fill=\"#000000\" stroke=\"#000000\" points=\"1885.9213,-553.7425 1881.1199,-544.2981 1878.9838,-554.6753 1885.9213,-553.7425\"/>\n</g>\n<!-- 78 -->\n<g id=\"node79\" class=\"node\">\n<title>78</title>\n<path fill=\"#e58139\" stroke=\"#000000\" d=\"M2080,-536.5C2080,-536.5 2005,-536.5 2005,-536.5 1999,-536.5 1993,-530.5 1993,-524.5 1993,-524.5 1993,-480.5 1993,-480.5 1993,-474.5 1999,-468.5 2005,-468.5 2005,-468.5 2080,-468.5 2080,-468.5 2086,-468.5 2092,-474.5 2092,-480.5 2092,-480.5 2092,-524.5 2092,-524.5 2092,-530.5 2086,-536.5 2080,-536.5\"/>\n<text text-anchor=\"start\" x=\"2013\" y=\"-521.3\" font-family=\"Helvetica,sans-Serif\" font-size=\"14.00\" fill=\"#000000\">gini = 0.0</text>\n<text text-anchor=\"start\" x=\"2003\" y=\"-506.3\" font-family=\"Helvetica,sans-Serif\" font-size=\"14.00\" fill=\"#000000\">samples = 1</text>\n<text text-anchor=\"start\" x=\"2001\" y=\"-491.3\" font-family=\"Helvetica,sans-Serif\" font-size=\"14.00\" fill=\"#000000\">value = [1, 0]</text>\n<text text-anchor=\"start\" x=\"2006\" y=\"-476.3\" font-family=\"Helvetica,sans-Serif\" font-size=\"14.00\" fill=\"#000000\">class = yes</text>\n</g>\n<!-- 66&#45;&gt;78 -->\n<g id=\"edge78\" class=\"edge\">\n<title>66&#45;&gt;78</title>\n<path fill=\"none\" stroke=\"#000000\" d=\"M1944.3125,-579.8796C1959.3817,-568.0038 1975.7803,-555.0804 1990.7834,-543.2568\"/>\n<polygon fill=\"#000000\" stroke=\"#000000\" points=\"1993.2698,-545.7536 1998.9575,-536.8149 1988.9369,-540.2557 1993.2698,-545.7536\"/>\n</g>\n<!-- 68 -->\n<g id=\"node69\" class=\"node\">\n<title>68</title>\n<path fill=\"#45a3e7\" stroke=\"#000000\" d=\"M1835,-425C1835,-425 1752,-425 1752,-425 1746,-425 1740,-419 1740,-413 1740,-413 1740,-354 1740,-354 1740,-348 1746,-342 1752,-342 1752,-342 1835,-342 1835,-342 1841,-342 1847,-348 1847,-354 1847,-354 1847,-413 1847,-413 1847,-419 1841,-425 1835,-425\"/>\n<text text-anchor=\"start\" x=\"1758.5\" y=\"-409.8\" font-family=\"Helvetica,sans-Serif\" font-size=\"14.00\" fill=\"#000000\">Age ≤ 58.5</text>\n<text text-anchor=\"start\" x=\"1755.5\" y=\"-394.8\" font-family=\"Helvetica,sans-Serif\" font-size=\"14.00\" fill=\"#000000\">gini = 0.111</text>\n<text text-anchor=\"start\" x=\"1749.5\" y=\"-379.8\" font-family=\"Helvetica,sans-Serif\" font-size=\"14.00\" fill=\"#000000\">samples = 17</text>\n<text text-anchor=\"start\" x=\"1748\" y=\"-364.8\" font-family=\"Helvetica,sans-Serif\" font-size=\"14.00\" fill=\"#000000\">value = [1, 16]</text>\n<text text-anchor=\"start\" x=\"1760\" y=\"-349.8\" font-family=\"Helvetica,sans-Serif\" font-size=\"14.00\" fill=\"#000000\">class = no</text>\n</g>\n<!-- 67&#45;&gt;68 -->\n<g id=\"edge68\" class=\"edge\">\n<title>67&#45;&gt;68</title>\n<path fill=\"none\" stroke=\"#000000\" d=\"M1846.8204,-460.8796C1840.7385,-452.0534 1834.2578,-442.6485 1827.9859,-433.5466\"/>\n<polygon fill=\"#000000\" stroke=\"#000000\" points=\"1830.8582,-431.5465 1822.302,-425.2981 1825.0941,-435.5184 1830.8582,-431.5465\"/>\n</g>\n<!-- 75 -->\n<g id=\"node76\" class=\"node\">\n<title>75</title>\n<path fill=\"#ffffff\" stroke=\"#000000\" d=\"M1994,-425C1994,-425 1919,-425 1919,-425 1913,-425 1907,-419 1907,-413 1907,-413 1907,-354 1907,-354 1907,-348 1913,-342 1919,-342 1919,-342 1994,-342 1994,-342 2000,-342 2006,-348 2006,-354 2006,-354 2006,-413 2006,-413 2006,-419 2000,-425 1994,-425\"/>\n<text text-anchor=\"start\" x=\"1921.5\" y=\"-409.8\" font-family=\"Helvetica,sans-Serif\" font-size=\"14.00\" fill=\"#000000\">Age ≤ 53.0</text>\n<text text-anchor=\"start\" x=\"1927\" y=\"-394.8\" font-family=\"Helvetica,sans-Serif\" font-size=\"14.00\" fill=\"#000000\">gini = 0.5</text>\n<text text-anchor=\"start\" x=\"1917\" y=\"-379.8\" font-family=\"Helvetica,sans-Serif\" font-size=\"14.00\" fill=\"#000000\">samples = 2</text>\n<text text-anchor=\"start\" x=\"1915\" y=\"-364.8\" font-family=\"Helvetica,sans-Serif\" font-size=\"14.00\" fill=\"#000000\">value = [1, 1]</text>\n<text text-anchor=\"start\" x=\"1920\" y=\"-349.8\" font-family=\"Helvetica,sans-Serif\" font-size=\"14.00\" fill=\"#000000\">class = yes</text>\n</g>\n<!-- 67&#45;&gt;75 -->\n<g id=\"edge75\" class=\"edge\">\n<title>67&#45;&gt;75</title>\n<path fill=\"none\" stroke=\"#000000\" d=\"M1903.8299,-460.8796C1909.7763,-452.1434 1916.1086,-442.8404 1922.245,-433.8253\"/>\n<polygon fill=\"#000000\" stroke=\"#000000\" points=\"1925.3156,-435.5342 1928.0492,-425.2981 1919.5289,-431.5953 1925.3156,-435.5342\"/>\n</g>\n<!-- 69 -->\n<g id=\"node70\" class=\"node\">\n<title>69</title>\n<path fill=\"#399de5\" stroke=\"#000000\" d=\"M1668,-298.5C1668,-298.5 1585,-298.5 1585,-298.5 1579,-298.5 1573,-292.5 1573,-286.5 1573,-286.5 1573,-242.5 1573,-242.5 1573,-236.5 1579,-230.5 1585,-230.5 1585,-230.5 1668,-230.5 1668,-230.5 1674,-230.5 1680,-236.5 1680,-242.5 1680,-242.5 1680,-286.5 1680,-286.5 1680,-292.5 1674,-298.5 1668,-298.5\"/>\n<text text-anchor=\"start\" x=\"1597\" y=\"-283.3\" font-family=\"Helvetica,sans-Serif\" font-size=\"14.00\" fill=\"#000000\">gini = 0.0</text>\n<text text-anchor=\"start\" x=\"1582.5\" y=\"-268.3\" font-family=\"Helvetica,sans-Serif\" font-size=\"14.00\" fill=\"#000000\">samples = 13</text>\n<text text-anchor=\"start\" x=\"1581\" y=\"-253.3\" font-family=\"Helvetica,sans-Serif\" font-size=\"14.00\" fill=\"#000000\">value = [0, 13]</text>\n<text text-anchor=\"start\" x=\"1593\" y=\"-238.3\" font-family=\"Helvetica,sans-Serif\" font-size=\"14.00\" fill=\"#000000\">class = no</text>\n</g>\n<!-- 68&#45;&gt;69 -->\n<g id=\"edge69\" class=\"edge\">\n<title>68&#45;&gt;69</title>\n<path fill=\"none\" stroke=\"#000000\" d=\"M1739.7409,-345.1926C1721.4671,-332.1712 1701.0074,-317.5921 1682.5584,-304.4458\"/>\n<polygon fill=\"#000000\" stroke=\"#000000\" points=\"1684.4135,-301.4701 1674.2385,-298.5172 1680.3513,-307.1708 1684.4135,-301.4701\"/>\n</g>\n<!-- 70 -->\n<g id=\"node71\" class=\"node\">\n<title>70</title>\n<path fill=\"#7bbeee\" stroke=\"#000000\" d=\"M1877,-306C1877,-306 1710,-306 1710,-306 1704,-306 1698,-300 1698,-294 1698,-294 1698,-235 1698,-235 1698,-229 1704,-223 1710,-223 1710,-223 1877,-223 1877,-223 1883,-223 1889,-229 1889,-235 1889,-235 1889,-294 1889,-294 1889,-300 1883,-306 1877,-306\"/>\n<text text-anchor=\"start\" x=\"1706\" y=\"-290.8\" font-family=\"Helvetica,sans-Serif\" font-size=\"14.00\" fill=\"#000000\">EstimatedSalary ≤ 85500.0</text>\n<text text-anchor=\"start\" x=\"1755.5\" y=\"-275.8\" font-family=\"Helvetica,sans-Serif\" font-size=\"14.00\" fill=\"#000000\">gini = 0.375</text>\n<text text-anchor=\"start\" x=\"1754\" y=\"-260.8\" font-family=\"Helvetica,sans-Serif\" font-size=\"14.00\" fill=\"#000000\">samples = 4</text>\n<text text-anchor=\"start\" x=\"1752\" y=\"-245.8\" font-family=\"Helvetica,sans-Serif\" font-size=\"14.00\" fill=\"#000000\">value = [1, 3]</text>\n<text text-anchor=\"start\" x=\"1760\" y=\"-230.8\" font-family=\"Helvetica,sans-Serif\" font-size=\"14.00\" fill=\"#000000\">class = no</text>\n</g>\n<!-- 68&#45;&gt;70 -->\n<g id=\"edge70\" class=\"edge\">\n<title>68&#45;&gt;70</title>\n<path fill=\"none\" stroke=\"#000000\" d=\"M1793.5,-341.8796C1793.5,-333.6838 1793.5,-324.9891 1793.5,-316.5013\"/>\n<polygon fill=\"#000000\" stroke=\"#000000\" points=\"1797.0001,-316.298 1793.5,-306.2981 1790.0001,-316.2981 1797.0001,-316.298\"/>\n</g>\n<!-- 71 -->\n<g id=\"node72\" class=\"node\">\n<title>71</title>\n<path fill=\"#ffffff\" stroke=\"#000000\" d=\"M1795,-187C1795,-187 1628,-187 1628,-187 1622,-187 1616,-181 1616,-175 1616,-175 1616,-116 1616,-116 1616,-110 1622,-104 1628,-104 1628,-104 1795,-104 1795,-104 1801,-104 1807,-110 1807,-116 1807,-116 1807,-175 1807,-175 1807,-181 1801,-187 1795,-187\"/>\n<text text-anchor=\"start\" x=\"1624\" y=\"-171.8\" font-family=\"Helvetica,sans-Serif\" font-size=\"14.00\" fill=\"#000000\">EstimatedSalary ≤ 79500.0</text>\n<text text-anchor=\"start\" x=\"1682\" y=\"-156.8\" font-family=\"Helvetica,sans-Serif\" font-size=\"14.00\" fill=\"#000000\">gini = 0.5</text>\n<text text-anchor=\"start\" x=\"1672\" y=\"-141.8\" font-family=\"Helvetica,sans-Serif\" font-size=\"14.00\" fill=\"#000000\">samples = 2</text>\n<text text-anchor=\"start\" x=\"1670\" y=\"-126.8\" font-family=\"Helvetica,sans-Serif\" font-size=\"14.00\" fill=\"#000000\">value = [1, 1]</text>\n<text text-anchor=\"start\" x=\"1675\" y=\"-111.8\" font-family=\"Helvetica,sans-Serif\" font-size=\"14.00\" fill=\"#000000\">class = yes</text>\n</g>\n<!-- 70&#45;&gt;71 -->\n<g id=\"edge71\" class=\"edge\">\n<title>70&#45;&gt;71</title>\n<path fill=\"none\" stroke=\"#000000\" d=\"M1764.8204,-222.8796C1758.7385,-214.0534 1752.2578,-204.6485 1745.9859,-195.5466\"/>\n<polygon fill=\"#000000\" stroke=\"#000000\" points=\"1748.8582,-193.5465 1740.302,-187.2981 1743.0941,-197.5184 1748.8582,-193.5465\"/>\n</g>\n<!-- 74 -->\n<g id=\"node75\" class=\"node\">\n<title>74</title>\n<path fill=\"#399de5\" stroke=\"#000000\" d=\"M1912,-179.5C1912,-179.5 1837,-179.5 1837,-179.5 1831,-179.5 1825,-173.5 1825,-167.5 1825,-167.5 1825,-123.5 1825,-123.5 1825,-117.5 1831,-111.5 1837,-111.5 1837,-111.5 1912,-111.5 1912,-111.5 1918,-111.5 1924,-117.5 1924,-123.5 1924,-123.5 1924,-167.5 1924,-167.5 1924,-173.5 1918,-179.5 1912,-179.5\"/>\n<text text-anchor=\"start\" x=\"1845\" y=\"-164.3\" font-family=\"Helvetica,sans-Serif\" font-size=\"14.00\" fill=\"#000000\">gini = 0.0</text>\n<text text-anchor=\"start\" x=\"1835\" y=\"-149.3\" font-family=\"Helvetica,sans-Serif\" font-size=\"14.00\" fill=\"#000000\">samples = 2</text>\n<text text-anchor=\"start\" x=\"1833\" y=\"-134.3\" font-family=\"Helvetica,sans-Serif\" font-size=\"14.00\" fill=\"#000000\">value = [0, 2]</text>\n<text text-anchor=\"start\" x=\"1841\" y=\"-119.3\" font-family=\"Helvetica,sans-Serif\" font-size=\"14.00\" fill=\"#000000\">class = no</text>\n</g>\n<!-- 70&#45;&gt;74 -->\n<g id=\"edge74\" class=\"edge\">\n<title>70&#45;&gt;74</title>\n<path fill=\"none\" stroke=\"#000000\" d=\"M1821.8299,-222.8796C1829.4643,-211.6636 1837.7348,-199.5131 1845.4099,-188.2372\"/>\n<polygon fill=\"#000000\" stroke=\"#000000\" points=\"1848.4092,-190.0511 1851.1428,-179.8149 1842.6225,-186.1122 1848.4092,-190.0511\"/>\n</g>\n<!-- 72 -->\n<g id=\"node73\" class=\"node\">\n<title>72</title>\n<path fill=\"#399de5\" stroke=\"#000000\" d=\"M1691,-68C1691,-68 1616,-68 1616,-68 1610,-68 1604,-62 1604,-56 1604,-56 1604,-12 1604,-12 1604,-6 1610,0 1616,0 1616,0 1691,0 1691,0 1697,0 1703,-6 1703,-12 1703,-12 1703,-56 1703,-56 1703,-62 1697,-68 1691,-68\"/>\n<text text-anchor=\"start\" x=\"1624\" y=\"-52.8\" font-family=\"Helvetica,sans-Serif\" font-size=\"14.00\" fill=\"#000000\">gini = 0.0</text>\n<text text-anchor=\"start\" x=\"1614\" y=\"-37.8\" font-family=\"Helvetica,sans-Serif\" font-size=\"14.00\" fill=\"#000000\">samples = 1</text>\n<text text-anchor=\"start\" x=\"1612\" y=\"-22.8\" font-family=\"Helvetica,sans-Serif\" font-size=\"14.00\" fill=\"#000000\">value = [0, 1]</text>\n<text text-anchor=\"start\" x=\"1620\" y=\"-7.8\" font-family=\"Helvetica,sans-Serif\" font-size=\"14.00\" fill=\"#000000\">class = no</text>\n</g>\n<!-- 71&#45;&gt;72 -->\n<g id=\"edge72\" class=\"edge\">\n<title>71&#45;&gt;72</title>\n<path fill=\"none\" stroke=\"#000000\" d=\"M1689.9029,-103.9815C1685.3612,-95.2504 1680.5598,-86.0202 1675.9863,-77.2281\"/>\n<polygon fill=\"#000000\" stroke=\"#000000\" points=\"1679.0431,-75.52 1671.3233,-68.2637 1672.8331,-78.7504 1679.0431,-75.52\"/>\n</g>\n<!-- 73 -->\n<g id=\"node74\" class=\"node\">\n<title>73</title>\n<path fill=\"#e58139\" stroke=\"#000000\" d=\"M1808,-68C1808,-68 1733,-68 1733,-68 1727,-68 1721,-62 1721,-56 1721,-56 1721,-12 1721,-12 1721,-6 1727,0 1733,0 1733,0 1808,0 1808,0 1814,0 1820,-6 1820,-12 1820,-12 1820,-56 1820,-56 1820,-62 1814,-68 1808,-68\"/>\n<text text-anchor=\"start\" x=\"1741\" y=\"-52.8\" font-family=\"Helvetica,sans-Serif\" font-size=\"14.00\" fill=\"#000000\">gini = 0.0</text>\n<text text-anchor=\"start\" x=\"1731\" y=\"-37.8\" font-family=\"Helvetica,sans-Serif\" font-size=\"14.00\" fill=\"#000000\">samples = 1</text>\n<text text-anchor=\"start\" x=\"1729\" y=\"-22.8\" font-family=\"Helvetica,sans-Serif\" font-size=\"14.00\" fill=\"#000000\">value = [1, 0]</text>\n<text text-anchor=\"start\" x=\"1734\" y=\"-7.8\" font-family=\"Helvetica,sans-Serif\" font-size=\"14.00\" fill=\"#000000\">class = yes</text>\n</g>\n<!-- 71&#45;&gt;73 -->\n<g id=\"edge73\" class=\"edge\">\n<title>71&#45;&gt;73</title>\n<path fill=\"none\" stroke=\"#000000\" d=\"M1733.4694,-103.9815C1738.0895,-95.2504 1742.9736,-86.0202 1747.626,-77.2281\"/>\n<polygon fill=\"#000000\" stroke=\"#000000\" points=\"1750.7859,-78.7395 1752.3694,-68.2637 1744.5987,-75.4655 1750.7859,-78.7395\"/>\n</g>\n<!-- 76 -->\n<g id=\"node77\" class=\"node\">\n<title>76</title>\n<path fill=\"#e58139\" stroke=\"#000000\" d=\"M1994,-298.5C1994,-298.5 1919,-298.5 1919,-298.5 1913,-298.5 1907,-292.5 1907,-286.5 1907,-286.5 1907,-242.5 1907,-242.5 1907,-236.5 1913,-230.5 1919,-230.5 1919,-230.5 1994,-230.5 1994,-230.5 2000,-230.5 2006,-236.5 2006,-242.5 2006,-242.5 2006,-286.5 2006,-286.5 2006,-292.5 2000,-298.5 1994,-298.5\"/>\n<text text-anchor=\"start\" x=\"1927\" y=\"-283.3\" font-family=\"Helvetica,sans-Serif\" font-size=\"14.00\" fill=\"#000000\">gini = 0.0</text>\n<text text-anchor=\"start\" x=\"1917\" y=\"-268.3\" font-family=\"Helvetica,sans-Serif\" font-size=\"14.00\" fill=\"#000000\">samples = 1</text>\n<text text-anchor=\"start\" x=\"1915\" y=\"-253.3\" font-family=\"Helvetica,sans-Serif\" font-size=\"14.00\" fill=\"#000000\">value = [1, 0]</text>\n<text text-anchor=\"start\" x=\"1920\" y=\"-238.3\" font-family=\"Helvetica,sans-Serif\" font-size=\"14.00\" fill=\"#000000\">class = yes</text>\n</g>\n<!-- 75&#45;&gt;76 -->\n<g id=\"edge76\" class=\"edge\">\n<title>75&#45;&gt;76</title>\n<path fill=\"none\" stroke=\"#000000\" d=\"M1956.5,-341.8796C1956.5,-331.2134 1956.5,-319.7021 1956.5,-308.9015\"/>\n<polygon fill=\"#000000\" stroke=\"#000000\" points=\"1960.0001,-308.8149 1956.5,-298.8149 1953.0001,-308.815 1960.0001,-308.8149\"/>\n</g>\n<!-- 77 -->\n<g id=\"node78\" class=\"node\">\n<title>77</title>\n<path fill=\"#399de5\" stroke=\"#000000\" d=\"M2111,-298.5C2111,-298.5 2036,-298.5 2036,-298.5 2030,-298.5 2024,-292.5 2024,-286.5 2024,-286.5 2024,-242.5 2024,-242.5 2024,-236.5 2030,-230.5 2036,-230.5 2036,-230.5 2111,-230.5 2111,-230.5 2117,-230.5 2123,-236.5 2123,-242.5 2123,-242.5 2123,-286.5 2123,-286.5 2123,-292.5 2117,-298.5 2111,-298.5\"/>\n<text text-anchor=\"start\" x=\"2044\" y=\"-283.3\" font-family=\"Helvetica,sans-Serif\" font-size=\"14.00\" fill=\"#000000\">gini = 0.0</text>\n<text text-anchor=\"start\" x=\"2034\" y=\"-268.3\" font-family=\"Helvetica,sans-Serif\" font-size=\"14.00\" fill=\"#000000\">samples = 1</text>\n<text text-anchor=\"start\" x=\"2032\" y=\"-253.3\" font-family=\"Helvetica,sans-Serif\" font-size=\"14.00\" fill=\"#000000\">value = [0, 1]</text>\n<text text-anchor=\"start\" x=\"2040\" y=\"-238.3\" font-family=\"Helvetica,sans-Serif\" font-size=\"14.00\" fill=\"#000000\">class = no</text>\n</g>\n<!-- 75&#45;&gt;77 -->\n<g id=\"edge77\" class=\"edge\">\n<title>75&#45;&gt;77</title>\n<path fill=\"none\" stroke=\"#000000\" d=\"M1997.4209,-341.8796C2008.7728,-330.3337 2021.0982,-317.7976 2032.457,-306.2446\"/>\n<polygon fill=\"#000000\" stroke=\"#000000\" points=\"2035.2466,-308.3995 2039.7618,-298.8149 2030.2551,-303.4919 2035.2466,-308.3995\"/>\n</g>\n<!-- 81 -->\n<g id=\"node82\" class=\"node\">\n<title>81</title>\n<path fill=\"#e58139\" stroke=\"#000000\" d=\"M2200,-655.5C2200,-655.5 2125,-655.5 2125,-655.5 2119,-655.5 2113,-649.5 2113,-643.5 2113,-643.5 2113,-599.5 2113,-599.5 2113,-593.5 2119,-587.5 2125,-587.5 2125,-587.5 2200,-587.5 2200,-587.5 2206,-587.5 2212,-593.5 2212,-599.5 2212,-599.5 2212,-643.5 2212,-643.5 2212,-649.5 2206,-655.5 2200,-655.5\"/>\n<text text-anchor=\"start\" x=\"2133\" y=\"-640.3\" font-family=\"Helvetica,sans-Serif\" font-size=\"14.00\" fill=\"#000000\">gini = 0.0</text>\n<text text-anchor=\"start\" x=\"2123\" y=\"-625.3\" font-family=\"Helvetica,sans-Serif\" font-size=\"14.00\" fill=\"#000000\">samples = 1</text>\n<text text-anchor=\"start\" x=\"2121\" y=\"-610.3\" font-family=\"Helvetica,sans-Serif\" font-size=\"14.00\" fill=\"#000000\">value = [1, 0]</text>\n<text text-anchor=\"start\" x=\"2126\" y=\"-595.3\" font-family=\"Helvetica,sans-Serif\" font-size=\"14.00\" fill=\"#000000\">class = yes</text>\n</g>\n<!-- 80&#45;&gt;81 -->\n<g id=\"edge81\" class=\"edge\">\n<title>80&#45;&gt;81</title>\n<path fill=\"none\" stroke=\"#000000\" d=\"M2162.5,-698.8796C2162.5,-688.2134 2162.5,-676.7021 2162.5,-665.9015\"/>\n<polygon fill=\"#000000\" stroke=\"#000000\" points=\"2166.0001,-665.8149 2162.5,-655.8149 2159.0001,-665.815 2166.0001,-665.8149\"/>\n</g>\n<!-- 82 -->\n<g id=\"node83\" class=\"node\">\n<title>82</title>\n<path fill=\"#399de5\" stroke=\"#000000\" d=\"M2317,-655.5C2317,-655.5 2242,-655.5 2242,-655.5 2236,-655.5 2230,-649.5 2230,-643.5 2230,-643.5 2230,-599.5 2230,-599.5 2230,-593.5 2236,-587.5 2242,-587.5 2242,-587.5 2317,-587.5 2317,-587.5 2323,-587.5 2329,-593.5 2329,-599.5 2329,-599.5 2329,-643.5 2329,-643.5 2329,-649.5 2323,-655.5 2317,-655.5\"/>\n<text text-anchor=\"start\" x=\"2250\" y=\"-640.3\" font-family=\"Helvetica,sans-Serif\" font-size=\"14.00\" fill=\"#000000\">gini = 0.0</text>\n<text text-anchor=\"start\" x=\"2240\" y=\"-625.3\" font-family=\"Helvetica,sans-Serif\" font-size=\"14.00\" fill=\"#000000\">samples = 2</text>\n<text text-anchor=\"start\" x=\"2238\" y=\"-610.3\" font-family=\"Helvetica,sans-Serif\" font-size=\"14.00\" fill=\"#000000\">value = [0, 2]</text>\n<text text-anchor=\"start\" x=\"2246\" y=\"-595.3\" font-family=\"Helvetica,sans-Serif\" font-size=\"14.00\" fill=\"#000000\">class = no</text>\n</g>\n<!-- 80&#45;&gt;82 -->\n<g id=\"edge82\" class=\"edge\">\n<title>80&#45;&gt;82</title>\n<path fill=\"none\" stroke=\"#000000\" d=\"M2203.4209,-698.8796C2214.7728,-687.3337 2227.0982,-674.7976 2238.457,-663.2446\"/>\n<polygon fill=\"#000000\" stroke=\"#000000\" points=\"2241.2466,-665.3995 2245.7618,-655.8149 2236.2551,-660.4919 2241.2466,-665.3995\"/>\n</g>\n</g>\n</svg>\n"
          },
          "metadata": {
            "tags": []
          },
          "execution_count": 17
        }
      ]
    },
    {
      "cell_type": "markdown",
      "metadata": {
        "id": "QuObcH9HC-NS"
      },
      "source": [
        "# Try to increase the Accuracy of the Previous Decision Tree \n",
        "\n",
        "1. Play with Test Size. \n",
        "2. Try Scaling Techniques. \n",
        "3. Modify Tree Parameters.\n",
        "4. Try To Understand Any Parameter You change."
      ]
    },
    {
      "cell_type": "markdown",
      "source": [
        "### play with Test Size"
      ],
      "metadata": {
        "id": "3WzYbuCqLhUF"
      }
    },
    {
      "cell_type": "code",
      "source": [
        "X_train, X_test, y_train, y_test = train_test_split(X,y, test_size = 0.25,shuffle=True,random_state=0)\n",
        "print(f' X_train: {X_train.shape} & X_test: {X_test.shape}')\n",
        "print(f' y_train: {y_train.shape} & y_test: {y_test.shape}')"
      ],
      "metadata": {
        "colab": {
          "base_uri": "https://localhost:8080/"
        },
        "id": "sGS1-2fzLtAX",
        "outputId": "b260960b-e064-4246-b0d4-9af946f08225"
      },
      "execution_count": null,
      "outputs": [
        {
          "output_type": "stream",
          "name": "stdout",
          "text": [
            " X_train: (300, 4) & X_test: (100, 4)\n",
            " y_train: (300,) & y_test: (100,)\n"
          ]
        }
      ]
    },
    {
      "cell_type": "code",
      "source": [
        "from sklearn.preprocessing import LabelEncoder\n",
        "encoder=LabelEncoder()\n",
        "X_train[:,1] = encoder.fit_transform(X_train[:,1])\n",
        "X_test[:,1]=encoder.transform(X_test[:,1] )\n",
        "X_train"
      ],
      "metadata": {
        "colab": {
          "base_uri": "https://localhost:8080/"
        },
        "id": "BV6-e5guMMjW",
        "outputId": "03f04e21-a89d-4a89-b97b-ec0f52077407"
      },
      "execution_count": null,
      "outputs": [
        {
          "output_type": "execute_result",
          "data": {
            "text/plain": [
              "array([[15810075, 0, 44, 39000],\n",
              "       [15583681, 1, 32, 120000],\n",
              "       [15733964, 0, 38, 50000],\n",
              "       ...,\n",
              "       [15591433, 1, 36, 52000],\n",
              "       [15776348, 0, 27, 54000],\n",
              "       [15794661, 0, 26, 118000]], dtype=object)"
            ]
          },
          "metadata": {},
          "execution_count": 11
        }
      ]
    },
    {
      "cell_type": "markdown",
      "source": [
        "### Scaling Techniques"
      ],
      "metadata": {
        "id": "HeXbudLsDd8A"
      }
    },
    {
      "cell_type": "code",
      "metadata": {
        "id": "XSraQe43DgSw",
        "colab": {
          "base_uri": "https://localhost:8080/"
        },
        "outputId": "1844e8a8-a528-4995-f22e-4def492025bd"
      },
      "source": [
        "# Normalization \n",
        "from sklearn.preprocessing import MinMaxScaler\n",
        "scaler = MinMaxScaler()\n",
        "X_train_scaled = scaler.fit_transform(X_train)\n",
        "X_test_scaled = scaler.transform(X_test)\n",
        "\n",
        "print(np.min(X_train_scaled))\n",
        "print(np.max(X_train_scaled))"
      ],
      "execution_count": null,
      "outputs": [
        {
          "output_type": "stream",
          "name": "stdout",
          "text": [
            "0.0\n",
            "1.0\n"
          ]
        }
      ]
    },
    {
      "cell_type": "markdown",
      "source": [
        "\n",
        "\n",
        "### Training and Evaluating on the Training Set"
      ],
      "metadata": {
        "id": "spl_POQjDgbe"
      }
    },
    {
      "cell_type": "code",
      "source": [
        "clf = DecisionTreeClassifier(criterion='entropy',splitter='best',max_depth=5,random_state=0)\n",
        "clf.fit(X_train_scaled, y_train)"
      ],
      "metadata": {
        "colab": {
          "base_uri": "https://localhost:8080/"
        },
        "id": "QgV9gKmPLRUl",
        "outputId": "6ce1eb9c-992e-4b4a-98d1-c3b4e972e5af"
      },
      "execution_count": null,
      "outputs": [
        {
          "output_type": "execute_result",
          "data": {
            "text/plain": [
              "DecisionTreeClassifier(criterion='entropy', max_depth=5, random_state=0)"
            ]
          },
          "metadata": {},
          "execution_count": 13
        }
      ]
    },
    {
      "cell_type": "code",
      "source": [
        "y_pred_en = clf.predict(X_test_scaled)\n",
        "y_pred_train = clf.predict(X_train_scaled)\n",
        "print('Accuracy score of Test: ', accuracy_score(y_test, y_pred_en)*100)\n",
        "print('Accuracy score of Train: ', accuracy_score(y_train, y_pred_train)*100)"
      ],
      "metadata": {
        "colab": {
          "base_uri": "https://localhost:8080/"
        },
        "id": "i0SsrqS0MT0t",
        "outputId": "6307fe7d-1bab-4fa2-bcbb-b5b9e7c32b55"
      },
      "execution_count": null,
      "outputs": [
        {
          "output_type": "stream",
          "name": "stdout",
          "text": [
            "Accuracy score of Test:  91.0\n",
            "Accuracy score of Train:  93.33333333333333\n"
          ]
        }
      ]
    },
    {
      "cell_type": "code",
      "source": [
        "from sklearn.metrics import plot_confusion_matrix\n",
        "import matplotlib.pyplot as plt \n",
        "\n",
        "disp = plot_confusion_matrix(clf, X_test_scaled, y_test,\n",
        "                              display_labels=['Yes','No'],\n",
        "                              cmap=plt.cm.Blues)"
      ],
      "metadata": {
        "colab": {
          "base_uri": "https://localhost:8080/",
          "height": 335
        },
        "id": "-2ut0L9XkM6N",
        "outputId": "db830e8d-4271-407c-a5c7-afb264ed7869"
      },
      "execution_count": null,
      "outputs": [
        {
          "output_type": "stream",
          "name": "stderr",
          "text": [
            "/usr/local/lib/python3.7/dist-packages/sklearn/utils/deprecation.py:87: FutureWarning: Function plot_confusion_matrix is deprecated; Function `plot_confusion_matrix` is deprecated in 1.0 and will be removed in 1.2. Use one of the class methods: ConfusionMatrixDisplay.from_predictions or ConfusionMatrixDisplay.from_estimator.\n",
            "  warnings.warn(msg, category=FutureWarning)\n"
          ]
        },
        {
          "output_type": "display_data",
          "data": {
            "text/plain": [
              "<Figure size 432x288 with 2 Axes>"
            ],
            "image/png": "[encoded data removed]"
          },
          "metadata": {
            "needs_background": "light"
          }
        }
      ]
    },
    {
      "cell_type": "markdown",
      "source": [
        "# Build a Logistic Regression \n",
        "\n",
        "1. From Sk Learn Try to build a Logistic Regression\n",
        "2. Check the Accuracy  of it and compare with DT \n",
        "3. What do you think Logistic Regression has limit with ? "
      ],
      "metadata": {
        "id": "FTFZLX7jgtBG"
      }
    },
    {
      "cell_type": "code",
      "source": [
        "# from sklearn.linear_model import LogisticRegression\n",
        "# from sklearn.preprocessing import PolynomialFeatures\n",
        "# from sklearn.preprocessing import MinMaxScaler\n",
        "\n",
        "# poly_reg = PolynomialFeatures(degree = 3)\n",
        "# X_train_poly_b = poly_reg.fit_transform(X_train)\n",
        "# X_test_poly_b = poly_reg.transform(X_test)\n",
        "\n",
        "# scaler = MinMaxScaler()\n",
        "# X_train_scaled = scaler.fit_transform(X_train_poly_b)\n",
        "# X_test_scaled = scaler.transform(X_test_poly_b)\n",
        "\n",
        "# lg = LogisticRegression(penalty='l2',random_state=0)\n",
        "# lg.fit(X_train_scaled, y_train)"
      ],
      "metadata": {
        "id": "Zaxtk4A4g9Kv"
      },
      "execution_count": null,
      "outputs": []
    },
    {
      "cell_type": "code",
      "source": [
        "# y_pred_en = lg.predict(X_test_scaled)\n",
        "# y_pred_train = lg.predict(X_train_scaled)\n",
        "# print('Accuracy score of Test: ', accuracy_score(y_test, y_pred_en)*100)\n",
        "# print('Accuracy score of Train: ', accuracy_score(y_train, y_pred_train)*100)"
      ],
      "metadata": {
        "id": "naubA5jdiM6B"
      },
      "execution_count": null,
      "outputs": []
    },
    {
      "cell_type": "markdown",
      "metadata": {
        "id": "P3ELf-jpLcll"
      },
      "source": [
        "# **Confusion Matrix**  \n",
        "\n"
      ]
    },
    {
      "cell_type": "code",
      "metadata": {
        "id": "ogQQxxN_Lxkw"
      },
      "source": [
        "# from sklearn.metrics import plot_confusion_matrix\n",
        "# import matplotlib.pyplot as plt \n",
        "\n",
        "# disp = plot_confusion_matrix(lg, X_test_scaled, y_test,\n",
        "#                               display_labels=['Yes','No'],\n",
        "#                               cmap=plt.cm.Blues)"
      ],
      "execution_count": null,
      "outputs": []
    },
    {
      "cell_type": "code",
      "metadata": {
        "id": "zSNOT3VgDDMf"
      },
      "source": [
        "# import sklearn pip\n",
        "# sklearn.__version__"
      ],
      "execution_count": null,
      "outputs": []
    },
    {
      "cell_type": "code",
      "metadata": {
        "id": "owUIsrzODL9W"
      },
      "source": [
        "# !conda install scikit-learn=0.22"
      ],
      "execution_count": null,
      "outputs": []
    },
    {
      "cell_type": "code",
      "metadata": {
        "id": "NQ6agHDVCXLJ"
      },
      "source": [
        "# from sklearn.metrics import confusion_matrix\n",
        "# cm = confusion_matrix(y_test,y_pred_en)\n",
        "# cm"
      ],
      "execution_count": null,
      "outputs": []
    },
    {
      "cell_type": "markdown",
      "metadata": {
        "id": "kxBpHIVBWF0z"
      },
      "source": [
        "# **Cross Validation** \n",
        "Let's Use Cross Validation Techniques \n",
        "1.   For Validating the Model \n",
        "2.   To Get the Best Hyper Parameters \n"
      ]
    },
    {
      "cell_type": "markdown",
      "metadata": {
        "id": "-9Apn7Cnfx_u"
      },
      "source": [
        "**Validation Techniques** \n",
        "- Validation Set Approach.\n",
        "- Leave One Out Cross Validation.\n",
        "- K-Fold Cross Validation "
      ]
    },
    {
      "cell_type": "code",
      "metadata": {
        "id": "EAyIqk4JV0c3",
        "colab": {
          "base_uri": "https://localhost:8080/",
          "height": 34
        },
        "outputId": "06664cc9-b425-47d1-f943-cc43af59d051"
      },
      "source": [
        "# # Applying k-Fold Cross Validation\n",
        "# from sklearn.model_selection import cross_val_score\n",
        "# results = cross_val_score(estimator = clf, X = X_train, y = y_train, cv = 10)\n",
        "# print(\"Accuracy: %.5f%% (%.5f%%)\" % (results.mean()*100.0, results.std()*100.0))"
      ],
      "execution_count": null,
      "outputs": [
        {
          "output_type": "stream",
          "text": [
            "Accuracy: 88.57143% (5.71429%)\n"
          ],
          "name": "stdout"
        }
      ]
    },
    {
      "cell_type": "code",
      "metadata": {
        "id": "ZxiS4Csn4h99",
        "colab": {
          "base_uri": "https://localhost:8080/",
          "height": 34
        },
        "outputId": "c249a078-8da2-4e04-ba45-351ffee99d43"
      },
      "source": [
        "# from sklearn.model_selection import LeaveOneOut\n",
        "# loocv = LeaveOneOut()\n",
        "# results = cross_val_score(estimator = clf, X = X_train, y = y_train, cv = loocv)\n",
        "# print(\"Accuracy: %.3f%% (%.3f%%)\" % (results.mean()*100.0, results.std()*100.0))"
      ],
      "execution_count": null,
      "outputs": [
        {
          "output_type": "stream",
          "text": [
            "Accuracy: 87.857% (32.662%)\n"
          ],
          "name": "stdout"
        }
      ]
    },
    {
      "cell_type": "markdown",
      "metadata": {
        "id": "y49W-DSdW_8L"
      },
      "source": [
        "**Grid Search CV** :Getting Best Hyper Parameters\n"
      ]
    },
    {
      "cell_type": "code",
      "metadata": {
        "colab": {
          "base_uri": "https://localhost:8080/"
        },
        "id": "lLlAVr-RLPjC",
        "outputId": "c6a67c2d-45f2-44b7-aac7-7e4eab5a04f3"
      },
      "source": [
        "# from sklearn.ensemble import RandomForestClassifier\n",
        "# from sklearn.model_selection import GridSearchCV\n",
        "# rf=RandomForestClassifier()\n",
        "# parameters= {'n_estimators':[100,200,500,600],\n",
        "#              'max_depth':[3,5,7]}\n",
        "\n",
        "\n",
        "# grid_search = GridSearchCV(estimator = rf,        # The Classifer That we need its best Parameters \n",
        "#                            param_grid = parameters,       # It must Be Dictionary or List Of Dictionaries \n",
        "#                            scoring = 'accuracy',          # The type of Evaluation Metric \n",
        "#                            cv = 10,                       # default None : Means K Fold =5 , you can change it to any 'int' Number\n",
        "#                            n_jobs = -1)                  # None :  For No Parallel Jobs , int : For a Certain Number of Parallel jobs , -1 : for Using ALL PROCESSORS! \n",
        " \n",
        "\n",
        "\n",
        "# grid_search = grid_search.fit(X_train, y_train)\n",
        "\n",
        "# print(\"best accuracy is :\" , grid_search.best_score_)\n",
        "\n",
        "# grid_search.best_params_ \n"
      ],
      "execution_count": null,
      "outputs": [
        {
          "output_type": "stream",
          "text": [
            "best accuracy is : 0.90625\n"
          ],
          "name": "stdout"
        },
        {
          "output_type": "execute_result",
          "data": {
            "text/plain": [
              "{'max_depth': 5, 'n_estimators': 500}"
            ]
          },
          "metadata": {
            "tags": []
          },
          "execution_count": 13
        }
      ]
    },
    {
      "cell_type": "code",
      "metadata": {
        "id": "O_k5bfBMMFfk"
      },
      "source": [
        "# preds=rf.predict(X_test)\n",
        "# accuracy_score(y_test,preds)"
      ],
      "execution_count": null,
      "outputs": []
    },
    {
      "cell_type": "code",
      "metadata": {
        "id": "O5b7pnJ6XTss",
        "colab": {
          "base_uri": "https://localhost:8080/",
          "height": 50
        },
        "outputId": "87352e09-d3d6-452c-ad3f-7a75da7acfd3"
      },
      "source": [
        "# # Pick a Classifier you are searching for its best Paramters \n",
        "# from sklearn.svm import SVC\n",
        "# classifier = SVC(kernel = 'rbf', random_state = 0)\n",
        "\n",
        "\n",
        "# # Applying Grid Search to find the best model and the best parameters\n",
        "# from sklearn.model_selection import GridSearchCV\n",
        "# parameters = [{'C': [1, 10 , 100], 'kernel': ['linear']},\n",
        "#               {'C': [1, 10,100], 'kernel': ['rbf'], 'gamma': [0.1, 0.2 , 0.3]}]\n",
        "\n",
        "\n",
        "# grid_search = GridSearchCV(estimator = classifier,        # The Classifer That we need its best Parameters \n",
        "#                            param_grid = parameters,       # It must Be Dictionary or List Of Dictionaries \n",
        "#                            scoring = 'accuracy',          # The type of Evaluation Metric \n",
        "#                            cv = 10,                       # default None : Means K Fold =5 , you can change it to any 'int' Number\n",
        "#                            n_jobs = 3)                  # None :  For No Parallel Jobs , int : For a Certain Number of Parallel jobs , -1 : for Using ALL PROCESSORS! \n",
        " \n",
        "# grid_search = grid_search.fit(X_train, y_train)\n",
        "\n",
        "# print(\"best accuracy is :\" , grid_search.best_score_)\n",
        "\n",
        "# grid_search.best_params_   # best_parms_  is a method in Grid Search to return The Best with resepct to the Metric "
      ],
      "execution_count": null,
      "outputs": [
        {
          "output_type": "stream",
          "text": [
            "best accuracy is : 0.7678571428571429\n"
          ],
          "name": "stdout"
        },
        {
          "output_type": "execute_result",
          "data": {
            "text/plain": [
              "{'C': 1, 'kernel': 'linear'}"
            ]
          },
          "metadata": {
            "tags": []
          },
          "execution_count": 46
        }
      ]
    },
    {
      "cell_type": "code",
      "metadata": {
        "id": "_uWVHYWNO0Mf"
      },
      "source": [
        "# classifier = SVC(kernel = 'linear',C=1)\n",
        "# classifier.fit(X_train,y_train)\n",
        "# y_pr=classifier.predict(X_test)"
      ],
      "execution_count": null,
      "outputs": []
    },
    {
      "cell_type": "code",
      "metadata": {
        "id": "OONuMix0PJLg",
        "colab": {
          "base_uri": "https://localhost:8080/",
          "height": 34
        },
        "outputId": "2d0dd1cf-61a3-4b6f-ef19-b88e8796b082"
      },
      "source": [
        "# accuracy_score(y_test, y_pr)*100"
      ],
      "execution_count": null,
      "outputs": [
        {
          "output_type": "execute_result",
          "data": {
            "text/plain": [
              "74.16666666666667"
            ]
          },
          "metadata": {
            "tags": []
          },
          "execution_count": 59
        }
      ]
    },
    {
      "cell_type": "markdown",
      "metadata": {
        "id": "NN3_88SP9M1o"
      },
      "source": [
        "# **Saving And Loading Models**"
      ]
    },
    {
      "cell_type": "code",
      "metadata": {
        "id": "Z2mNsPfy5_S1"
      },
      "source": [
        "# import pickle\n",
        "# # save the model to disk\n",
        "# filename = '3atrees.sav'\n",
        "# pickle.dump(clf, open(filename, 'wb'))"
      ],
      "execution_count": null,
      "outputs": []
    },
    {
      "cell_type": "code",
      "metadata": {
        "id": "VYdZZY9bMSZs"
      },
      "source": [
        ""
      ],
      "execution_count": null,
      "outputs": []
    },
    {
      "cell_type": "code",
      "metadata": {
        "id": "OyJT8DEA9fl-",
        "colab": {
          "base_uri": "https://localhost:8080/",
          "height": 34
        },
        "outputId": "97a9d857-31ec-4b30-bd66-e4adb6c96ee3"
      },
      "source": [
        "# # some time later... \n",
        "# # load the model from disk\n",
        "# loaded_model = pickle.load(open(filename, 'rb'))\n",
        "# result = loaded_model.score(X_test, y_test)\n",
        "# print(result)"
      ],
      "execution_count": null,
      "outputs": [
        {
          "output_type": "stream",
          "text": [
            "0.8916666666666667\n"
          ],
          "name": "stdout"
        }
      ]
    },
    {
      "cell_type": "code",
      "metadata": {
        "id": "3oLf8I5lMsqE"
      },
      "source": [
        "# # inference \n",
        "# import pickle\n",
        "# s\n",
        "# loaded_model = pickle.load(open(filename, 'rb'))\n",
        "# loaded_model.predict(X_predict)"
      ],
      "execution_count": null,
      "outputs": []
    },
    {
      "cell_type": "markdown",
      "metadata": {
        "id": "aZu9cXX5ULvq"
      },
      "source": [
        "# Things Now Get More Tense \n",
        "Build the Following Codes \n",
        "* K - Nearest Neighbours\n",
        "* SVM [ Linear ]\n",
        "* Random Forest \n",
        "With Confusion Matrix for each and [Cross Validate](https://machinelearningmastery.com/evaluate-performance-machine-learning-algorithms-python-using-resampling/) them \n"
      ]
    },
    {
      "cell_type": "markdown",
      "source": [
        "## K - Nearest Neighbours"
      ],
      "metadata": {
        "id": "E9IFa8RIL2tD"
      }
    },
    {
      "cell_type": "code",
      "source": [
        "# play with test size\n",
        "X_train, X_test, y_train, y_test = train_test_split(X,y, test_size = 0.25,shuffle=True,random_state=0)\n",
        "print(f' X_train: {X_train.shape} & X_test: {X_test.shape}')\n",
        "print(f' y_train: {y_train.shape} & y_test: {y_test.shape}')"
      ],
      "metadata": {
        "colab": {
          "base_uri": "https://localhost:8080/"
        },
        "id": "r-erx194S7Rs",
        "outputId": "ab4af4eb-5bd3-4c6c-b205-bc8c532f6526"
      },
      "execution_count": null,
      "outputs": [
        {
          "output_type": "stream",
          "name": "stdout",
          "text": [
            " X_train: (300, 4) & X_test: (100, 4)\n",
            " y_train: (300,) & y_test: (100,)\n"
          ]
        }
      ]
    },
    {
      "cell_type": "code",
      "source": [
        "from sklearn.preprocessing import LabelEncoder\n",
        "encoder=LabelEncoder()\n",
        "X_train[:,1] = encoder.fit_transform(X_train[:,1])\n",
        "X_test[:,1]=encoder.transform(X_test[:,1] )\n",
        "X_train"
      ],
      "metadata": {
        "colab": {
          "base_uri": "https://localhost:8080/"
        },
        "id": "8r6WsQLhTB3j",
        "outputId": "de79bb1d-1d1a-4a9f-ffa0-d09b6e2296fb"
      },
      "execution_count": null,
      "outputs": [
        {
          "output_type": "execute_result",
          "data": {
            "text/plain": [
              "array([[15810075, 0, 44, 39000],\n",
              "       [15583681, 1, 32, 120000],\n",
              "       [15733964, 0, 38, 50000],\n",
              "       ...,\n",
              "       [15591433, 1, 36, 52000],\n",
              "       [15776348, 0, 27, 54000],\n",
              "       [15794661, 0, 26, 118000]], dtype=object)"
            ]
          },
          "metadata": {},
          "execution_count": 17
        }
      ]
    },
    {
      "cell_type": "code",
      "source": [
        "# Normalization \n",
        "from sklearn.preprocessing import MinMaxScaler\n",
        "scaler = MinMaxScaler()\n",
        "X_train_scaled = scaler.fit_transform(X_train)\n",
        "X_test_scaled = scaler.transform(X_test)\n",
        "\n",
        "print(np.min(X_train_scaled))\n",
        "print(np.max(X_train_scaled))"
      ],
      "metadata": {
        "colab": {
          "base_uri": "https://localhost:8080/"
        },
        "id": "A4PXyyBHTFfM",
        "outputId": "93ab56eb-8e20-4ed6-dd23-be743c35c579"
      },
      "execution_count": null,
      "outputs": [
        {
          "output_type": "stream",
          "name": "stdout",
          "text": [
            "0.0\n",
            "1.0\n"
          ]
        }
      ]
    },
    {
      "cell_type": "code",
      "source": [
        "# Training and Evaluating on the Training Set\n",
        "from sklearn.neighbors import KNeighborsClassifier"
      ],
      "metadata": {
        "id": "Ex6KYzpPRa-B"
      },
      "execution_count": null,
      "outputs": []
    },
    {
      "cell_type": "code",
      "source": [
        "kn_clf = KNeighborsClassifier(n_neighbors=5,algorithm='auto',weights='uniform')"
      ],
      "metadata": {
        "id": "bT78rFtDR9HH"
      },
      "execution_count": null,
      "outputs": []
    },
    {
      "cell_type": "code",
      "source": [
        "kn_clf.fit(X_train_scaled,y_train)"
      ],
      "metadata": {
        "colab": {
          "base_uri": "https://localhost:8080/"
        },
        "id": "OI7xbhafSvQ9",
        "outputId": "149cf504-17c3-4b7b-e5ec-e0b073389f32"
      },
      "execution_count": null,
      "outputs": [
        {
          "output_type": "execute_result",
          "data": {
            "text/plain": [
              "KNeighborsClassifier()"
            ]
          },
          "metadata": {},
          "execution_count": 21
        }
      ]
    },
    {
      "cell_type": "code",
      "source": [
        "y_pred_en = kn_clf.predict(X_test_scaled)\n",
        "y_pred_train = kn_clf.predict(X_train_scaled)\n",
        "print('Accuracy score of Test: ', accuracy_score(y_test, y_pred_en)*100)\n",
        "print('Accuracy score of Train: ', accuracy_score(y_train, y_pred_train)*100)"
      ],
      "metadata": {
        "colab": {
          "base_uri": "https://localhost:8080/"
        },
        "id": "P84ab5BGTVoA",
        "outputId": "9ae1be92-3793-49d2-fbee-9c575dbfb5d9"
      },
      "execution_count": null,
      "outputs": [
        {
          "output_type": "stream",
          "name": "stdout",
          "text": [
            "Accuracy score of Test:  91.0\n",
            "Accuracy score of Train:  91.33333333333333\n"
          ]
        }
      ]
    },
    {
      "cell_type": "code",
      "source": [
        "# confusion Matrix\n",
        "from sklearn.metrics import plot_confusion_matrix\n",
        "import matplotlib.pyplot as plt \n",
        "\n",
        "disp = plot_confusion_matrix(kn_clf, X_test_scaled, y_test,\n",
        "                              display_labels=['Yes','No'],\n",
        "                              cmap=plt.cm.Blues)"
      ],
      "metadata": {
        "colab": {
          "base_uri": "https://localhost:8080/",
          "height": 335
        },
        "id": "RpmNnvWxkiax",
        "outputId": "75eab346-1cc9-4daf-ab44-2a5b5f4c0333"
      },
      "execution_count": null,
      "outputs": [
        {
          "output_type": "stream",
          "name": "stderr",
          "text": [
            "/usr/local/lib/python3.7/dist-packages/sklearn/utils/deprecation.py:87: FutureWarning: Function plot_confusion_matrix is deprecated; Function `plot_confusion_matrix` is deprecated in 1.0 and will be removed in 1.2. Use one of the class methods: ConfusionMatrixDisplay.from_predictions or ConfusionMatrixDisplay.from_estimator.\n",
            "  warnings.warn(msg, category=FutureWarning)\n"
          ]
        },
        {
          "output_type": "display_data",
          "data": {
            "text/plain": [
              "<Figure size 432x288 with 2 Axes>"
            ],
            "image/png": "[encoded data removed]"
          },
          "metadata": {
            "needs_background": "light"
          }
        }
      ]
    },
    {
      "cell_type": "markdown",
      "source": [
        "## SVM"
      ],
      "metadata": {
        "id": "ND_--EycThau"
      }
    },
    {
      "cell_type": "code",
      "source": [
        "# play with test size\n",
        "X_train, X_test, y_train, y_test = train_test_split(X,y, test_size= 0.20,shuffle=True,random_state=0,)\n",
        "print(f' X_train: {X_train.shape} & X_test: {X_test.shape}')\n",
        "print(f' y_train: {y_train.shape} & y_test: {y_test.shape}')"
      ],
      "metadata": {
        "colab": {
          "base_uri": "https://localhost:8080/"
        },
        "id": "LbQXF977UwGr",
        "outputId": "9bc68c8a-0a87-4830-d4ea-8144ecff264b"
      },
      "execution_count": null,
      "outputs": [
        {
          "output_type": "stream",
          "name": "stdout",
          "text": [
            " X_train: (320, 4) & X_test: (80, 4)\n",
            " y_train: (320,) & y_test: (80,)\n"
          ]
        }
      ]
    },
    {
      "cell_type": "code",
      "source": [
        "from sklearn.preprocessing import LabelEncoder\n",
        "encoder=LabelEncoder()\n",
        "X_train[:,1] = encoder.fit_transform(X_train[:,1])\n",
        "X_test[:,1]=encoder.transform(X_test[:,1] )\n",
        "X_train"
      ],
      "metadata": {
        "colab": {
          "base_uri": "https://localhost:8080/"
        },
        "id": "TfFgqBs-UywL",
        "outputId": "8d0e2fd2-37f8-488e-dceb-3da68bbb8f8f"
      },
      "execution_count": null,
      "outputs": [
        {
          "output_type": "execute_result",
          "data": {
            "text/plain": [
              "array([[15664907, 1, 58, 144000],\n",
              "       [15605000, 0, 59, 83000],\n",
              "       [15649136, 0, 24, 55000],\n",
              "       ...,\n",
              "       [15591433, 1, 36, 52000],\n",
              "       [15776348, 0, 27, 54000],\n",
              "       [15794661, 0, 26, 118000]], dtype=object)"
            ]
          },
          "metadata": {},
          "execution_count": 60
        }
      ]
    },
    {
      "cell_type": "code",
      "source": [
        "# Normalization \n",
        "from sklearn.preprocessing import MinMaxScaler\n",
        "scaler = MinMaxScaler()\n",
        "X_train_scaled = scaler.fit_transform(X_train)\n",
        "X_test_scaled = scaler.transform(X_test)\n",
        "\n",
        "print(np.min(X_train_scaled))\n",
        "print(np.max(X_train_scaled))"
      ],
      "metadata": {
        "colab": {
          "base_uri": "https://localhost:8080/"
        },
        "id": "Ne_wqIDnU1DY",
        "outputId": "1c54c871-8580-401c-ee94-d09046cddc91"
      },
      "execution_count": null,
      "outputs": [
        {
          "output_type": "stream",
          "name": "stdout",
          "text": [
            "0.0\n",
            "1.0\n"
          ]
        }
      ]
    },
    {
      "cell_type": "code",
      "source": [
        "# Training and Evaluating on the Training Set\n",
        "from sklearn.svm import SVC"
      ],
      "metadata": {
        "id": "Ayq4qGbDUlay"
      },
      "execution_count": null,
      "outputs": []
    },
    {
      "cell_type": "code",
      "source": [
        "svc_clf = SVC(C=10,kernel='linear',random_state=0)\n",
        "svc_clf.fit(X_train_scaled,y_train)"
      ],
      "metadata": {
        "id": "4eakqDgzUsk7",
        "colab": {
          "base_uri": "https://localhost:8080/"
        },
        "outputId": "6828fdd3-d84f-423d-926a-44dfe9300291"
      },
      "execution_count": null,
      "outputs": [
        {
          "output_type": "execute_result",
          "data": {
            "text/plain": [
              "SVC(C=10, kernel='linear', random_state=0)"
            ]
          },
          "metadata": {},
          "execution_count": 63
        }
      ]
    },
    {
      "cell_type": "code",
      "source": [
        "y_pred_en = svc_clf.predict(X_test_scaled)\n",
        "y_pred_train = svc_clf.predict(X_train_scaled)\n",
        "print('Accuracy score of Test: ', accuracy_score(y_test, y_pred_en)*100)\n",
        "print('Accuracy score of Train: ', accuracy_score(y_train, y_pred_train)*100)"
      ],
      "metadata": {
        "colab": {
          "base_uri": "https://localhost:8080/"
        },
        "id": "RZXbTcOvmWTg",
        "outputId": "9e5d49f8-2226-4e76-9de9-91be1a4bdfb9"
      },
      "execution_count": null,
      "outputs": [
        {
          "output_type": "stream",
          "name": "stdout",
          "text": [
            "Accuracy score of Test:  91.25\n",
            "Accuracy score of Train:  81.5625\n"
          ]
        }
      ]
    },
    {
      "cell_type": "code",
      "source": [
        "# confusion Matrix\n",
        "from sklearn.metrics import plot_confusion_matrix\n",
        "import matplotlib.pyplot as plt \n",
        "\n",
        "disp = plot_confusion_matrix(svc_clf, X_test_scaled, y_test,\n",
        "                              display_labels=['Yes','No'],\n",
        "                              cmap=plt.cm.Blues)"
      ],
      "metadata": {
        "colab": {
          "base_uri": "https://localhost:8080/",
          "height": 335
        },
        "id": "xKKO_1ZamoZl",
        "outputId": "1109bbfc-e634-4ebe-d295-0a80858888be"
      },
      "execution_count": null,
      "outputs": [
        {
          "output_type": "stream",
          "name": "stderr",
          "text": [
            "/usr/local/lib/python3.7/dist-packages/sklearn/utils/deprecation.py:87: FutureWarning: Function plot_confusion_matrix is deprecated; Function `plot_confusion_matrix` is deprecated in 1.0 and will be removed in 1.2. Use one of the class methods: ConfusionMatrixDisplay.from_predictions or ConfusionMatrixDisplay.from_estimator.\n",
            "  warnings.warn(msg, category=FutureWarning)\n"
          ]
        },
        {
          "output_type": "display_data",
          "data": {
            "text/plain": [
              "<Figure size 432x288 with 2 Axes>"
            ],
            "image/png": "[encoded data removed]"
          },
          "metadata": {
            "needs_background": "light"
          }
        }
      ]
    },
    {
      "cell_type": "code",
      "source": [
        "from sklearn.metrics import confusion_matrix\n",
        "cm = confusion_matrix(y_test,y_pred_en)\n",
        "cm"
      ],
      "metadata": {
        "colab": {
          "base_uri": "https://localhost:8080/"
        },
        "id": "4CuKhmThrAvq",
        "outputId": "1eb3caeb-4c61-4e5f-d32a-91d0394b184c"
      },
      "execution_count": null,
      "outputs": [
        {
          "output_type": "execute_result",
          "data": {
            "text/plain": [
              "array([[56,  2],\n",
              "       [ 5, 17]])"
            ]
          },
          "metadata": {},
          "execution_count": 52
        }
      ]
    }
  ]
}