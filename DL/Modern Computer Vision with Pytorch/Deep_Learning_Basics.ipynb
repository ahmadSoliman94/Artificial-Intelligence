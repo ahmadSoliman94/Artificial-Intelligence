{
  "nbformat": 4,
  "nbformat_minor": 0,
  "metadata": {
    "colab": {
      "name": "Deep Learning Basics",
      "provenance": [],
      "authorship_tag": "ABX9TyP978fr4FsPQqVlnDAxlAOa",
      "include_colab_link": true
    },
    "kernelspec": {
      "name": "python3",
      "display_name": "Python 3"
    },
    "language_info": {
      "name": "python"
    }
  },
  "cells": [
    {
      "cell_type": "markdown",
      "metadata": {
        "id": "view-in-github",
        "colab_type": "text"
      },
      "source": [
        "<a href=\"https://colab.research.google.com/github/ahmadSoliman94/Machine-Learning/blob/main/DL/Modern%20Computer%20Vision%20with%20Pytorch/Deep_Learning_Basics.ipynb\" target=\"_parent\"><img src=\"https://colab.research.google.com/assets/colab-badge.svg\" alt=\"Open In Colab\"/></a>"
      ]
    },
    {
      "cell_type": "markdown",
      "source": [
        "## Feedforward Propagation"
      ],
      "metadata": {
        "id": "6EJycHZu5rHa"
      }
    },
    {
      "cell_type": "code",
      "execution_count": null,
      "metadata": {
        "id": "ebPzAxlf5axs"
      },
      "outputs": [],
      "source": [
        "import numpy as np"
      ]
    },
    {
      "cell_type": "markdown",
      "source": [
        "- weights[0] -> weight values\n",
        "- weights[1] -> bias terms (constantly 1)\n",
        "- weights[2] -> output layer\n",
        "- weights[3] -> bias associated with the node in the output layer"
      ],
      "metadata": {
        "id": "2X2Do0jT63nR"
      }
    },
    {
      "cell_type": "code",
      "source": [
        "def feed_forward_propagation(inputs,outputs,weights):\n",
        "  previous_hidden_lyr = np.dot(inputs,weights[0]) + weights[1]\n",
        "  sigmoid_a = 1/(1+np.exp(-previous_hidden_lyr)) \n",
        "  prediction = np.dot(sigmoid_a,weights[2]) + weights[3]\n",
        "  mean_squared_error = np.mean(np.square(prediction - outputs)) # continuous prediction\n",
        "  return mean_squared_error"
      ],
      "metadata": {
        "id": "UMjMQtkj53K9"
      },
      "execution_count": null,
      "outputs": []
    },
    {
      "cell_type": "markdown",
      "source": [
        "## Activation functions:"
      ],
      "metadata": {
        "id": "37yF40EP99vr"
      }
    },
    {
      "cell_type": "markdown",
      "source": [
        "### Tahn"
      ],
      "metadata": {
        "id": "61OCt1ZT-Fkr"
      }
    },
    {
      "cell_type": "code",
      "source": [
        "def tahn(x):\n",
        "  return (np.exp(x) - np.exp(-x)) / (np.exp(x) + np.exp(-x))"
      ],
      "metadata": {
        "id": "AR-2e6gZ9j3p"
      },
      "execution_count": null,
      "outputs": []
    },
    {
      "cell_type": "markdown",
      "source": [
        "### ReLU"
      ],
      "metadata": {
        "id": "irVjdp_h-anS"
      }
    },
    {
      "cell_type": "code",
      "source": [
        "def relu(x):\n",
        "  return np.where(x>0,x,0)"
      ],
      "metadata": {
        "id": "0UECPoKy-Zr4"
      },
      "execution_count": null,
      "outputs": []
    },
    {
      "cell_type": "markdown",
      "source": [
        "### Softmax: is used to provide a probability value for each class in the output"
      ],
      "metadata": {
        "id": "bmx5pob4-xpS"
      }
    },
    {
      "cell_type": "code",
      "source": [
        "def softmax(x):\n",
        "  return np.exp(x)/np.sum(np.exp(x))"
      ],
      "metadata": {
        "id": "Jvt-T4Tk-nmu"
      },
      "execution_count": null,
      "outputs": []
    },
    {
      "cell_type": "markdown",
      "source": [
        "## loss functions:\n",
        "### - continuous prediction:\n",
        "#### Mean squared error"
      ],
      "metadata": {
        "id": "x2pw5XAW_m25"
      }
    },
    {
      "cell_type": "code",
      "source": [
        "def mse(p,y):\n",
        "  return np.mean(np.square(p - y))#"
      ],
      "metadata": {
        "id": "JpTFYRB2_P8U"
      },
      "execution_count": null,
      "outputs": []
    },
    {
      "cell_type": "markdown",
      "source": [
        "#### Mean absolute error"
      ],
      "metadata": {
        "id": "IXwZi16OAfVR"
      }
    },
    {
      "cell_type": "code",
      "source": [
        "def mae(p,y):\n",
        "  return np.mean(np.abs(p-y))"
      ],
      "metadata": {
        "id": "i9fYKh6PARtW"
      },
      "execution_count": null,
      "outputs": []
    },
    {
      "cell_type": "markdown",
      "source": [
        "### - Categorical prediction:\n",
        "#### Binary cross-entropy "
      ],
      "metadata": {
        "id": "RpWlQcemBsmf"
      }
    },
    {
      "cell_type": "code",
      "source": [
        "def binary_cross_entropy(p,y):\n",
        "  return -np.mean((y*np.log(p)+(1-y)*np.log(1-p)))"
      ],
      "metadata": {
        "id": "R0axCzvhAxXS"
      },
      "execution_count": null,
      "outputs": []
    },
    {
      "cell_type": "markdown",
      "source": [
        "#### Categorical cross_entropy"
      ],
      "metadata": {
        "id": "g1K2HS89Cwtl"
      }
    },
    {
      "cell_type": "code",
      "source": [
        "def categorical_cross_entropy(p,y):\n",
        "  return -np.mean(np.log(p[np.arange(len(y)),y]))"
      ],
      "metadata": {
        "id": "hll9dIeQCpYx"
      },
      "execution_count": null,
      "outputs": []
    },
    {
      "cell_type": "markdown",
      "source": [
        "## Gradient descent"
      ],
      "metadata": {
        "id": "14lVDC8St6BK"
      }
    },
    {
      "cell_type": "code",
      "source": [
        "import numpy as np\n",
        "import matplotlib.pyplot as plt\n",
        "from copy import deepcopy\n",
        "\n",
        "def feed_forward_propagation(inputs,outputs,weights):\n",
        "  previous_hidden_lyr = np.dot(inputs,weights[0]) + weights[1]\n",
        "  sigmoid_a = 1/(1+np.exp(-previous_hidden_lyr)) \n",
        "  prediction = np.dot(sigmoid_a,weights[2]) + weights[3]\n",
        "  mean_squared_error = np.mean(np.square(prediction - outputs)) # continuous prediction\n",
        "  return mean_squared_error\n",
        "\n",
        "\n"
      ],
      "metadata": {
        "id": "B6391g84t5Qo"
      },
      "execution_count": null,
      "outputs": []
    },
    {
      "cell_type": "code",
      "source": [
        "def update_weights(inputs, outputs, weights, lr):\n",
        "    original_weights = deepcopy(weights)\n",
        "    temp_weights = deepcopy(weights)\n",
        "    updated_weights = deepcopy(weights)\n",
        "    original_loss = feed_forward_propagation(inputs, outputs, original_weights)\n",
        "    for i, layer in enumerate(original_weights):\n",
        "        for index, weight in np.ndenumerate(layer):\n",
        "            temp_weights = deepcopy(weights)\n",
        "            temp_weights[i][index] += 0.0001\n",
        "            _loss_plus = feed_forward_propagation(inputs, outputs, temp_weights)\n",
        "            gradient = (_loss_plus - original_loss)/(0.0001)\n",
        "            updated_weights[i][index] -= gradient*lr\n",
        "    return updated_weights, original_loss"
      ],
      "metadata": {
        "id": "Wa7c9WJ7uSuO"
      },
      "execution_count": null,
      "outputs": []
    },
    {
      "cell_type": "code",
      "source": [
        ""
      ],
      "metadata": {
        "id": "53KohTwHvlLW"
      },
      "execution_count": null,
      "outputs": []
    }
  ]
}