{
  "nbformat": 4,
  "nbformat_minor": 0,
  "metadata": {
    "colab": {
      "name": "PyTorch Fundamentals.ipynb",
      "provenance": [],
      "authorship_tag": "ABX9TyO8Z6T58l7r0ctpYLIVytnj",
      "include_colab_link": true
    },
    "kernelspec": {
      "name": "python3",
      "display_name": "Python 3"
    },
    "language_info": {
      "name": "python"
    },
    "accelerator": "GPU",
    "gpuClass": "standard"
  },
  "cells": [
    {
      "cell_type": "markdown",
      "metadata": {
        "id": "view-in-github",
        "colab_type": "text"
      },
      "source": [
        "<a href=\"https://colab.research.google.com/github/ahmadSoliman94/Machine-Learning/blob/main/DL/Modern%20Computer%20Vision%20with%20Pytorch/PyTorch_Fundamentals.ipynb\" target=\"_parent\"><img src=\"https://colab.research.google.com/assets/colab-badge.svg\" alt=\"Open In Colab\"/></a>"
      ]
    },
    {
      "cell_type": "code",
      "execution_count": 1,
      "metadata": {
        "colab": {
          "base_uri": "https://localhost:8080/"
        },
        "id": "hycj6QmNaPIp",
        "outputId": "e4948a6d-86fa-445f-c547-6f1cb56739aa"
      },
      "outputs": [
        {
          "output_type": "stream",
          "name": "stdout",
          "text": [
            "1.12.0+cu113\n"
          ]
        }
      ],
      "source": [
        "%matplotlib inline\n",
        "import matplotlib.pyplot as plt\n",
        "import numpy as np\n",
        "\n",
        "import torch\n",
        "import torch.nn as nn\n",
        "from torch.optim import SGD\n",
        "\n",
        "print(torch.__version__)"
      ]
    },
    {
      "cell_type": "markdown",
      "source": [
        "## PyTorch tensors:\n",
        "- scaler can be represented as a zero-dimensional tensor.\n",
        "- scaler can be represented as a one-dimensional tensor.\n",
        "- scaler can be represented as a tow-dimensional tensor."
      ],
      "metadata": {
        "id": "z5R463ydbM03"
      }
    },
    {
      "cell_type": "markdown",
      "source": [
        "### Initalize a tensor"
      ],
      "metadata": {
        "id": "wGavmpkjuSIl"
      }
    },
    {
      "cell_type": "code",
      "source": [
        "x = torch.tensor([[1,2]])\n",
        "y = torch.tensor([[1],[2]])"
      ],
      "metadata": {
        "id": "zYKoGuLvaiMU"
      },
      "execution_count": 2,
      "outputs": []
    },
    {
      "cell_type": "markdown",
      "source": [
        "### object's shape and data type"
      ],
      "metadata": {
        "id": "K2yMhux3uuOA"
      }
    },
    {
      "cell_type": "code",
      "source": [
        "print(x.shape)"
      ],
      "metadata": {
        "colab": {
          "base_uri": "https://localhost:8080/"
        },
        "id": "PbWHy18Wuo-D",
        "outputId": "f1a91539-fb62-4fbc-ac9c-6c96c7d8c92b"
      },
      "execution_count": 3,
      "outputs": [
        {
          "output_type": "stream",
          "name": "stdout",
          "text": [
            "torch.Size([1, 2])\n"
          ]
        }
      ]
    },
    {
      "cell_type": "code",
      "source": [
        "print(y.shape)"
      ],
      "metadata": {
        "colab": {
          "base_uri": "https://localhost:8080/"
        },
        "id": "AhJ9LtsZu95r",
        "outputId": "7bdfeea9-b1f6-49fb-876a-e98f40aac5a6"
      },
      "execution_count": 4,
      "outputs": [
        {
          "output_type": "stream",
          "name": "stdout",
          "text": [
            "torch.Size([2, 1])\n"
          ]
        }
      ]
    },
    {
      "cell_type": "code",
      "source": [
        "print(x.dtype)"
      ],
      "metadata": {
        "colab": {
          "base_uri": "https://localhost:8080/"
        },
        "id": "Hfeo_rQKvCD3",
        "outputId": "dd437481-3b0b-43cd-c74d-e0c823e8192e"
      },
      "execution_count": 5,
      "outputs": [
        {
          "output_type": "stream",
          "name": "stdout",
          "text": [
            "torch.int64\n"
          ]
        }
      ]
    },
    {
      "cell_type": "markdown",
      "source": [
        "### Generate a tensor object with 3 rows and 4 columns filled with zeros"
      ],
      "metadata": {
        "id": "PT8ow9tDvlyw"
      }
    },
    {
      "cell_type": "code",
      "source": [
        "torch.zeros((3,4))"
      ],
      "metadata": {
        "colab": {
          "base_uri": "https://localhost:8080/"
        },
        "id": "mw58FylEvJet",
        "outputId": "2774fbbf-8e44-4f05-e0a1-6ffead81b656"
      },
      "execution_count": 6,
      "outputs": [
        {
          "output_type": "execute_result",
          "data": {
            "text/plain": [
              "tensor([[0., 0., 0., 0.],\n",
              "        [0., 0., 0., 0.],\n",
              "        [0., 0., 0., 0.]])"
            ]
          },
          "metadata": {},
          "execution_count": 6
        }
      ]
    },
    {
      "cell_type": "markdown",
      "source": [
        "### Generate a tensor object with 3 rows and 4 columns filled with ones"
      ],
      "metadata": {
        "id": "SbjxDhiCv5ty"
      }
    },
    {
      "cell_type": "code",
      "source": [
        "torch.ones((3,4))"
      ],
      "metadata": {
        "colab": {
          "base_uri": "https://localhost:8080/"
        },
        "id": "Zrzhy2LPv2Rd",
        "outputId": "c749b8fc-52e4-4efc-9e09-882a55299602"
      },
      "execution_count": 7,
      "outputs": [
        {
          "output_type": "execute_result",
          "data": {
            "text/plain": [
              "tensor([[1., 1., 1., 1.],\n",
              "        [1., 1., 1., 1.],\n",
              "        [1., 1., 1., 1.]])"
            ]
          },
          "metadata": {},
          "execution_count": 7
        }
      ]
    },
    {
      "cell_type": "markdown",
      "source": [
        "### Generate three rows and four columns of vlaues between 0 and 10 (including just the low value but mot including the heigh value) 0 -> 9"
      ],
      "metadata": {
        "id": "y3T9cWOvwDxf"
      }
    },
    {
      "cell_type": "code",
      "source": [
        "torch.randint(low=0, high=10, size=(3,4))"
      ],
      "metadata": {
        "colab": {
          "base_uri": "https://localhost:8080/"
        },
        "id": "jH5oAlYrv-hu",
        "outputId": "c35ab8ac-749f-4de4-c5e8-0c2b57dfa23f"
      },
      "execution_count": 8,
      "outputs": [
        {
          "output_type": "execute_result",
          "data": {
            "text/plain": [
              "tensor([[2, 7, 9, 1],\n",
              "        [0, 7, 8, 1],\n",
              "        [8, 5, 8, 4]])"
            ]
          },
          "metadata": {},
          "execution_count": 8
        }
      ]
    },
    {
      "cell_type": "markdown",
      "source": [
        "### Generate random numbers between 0 and 1 with three row and four columns"
      ],
      "metadata": {
        "id": "l0m5cQh4xiC9"
      }
    },
    {
      "cell_type": "code",
      "source": [
        "torch.rand(3,4)"
      ],
      "metadata": {
        "colab": {
          "base_uri": "https://localhost:8080/"
        },
        "id": "jbH1iuhnwnJ8",
        "outputId": "e33ad62d-b82f-411c-9521-d5d5501b642d"
      },
      "execution_count": 9,
      "outputs": [
        {
          "output_type": "execute_result",
          "data": {
            "text/plain": [
              "tensor([[0.5632, 0.9921, 0.0239, 0.3712],\n",
              "        [0.9188, 0.3321, 0.7322, 0.7053],\n",
              "        [0.3803, 0.4698, 0.1729, 0.4850]])"
            ]
          },
          "metadata": {},
          "execution_count": 9
        }
      ]
    },
    {
      "cell_type": "markdown",
      "source": [
        "### convert a NumPy array into a Torch tensor"
      ],
      "metadata": {
        "id": "IeBmMx3Kx8-O"
      }
    },
    {
      "cell_type": "code",
      "source": [
        "x = np.array([[10,20,30],[2,3,4]])\n",
        "y = torch.tensor(x)\n",
        "print(type(x),type(y))"
      ],
      "metadata": {
        "colab": {
          "base_uri": "https://localhost:8080/"
        },
        "id": "KmqLPESfxsm-",
        "outputId": "4d2d440f-26f8-4693-af66-0b6be094c55b"
      },
      "execution_count": 10,
      "outputs": [
        {
          "output_type": "stream",
          "name": "stdout",
          "text": [
            "<class 'numpy.ndarray'> <class 'torch.Tensor'>\n"
          ]
        }
      ]
    },
    {
      "cell_type": "code",
      "source": [
        "np_torch = torch.from_numpy(x)"
      ],
      "metadata": {
        "id": "rqdT5GLdyuRt"
      },
      "execution_count": 11,
      "outputs": []
    },
    {
      "cell_type": "code",
      "source": [
        "print(type(x),type(np_torch))"
      ],
      "metadata": {
        "colab": {
          "base_uri": "https://localhost:8080/"
        },
        "id": "dPSKnT9uy9ma",
        "outputId": "39491438-62ce-4893-d82e-4b506d4bacd0"
      },
      "execution_count": 12,
      "outputs": [
        {
          "output_type": "stream",
          "name": "stdout",
          "text": [
            "<class 'numpy.ndarray'> <class 'torch.Tensor'>\n"
          ]
        }
      ]
    },
    {
      "cell_type": "markdown",
      "source": [
        "## Operations on tensors"
      ],
      "metadata": {
        "id": "7FxaSe74OYeJ"
      }
    },
    {
      "cell_type": "markdown",
      "source": [
        "### Multiplication of all the elemnts"
      ],
      "metadata": {
        "id": "NhvPLsjKO_nO"
      }
    },
    {
      "cell_type": "code",
      "source": [
        "x = torch.tensor([[1,2,3,4],\n",
        "                  [5,6,7,8]])\n",
        "\n",
        "print(x * 10)\n",
        "print(x.shape)"
      ],
      "metadata": {
        "id": "doaPoki2zAXW",
        "colab": {
          "base_uri": "https://localhost:8080/"
        },
        "outputId": "fac318ad-1241-4a5d-d7d2-fdc3d27a52d3"
      },
      "execution_count": 13,
      "outputs": [
        {
          "output_type": "stream",
          "name": "stdout",
          "text": [
            "tensor([[10, 20, 30, 40],\n",
            "        [50, 60, 70, 80]])\n",
            "torch.Size([2, 4])\n"
          ]
        }
      ]
    },
    {
      "cell_type": "markdown",
      "source": [
        "### Adding of all the elemnts"
      ],
      "metadata": {
        "id": "1wxE3gtsPYdb"
      }
    },
    {
      "cell_type": "code",
      "source": [
        "x = torch.tensor([[1,2,4,5],\n",
        "                  [6,7,8,9]])\n",
        "y = x.add(10)\n",
        "print(y)"
      ],
      "metadata": {
        "colab": {
          "base_uri": "https://localhost:8080/"
        },
        "id": "EXfHPJUOPQD8",
        "outputId": "9595a8fb-2896-44f8-8ca8-e13ae689a86c"
      },
      "execution_count": 14,
      "outputs": [
        {
          "output_type": "stream",
          "name": "stdout",
          "text": [
            "tensor([[11, 12, 14, 15],\n",
            "        [16, 17, 18, 19]])\n"
          ]
        }
      ]
    },
    {
      "cell_type": "code",
      "source": [
        "print( x + 10)"
      ],
      "metadata": {
        "colab": {
          "base_uri": "https://localhost:8080/"
        },
        "id": "eeJnciUCPrY0",
        "outputId": "a787bc6a-96d0-4dd7-8b5d-ba8c52b0c4b6"
      },
      "execution_count": 15,
      "outputs": [
        {
          "output_type": "stream",
          "name": "stdout",
          "text": [
            "tensor([[11, 12, 14, 15],\n",
            "        [16, 17, 18, 19]])\n"
          ]
        }
      ]
    },
    {
      "cell_type": "markdown",
      "source": [
        "### Reshaping a tensor"
      ],
      "metadata": {
        "id": "hkNBUvETP2NY"
      }
    },
    {
      "cell_type": "code",
      "source": [
        "y = torch.tensor([2,3,1,0])\n",
        "print(y.shape)\n",
        "y = y.view(4,1)\n",
        "print(y.shape)"
      ],
      "metadata": {
        "colab": {
          "base_uri": "https://localhost:8080/"
        },
        "id": "Nf6Ga6ewPwEG",
        "outputId": "9454d59d-1fd8-40b2-d1ea-2618508c6bbb"
      },
      "execution_count": 16,
      "outputs": [
        {
          "output_type": "stream",
          "name": "stdout",
          "text": [
            "torch.Size([4])\n",
            "torch.Size([4, 1])\n"
          ]
        }
      ]
    },
    {
      "cell_type": "markdown",
      "source": [
        "### Adding a dimension to the matrix using unsqueeze"
      ],
      "metadata": {
        "id": "pGOgsnVuQ2qI"
      }
    },
    {
      "cell_type": "code",
      "source": [
        "x = torch.randn(10,10)\n",
        "print(x.shape)\n",
        "z1 = x.unsqueeze(0)\n",
        "print(z1.shape)\n",
        "\n",
        "# The same can be achieved using [None] indexing\n",
        "# Adding None will auto create a fake dim at the\n",
        "# specified axis\n",
        "\n",
        "x = torch.randn(10,10)\n",
        "z2, z3, z4 = x[None], x[:,None], x[:,:,None]\n",
        "print(z2.shape, z3.shape, z4.shape)"
      ],
      "metadata": {
        "colab": {
          "base_uri": "https://localhost:8080/"
        },
        "id": "yhhg7SRwQHCD",
        "outputId": "bf94ea6b-cc4c-497b-f3ef-a125cbd2e06e"
      },
      "execution_count": 17,
      "outputs": [
        {
          "output_type": "stream",
          "name": "stdout",
          "text": [
            "torch.Size([10, 10])\n",
            "torch.Size([1, 10, 10])\n",
            "torch.Size([1, 10, 10]) torch.Size([10, 1, 10]) torch.Size([10, 10, 1])\n"
          ]
        }
      ]
    },
    {
      "cell_type": "markdown",
      "source": [
        "### Matrix multiplication of two different tensors"
      ],
      "metadata": {
        "id": "7LRvfkOzR5fE"
      }
    },
    {
      "cell_type": "code",
      "source": [
        "x = torch.tensor([[1,2,3,4], [5,6,7,8]])\n",
        "print(torch.matmul(x, y))"
      ],
      "metadata": {
        "colab": {
          "base_uri": "https://localhost:8080/"
        },
        "id": "hS_LTKpZRV4v",
        "outputId": "7becb780-606a-4e16-a216-65dbce13f841"
      },
      "execution_count": 18,
      "outputs": [
        {
          "output_type": "stream",
          "name": "stdout",
          "text": [
            "tensor([[11],\n",
            "        [35]])\n"
          ]
        }
      ]
    },
    {
      "cell_type": "code",
      "source": [
        "print(x@y)"
      ],
      "metadata": {
        "colab": {
          "base_uri": "https://localhost:8080/"
        },
        "id": "RH0opw0XSJc2",
        "outputId": "75201c48-c347-4897-b653-386cde4a3ca6"
      },
      "execution_count": 19,
      "outputs": [
        {
          "output_type": "stream",
          "name": "stdout",
          "text": [
            "tensor([[11],\n",
            "        [35]])\n"
          ]
        }
      ]
    },
    {
      "cell_type": "markdown",
      "source": [
        "### concatenation of tensors"
      ],
      "metadata": {
        "id": "hFrTrZimSWwn"
      }
    },
    {
      "cell_type": "code",
      "source": [
        "x = torch.randn(10,10,10)\n",
        "z = torch.cat([x,x], axis=0) # np.concatenate()\n",
        "print('Cat axis 0:', x.shape, z.shape)\n",
        "\n",
        "z = torch.cat([x,x], axis=1) # np.concatenate()\n",
        "print('Cat axis 1:', x.shape, z.shape)\n",
        "\n",
        "o = torch.cat([x,x], axis=2) # np.concatenate()\n",
        "print('Cat axis 2:', x.shape, z.shape, o.shape)"
      ],
      "metadata": {
        "colab": {
          "base_uri": "https://localhost:8080/"
        },
        "id": "iKVjUwgZSOOP",
        "outputId": "7fd8021d-b3e8-4e73-f7ba-53d17e958f25"
      },
      "execution_count": 20,
      "outputs": [
        {
          "output_type": "stream",
          "name": "stdout",
          "text": [
            "Cat axis 0: torch.Size([10, 10, 10]) torch.Size([20, 10, 10])\n",
            "Cat axis 1: torch.Size([10, 10, 10]) torch.Size([10, 20, 10])\n",
            "Cat axis 2: torch.Size([10, 10, 10]) torch.Size([10, 20, 10]) torch.Size([10, 10, 20])\n"
          ]
        }
      ]
    },
    {
      "cell_type": "markdown",
      "source": [
        "### Extraction of the maximum value in tensor"
      ],
      "metadata": {
        "id": "x-1AAm3LS-7j"
      }
    },
    {
      "cell_type": "code",
      "source": [
        "x = torch.arange(25).reshape(5,5)\n",
        "print(x)\n",
        "print('Max:', x.shape, x.max()) "
      ],
      "metadata": {
        "colab": {
          "base_uri": "https://localhost:8080/"
        },
        "id": "NKYYg8LSSjQJ",
        "outputId": "e7aaf18b-7491-4500-da63-32257b8174aa"
      },
      "execution_count": 21,
      "outputs": [
        {
          "output_type": "stream",
          "name": "stdout",
          "text": [
            "tensor([[ 0,  1,  2,  3,  4],\n",
            "        [ 5,  6,  7,  8,  9],\n",
            "        [10, 11, 12, 13, 14],\n",
            "        [15, 16, 17, 18, 19],\n",
            "        [20, 21, 22, 23, 24]])\n",
            "Max: torch.Size([5, 5]) tensor(24)\n"
          ]
        }
      ]
    },
    {
      "cell_type": "code",
      "source": [
        "x.max(dim=0) # row"
      ],
      "metadata": {
        "colab": {
          "base_uri": "https://localhost:8080/"
        },
        "id": "Gp8fsrYfTKZG",
        "outputId": "263752f1-d890-498c-c201-dff90e80b89d"
      },
      "execution_count": 22,
      "outputs": [
        {
          "output_type": "execute_result",
          "data": {
            "text/plain": [
              "torch.return_types.max(values=tensor([20, 21, 22, 23, 24]), indices=tensor([4, 4, 4, 4, 4]))"
            ]
          },
          "metadata": {},
          "execution_count": 22
        }
      ]
    },
    {
      "cell_type": "code",
      "source": [
        "m, argm = x.max(dim=1) # columns\n",
        "print('Max in axis 1:\\n', m, argm) "
      ],
      "metadata": {
        "colab": {
          "base_uri": "https://localhost:8080/"
        },
        "id": "kFSBUpQsTfQT",
        "outputId": "82c87f63-9a00-46a4-d283-d0d37f9ef3b3"
      },
      "execution_count": 23,
      "outputs": [
        {
          "output_type": "stream",
          "name": "stdout",
          "text": [
            "Max in axis 1:\n",
            " tensor([ 4,  9, 14, 19, 24]) tensor([4, 4, 4, 4, 4])\n"
          ]
        }
      ]
    },
    {
      "cell_type": "markdown",
      "source": [
        "### Permute the dimensions of a tensor object\n",
        "(swap dimensions)"
      ],
      "metadata": {
        "id": "yVr88kNmUG77"
      }
    },
    {
      "cell_type": "code",
      "source": [
        "x = torch.randn(10,20,30)\n",
        "z = x.permute(1,0,2) # x.prmute(0,2,1) -> torch.Size(10,30,20)\n",
        "print('Permute dimensions:', x.shape, z.shape)"
      ],
      "metadata": {
        "colab": {
          "base_uri": "https://localhost:8080/"
        },
        "id": "-Vg6r_ikTwpX",
        "outputId": "3d8c652b-21a6-405a-bc45-880d780ef4fd"
      },
      "execution_count": 24,
      "outputs": [
        {
          "output_type": "stream",
          "name": "stdout",
          "text": [
            "Permute dimensions: torch.Size([10, 20, 30]) torch.Size([20, 10, 30])\n"
          ]
        }
      ]
    },
    {
      "cell_type": "markdown",
      "source": [
        "## Auto gradients of tensor objects"
      ],
      "metadata": {
        "id": "uxeY-uN9VsF1"
      }
    },
    {
      "cell_type": "markdown",
      "source": [
        "### 1. Define a tensor object\n",
        " requires_grad parameter specifies the gradient is to be calculated for the tensor object."
      ],
      "metadata": {
        "id": "kiBZAliNV4dv"
      }
    },
    {
      "cell_type": "code",
      "source": [
        "x = torch.tensor([[2., -1.], [1., 1.]], requires_grad=True) \n",
        "print(x)"
      ],
      "metadata": {
        "colab": {
          "base_uri": "https://localhost:8080/"
        },
        "id": "dGCRoC2EUOUe",
        "outputId": "0708b494-1ae9-4978-e7fb-dd83898efd46"
      },
      "execution_count": 25,
      "outputs": [
        {
          "output_type": "stream",
          "name": "stdout",
          "text": [
            "tensor([[ 2., -1.],\n",
            "        [ 1.,  1.]], requires_grad=True)\n"
          ]
        }
      ]
    },
    {
      "cell_type": "markdown",
      "source": [
        "### 2.  Define the way to calculate the output, wich in this specific case is the sum of the squares of all input: \n",
        "\n",
        "$\\mathbf{output} = \\sum_{i=1}^4 x_i^2$."
      ],
      "metadata": {
        "id": "dzZEmq5FYTUl"
      }
    },
    {
      "cell_type": "code",
      "source": [
        "out = x.pow(2).sum()"
      ],
      "metadata": {
        "id": "wdiumxTUWBl-"
      },
      "execution_count": 26,
      "outputs": []
    },
    {
      "cell_type": "code",
      "source": [
        "out"
      ],
      "metadata": {
        "colab": {
          "base_uri": "https://localhost:8080/"
        },
        "id": "3GrJw871Z3Zy",
        "outputId": "31abfe1b-4fc2-4439-dc37-861367621a12"
      },
      "execution_count": 27,
      "outputs": [
        {
          "output_type": "execute_result",
          "data": {
            "text/plain": [
              "tensor(7., grad_fn=<SumBackward0>)"
            ]
          },
          "metadata": {},
          "execution_count": 27
        }
      ]
    },
    {
      "cell_type": "markdown",
      "source": [
        "### 3. The gradient of a value can be calculated"
      ],
      "metadata": {
        "id": "yPvZVKW7Z9Vh"
      }
    },
    {
      "cell_type": "code",
      "source": [
        "out.backward()"
      ],
      "metadata": {
        "id": "mjGBbVT2Z4Lg"
      },
      "execution_count": 28,
      "outputs": []
    },
    {
      "cell_type": "code",
      "source": [
        "x.grad"
      ],
      "metadata": {
        "colab": {
          "base_uri": "https://localhost:8080/"
        },
        "id": "ym_ZT7gmaIyk",
        "outputId": "249cef58-97ef-4ee4-e769-cdaae6f7abd5"
      },
      "execution_count": 29,
      "outputs": [
        {
          "output_type": "execute_result",
          "data": {
            "text/plain": [
              "tensor([[ 4., -2.],\n",
              "        [ 2.,  2.]])"
            ]
          },
          "metadata": {},
          "execution_count": 29
        }
      ]
    },
    {
      "cell_type": "markdown",
      "source": [
        "####Computing gradients for the same case that was present in Chain_rule.ipynb notebook in previous chapter."
      ],
      "metadata": {
        "id": "oxiPNF_HavPr"
      }
    },
    {
      "cell_type": "code",
      "source": [
        "x = np.array([[1,1]])\n",
        "y = np.array([[0]])\n",
        "x, y = [torch.tensor(i).float() for i in [x,y]]\n",
        "print(x,y)"
      ],
      "metadata": {
        "colab": {
          "base_uri": "https://localhost:8080/"
        },
        "id": "qRXcctmYabVQ",
        "outputId": "298e61fb-7999-4143-8842-a22a74163d71"
      },
      "execution_count": 30,
      "outputs": [
        {
          "output_type": "stream",
          "name": "stdout",
          "text": [
            "tensor([[1., 1.]]) tensor([[0.]])\n"
          ]
        }
      ]
    },
    {
      "cell_type": "code",
      "source": [
        "W = [\n",
        "    np.array([[-0.0053, 0.3793],\n",
        "              [-0.5820, -0.5204],\n",
        "              [-0.2723, 0.1896]], dtype=np.float32).T, \n",
        "    np.array([-0.0140, 0.5607, -0.0628], dtype=np.float32), \n",
        "    np.array([[ 0.1528, -0.1745, -0.1135]], dtype=np.float32).T, \n",
        "    np.array([-0.5516], dtype=np.float32)\n",
        "]\n",
        "\n",
        "W = [torch.tensor(i, requires_grad=True) for i in W]\n",
        "print(W)"
      ],
      "metadata": {
        "colab": {
          "base_uri": "https://localhost:8080/"
        },
        "id": "jWoeRyTwa7BA",
        "outputId": "2c5333b9-b22f-4dd3-8ce9-5a1cec40f584"
      },
      "execution_count": 31,
      "outputs": [
        {
          "output_type": "stream",
          "name": "stdout",
          "text": [
            "[tensor([[-0.0053, -0.5820, -0.2723],\n",
            "        [ 0.3793, -0.5204,  0.1896]], requires_grad=True), tensor([-0.0140,  0.5607, -0.0628], requires_grad=True), tensor([[ 0.1528],\n",
            "        [-0.1745],\n",
            "        [-0.1135]], requires_grad=True), tensor([-0.5516], requires_grad=True)]\n"
          ]
        }
      ]
    },
    {
      "cell_type": "code",
      "source": [
        "def feed_forward(inputs, outputs, weights):\n",
        "    pre_hidden = torch.matmul(inputs,weights[0])+ weights[1]\n",
        "    hidden = 1/(1+torch.exp(-pre_hidden))\n",
        "    out = torch.matmul(hidden, weights[2]) + weights[3]\n",
        "    mean_squared_error = torch.mean(torch.square(out - outputs))\n",
        "    return mean_squared_error"
      ],
      "metadata": {
        "id": "rEmPYFHDbAKH"
      },
      "execution_count": 32,
      "outputs": []
    },
    {
      "cell_type": "code",
      "source": [
        "loss = feed_forward(x, y, W)\n",
        "loss"
      ],
      "metadata": {
        "colab": {
          "base_uri": "https://localhost:8080/"
        },
        "id": "FxaMEyRYbGup",
        "outputId": "d45fc7cb-7ded-4620-ef1d-02a9195c398f"
      },
      "execution_count": 33,
      "outputs": [
        {
          "output_type": "execute_result",
          "data": {
            "text/plain": [
              "tensor(0.3346, grad_fn=<MeanBackward0>)"
            ]
          },
          "metadata": {},
          "execution_count": 33
        }
      ]
    },
    {
      "cell_type": "code",
      "source": [
        "loss.backward()"
      ],
      "metadata": {
        "id": "14cT1-k8bT1n"
      },
      "execution_count": 34,
      "outputs": []
    },
    {
      "cell_type": "code",
      "source": [
        "print([w.grad for w in W])"
      ],
      "metadata": {
        "colab": {
          "base_uri": "https://localhost:8080/"
        },
        "id": "Q3uV2hrrbWDo",
        "outputId": "8f223bab-2740-4660-fea2-975cedd4d0da"
      },
      "execution_count": 35,
      "outputs": [
        {
          "output_type": "stream",
          "name": "stdout",
          "text": [
            "[tensor([[-0.0428,  0.0469,  0.0327],\n",
            "        [-0.0428,  0.0469,  0.0327]]), tensor([-0.0428,  0.0469,  0.0327]), tensor([[-0.6814],\n",
            "        [-0.4255],\n",
            "        [-0.5364]]), tensor([-1.1568])]\n"
          ]
        }
      ]
    },
    {
      "cell_type": "code",
      "source": [
        "updated_W = [w-w.grad for w in W]\n",
        "updated_W"
      ],
      "metadata": {
        "colab": {
          "base_uri": "https://localhost:8080/"
        },
        "id": "6OY-0vT1bYMH",
        "outputId": "0c2a802c-4fc2-46dc-8d48-f04da562de48"
      },
      "execution_count": 36,
      "outputs": [
        {
          "output_type": "execute_result",
          "data": {
            "text/plain": [
              "[tensor([[ 0.0375, -0.6289, -0.3050],\n",
              "         [ 0.4221, -0.5673,  0.1569]], grad_fn=<SubBackward0>),\n",
              " tensor([ 0.0288,  0.5138, -0.0955], grad_fn=<SubBackward0>),\n",
              " tensor([[0.8342],\n",
              "         [0.2510],\n",
              "         [0.4229]], grad_fn=<SubBackward0>),\n",
              " tensor([0.6052], grad_fn=<SubBackward0>)]"
            ]
          },
          "metadata": {},
          "execution_count": 36
        }
      ]
    },
    {
      "cell_type": "markdown",
      "source": [
        "## Advantages of PyTorch's tensors over NumPy's ndarrays#"
      ],
      "metadata": {
        "id": "GryThUV1cgy2"
      }
    },
    {
      "cell_type": "markdown",
      "source": [
        "Numpy vs Torch computation speed comparison"
      ],
      "metadata": {
        "id": "S3WwSDGrdb6A"
      }
    },
    {
      "cell_type": "markdown",
      "source": [
        "### 1. Generate two different torch objects"
      ],
      "metadata": {
        "id": "kILX40Mfdrq9"
      }
    },
    {
      "cell_type": "code",
      "source": [
        "x = torch.rand(1,6400)\n",
        "y = torch.rand(6400,5000)"
      ],
      "metadata": {
        "id": "G2tlypRlbaW2"
      },
      "execution_count": 37,
      "outputs": []
    },
    {
      "cell_type": "markdown",
      "source": [
        "### 2. Define the device "
      ],
      "metadata": {
        "id": "ySXWaa01e73b"
      }
    },
    {
      "cell_type": "code",
      "source": [
        "device = 'cuda' if torch.cuda.is_available() else 'cpu'\n",
        "assert device == 'cuda', \"This exercise assumes the notebook is on a GPU machine\""
      ],
      "metadata": {
        "id": "yiaLpmDnd_qt"
      },
      "execution_count": 38,
      "outputs": []
    },
    {
      "cell_type": "code",
      "source": [
        "device"
      ],
      "metadata": {
        "colab": {
          "base_uri": "https://localhost:8080/",
          "height": 0
        },
        "id": "KMD-wu1-fFYR",
        "outputId": "f5cba222-c64c-4095-e8b4-0d2cfc60a9d2"
      },
      "execution_count": 39,
      "outputs": [
        {
          "output_type": "execute_result",
          "data": {
            "text/plain": [
              "'cuda'"
            ],
            "application/vnd.google.colaboratory.intrinsic+json": {
              "type": "string"
            }
          },
          "metadata": {},
          "execution_count": 39
        }
      ]
    },
    {
      "cell_type": "markdown",
      "source": [
        "### 3. Storing information in a device"
      ],
      "metadata": {
        "id": "BbZ68XTyfb7n"
      }
    },
    {
      "cell_type": "code",
      "source": [
        "x,y = x.to(device=device),  y.to(device=device)"
      ],
      "metadata": {
        "id": "iMJOXEzofVEr"
      },
      "execution_count": 40,
      "outputs": []
    },
    {
      "cell_type": "code",
      "source": [
        "x"
      ],
      "metadata": {
        "colab": {
          "base_uri": "https://localhost:8080/"
        },
        "id": "M_I7oW0vftgZ",
        "outputId": "1162a3c5-a86f-4832-8723-0956f601d306"
      },
      "execution_count": 41,
      "outputs": [
        {
          "output_type": "execute_result",
          "data": {
            "text/plain": [
              "tensor([[0.9063, 0.3367, 0.2244,  ..., 0.7931, 0.3981, 0.6703]],\n",
              "       device='cuda:0')"
            ]
          },
          "metadata": {},
          "execution_count": 41
        }
      ]
    },
    {
      "cell_type": "markdown",
      "source": [
        "### 4. Perform matrix multiplication of Torch objects and time it to compare the speed  between Torch and Numpy"
      ],
      "metadata": {
        "id": "ZEXg28B5f9bf"
      }
    },
    {
      "cell_type": "code",
      "source": [
        "%timeit z=(x@y)"
      ],
      "metadata": {
        "colab": {
          "base_uri": "https://localhost:8080/"
        },
        "id": "jxhCj3crfv0I",
        "outputId": "bdaa2511-89cf-47c5-a7ae-c4fb61da9e0b"
      },
      "execution_count": 42,
      "outputs": [
        {
          "output_type": "stream",
          "name": "stdout",
          "text": [
            "The slowest run took 191554.55 times longer than the fastest. This could mean that an intermediate result is being cached.\n",
            "1 loop, best of 5: 14.2 µs per loop\n"
          ]
        }
      ]
    },
    {
      "cell_type": "code",
      "source": [
        "x, y = x.cpu(), y.cpu()\n",
        "%timeit z=(x@y)"
      ],
      "metadata": {
        "colab": {
          "base_uri": "https://localhost:8080/"
        },
        "id": "0yrEzyxFgP5T",
        "outputId": "44c2551d-a78e-437a-930f-58a6c83710fa"
      },
      "execution_count": 43,
      "outputs": [
        {
          "output_type": "stream",
          "name": "stdout",
          "text": [
            "100 loops, best of 5: 11.9 ms per loop\n"
          ]
        }
      ]
    },
    {
      "cell_type": "code",
      "source": [
        "import numpy as np\n",
        "x = np.random.random((1, 6400))\n",
        "y = np.random.random((6400, 5000))\n",
        "%timeit z = np.matmul(x,y)"
      ],
      "metadata": {
        "colab": {
          "base_uri": "https://localhost:8080/"
        },
        "id": "Yc2GRWSIgaI2",
        "outputId": "1f2995e0-d281-4677-c1a3-8c97299f7555"
      },
      "execution_count": 44,
      "outputs": [
        {
          "output_type": "stream",
          "name": "stdout",
          "text": [
            "10 loops, best of 5: 26.4 ms per loop\n"
          ]
        }
      ]
    },
    {
      "cell_type": "markdown",
      "source": [
        "## Building a neural network using PyTorch"
      ],
      "metadata": {
        "id": "7FouKG2eQUZP"
      }
    },
    {
      "cell_type": "markdown",
      "source": [
        "### 1. Define the input and output values:"
      ],
      "metadata": {
        "id": "TWuhbtlMRmuw"
      }
    },
    {
      "cell_type": "code",
      "source": [
        "x = [[1,2],[3,4],[5,6],[7,8]]\n",
        "y = [[3],[7],[11],[15]]"
      ],
      "metadata": {
        "id": "c_cC0gfvgil-"
      },
      "execution_count": 45,
      "outputs": []
    },
    {
      "cell_type": "markdown",
      "source": [
        "### 2. Convert the input lists into tensor objects:"
      ],
      "metadata": {
        "id": "o_7emT8WRzbm"
      }
    },
    {
      "cell_type": "code",
      "source": [
        "X = torch.tensor(x).float()\n",
        "Y = torch.tensor(y).float()"
      ],
      "metadata": {
        "id": "dwDp-WdNRuWl"
      },
      "execution_count": 46,
      "outputs": []
    },
    {
      "cell_type": "markdown",
      "source": [
        "### 3. register the input and out put data points to the decive"
      ],
      "metadata": {
        "id": "7MrBfLMhSFir"
      }
    },
    {
      "cell_type": "code",
      "source": [
        "device = 'cuda' if torch.cuda.is_available() else 'cpu'\n",
        "X = X.to(device)\n",
        "Y = Y.to(device)"
      ],
      "metadata": {
        "id": "QT-DNhPIR8h4"
      },
      "execution_count": 47,
      "outputs": []
    },
    {
      "cell_type": "markdown",
      "source": [
        "### 4. Define the neural network architecture:"
      ],
      "metadata": {
        "id": "szITR2UJSWPf"
      }
    },
    {
      "cell_type": "code",
      "source": [
        "class MyNeuralNet(nn.Module):\n",
        "  def __init__(self):\n",
        "    super().__init__()\n",
        "    self.input_to_hidden_layer = nn.Linear(2,8)\n",
        "    self.hidden_layer_activation = nn.ReLU()\n",
        "    self.hidden_to_output_layer = nn.Linear(8,1)\n",
        "\n",
        "  def forward(self,x):\n",
        "    x = self.input_to_hidden_layer(x)\n",
        "    x = self.hidden_layer_activation(x)\n",
        "    x = self.hidden_to_output_layer(x)\n",
        "    return x"
      ],
      "metadata": {
        "id": "dNO9E0YgSODI"
      },
      "execution_count": 48,
      "outputs": []
    },
    {
      "cell_type": "markdown",
      "source": [
        "### 5. access the inital weights of each of the components: "
      ],
      "metadata": {
        "id": "M3oR89izVMWQ"
      }
    },
    {
      "cell_type": "code",
      "source": [
        "mynet = MyNeuralNet().to(device)"
      ],
      "metadata": {
        "id": "uzXFx4ZoVVu1"
      },
      "execution_count": 49,
      "outputs": []
    },
    {
      "cell_type": "markdown",
      "source": [
        "- Note: they are used only for illustration of how to obtain parameters of a given layer."
      ],
      "metadata": {
        "id": "Gi3fdoR9V8jv"
      }
    },
    {
      "cell_type": "code",
      "source": [
        "print(f'input to hidden layer weigths: \\n {mynet.input_to_hidden_layer.weight}' ) # (2,8)"
      ],
      "metadata": {
        "colab": {
          "base_uri": "https://localhost:8080/"
        },
        "id": "0StoHUcdVZ9x",
        "outputId": "1ced604a-ec1a-42eb-b69c-1b7a4f05e155"
      },
      "execution_count": 50,
      "outputs": [
        {
          "output_type": "stream",
          "name": "stdout",
          "text": [
            "input to hidden layer weigths: \n",
            " Parameter containing:\n",
            "tensor([[-0.2600, -0.7039],\n",
            "        [ 0.5906, -0.0136],\n",
            "        [-0.1397, -0.4588],\n",
            "        [ 0.6376, -0.4227],\n",
            "        [-0.2617,  0.0063],\n",
            "        [-0.3700,  0.6457],\n",
            "        [ 0.0949,  0.2991],\n",
            "        [-0.5841, -0.7010]], device='cuda:0', requires_grad=True)\n"
          ]
        }
      ]
    },
    {
      "cell_type": "code",
      "source": [
        "print(f'hidden layer to output layer weigths: \\n {mynet.hidden_to_output_layer.weight}' ) # (8,1)"
      ],
      "metadata": {
        "colab": {
          "base_uri": "https://localhost:8080/"
        },
        "id": "edLLwFpcVwq9",
        "outputId": "449fa288-680b-4916-e680-755fd1c15936"
      },
      "execution_count": 51,
      "outputs": [
        {
          "output_type": "stream",
          "name": "stdout",
          "text": [
            "hidden layer to output layer weigths: \n",
            " Parameter containing:\n",
            "tensor([[ 0.0757,  0.2936,  0.2577,  0.1958,  0.3008, -0.0689,  0.2383, -0.1742]],\n",
            "       device='cuda:0', requires_grad=True)\n"
          ]
        }
      ]
    },
    {
      "cell_type": "code",
      "source": [
        "mynet.parameters"
      ],
      "metadata": {
        "colab": {
          "base_uri": "https://localhost:8080/"
        },
        "id": "s5NSc2c9WQuS",
        "outputId": "6c559d9d-bd53-4ed8-c2bc-32eb116d1a7f"
      },
      "execution_count": 52,
      "outputs": [
        {
          "output_type": "execute_result",
          "data": {
            "text/plain": [
              "<bound method Module.parameters of MyNeuralNet(\n",
              "  (input_to_hidden_layer): Linear(in_features=2, out_features=8, bias=True)\n",
              "  (hidden_layer_activation): ReLU()\n",
              "  (hidden_to_output_layer): Linear(in_features=8, out_features=1, bias=True)\n",
              ")>"
            ]
          },
          "metadata": {},
          "execution_count": 52
        }
      ]
    },
    {
      "cell_type": "code",
      "source": [
        "for par in mynet.parameters():\n",
        "  print(par)"
      ],
      "metadata": {
        "colab": {
          "base_uri": "https://localhost:8080/"
        },
        "id": "qZpiilRqW0xR",
        "outputId": "2a2b7617-417c-49f1-fbdb-e2024c53f144"
      },
      "execution_count": 53,
      "outputs": [
        {
          "output_type": "stream",
          "name": "stdout",
          "text": [
            "Parameter containing:\n",
            "tensor([[-0.2600, -0.7039],\n",
            "        [ 0.5906, -0.0136],\n",
            "        [-0.1397, -0.4588],\n",
            "        [ 0.6376, -0.4227],\n",
            "        [-0.2617,  0.0063],\n",
            "        [-0.3700,  0.6457],\n",
            "        [ 0.0949,  0.2991],\n",
            "        [-0.5841, -0.7010]], device='cuda:0', requires_grad=True)\n",
            "Parameter containing:\n",
            "tensor([-0.7029, -0.1112, -0.1919,  0.3033,  0.4360, -0.0784,  0.2468, -0.6835],\n",
            "       device='cuda:0', requires_grad=True)\n",
            "Parameter containing:\n",
            "tensor([[ 0.0757,  0.2936,  0.2577,  0.1958,  0.3008, -0.0689,  0.2383, -0.1742]],\n",
            "       device='cuda:0', requires_grad=True)\n",
            "Parameter containing:\n",
            "tensor([0.2740], device='cuda:0', requires_grad=True)\n"
          ]
        }
      ]
    },
    {
      "cell_type": "markdown",
      "source": [
        "### 6. Define the loss function:\n",
        "CrossEntropyLoss -> for multinomial classification.\n",
        "BCELoss -> binary cross-entropy loss for binary classification."
      ],
      "metadata": {
        "id": "2wT7octyXaNM"
      }
    },
    {
      "cell_type": "code",
      "source": [
        "loss_func = nn.MSELoss()"
      ],
      "metadata": {
        "id": "3pxw52ecXEOc"
      },
      "execution_count": 54,
      "outputs": []
    },
    {
      "cell_type": "markdown",
      "source": [
        "**The loss value of a neural network can be calculated by passing the input values through the neuralnet object and then calculating MSELoss for the given input.**"
      ],
      "metadata": {
        "id": "ZHzUqQwqYRVC"
      }
    },
    {
      "cell_type": "code",
      "source": [
        "_Y = mynet(X) # _y -> prediction\n",
        "print(f'- Prediction values: \\n {_Y} \\n')\n",
        "print(f'- Actual values: \\n {Y} \\n')\n",
        "loss_value = loss_func(_Y,Y)\n",
        "print(f'- Loss value: \\n {loss_value}')"
      ],
      "metadata": {
        "colab": {
          "base_uri": "https://localhost:8080/"
        },
        "id": "bVRxT9shXp1I",
        "outputId": "1231f20f-6cf7-46d9-c6d1-3b51775f3522"
      },
      "execution_count": 55,
      "outputs": [
        {
          "output_type": "stream",
          "name": "stdout",
          "text": [
            "- Prediction values: \n",
            " tensor([[0.6476],\n",
            "        [1.1641],\n",
            "        [1.7369],\n",
            "        [2.3096]], device='cuda:0', grad_fn=<AddmmBackward0>) \n",
            "\n",
            "- Actual values: \n",
            " tensor([[ 3.],\n",
            "        [ 7.],\n",
            "        [11.],\n",
            "        [15.]], device='cuda:0') \n",
            "\n",
            "- Loss value: \n",
            " 71.61048889160156\n"
          ]
        }
      ]
    },
    {
      "cell_type": "markdown",
      "source": [
        "### 7.  Import the SGD method:"
      ],
      "metadata": {
        "id": "YDjRu1tPaRxy"
      }
    },
    {
      "cell_type": "code",
      "source": [
        "opt = SGD(mynet.parameters(), lr = 0.001)"
      ],
      "metadata": {
        "id": "83QHXa9LYyzc"
      },
      "execution_count": 56,
      "outputs": []
    },
    {
      "cell_type": "markdown",
      "source": [
        "###8. Perform all the steps to be done in an epoch together:\n",
        "\n",
        "*NOTE: Problem:  Can't convert cuda:0 device type tensor to numpy. Use Tensor.cpu() to copy the tensor to host memory first.*\n",
        "\n",
        "*solution: \n",
        "Converting: type(loss_value): tensor -> numpy: tensor.cpu().detach.numpy()*"
      ],
      "metadata": {
        "id": "ma1-MWLSan3t"
      }
    },
    {
      "cell_type": "code",
      "source": [
        "loss_history = []\n",
        "for _ in range(50):\n",
        "    opt.zero_grad() # flush the previous epoch's gradients. \n",
        "    loss_value = loss_func(mynet(X),Y) # compute loss.\n",
        "    loss_value.backward() # perform back-propagation.\n",
        "    loss_value = loss_value.cpu().detach().numpy() # Convert cuda:0 device type tensor to numpy to plotting.\n",
        "    opt.step() # update the weights according to the gradients computed.\n",
        "    loss_history.append(loss_value)"
      ],
      "metadata": {
        "id": "9AdLlBJ6alAU"
      },
      "execution_count": 57,
      "outputs": []
    },
    {
      "cell_type": "markdown",
      "source": [
        "  *After Backpropagation:*"
      ],
      "metadata": {
        "id": "phs5oyqJbvWY"
      }
    },
    {
      "cell_type": "code",
      "source": [
        "_Y = mynet(X) # _y -> prediction\n",
        "print(f'- Prediction values: \\n {_Y} \\n')\n",
        "print(f'- Actual values: \\n {Y} \\n')\n",
        "loss_value = loss_func(_Y,Y)\n",
        "print(f'- Loss value: \\n {loss_value}')"
      ],
      "metadata": {
        "colab": {
          "base_uri": "https://localhost:8080/"
        },
        "id": "lyjQEj7ubnWB",
        "outputId": "e04de601-08c2-46f5-b87b-52c9cc677bb7"
      },
      "execution_count": 58,
      "outputs": [
        {
          "output_type": "stream",
          "name": "stdout",
          "text": [
            "- Prediction values: \n",
            " tensor([[ 3.3430],\n",
            "        [ 7.1433],\n",
            "        [11.0009],\n",
            "        [14.8584]], device='cuda:0', grad_fn=<AddmmBackward0>) \n",
            "\n",
            "- Actual values: \n",
            " tensor([[ 3.],\n",
            "        [ 7.],\n",
            "        [11.],\n",
            "        [15.]], device='cuda:0') \n",
            "\n",
            "- Loss value: \n",
            " 0.03956347703933716\n"
          ]
        }
      ]
    },
    {
      "cell_type": "markdown",
      "source": [
        "### *9. Plotting the vartion in loss over increasing epochs:*"
      ],
      "metadata": {
        "id": "NQmK0TmTcRsz"
      }
    },
    {
      "cell_type": "code",
      "source": [
        "plt.plot(loss_history)\n",
        "plt.title('Loss variation over increasing epochs')\n",
        "plt.xlabel('epochs')\n",
        "plt.ylabel('loss value')"
      ],
      "metadata": {
        "colab": {
          "base_uri": "https://localhost:8080/",
          "height": 0
        },
        "id": "fJRuJGltbqNN",
        "outputId": "1d719fa5-37b6-411f-b3b7-36dd4a9d80ed"
      },
      "execution_count": 59,
      "outputs": [
        {
          "output_type": "execute_result",
          "data": {
            "text/plain": [
              "Text(0, 0.5, 'loss value')"
            ]
          },
          "metadata": {},
          "execution_count": 59
        },
        {
          "output_type": "display_data",
          "data": {
            "text/plain": [
              "<Figure size 432x288 with 1 Axes>"
            ],
            "image/png": "[encoded data removed]"
          },
          "metadata": {
            "needs_background": "light"
          }
        }
      ]
    },
    {
      "cell_type": "markdown",
      "source": [
        "## Implementing costom loss function"
      ],
      "metadata": {
        "id": "FFCA4MYdhm8D"
      }
    },
    {
      "cell_type": "code",
      "source": [
        "x = [[1,2],[3,4],[5,6],[7,8]]\n",
        "y = [[3],[7],[11],[15]]\n",
        "import torch\n",
        "X = torch.tensor(x).float()\n",
        "Y = torch.tensor(y).float()\n",
        "import torch.nn as nn\n",
        "device = 'cuda' if torch.cuda.is_available() else 'cpu'\n",
        "X = X.to(device)\n",
        "Y = Y.to(device) \n",
        "import torch.nn as nn\n",
        "from torch.utils.data import Dataset, DataLoader\n",
        "class MyDataset(Dataset):\n",
        "    def __init__(self,x,y):\n",
        "        self.x = torch.tensor(x).float()\n",
        "        self.y = torch.tensor(y).float()\n",
        "    def __len__(self):\n",
        "        return len(self.x)\n",
        "    def __getitem__(self, ix):\n",
        "        return self.x[ix], self.y[ix]\n",
        "ds = MyDataset(X, Y)\n",
        "dl = DataLoader(ds, batch_size=2, shuffle=True)\n",
        "class MyNeuralNet(nn.Module):\n",
        "    def __init__(self):\n",
        "        super().__init__()\n",
        "        self.input_to_hidden_layer = nn.Linear(2,8)\n",
        "        self.hidden_layer_activation = nn.ReLU()\n",
        "        self.hidden_to_output_layer = nn.Linear(8,1)\n",
        "    def forward(self, x):\n",
        "        x = self.input_to_hidden_layer(x)\n",
        "        x = self.hidden_layer_activation(x)\n",
        "        x = self.hidden_to_output_layer(x)\n",
        "        return x\n",
        "mynet = MyNeuralNet().to(device)"
      ],
      "metadata": {
        "colab": {
          "base_uri": "https://localhost:8080/"
        },
        "id": "PbrhCwi3hvrU",
        "outputId": "8f77bbda-0488-46cd-ecba-0a821d817d6b"
      },
      "execution_count": 60,
      "outputs": [
        {
          "output_type": "stream",
          "name": "stderr",
          "text": [
            "/usr/local/lib/python3.7/dist-packages/ipykernel_launcher.py:14: UserWarning: To copy construct from a tensor, it is recommended to use sourceTensor.clone().detach() or sourceTensor.clone().detach().requires_grad_(True), rather than torch.tensor(sourceTensor).\n",
            "  \n",
            "/usr/local/lib/python3.7/dist-packages/ipykernel_launcher.py:15: UserWarning: To copy construct from a tensor, it is recommended to use sourceTensor.clone().detach() or sourceTensor.clone().detach().requires_grad_(True), rather than torch.tensor(sourceTensor).\n",
            "  from ipykernel import kernelapp as app\n"
          ]
        }
      ]
    },
    {
      "cell_type": "code",
      "source": [
        "def my_mean_squared_error(_y, y):\n",
        "    loss = (_y-y)**2\n",
        "    loss = loss.mean()\n",
        "    return loss"
      ],
      "metadata": {
        "id": "GJM1Kmw_h29c"
      },
      "execution_count": 61,
      "outputs": []
    },
    {
      "cell_type": "code",
      "source": [
        "loss_func = nn.MSELoss()\n",
        "loss_value = loss_func(mynet(X),Y)\n",
        "print(loss_value)"
      ],
      "metadata": {
        "colab": {
          "base_uri": "https://localhost:8080/"
        },
        "id": "WDi4n-DTh4kj",
        "outputId": "4e349ea0-0713-4fee-8005-e55b00019141"
      },
      "execution_count": 62,
      "outputs": [
        {
          "output_type": "stream",
          "name": "stdout",
          "text": [
            "tensor(92.7131, device='cuda:0', grad_fn=<MseLossBackward0>)\n"
          ]
        }
      ]
    },
    {
      "cell_type": "code",
      "source": [
        "my_mean_squared_error(mynet(X),Y)"
      ],
      "metadata": {
        "colab": {
          "base_uri": "https://localhost:8080/"
        },
        "id": "_SM0xST5h5vJ",
        "outputId": "4702f3eb-880f-469d-f9d3-45d0eabf74b6"
      },
      "execution_count": 63,
      "outputs": [
        {
          "output_type": "execute_result",
          "data": {
            "text/plain": [
              "tensor(92.7131, device='cuda:0', grad_fn=<MeanBackward0>)"
            ]
          },
          "metadata": {},
          "execution_count": 63
        }
      ]
    },
    {
      "cell_type": "markdown",
      "source": [
        "## Fetching the values of intemediate layers"
      ],
      "metadata": {
        "id": "iigEFSYtian1"
      }
    },
    {
      "cell_type": "code",
      "source": [
        "x = [[1,2],[3,4],[5,6],[7,8]]\n",
        "y = [[3],[7],[11],[15]]"
      ],
      "metadata": {
        "id": "wi5_0Ia1igsG"
      },
      "execution_count": 64,
      "outputs": []
    },
    {
      "cell_type": "code",
      "source": [
        "X = torch.tensor(x).float()\n",
        "Y = torch.tensor(y).float()"
      ],
      "metadata": {
        "id": "3313VlCMi1Bi"
      },
      "execution_count": 65,
      "outputs": []
    },
    {
      "cell_type": "code",
      "source": [
        "device = 'cuda' if torch.cuda.is_available() else 'cpu'\n",
        "X = X.to(device)\n",
        "Y = Y.to(device)"
      ],
      "metadata": {
        "id": "YBWTRZNOi1-E"
      },
      "execution_count": 66,
      "outputs": []
    },
    {
      "cell_type": "code",
      "source": [
        "class MyNeuralNet(nn.Module):\n",
        "    def __init__(self):\n",
        "        super().__init__()\n",
        "        self.input_to_hidden_layer = nn.Linear(2,8)\n",
        "        self.hidden_layer_activation = nn.ReLU()\n",
        "        self.hidden_to_output_layer = nn.Linear(8,1)\n",
        "    def forward(self, x):\n",
        "        x = self.input_to_hidden_layer(x)\n",
        "        x = self.hidden_layer_activation(x)\n",
        "        x = self.hidden_to_output_layer(x)\n",
        "        return x"
      ],
      "metadata": {
        "id": "6Au9r2Kui22b"
      },
      "execution_count": 67,
      "outputs": []
    },
    {
      "cell_type": "code",
      "source": [
        "torch.random.manual_seed(10)\n",
        "mynet = MyNeuralNet().to(device)"
      ],
      "metadata": {
        "id": "8rXcZjOZi4NO"
      },
      "execution_count": 68,
      "outputs": []
    },
    {
      "cell_type": "code",
      "source": [
        "loss_func = nn.MSELoss()\n"
      ],
      "metadata": {
        "id": "FYEwYwXni5cE"
      },
      "execution_count": 69,
      "outputs": []
    },
    {
      "cell_type": "code",
      "source": [
        "_Y = mynet(X)\n",
        "loss_value = loss_func(_Y,Y)\n",
        "print(loss_value)"
      ],
      "metadata": {
        "id": "d4uKzLjvi62V",
        "outputId": "9c32ff40-d683-40d9-80f6-b7072f89a334",
        "colab": {
          "base_uri": "https://localhost:8080/"
        }
      },
      "execution_count": 70,
      "outputs": [
        {
          "output_type": "stream",
          "name": "stdout",
          "text": [
            "tensor(102.1545, device='cuda:0', grad_fn=<MseLossBackward0>)\n"
          ]
        }
      ]
    },
    {
      "cell_type": "code",
      "source": [
        "opt = SGD(mynet.parameters(), lr = 0.001)\n"
      ],
      "metadata": {
        "id": "A8tu4rUOi79t"
      },
      "execution_count": 71,
      "outputs": []
    },
    {
      "cell_type": "code",
      "source": [
        "loss_history = []\n",
        "for _ in range(50):\n",
        "    opt.zero_grad()\n",
        "    loss_value = loss_func(mynet(X),Y)\n",
        "    loss_value.backward()\n",
        "    loss_value = loss_value.cpu().detach().numpy()\n",
        "    opt.step()\n",
        "    loss_history.append(loss_value)"
      ],
      "metadata": {
        "id": "mbny6Ghci-S4"
      },
      "execution_count": 72,
      "outputs": []
    },
    {
      "cell_type": "code",
      "source": [
        "plt.plot(loss_history)\n",
        "plt.title('Loss variation over increasing epochs')\n",
        "plt.xlabel('epochs')\n",
        "plt.ylabel('loss value')"
      ],
      "metadata": {
        "id": "Pd3Lvg1Zi_Rl",
        "outputId": "33327809-ead9-452d-d83e-1b5d0ca5b108",
        "colab": {
          "base_uri": "https://localhost:8080/",
          "height": 0
        }
      },
      "execution_count": 73,
      "outputs": [
        {
          "output_type": "execute_result",
          "data": {
            "text/plain": [
              "Text(0, 0.5, 'loss value')"
            ]
          },
          "metadata": {},
          "execution_count": 73
        },
        {
          "output_type": "display_data",
          "data": {
            "text/plain": [
              "<Figure size 432x288 with 1 Axes>"
            ],
            "image/png": "[encoded data removed]"
          },
          "metadata": {
            "needs_background": "light"
          }
        }
      ]
    },
    {
      "cell_type": "markdown",
      "source": [
        "### **1. Fetching intermediate values by directly calling the intermediate layer:**"
      ],
      "metadata": {
        "id": "zuOFZ32PjwWh"
      }
    },
    {
      "cell_type": "code",
      "source": [
        "print(mynet.input_to_hidden_layer(X))"
      ],
      "metadata": {
        "id": "WLg2S1QjjBok",
        "outputId": "150094d0-7b15-408f-cc42-f2796d050324",
        "colab": {
          "base_uri": "https://localhost:8080/"
        }
      },
      "execution_count": 74,
      "outputs": [
        {
          "output_type": "stream",
          "name": "stdout",
          "text": [
            "tensor([[-4.0139e-01,  7.2154e-03, -4.9131e-01,  1.4615e+00, -3.8093e-01,\n",
            "         -7.1646e-01,  4.6765e-01,  2.0814e+00],\n",
            "        [-5.6844e-01, -2.2575e-01, -1.5498e+00,  3.1695e+00, -5.2755e-01,\n",
            "         -7.3935e-01,  1.9716e+00,  5.3073e+00],\n",
            "        [-7.3548e-01, -4.5871e-01, -2.6083e+00,  4.8776e+00, -6.7418e-01,\n",
            "         -7.6225e-01,  3.4756e+00,  8.5332e+00],\n",
            "        [-9.0252e-01, -6.9167e-01, -3.6667e+00,  6.5856e+00, -8.2080e-01,\n",
            "         -7.8514e-01,  4.9795e+00,  1.1759e+01]], device='cuda:0',\n",
            "       grad_fn=<AddmmBackward0>)\n"
          ]
        }
      ]
    },
    {
      "cell_type": "code",
      "source": [
        "torch.random.manual_seed(10)\n",
        "class MyNeuralNet(nn.Module):\n",
        "    def __init__(self):\n",
        "        super().__init__()\n",
        "        self.input_to_hidden_layer = nn.Linear(2,8)\n",
        "        self.hidden_layer_activation = nn.ReLU()\n",
        "        self.hidden_to_output_layer = nn.Linear(8,1)\n",
        "    def forward(self, x):\n",
        "        hidden1 = self.input_to_hidden_layer(x)\n",
        "        hidden2 = self.hidden_layer_activation(hidden1)\n",
        "        x = self.hidden_to_output_layer(hidden2)\n",
        "        return x, hidden1\n",
        "\n",
        "mynet = MyNeuralNet().to(device)\n",
        "loss_func = nn.MSELoss()\n",
        "_Y, _Y_hidden = mynet(X)\n",
        "loss_value = loss_func(_Y,Y)\n",
        "opt = SGD(mynet.parameters(), lr = 0.001)\n",
        "loss_history = []\n",
        "for _ in range(50):\n",
        "    opt.zero_grad()\n",
        "    loss_value = loss_func(mynet(X)[0],Y)\n",
        "    loss_value.backward()\n",
        "    loss_value = loss_value.cpu().detach().numpy()\n",
        "    opt.step()\n",
        "    loss_history.append(loss_value)\n",
        "\n",
        "\n",
        "plt.plot(loss_history)\n",
        "plt.title('Loss variation over increasing epochs')\n",
        "plt.xlabel('epochs')\n",
        "plt.ylabel('loss value')"
      ],
      "metadata": {
        "id": "Op-_0iamkKhe",
        "outputId": "4f6a28df-b2d6-4fe0-ff18-870356ee38d7",
        "colab": {
          "base_uri": "https://localhost:8080/",
          "height": 0
        }
      },
      "execution_count": 75,
      "outputs": [
        {
          "output_type": "execute_result",
          "data": {
            "text/plain": [
              "Text(0, 0.5, 'loss value')"
            ]
          },
          "metadata": {},
          "execution_count": 75
        },
        {
          "output_type": "display_data",
          "data": {
            "text/plain": [
              "<Figure size 432x288 with 1 Axes>"
            ],
            "image/png": "[encoded data removed]"
          },
          "metadata": {
            "needs_background": "light"
          }
        }
      ]
    },
    {
      "cell_type": "markdown",
      "source": [
        ""
      ],
      "metadata": {
        "id": "dPZZCFLJlIf2"
      }
    },
    {
      "cell_type": "code",
      "source": [
        "mynet(X)[1] # access the hidden layer values. index 0 -> output of model & index 1 -> output of the hidden layer value."
      ],
      "metadata": {
        "id": "nRjDZHNckwgh",
        "outputId": "9f9d65d6-7602-4cc3-d44e-fb883aa8930a",
        "colab": {
          "base_uri": "https://localhost:8080/"
        }
      },
      "execution_count": 76,
      "outputs": [
        {
          "output_type": "execute_result",
          "data": {
            "text/plain": [
              "tensor([[-4.0139e-01,  7.2154e-03, -4.9131e-01,  1.4615e+00, -3.8093e-01,\n",
              "         -7.1646e-01,  4.6765e-01,  2.0814e+00],\n",
              "        [-5.6844e-01, -2.2575e-01, -1.5498e+00,  3.1695e+00, -5.2755e-01,\n",
              "         -7.3935e-01,  1.9716e+00,  5.3073e+00],\n",
              "        [-7.3548e-01, -4.5871e-01, -2.6083e+00,  4.8776e+00, -6.7418e-01,\n",
              "         -7.6225e-01,  3.4756e+00,  8.5332e+00],\n",
              "        [-9.0252e-01, -6.9167e-01, -3.6667e+00,  6.5856e+00, -8.2080e-01,\n",
              "         -7.8514e-01,  4.9795e+00,  1.1759e+01]], device='cuda:0',\n",
              "       grad_fn=<AddmmBackward0>)"
            ]
          },
          "metadata": {},
          "execution_count": 76
        }
      ]
    },
    {
      "cell_type": "markdown",
      "source": [
        "## Using a sequential method to build a neural network"
      ],
      "metadata": {
        "id": "23GMTJGKlrjm"
      }
    },
    {
      "cell_type": "markdown",
      "source": [
        "### 1. Define the dataset:"
      ],
      "metadata": {
        "id": "SbN5PfM4l_Z4"
      }
    },
    {
      "cell_type": "code",
      "source": [
        "x = [[1,2],[3,4],[5,6],[7,8]]\n",
        "y = [[3],[7],[11],[15]]"
      ],
      "metadata": {
        "id": "Ttwfx9iok8Xe"
      },
      "execution_count": 77,
      "outputs": []
    },
    {
      "cell_type": "markdown",
      "source": [
        "### 2. Define the device we will work on:"
      ],
      "metadata": {
        "id": "D7cQ4b5zmLnA"
      }
    },
    {
      "cell_type": "code",
      "source": [
        "device = 'cuda' if torch.cuda.is_available() else 'cpu'"
      ],
      "metadata": {
        "id": "L0vUoeRCmHaf"
      },
      "execution_count": 78,
      "outputs": []
    },
    {
      "cell_type": "markdown",
      "source": [
        "### 3. Define the dataset class:"
      ],
      "metadata": {
        "id": "ygsopuNNmYXM"
      }
    },
    {
      "cell_type": "code",
      "source": [
        "class MyDataset(Dataset):\n",
        "    def __init__(self, x, y):\n",
        "        self.x = torch.tensor(x).float().to(device)\n",
        "        self.y = torch.tensor(y).float().to(device)\n",
        "    def __getitem__(self, ix):\n",
        "        return self.x[ix], self.y[ix]\n",
        "    def __len__(self): \n",
        "        return len(self.x)"
      ],
      "metadata": {
        "id": "1TVXkk23mVQm"
      },
      "execution_count": 79,
      "outputs": []
    },
    {
      "cell_type": "markdown",
      "source": [
        "### 4. Define the dataset and downloader object:"
      ],
      "metadata": {
        "id": "za7Uy1aDmjO5"
      }
    },
    {
      "cell_type": "code",
      "source": [
        "ds = MyDataset(x, y)\n",
        "dl = DataLoader(ds, batch_size=2, shuffle=True)"
      ],
      "metadata": {
        "id": "CtaiPbxUmfql"
      },
      "execution_count": 80,
      "outputs": []
    },
    {
      "cell_type": "markdown",
      "source": [
        "### 5. Define the model architecture usnig the Sequential method:"
      ],
      "metadata": {
        "id": "dJ8gew57mtOA"
      }
    },
    {
      "cell_type": "code",
      "source": [
        "model = nn.Sequential(\n",
        "    nn.Linear(2, 8),\n",
        "    nn.ReLU(),\n",
        "    nn.Linear(8, 1)\n",
        ").to(device)"
      ],
      "metadata": {
        "id": "twDM7lmrmpmJ"
      },
      "execution_count": 81,
      "outputs": []
    },
    {
      "cell_type": "markdown",
      "source": [
        "### 6. Print a summary of the model we defined in step 5:"
      ],
      "metadata": {
        "id": "1M_lbbTmndQ9"
      }
    },
    {
      "cell_type": "code",
      "source": [
        "!pip install torch_summary\n",
        "from torchsummary import summary"
      ],
      "metadata": {
        "id": "UYS2oYhKm7iA",
        "outputId": "b1a0d868-78ab-4464-cc16-125b98f21a8d",
        "colab": {
          "base_uri": "https://localhost:8080/"
        }
      },
      "execution_count": 82,
      "outputs": [
        {
          "output_type": "stream",
          "name": "stdout",
          "text": [
            "Looking in indexes: https://pypi.org/simple, https://us-python.pkg.dev/colab-wheels/public/simple/\n",
            "Collecting torch_summary\n",
            "  Downloading torch_summary-1.4.5-py3-none-any.whl (16 kB)\n",
            "Installing collected packages: torch-summary\n",
            "Successfully installed torch-summary-1.4.5\n"
          ]
        }
      ]
    },
    {
      "cell_type": "code",
      "source": [
        "summary(model, torch.zeros(1,2));"
      ],
      "metadata": {
        "id": "HHDdZ0JgnmwO",
        "outputId": "91c69680-b7f5-4f73-dce8-adbda7bec0e1",
        "colab": {
          "base_uri": "https://localhost:8080/"
        }
      },
      "execution_count": 83,
      "outputs": [
        {
          "output_type": "stream",
          "name": "stdout",
          "text": [
            "==========================================================================================\n",
            "Layer (type:depth-idx)                   Output Shape              Param #\n",
            "==========================================================================================\n",
            "├─Linear: 1-1                            [-1, 8]                   24\n",
            "├─ReLU: 1-2                              [-1, 8]                   --\n",
            "├─Linear: 1-3                            [-1, 1]                   9\n",
            "==========================================================================================\n",
            "Total params: 33\n",
            "Trainable params: 33\n",
            "Non-trainable params: 0\n",
            "Total mult-adds (M): 0.00\n",
            "==========================================================================================\n",
            "Input size (MB): 0.00\n",
            "Forward/backward pass size (MB): 0.00\n",
            "Params size (MB): 0.00\n",
            "Estimated Total Size (MB): 0.00\n",
            "==========================================================================================\n"
          ]
        }
      ]
    },
    {
      "cell_type": "markdown",
      "source": [
        "### 7. Define the loss function, optimizer and train the model:"
      ],
      "metadata": {
        "id": "m4Ilm-j_oEsk"
      }
    },
    {
      "cell_type": "code",
      "source": [
        "loss_func = nn.MSELoss()\n",
        "from torch.optim import SGD\n",
        "opt = SGD(model.parameters(), lr = 0.001)\n",
        "import time\n",
        "loss_history = []\n",
        "start = time.time()\n",
        "for _ in range(50):\n",
        "    for ix, iy in dl:\n",
        "        opt.zero_grad()\n",
        "        loss_value = loss_func(model(ix),iy)\n",
        "        loss_value.backward()\n",
        "        opt.step()\n",
        "        loss_history.append(loss_value)\n",
        "end = time.time()\n",
        "print(end - start)"
      ],
      "metadata": {
        "id": "ZMe4y0Ftnso9",
        "outputId": "88bc99fb-52dd-4089-84b4-db99cf1afd05",
        "colab": {
          "base_uri": "https://localhost:8080/"
        }
      },
      "execution_count": 84,
      "outputs": [
        {
          "output_type": "stream",
          "name": "stdout",
          "text": [
            "0.10754728317260742\n"
          ]
        }
      ]
    },
    {
      "cell_type": "markdown",
      "source": [
        "### 8. predict values on a validation dataset: "
      ],
      "metadata": {
        "id": "0aN4HNK7ohkx"
      }
    },
    {
      "cell_type": "code",
      "source": [
        "val = [[8,9],[10,11],[1.5,2.5]]\n",
        "val = torch.tensor(val).float()"
      ],
      "metadata": {
        "id": "Hi7kNsukoVIq"
      },
      "execution_count": 85,
      "outputs": []
    },
    {
      "cell_type": "code",
      "source": [
        "model(val.to(device))"
      ],
      "metadata": {
        "id": "mk1LhFu6or_N",
        "outputId": "b2805a7f-100e-4e9b-c70d-aafc20c50737",
        "colab": {
          "base_uri": "https://localhost:8080/"
        }
      },
      "execution_count": 86,
      "outputs": [
        {
          "output_type": "execute_result",
          "data": {
            "text/plain": [
              "tensor([[16.2715],\n",
              "        [19.7811],\n",
              "        [ 4.8350]], device='cuda:0', grad_fn=<AddmmBackward0>)"
            ]
          },
          "metadata": {},
          "execution_count": 86
        }
      ]
    },
    {
      "cell_type": "code",
      "source": [
        "val.sum(-1)"
      ],
      "metadata": {
        "id": "9XJ0-cREoy3q",
        "outputId": "725a65dc-317f-410c-fa01-29c011a0f8f9",
        "colab": {
          "base_uri": "https://localhost:8080/"
        }
      },
      "execution_count": 87,
      "outputs": [
        {
          "output_type": "execute_result",
          "data": {
            "text/plain": [
              "tensor([17., 21.,  4.])"
            ]
          },
          "metadata": {},
          "execution_count": 87
        }
      ]
    },
    {
      "cell_type": "markdown",
      "source": [
        "## Saving and loading a PyTorch model"
      ],
      "metadata": {
        "id": "HEqgw8VdFxDl"
      }
    },
    {
      "cell_type": "code",
      "source": [
        "x = [[1,2],[3,4],[5,6],[7,8]]\n",
        "y = [[3],[7],[11],[15]]"
      ],
      "metadata": {
        "id": "9oFfXCpyFwuT"
      },
      "execution_count": 88,
      "outputs": []
    },
    {
      "cell_type": "code",
      "source": [
        "device = 'cuda' if torch.cuda.is_available() else 'cpu'"
      ],
      "metadata": {
        "id": "7KpPTdD9Gojl"
      },
      "execution_count": 89,
      "outputs": []
    },
    {
      "cell_type": "code",
      "source": [
        "class MyDataset(Dataset):\n",
        "  def __init_(self,x,y):\n",
        "    self.x = torch(x).float().to(device)\n",
        "    self.y = torch(y).float().to(device)\n",
        "  def __getitem__(self,ix):\n",
        "    return self.x[ix] , self.y[x]\n",
        "  def __len__(self):\n",
        "    return len(self.x)\n"
      ],
      "metadata": {
        "id": "WR0liHMIGqIb"
      },
      "execution_count": 92,
      "outputs": []
    },
    {
      "cell_type": "code",
      "source": [
        "ds = MyDataset(x, y)\n",
        "dl = DataLoader(ds, batch_size=2, shuffle=True)"
      ],
      "metadata": {
        "id": "xEB_beVAHRFQ"
      },
      "execution_count": 91,
      "outputs": []
    },
    {
      "cell_type": "code",
      "source": [
        "model = nn.Sequential(\n",
        "    nn.Linear(2, 8),\n",
        "    nn.ReLU(),\n",
        "    nn.Linear(8, 1)\n",
        ").to(device)"
      ],
      "metadata": {
        "id": "ZcKhSyLLHS8-"
      },
      "execution_count": 93,
      "outputs": []
    },
    {
      "cell_type": "code",
      "source": [
        "summary(model, torch.zeros(1,2));"
      ],
      "metadata": {
        "id": "xGJMGHOwHeAI",
        "outputId": "1760cdc5-be56-4136-dd76-cbd360d605ba",
        "colab": {
          "base_uri": "https://localhost:8080/"
        }
      },
      "execution_count": 94,
      "outputs": [
        {
          "output_type": "stream",
          "name": "stdout",
          "text": [
            "==========================================================================================\n",
            "Layer (type:depth-idx)                   Output Shape              Param #\n",
            "==========================================================================================\n",
            "├─Linear: 1-1                            [-1, 8]                   24\n",
            "├─ReLU: 1-2                              [-1, 8]                   --\n",
            "├─Linear: 1-3                            [-1, 1]                   9\n",
            "==========================================================================================\n",
            "Total params: 33\n",
            "Trainable params: 33\n",
            "Non-trainable params: 0\n",
            "Total mult-adds (M): 0.00\n",
            "==========================================================================================\n",
            "Input size (MB): 0.00\n",
            "Forward/backward pass size (MB): 0.00\n",
            "Params size (MB): 0.00\n",
            "Estimated Total Size (MB): 0.00\n",
            "==========================================================================================\n"
          ]
        }
      ]
    },
    {
      "cell_type": "code",
      "source": [
        "loss_func = nn.MSELoss()\n",
        "from torch.optim import SGD\n",
        "opt = SGD(model.parameters(), lr = 0.001)\n",
        "import time\n",
        "loss_history = []\n",
        "start = time.time()\n",
        "for _ in range(50):\n",
        "    for ix, iy in dl:\n",
        "        opt.zero_grad()\n",
        "        loss_value = loss_func(model(ix),iy)\n",
        "        loss_value.backward()\n",
        "        opt.step()\n",
        "        loss_history.append(loss_value)\n",
        "end = time.time()\n",
        "print(end - start)"
      ],
      "metadata": {
        "id": "WT-PYtCmHn-P",
        "outputId": "8f14669d-4909-4544-96ed-b61905ab9d7f",
        "colab": {
          "base_uri": "https://localhost:8080/"
        }
      },
      "execution_count": 95,
      "outputs": [
        {
          "output_type": "stream",
          "name": "stdout",
          "text": [
            "0.09807610511779785\n"
          ]
        }
      ]
    },
    {
      "cell_type": "code",
      "source": [
        "model.state_dict() # -> return the parameter(names of the model's layers) and the values (weight and bais values)"
      ],
      "metadata": {
        "id": "X4py1BGvHsdX",
        "outputId": "0585071b-3df8-49da-e028-f787ad22b064",
        "colab": {
          "base_uri": "https://localhost:8080/"
        }
      },
      "execution_count": 98,
      "outputs": [
        {
          "output_type": "execute_result",
          "data": {
            "text/plain": [
              "OrderedDict([('0.weight', tensor([[ 0.3080,  0.6173],\n",
              "                      [-0.5776, -0.1452],\n",
              "                      [ 0.4975,  0.3040],\n",
              "                      [-0.5827, -0.0272],\n",
              "                      [ 0.0969, -0.4702],\n",
              "                      [ 0.4965,  0.1228],\n",
              "                      [-0.1320,  0.4545],\n",
              "                      [ 0.5068,  0.7792]], device='cuda:0')),\n",
              "             ('0.bias',\n",
              "              tensor([ 0.2678, -0.5680,  0.3476,  0.3122,  0.1383, -0.4279,  0.0824,  0.7028],\n",
              "                     device='cuda:0')),\n",
              "             ('2.weight',\n",
              "              tensor([[ 0.4613, -0.1842,  0.1853,  0.0028,  0.1297,  0.2874,  0.2401,  0.7587]],\n",
              "                     device='cuda:0')),\n",
              "             ('2.bias', tensor([0.2619], device='cuda:0'))])"
            ]
          },
          "metadata": {},
          "execution_count": 98
        }
      ]
    },
    {
      "cell_type": "markdown",
      "source": [
        "##### **1. Saving** "
      ],
      "metadata": {
        "id": "8IcYPyFHIo6a"
      }
    },
    {
      "cell_type": "code",
      "source": [
        "save_path = 'mymodel.pth'\n",
        "torch.save(model.state_dict(), save_path)\n",
        "!du -hsc {save_path} # size of the model on disk"
      ],
      "metadata": {
        "id": "S18GlDeDIBf-",
        "outputId": "ee364305-0a6c-4871-818c-dc44062abe98",
        "colab": {
          "base_uri": "https://localhost:8080/"
        }
      },
      "execution_count": 99,
      "outputs": [
        {
          "output_type": "stream",
          "name": "stdout",
          "text": [
            "4.0K\tmymodel.pth\n",
            "4.0K\ttotal\n"
          ]
        }
      ]
    },
    {
      "cell_type": "markdown",
      "source": [
        "#### **2. Loading**"
      ],
      "metadata": {
        "id": "kmrMIiKpJGhr"
      }
    },
    {
      "cell_type": "markdown",
      "source": [
        "##### 1. Create an empty model with the same command that we used: "
      ],
      "metadata": {
        "id": "Z7VpC5PZJSTC"
      }
    },
    {
      "cell_type": "code",
      "source": [
        "model = nn.Sequential(\n",
        "    nn.Linear(2,8),\n",
        "    nn.ReLU(),\n",
        "    nn.Linear(8,1)\n",
        ").to(device)\n"
      ],
      "metadata": {
        "id": "gZILPkFoIvyG"
      },
      "execution_count": 100,
      "outputs": []
    },
    {
      "cell_type": "markdown",
      "source": [
        "#### 2. Load the model from disk and unserialize to create an orderedDict value:"
      ],
      "metadata": {
        "id": "iVWWtJqOJxcO"
      }
    },
    {
      "cell_type": "code",
      "source": [
        "state_dict = torch.load('mymodel.pth')"
      ],
      "metadata": {
        "id": "i5iRA5k8Jt4t"
      },
      "execution_count": 101,
      "outputs": []
    },
    {
      "cell_type": "markdown",
      "source": [
        "##### 3. Load state_dict onto model, register to device, and make prediction"
      ],
      "metadata": {
        "id": "xmTpzyEcKO-C"
      }
    },
    {
      "cell_type": "code",
      "source": [
        "model.load_state_dict(state_dict)"
      ],
      "metadata": {
        "id": "LZyS2yEKKCBP",
        "outputId": "b1455095-32d4-4573-a97b-7c954bad7bac",
        "colab": {
          "base_uri": "https://localhost:8080/"
        }
      },
      "execution_count": 102,
      "outputs": [
        {
          "output_type": "execute_result",
          "data": {
            "text/plain": [
              "<All keys matched successfully>"
            ]
          },
          "metadata": {},
          "execution_count": 102
        }
      ]
    },
    {
      "cell_type": "markdown",
      "source": [
        "**if all weight names are present in the model, then we are able to load our model from disk (All keys matched)**"
      ],
      "metadata": {
        "id": "GQ_jkG3vKlvS"
      }
    },
    {
      "cell_type": "code",
      "source": [
        "load_path = 'mymodel.pth'\n",
        "model.load_state_dict(torch.load(load_path))"
      ],
      "metadata": {
        "id": "jZ-702IPLJWh",
        "outputId": "b096570f-f2f9-4598-bccd-3f31ea1fa26d",
        "colab": {
          "base_uri": "https://localhost:8080/"
        }
      },
      "execution_count": 104,
      "outputs": [
        {
          "output_type": "execute_result",
          "data": {
            "text/plain": [
              "<All keys matched successfully>"
            ]
          },
          "metadata": {},
          "execution_count": 104
        }
      ]
    },
    {
      "cell_type": "markdown",
      "source": [
        "### **Predictions**"
      ],
      "metadata": {
        "id": "BbpwjazYLAJC"
      }
    },
    {
      "cell_type": "code",
      "source": [
        "val = [[8,9],[10,11],[1.5,2.5]]\n",
        "val = torch.tensor(val).float()"
      ],
      "metadata": {
        "id": "xiisXl-LKcrO"
      },
      "execution_count": 105,
      "outputs": []
    },
    {
      "cell_type": "code",
      "source": [
        "model(val.to(device)) #(prediction)\n"
      ],
      "metadata": {
        "id": "BvyMMThCLFN5",
        "outputId": "686bba0a-4470-44a2-a2c5-a1b3818a04b6",
        "colab": {
          "base_uri": "https://localhost:8080/"
        }
      },
      "execution_count": 109,
      "outputs": [
        {
          "output_type": "execute_result",
          "data": {
            "text/plain": [
              "tensor([[16.4077],\n",
              "        [20.0205],\n",
              "        [ 4.6662]], device='cuda:0', grad_fn=<AddmmBackward0>)"
            ]
          },
          "metadata": {},
          "execution_count": 109
        }
      ]
    },
    {
      "cell_type": "code",
      "source": [
        "val.sum(-1) #(truth values)\n"
      ],
      "metadata": {
        "id": "PfSc2QY0LOpC",
        "outputId": "ac1f90bd-3188-4d73-fa1d-4112b25a2109",
        "colab": {
          "base_uri": "https://localhost:8080/"
        }
      },
      "execution_count": 108,
      "outputs": [
        {
          "output_type": "execute_result",
          "data": {
            "text/plain": [
              "tensor([17., 21.,  4.])"
            ]
          },
          "metadata": {},
          "execution_count": 108
        }
      ]
    }
  ]
}
