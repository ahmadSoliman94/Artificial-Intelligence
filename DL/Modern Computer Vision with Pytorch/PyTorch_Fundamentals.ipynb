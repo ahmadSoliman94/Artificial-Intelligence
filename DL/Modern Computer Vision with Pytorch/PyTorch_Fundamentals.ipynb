{
  "nbformat": 4,
  "nbformat_minor": 0,
  "metadata": {
    "colab": {
      "name": "PyTorch Fundamentals.ipynb",
      "provenance": [],
      "authorship_tag": "ABX9TyMn83jbSUnNj5M4TGqk9vXS",
      "include_colab_link": true
    },
    "kernelspec": {
      "name": "python3",
      "display_name": "Python 3"
    },
    "language_info": {
      "name": "python"
    },
    "accelerator": "GPU",
    "gpuClass": "standard"
  },
  "cells": [
    {
      "cell_type": "markdown",
      "metadata": {
        "id": "view-in-github",
        "colab_type": "text"
      },
      "source": [
        "<a href=\"https://colab.research.google.com/github/ahmadSoliman94/Machine-Learning/blob/main/DL/Modern%20Computer%20Vision%20with%20Pytorch/PyTorch_Fundamentals.ipynb\" target=\"_parent\"><img src=\"https://colab.research.google.com/assets/colab-badge.svg\" alt=\"Open In Colab\"/></a>"
      ]
    },
    {
      "cell_type": "code",
      "execution_count": 331,
      "metadata": {
        "colab": {
          "base_uri": "https://localhost:8080/"
        },
        "id": "hycj6QmNaPIp",
        "outputId": "8c8a0749-b3bf-4983-b2b6-d2f3dbb58563"
      },
      "outputs": [
        {
          "output_type": "stream",
          "name": "stdout",
          "text": [
            "1.12.0+cu113\n"
          ]
        }
      ],
      "source": [
        "%matplotlib inline\n",
        "import matplotlib.pyplot as plt\n",
        "import numpy as np\n",
        "\n",
        "import torch\n",
        "import torch.nn as nn\n",
        "from torch.optim import SGD\n",
        "\n",
        "print(torch.__version__)"
      ]
    },
    {
      "cell_type": "markdown",
      "source": [
        "## PyTorch tensors:\n",
        "- scaler can be represented as a zero-dimensional tensor.\n",
        "- scaler can be represented as a one-dimensional tensor.\n",
        "- scaler can be represented as a tow-dimensional tensor."
      ],
      "metadata": {
        "id": "z5R463ydbM03"
      }
    },
    {
      "cell_type": "markdown",
      "source": [
        "### Initalize a tensor"
      ],
      "metadata": {
        "id": "wGavmpkjuSIl"
      }
    },
    {
      "cell_type": "code",
      "source": [
        "x = torch.tensor([[1,2]])\n",
        "y = torch.tensor([[1],[2]])"
      ],
      "metadata": {
        "id": "zYKoGuLvaiMU"
      },
      "execution_count": 332,
      "outputs": []
    },
    {
      "cell_type": "markdown",
      "source": [
        "### object's shape and data type"
      ],
      "metadata": {
        "id": "K2yMhux3uuOA"
      }
    },
    {
      "cell_type": "code",
      "source": [
        "print(x.shape)"
      ],
      "metadata": {
        "colab": {
          "base_uri": "https://localhost:8080/"
        },
        "id": "PbWHy18Wuo-D",
        "outputId": "97974715-0ef2-4227-b700-70e2268a7baa"
      },
      "execution_count": 333,
      "outputs": [
        {
          "output_type": "stream",
          "name": "stdout",
          "text": [
            "torch.Size([1, 2])\n"
          ]
        }
      ]
    },
    {
      "cell_type": "code",
      "source": [
        "print(y.shape)"
      ],
      "metadata": {
        "colab": {
          "base_uri": "https://localhost:8080/"
        },
        "id": "AhJ9LtsZu95r",
        "outputId": "d6902b78-1099-421f-8974-4fb428c4c188"
      },
      "execution_count": 334,
      "outputs": [
        {
          "output_type": "stream",
          "name": "stdout",
          "text": [
            "torch.Size([2, 1])\n"
          ]
        }
      ]
    },
    {
      "cell_type": "code",
      "source": [
        "print(x.dtype)"
      ],
      "metadata": {
        "colab": {
          "base_uri": "https://localhost:8080/"
        },
        "id": "Hfeo_rQKvCD3",
        "outputId": "746bf8ef-c5be-473a-aac7-ee982877e15f"
      },
      "execution_count": 335,
      "outputs": [
        {
          "output_type": "stream",
          "name": "stdout",
          "text": [
            "torch.int64\n"
          ]
        }
      ]
    },
    {
      "cell_type": "markdown",
      "source": [
        "### Generate a tensor object with 3 rows and 4 columns filled with zeros"
      ],
      "metadata": {
        "id": "PT8ow9tDvlyw"
      }
    },
    {
      "cell_type": "code",
      "source": [
        "torch.zeros((3,4))"
      ],
      "metadata": {
        "colab": {
          "base_uri": "https://localhost:8080/"
        },
        "id": "mw58FylEvJet",
        "outputId": "fefa076d-9d9b-4d9a-875c-203d978b5a47"
      },
      "execution_count": 336,
      "outputs": [
        {
          "output_type": "execute_result",
          "data": {
            "text/plain": [
              "tensor([[0., 0., 0., 0.],\n",
              "        [0., 0., 0., 0.],\n",
              "        [0., 0., 0., 0.]])"
            ]
          },
          "metadata": {},
          "execution_count": 336
        }
      ]
    },
    {
      "cell_type": "markdown",
      "source": [
        "### Generate a tensor object with 3 rows and 4 columns filled with ones"
      ],
      "metadata": {
        "id": "SbjxDhiCv5ty"
      }
    },
    {
      "cell_type": "code",
      "source": [
        "torch.ones((3,4))"
      ],
      "metadata": {
        "colab": {
          "base_uri": "https://localhost:8080/"
        },
        "id": "Zrzhy2LPv2Rd",
        "outputId": "27368262-5228-4d50-8a14-e25c41da8e59"
      },
      "execution_count": 337,
      "outputs": [
        {
          "output_type": "execute_result",
          "data": {
            "text/plain": [
              "tensor([[1., 1., 1., 1.],\n",
              "        [1., 1., 1., 1.],\n",
              "        [1., 1., 1., 1.]])"
            ]
          },
          "metadata": {},
          "execution_count": 337
        }
      ]
    },
    {
      "cell_type": "markdown",
      "source": [
        "### Generate three rows and four columns of vlaues between 0 and 10 (including just the low value but mot including the heigh value) 0 -> 9"
      ],
      "metadata": {
        "id": "y3T9cWOvwDxf"
      }
    },
    {
      "cell_type": "code",
      "source": [
        "torch.randint(low=0, high=10, size=(3,4))"
      ],
      "metadata": {
        "colab": {
          "base_uri": "https://localhost:8080/"
        },
        "id": "jH5oAlYrv-hu",
        "outputId": "df877c00-216a-49f6-d383-e11793539c6c"
      },
      "execution_count": 338,
      "outputs": [
        {
          "output_type": "execute_result",
          "data": {
            "text/plain": [
              "tensor([[7, 6, 6, 2],\n",
              "        [4, 8, 2, 7],\n",
              "        [2, 1, 3, 2]])"
            ]
          },
          "metadata": {},
          "execution_count": 338
        }
      ]
    },
    {
      "cell_type": "markdown",
      "source": [
        "### Generate random numbers between 0 and 1 with three row and four columns"
      ],
      "metadata": {
        "id": "l0m5cQh4xiC9"
      }
    },
    {
      "cell_type": "code",
      "source": [
        "torch.rand(3,4)"
      ],
      "metadata": {
        "colab": {
          "base_uri": "https://localhost:8080/"
        },
        "id": "jbH1iuhnwnJ8",
        "outputId": "a688d93b-56fc-4bee-af01-ff3c465b71ac"
      },
      "execution_count": 339,
      "outputs": [
        {
          "output_type": "execute_result",
          "data": {
            "text/plain": [
              "tensor([[0.3615, 0.0016, 0.0974, 0.0549],\n",
              "        [0.9103, 0.2822, 0.3536, 0.1303],\n",
              "        [0.9755, 0.0480, 0.8661, 0.9360]])"
            ]
          },
          "metadata": {},
          "execution_count": 339
        }
      ]
    },
    {
      "cell_type": "markdown",
      "source": [
        "### convert a NumPy array into a Torch tensor"
      ],
      "metadata": {
        "id": "IeBmMx3Kx8-O"
      }
    },
    {
      "cell_type": "code",
      "source": [
        "x = np.array([[10,20,30],[2,3,4]])\n",
        "y = torch.tensor(x)\n",
        "print(type(x),type(y))"
      ],
      "metadata": {
        "colab": {
          "base_uri": "https://localhost:8080/"
        },
        "id": "KmqLPESfxsm-",
        "outputId": "7b59877c-f8ef-4b64-a508-340dcd922804"
      },
      "execution_count": 340,
      "outputs": [
        {
          "output_type": "stream",
          "name": "stdout",
          "text": [
            "<class 'numpy.ndarray'> <class 'torch.Tensor'>\n"
          ]
        }
      ]
    },
    {
      "cell_type": "code",
      "source": [
        "np_torch = torch.from_numpy(x)"
      ],
      "metadata": {
        "id": "rqdT5GLdyuRt"
      },
      "execution_count": 341,
      "outputs": []
    },
    {
      "cell_type": "code",
      "source": [
        "print(type(x),type(np_torch))"
      ],
      "metadata": {
        "colab": {
          "base_uri": "https://localhost:8080/"
        },
        "id": "dPSKnT9uy9ma",
        "outputId": "e028c611-75b8-41be-ec0f-9ffc890fe9f0"
      },
      "execution_count": 342,
      "outputs": [
        {
          "output_type": "stream",
          "name": "stdout",
          "text": [
            "<class 'numpy.ndarray'> <class 'torch.Tensor'>\n"
          ]
        }
      ]
    },
    {
      "cell_type": "markdown",
      "source": [
        "## Operations on tensors"
      ],
      "metadata": {
        "id": "7FxaSe74OYeJ"
      }
    },
    {
      "cell_type": "markdown",
      "source": [
        "### Multiplication of all the elemnts"
      ],
      "metadata": {
        "id": "NhvPLsjKO_nO"
      }
    },
    {
      "cell_type": "code",
      "source": [
        "x = torch.tensor([[1,2,3,4],\n",
        "                  [5,6,7,8]])\n",
        "\n",
        "print(x * 10)\n",
        "print(x.shape)"
      ],
      "metadata": {
        "id": "doaPoki2zAXW",
        "colab": {
          "base_uri": "https://localhost:8080/"
        },
        "outputId": "4454a89d-3553-4247-b5e0-cf6cc484d30f"
      },
      "execution_count": 343,
      "outputs": [
        {
          "output_type": "stream",
          "name": "stdout",
          "text": [
            "tensor([[10, 20, 30, 40],\n",
            "        [50, 60, 70, 80]])\n",
            "torch.Size([2, 4])\n"
          ]
        }
      ]
    },
    {
      "cell_type": "markdown",
      "source": [
        "### Adding of all the elemnts"
      ],
      "metadata": {
        "id": "1wxE3gtsPYdb"
      }
    },
    {
      "cell_type": "code",
      "source": [
        "x = torch.tensor([[1,2,4,5],\n",
        "                  [6,7,8,9]])\n",
        "y = x.add(10)\n",
        "print(y)"
      ],
      "metadata": {
        "colab": {
          "base_uri": "https://localhost:8080/"
        },
        "id": "EXfHPJUOPQD8",
        "outputId": "d659cb71-0f12-4019-a06b-01dbdfd73cb7"
      },
      "execution_count": 344,
      "outputs": [
        {
          "output_type": "stream",
          "name": "stdout",
          "text": [
            "tensor([[11, 12, 14, 15],\n",
            "        [16, 17, 18, 19]])\n"
          ]
        }
      ]
    },
    {
      "cell_type": "code",
      "source": [
        "print( x + 10)"
      ],
      "metadata": {
        "colab": {
          "base_uri": "https://localhost:8080/"
        },
        "id": "eeJnciUCPrY0",
        "outputId": "df673e44-9eb5-4e08-acec-d38e3eab77bb"
      },
      "execution_count": 345,
      "outputs": [
        {
          "output_type": "stream",
          "name": "stdout",
          "text": [
            "tensor([[11, 12, 14, 15],\n",
            "        [16, 17, 18, 19]])\n"
          ]
        }
      ]
    },
    {
      "cell_type": "markdown",
      "source": [
        "### Reshaping a tensor"
      ],
      "metadata": {
        "id": "hkNBUvETP2NY"
      }
    },
    {
      "cell_type": "code",
      "source": [
        "y = torch.tensor([2,3,1,0])\n",
        "print(y.shape)\n",
        "y = y.view(4,1)\n",
        "print(y.shape)"
      ],
      "metadata": {
        "colab": {
          "base_uri": "https://localhost:8080/"
        },
        "id": "Nf6Ga6ewPwEG",
        "outputId": "db960056-ddbc-4895-dd22-7b618c5577d6"
      },
      "execution_count": 346,
      "outputs": [
        {
          "output_type": "stream",
          "name": "stdout",
          "text": [
            "torch.Size([4])\n",
            "torch.Size([4, 1])\n"
          ]
        }
      ]
    },
    {
      "cell_type": "markdown",
      "source": [
        "### Adding a dimension to the matrix using unsqueeze"
      ],
      "metadata": {
        "id": "pGOgsnVuQ2qI"
      }
    },
    {
      "cell_type": "code",
      "source": [
        "x = torch.randn(10,10)\n",
        "print(x.shape)\n",
        "z1 = x.unsqueeze(0)\n",
        "print(z1.shape)\n",
        "\n",
        "# The same can be achieved using [None] indexing\n",
        "# Adding None will auto create a fake dim at the\n",
        "# specified axis\n",
        "\n",
        "x = torch.randn(10,10)\n",
        "z2, z3, z4 = x[None], x[:,None], x[:,:,None]\n",
        "print(z2.shape, z3.shape, z4.shape)"
      ],
      "metadata": {
        "colab": {
          "base_uri": "https://localhost:8080/"
        },
        "id": "yhhg7SRwQHCD",
        "outputId": "0c29607c-5c22-44c6-be64-c3ead0fee05f"
      },
      "execution_count": 347,
      "outputs": [
        {
          "output_type": "stream",
          "name": "stdout",
          "text": [
            "torch.Size([10, 10])\n",
            "torch.Size([1, 10, 10])\n",
            "torch.Size([1, 10, 10]) torch.Size([10, 1, 10]) torch.Size([10, 10, 1])\n"
          ]
        }
      ]
    },
    {
      "cell_type": "markdown",
      "source": [
        "### Matrix multiplication of two different tensors"
      ],
      "metadata": {
        "id": "7LRvfkOzR5fE"
      }
    },
    {
      "cell_type": "code",
      "source": [
        "x = torch.tensor([[1,2,3,4], [5,6,7,8]])\n",
        "print(torch.matmul(x, y))"
      ],
      "metadata": {
        "colab": {
          "base_uri": "https://localhost:8080/"
        },
        "id": "hS_LTKpZRV4v",
        "outputId": "f6b12657-8d2e-4a32-86a4-079c7cb253bc"
      },
      "execution_count": 348,
      "outputs": [
        {
          "output_type": "stream",
          "name": "stdout",
          "text": [
            "tensor([[11],\n",
            "        [35]])\n"
          ]
        }
      ]
    },
    {
      "cell_type": "code",
      "source": [
        "print(x@y)"
      ],
      "metadata": {
        "colab": {
          "base_uri": "https://localhost:8080/"
        },
        "id": "RH0opw0XSJc2",
        "outputId": "0a4b674b-0522-45d6-dd2e-034ce7790b84"
      },
      "execution_count": 349,
      "outputs": [
        {
          "output_type": "stream",
          "name": "stdout",
          "text": [
            "tensor([[11],\n",
            "        [35]])\n"
          ]
        }
      ]
    },
    {
      "cell_type": "markdown",
      "source": [
        "### concatenation of tensors"
      ],
      "metadata": {
        "id": "hFrTrZimSWwn"
      }
    },
    {
      "cell_type": "code",
      "source": [
        "x = torch.randn(10,10,10)\n",
        "z = torch.cat([x,x], axis=0) # np.concatenate()\n",
        "print('Cat axis 0:', x.shape, z.shape)\n",
        "\n",
        "z = torch.cat([x,x], axis=1) # np.concatenate()\n",
        "print('Cat axis 1:', x.shape, z.shape)\n",
        "\n",
        "o = torch.cat([x,x], axis=2) # np.concatenate()\n",
        "print('Cat axis 2:', x.shape, z.shape, o.shape)"
      ],
      "metadata": {
        "colab": {
          "base_uri": "https://localhost:8080/"
        },
        "id": "iKVjUwgZSOOP",
        "outputId": "f28cf23d-1fc6-40d8-8fac-8f37dacc2b84"
      },
      "execution_count": 350,
      "outputs": [
        {
          "output_type": "stream",
          "name": "stdout",
          "text": [
            "Cat axis 0: torch.Size([10, 10, 10]) torch.Size([20, 10, 10])\n",
            "Cat axis 1: torch.Size([10, 10, 10]) torch.Size([10, 20, 10])\n",
            "Cat axis 2: torch.Size([10, 10, 10]) torch.Size([10, 20, 10]) torch.Size([10, 10, 20])\n"
          ]
        }
      ]
    },
    {
      "cell_type": "markdown",
      "source": [
        "### Extraction of the maximum value in tensor"
      ],
      "metadata": {
        "id": "x-1AAm3LS-7j"
      }
    },
    {
      "cell_type": "code",
      "source": [
        "x = torch.arange(25).reshape(5,5)\n",
        "print(x)\n",
        "print('Max:', x.shape, x.max()) "
      ],
      "metadata": {
        "colab": {
          "base_uri": "https://localhost:8080/"
        },
        "id": "NKYYg8LSSjQJ",
        "outputId": "3ae3f59c-6a63-4917-8f60-02980d6a009f"
      },
      "execution_count": 351,
      "outputs": [
        {
          "output_type": "stream",
          "name": "stdout",
          "text": [
            "tensor([[ 0,  1,  2,  3,  4],\n",
            "        [ 5,  6,  7,  8,  9],\n",
            "        [10, 11, 12, 13, 14],\n",
            "        [15, 16, 17, 18, 19],\n",
            "        [20, 21, 22, 23, 24]])\n",
            "Max: torch.Size([5, 5]) tensor(24)\n"
          ]
        }
      ]
    },
    {
      "cell_type": "code",
      "source": [
        "x.max(dim=0) # row"
      ],
      "metadata": {
        "colab": {
          "base_uri": "https://localhost:8080/"
        },
        "id": "Gp8fsrYfTKZG",
        "outputId": "3dfbff73-4e6c-448a-ca66-e37bbbd26aaf"
      },
      "execution_count": 352,
      "outputs": [
        {
          "output_type": "execute_result",
          "data": {
            "text/plain": [
              "torch.return_types.max(values=tensor([20, 21, 22, 23, 24]), indices=tensor([4, 4, 4, 4, 4]))"
            ]
          },
          "metadata": {},
          "execution_count": 352
        }
      ]
    },
    {
      "cell_type": "code",
      "source": [
        "m, argm = x.max(dim=1) # columns\n",
        "print('Max in axis 1:\\n', m, argm) "
      ],
      "metadata": {
        "colab": {
          "base_uri": "https://localhost:8080/"
        },
        "id": "kFSBUpQsTfQT",
        "outputId": "1179ed01-e97f-4f26-86ca-064a592e40a6"
      },
      "execution_count": 353,
      "outputs": [
        {
          "output_type": "stream",
          "name": "stdout",
          "text": [
            "Max in axis 1:\n",
            " tensor([ 4,  9, 14, 19, 24]) tensor([4, 4, 4, 4, 4])\n"
          ]
        }
      ]
    },
    {
      "cell_type": "markdown",
      "source": [
        "### Permute the dimensions of a tensor object\n",
        "(swap dimensions)"
      ],
      "metadata": {
        "id": "yVr88kNmUG77"
      }
    },
    {
      "cell_type": "code",
      "source": [
        "x = torch.randn(10,20,30)\n",
        "z = x.permute(1,0,2) # x.prmute(0,2,1) -> torch.Size(10,30,20)\n",
        "print('Permute dimensions:', x.shape, z.shape)"
      ],
      "metadata": {
        "colab": {
          "base_uri": "https://localhost:8080/"
        },
        "id": "-Vg6r_ikTwpX",
        "outputId": "73485978-de59-447b-d084-a38417e1008f"
      },
      "execution_count": 354,
      "outputs": [
        {
          "output_type": "stream",
          "name": "stdout",
          "text": [
            "Permute dimensions: torch.Size([10, 20, 30]) torch.Size([20, 10, 30])\n"
          ]
        }
      ]
    },
    {
      "cell_type": "markdown",
      "source": [
        "## Auto gradients of tensor objects"
      ],
      "metadata": {
        "id": "uxeY-uN9VsF1"
      }
    },
    {
      "cell_type": "markdown",
      "source": [
        "### 1. Define a tensor object\n",
        " requires_grad parameter specifies the gradient is to be calculated for the tensor object."
      ],
      "metadata": {
        "id": "kiBZAliNV4dv"
      }
    },
    {
      "cell_type": "code",
      "source": [
        "x = torch.tensor([[2., -1.], [1., 1.]], requires_grad=True) \n",
        "print(x)"
      ],
      "metadata": {
        "colab": {
          "base_uri": "https://localhost:8080/"
        },
        "id": "dGCRoC2EUOUe",
        "outputId": "c632a96c-fafb-4f7a-c97c-f18b65bc7926"
      },
      "execution_count": 355,
      "outputs": [
        {
          "output_type": "stream",
          "name": "stdout",
          "text": [
            "tensor([[ 2., -1.],\n",
            "        [ 1.,  1.]], requires_grad=True)\n"
          ]
        }
      ]
    },
    {
      "cell_type": "markdown",
      "source": [
        "### 2.  Define the way to calculate the output, wich in this specific case is the sum of the squares of all input: \n",
        "\n",
        "$\\mathbf{output} = \\sum_{i=1}^4 x_i^2$."
      ],
      "metadata": {
        "id": "dzZEmq5FYTUl"
      }
    },
    {
      "cell_type": "code",
      "source": [
        "out = x.pow(2).sum()"
      ],
      "metadata": {
        "id": "wdiumxTUWBl-"
      },
      "execution_count": 356,
      "outputs": []
    },
    {
      "cell_type": "code",
      "source": [
        "out"
      ],
      "metadata": {
        "colab": {
          "base_uri": "https://localhost:8080/"
        },
        "id": "3GrJw871Z3Zy",
        "outputId": "90fdc4ff-edff-4c99-820d-4e90403350d1"
      },
      "execution_count": 357,
      "outputs": [
        {
          "output_type": "execute_result",
          "data": {
            "text/plain": [
              "tensor(7., grad_fn=<SumBackward0>)"
            ]
          },
          "metadata": {},
          "execution_count": 357
        }
      ]
    },
    {
      "cell_type": "markdown",
      "source": [
        "### 3. The gradient of a value can be calculated"
      ],
      "metadata": {
        "id": "yPvZVKW7Z9Vh"
      }
    },
    {
      "cell_type": "code",
      "source": [
        "out.backward()"
      ],
      "metadata": {
        "id": "mjGBbVT2Z4Lg"
      },
      "execution_count": 358,
      "outputs": []
    },
    {
      "cell_type": "code",
      "source": [
        "x.grad"
      ],
      "metadata": {
        "colab": {
          "base_uri": "https://localhost:8080/"
        },
        "id": "ym_ZT7gmaIyk",
        "outputId": "30c95326-6dc1-4db6-ae7b-c3b52942eed2"
      },
      "execution_count": 359,
      "outputs": [
        {
          "output_type": "execute_result",
          "data": {
            "text/plain": [
              "tensor([[ 4., -2.],\n",
              "        [ 2.,  2.]])"
            ]
          },
          "metadata": {},
          "execution_count": 359
        }
      ]
    },
    {
      "cell_type": "markdown",
      "source": [
        "####Computing gradients for the same case that was present in Chain_rule.ipynb notebook in previous chapter."
      ],
      "metadata": {
        "id": "oxiPNF_HavPr"
      }
    },
    {
      "cell_type": "code",
      "source": [
        "x = np.array([[1,1]])\n",
        "y = np.array([[0]])\n",
        "x, y = [torch.tensor(i).float() for i in [x,y]]\n",
        "print(x,y)"
      ],
      "metadata": {
        "colab": {
          "base_uri": "https://localhost:8080/"
        },
        "id": "qRXcctmYabVQ",
        "outputId": "32f7fa09-7a07-448e-f5b9-8c3893d2b963"
      },
      "execution_count": 360,
      "outputs": [
        {
          "output_type": "stream",
          "name": "stdout",
          "text": [
            "tensor([[1., 1.]]) tensor([[0.]])\n"
          ]
        }
      ]
    },
    {
      "cell_type": "code",
      "source": [
        "W = [\n",
        "    np.array([[-0.0053, 0.3793],\n",
        "              [-0.5820, -0.5204],\n",
        "              [-0.2723, 0.1896]], dtype=np.float32).T, \n",
        "    np.array([-0.0140, 0.5607, -0.0628], dtype=np.float32), \n",
        "    np.array([[ 0.1528, -0.1745, -0.1135]], dtype=np.float32).T, \n",
        "    np.array([-0.5516], dtype=np.float32)\n",
        "]\n",
        "\n",
        "W = [torch.tensor(i, requires_grad=True) for i in W]\n",
        "print(W)"
      ],
      "metadata": {
        "colab": {
          "base_uri": "https://localhost:8080/"
        },
        "id": "jWoeRyTwa7BA",
        "outputId": "a35e4243-d263-46fb-d229-edb10d91c714"
      },
      "execution_count": 361,
      "outputs": [
        {
          "output_type": "stream",
          "name": "stdout",
          "text": [
            "[tensor([[-0.0053, -0.5820, -0.2723],\n",
            "        [ 0.3793, -0.5204,  0.1896]], requires_grad=True), tensor([-0.0140,  0.5607, -0.0628], requires_grad=True), tensor([[ 0.1528],\n",
            "        [-0.1745],\n",
            "        [-0.1135]], requires_grad=True), tensor([-0.5516], requires_grad=True)]\n"
          ]
        }
      ]
    },
    {
      "cell_type": "code",
      "source": [
        "def feed_forward(inputs, outputs, weights):\n",
        "    pre_hidden = torch.matmul(inputs,weights[0])+ weights[1]\n",
        "    hidden = 1/(1+torch.exp(-pre_hidden))\n",
        "    out = torch.matmul(hidden, weights[2]) + weights[3]\n",
        "    mean_squared_error = torch.mean(torch.square(out - outputs))\n",
        "    return mean_squared_error"
      ],
      "metadata": {
        "id": "rEmPYFHDbAKH"
      },
      "execution_count": 362,
      "outputs": []
    },
    {
      "cell_type": "code",
      "source": [
        "loss = feed_forward(x, y, W)\n",
        "loss"
      ],
      "metadata": {
        "colab": {
          "base_uri": "https://localhost:8080/"
        },
        "id": "FxaMEyRYbGup",
        "outputId": "042856a3-b7ef-4e57-b3be-8c33592011ca"
      },
      "execution_count": 363,
      "outputs": [
        {
          "output_type": "execute_result",
          "data": {
            "text/plain": [
              "tensor(0.3346, grad_fn=<MeanBackward0>)"
            ]
          },
          "metadata": {},
          "execution_count": 363
        }
      ]
    },
    {
      "cell_type": "code",
      "source": [
        "loss.backward()"
      ],
      "metadata": {
        "id": "14cT1-k8bT1n"
      },
      "execution_count": 364,
      "outputs": []
    },
    {
      "cell_type": "code",
      "source": [
        "print([w.grad for w in W])"
      ],
      "metadata": {
        "colab": {
          "base_uri": "https://localhost:8080/"
        },
        "id": "Q3uV2hrrbWDo",
        "outputId": "e28923f8-e546-49f9-e921-ab3f4473b279"
      },
      "execution_count": 365,
      "outputs": [
        {
          "output_type": "stream",
          "name": "stdout",
          "text": [
            "[tensor([[-0.0428,  0.0469,  0.0327],\n",
            "        [-0.0428,  0.0469,  0.0327]]), tensor([-0.0428,  0.0469,  0.0327]), tensor([[-0.6814],\n",
            "        [-0.4255],\n",
            "        [-0.5364]]), tensor([-1.1568])]\n"
          ]
        }
      ]
    },
    {
      "cell_type": "code",
      "source": [
        "updated_W = [w-w.grad for w in W]\n",
        "updated_W"
      ],
      "metadata": {
        "colab": {
          "base_uri": "https://localhost:8080/"
        },
        "id": "6OY-0vT1bYMH",
        "outputId": "e7412057-6c3a-4575-ed75-d393945c37ca"
      },
      "execution_count": 366,
      "outputs": [
        {
          "output_type": "execute_result",
          "data": {
            "text/plain": [
              "[tensor([[ 0.0375, -0.6289, -0.3050],\n",
              "         [ 0.4221, -0.5673,  0.1569]], grad_fn=<SubBackward0>),\n",
              " tensor([ 0.0288,  0.5138, -0.0955], grad_fn=<SubBackward0>),\n",
              " tensor([[0.8342],\n",
              "         [0.2510],\n",
              "         [0.4229]], grad_fn=<SubBackward0>),\n",
              " tensor([0.6052], grad_fn=<SubBackward0>)]"
            ]
          },
          "metadata": {},
          "execution_count": 366
        }
      ]
    },
    {
      "cell_type": "markdown",
      "source": [
        "## Advantages of PyTorch's tensors over NumPy's ndarrays#"
      ],
      "metadata": {
        "id": "GryThUV1cgy2"
      }
    },
    {
      "cell_type": "markdown",
      "source": [
        "Numpy vs Torch computation speed comparison"
      ],
      "metadata": {
        "id": "S3WwSDGrdb6A"
      }
    },
    {
      "cell_type": "markdown",
      "source": [
        "### 1. Generate two different torch objects"
      ],
      "metadata": {
        "id": "kILX40Mfdrq9"
      }
    },
    {
      "cell_type": "code",
      "source": [
        "x = torch.rand(1,6400)\n",
        "y = torch.rand(6400,5000)"
      ],
      "metadata": {
        "id": "G2tlypRlbaW2"
      },
      "execution_count": 367,
      "outputs": []
    },
    {
      "cell_type": "markdown",
      "source": [
        "### 2. Define the device "
      ],
      "metadata": {
        "id": "ySXWaa01e73b"
      }
    },
    {
      "cell_type": "code",
      "source": [
        "device = 'cuda' if torch.cuda.is_available() else 'cpu'\n",
        "assert device == 'cuda', \"This exercise assumes the notebook is on a GPU machine\""
      ],
      "metadata": {
        "id": "yiaLpmDnd_qt"
      },
      "execution_count": 368,
      "outputs": []
    },
    {
      "cell_type": "code",
      "source": [
        "device"
      ],
      "metadata": {
        "colab": {
          "base_uri": "https://localhost:8080/",
          "height": 36
        },
        "id": "KMD-wu1-fFYR",
        "outputId": "29383b42-6b4b-426b-bc25-45b8d0ffa90b"
      },
      "execution_count": 369,
      "outputs": [
        {
          "output_type": "execute_result",
          "data": {
            "text/plain": [
              "'cuda'"
            ],
            "application/vnd.google.colaboratory.intrinsic+json": {
              "type": "string"
            }
          },
          "metadata": {},
          "execution_count": 369
        }
      ]
    },
    {
      "cell_type": "markdown",
      "source": [
        "### 3. Storing information in a device"
      ],
      "metadata": {
        "id": "BbZ68XTyfb7n"
      }
    },
    {
      "cell_type": "code",
      "source": [
        "x,y = x.to(device=device),  y.to(device=device)"
      ],
      "metadata": {
        "id": "iMJOXEzofVEr"
      },
      "execution_count": 370,
      "outputs": []
    },
    {
      "cell_type": "code",
      "source": [
        "x"
      ],
      "metadata": {
        "colab": {
          "base_uri": "https://localhost:8080/"
        },
        "id": "M_I7oW0vftgZ",
        "outputId": "f6f85b6b-784f-450b-dcbe-0867db0f8e44"
      },
      "execution_count": 371,
      "outputs": [
        {
          "output_type": "execute_result",
          "data": {
            "text/plain": [
              "tensor([[0.4658, 0.8681, 0.8247,  ..., 0.2589, 0.5888, 0.8863]],\n",
              "       device='cuda:0')"
            ]
          },
          "metadata": {},
          "execution_count": 371
        }
      ]
    },
    {
      "cell_type": "markdown",
      "source": [
        "### 4. Perform matrix multiplication of Torch objects and time it to compare the speed  between Torch and Numpy"
      ],
      "metadata": {
        "id": "ZEXg28B5f9bf"
      }
    },
    {
      "cell_type": "code",
      "source": [
        "%timeit z=(x@y)"
      ],
      "metadata": {
        "colab": {
          "base_uri": "https://localhost:8080/"
        },
        "id": "jxhCj3crfv0I",
        "outputId": "0812ae2e-a4d6-435c-e728-1550dd34a58b"
      },
      "execution_count": 313,
      "outputs": [
        {
          "output_type": "stream",
          "name": "stdout",
          "text": [
            "The slowest run took 4.25 times longer than the fastest. This could mean that an intermediate result is being cached.\n",
            "10000 loops, best of 5: 236 µs per loop\n"
          ]
        }
      ]
    },
    {
      "cell_type": "code",
      "source": [
        "x, y = x.cpu(), y.cpu()\n",
        "%timeit z=(x@y)"
      ],
      "metadata": {
        "colab": {
          "base_uri": "https://localhost:8080/"
        },
        "id": "0yrEzyxFgP5T",
        "outputId": "76b51479-af01-4c39-abbc-9cbafb9fab09"
      },
      "execution_count": 314,
      "outputs": [
        {
          "output_type": "stream",
          "name": "stdout",
          "text": [
            "100 loops, best of 5: 13.3 ms per loop\n"
          ]
        }
      ]
    },
    {
      "cell_type": "code",
      "source": [
        "import numpy as np\n",
        "x = np.random.random((1, 6400))\n",
        "y = np.random.random((6400, 5000))\n",
        "%timeit z = np.matmul(x,y)"
      ],
      "metadata": {
        "colab": {
          "base_uri": "https://localhost:8080/"
        },
        "id": "Yc2GRWSIgaI2",
        "outputId": "439e481e-81a4-4583-e5b9-ca839ed7588a"
      },
      "execution_count": 315,
      "outputs": [
        {
          "output_type": "stream",
          "name": "stdout",
          "text": [
            "10 loops, best of 5: 25.8 ms per loop\n"
          ]
        }
      ]
    },
    {
      "cell_type": "markdown",
      "source": [
        "## Building a neural network using PyTorch"
      ],
      "metadata": {
        "id": "7FouKG2eQUZP"
      }
    },
    {
      "cell_type": "markdown",
      "source": [
        "### 1. Define the input and output values:"
      ],
      "metadata": {
        "id": "TWuhbtlMRmuw"
      }
    },
    {
      "cell_type": "code",
      "source": [
        "x = [[1,2],[3,4],[5,6],[7,8]]\n",
        "y = [[3],[7],[11],[15]]"
      ],
      "metadata": {
        "id": "c_cC0gfvgil-"
      },
      "execution_count": 316,
      "outputs": []
    },
    {
      "cell_type": "markdown",
      "source": [
        "### 2. Convert the input lists into tensor objects:"
      ],
      "metadata": {
        "id": "o_7emT8WRzbm"
      }
    },
    {
      "cell_type": "code",
      "source": [
        "X = torch.tensor(x).float()\n",
        "Y = torch.tensor(y).float()"
      ],
      "metadata": {
        "id": "dwDp-WdNRuWl"
      },
      "execution_count": 317,
      "outputs": []
    },
    {
      "cell_type": "markdown",
      "source": [
        "### 3. register the input and out put data points to the decive"
      ],
      "metadata": {
        "id": "7MrBfLMhSFir"
      }
    },
    {
      "cell_type": "code",
      "source": [
        "device = 'cuda' if torch.cuda.is_available() else 'cpu'\n",
        "X = X.to(device)\n",
        "Y = Y.to(device)"
      ],
      "metadata": {
        "id": "QT-DNhPIR8h4"
      },
      "execution_count": 318,
      "outputs": []
    },
    {
      "cell_type": "markdown",
      "source": [
        "### 4. Define the neural network architecture:"
      ],
      "metadata": {
        "id": "szITR2UJSWPf"
      }
    },
    {
      "cell_type": "code",
      "source": [
        "class MyNeuralNet(nn.Module):\n",
        "  def __init__(self):\n",
        "    super().__init__()\n",
        "    self.input_to_hidden_layer = nn.Linear(2,8)\n",
        "    self.hidden_layer_activation = nn.ReLU()\n",
        "    self.hidden_to_output_layer = nn.Linear(8,1)\n",
        "\n",
        "  def forward(self,x):\n",
        "    x = self.input_to_hidden_layer(x)\n",
        "    x = self.hidden_layer_activation(x)\n",
        "    x = self.hidden_to_output_layer(x)\n",
        "    return x"
      ],
      "metadata": {
        "id": "dNO9E0YgSODI"
      },
      "execution_count": 319,
      "outputs": []
    },
    {
      "cell_type": "markdown",
      "source": [
        "### 5. access the inital weights of each of the components: "
      ],
      "metadata": {
        "id": "M3oR89izVMWQ"
      }
    },
    {
      "cell_type": "code",
      "source": [
        "mynet = MyNeuralNet().to(device)"
      ],
      "metadata": {
        "id": "uzXFx4ZoVVu1"
      },
      "execution_count": 320,
      "outputs": []
    },
    {
      "cell_type": "markdown",
      "source": [
        "- Note: they are used only for illustration of how to obtain parameters of a given layer."
      ],
      "metadata": {
        "id": "Gi3fdoR9V8jv"
      }
    },
    {
      "cell_type": "code",
      "source": [
        "print(f'input to hidden layer weigths: \\n {mynet.input_to_hidden_layer.weight}' ) # (2,8)"
      ],
      "metadata": {
        "colab": {
          "base_uri": "https://localhost:8080/"
        },
        "id": "0StoHUcdVZ9x",
        "outputId": "6faaea8d-27b9-4748-819c-83c58e1c2dd8"
      },
      "execution_count": 321,
      "outputs": [
        {
          "output_type": "stream",
          "name": "stdout",
          "text": [
            "input to hidden layer weigths: \n",
            " Parameter containing:\n",
            "tensor([[-0.6810,  0.0548],\n",
            "        [-0.3354,  0.0076],\n",
            "        [ 0.5867,  0.5304],\n",
            "        [ 0.4797, -0.5506],\n",
            "        [ 0.4368, -0.3606],\n",
            "        [-0.3048,  0.1569],\n",
            "        [-0.3282,  0.1165],\n",
            "        [-0.3376, -0.4103]], device='cuda:0', requires_grad=True)\n"
          ]
        }
      ]
    },
    {
      "cell_type": "code",
      "source": [
        "print(f'hidden layer to output layer weigths: \\n {mynet.hidden_to_output_layer.weight}' ) # (8,1)"
      ],
      "metadata": {
        "colab": {
          "base_uri": "https://localhost:8080/"
        },
        "id": "edLLwFpcVwq9",
        "outputId": "bb4a1c80-7b20-4acf-a7d3-d311eeee5637"
      },
      "execution_count": 322,
      "outputs": [
        {
          "output_type": "stream",
          "name": "stdout",
          "text": [
            "hidden layer to output layer weigths: \n",
            " Parameter containing:\n",
            "tensor([[ 0.2455,  0.1003, -0.2751,  0.3181,  0.1634,  0.1565,  0.2506,  0.2646]],\n",
            "       device='cuda:0', requires_grad=True)\n"
          ]
        }
      ]
    },
    {
      "cell_type": "code",
      "source": [
        "mynet.parameters"
      ],
      "metadata": {
        "colab": {
          "base_uri": "https://localhost:8080/"
        },
        "id": "s5NSc2c9WQuS",
        "outputId": "3da95a22-2206-4637-850d-15f7db85f687"
      },
      "execution_count": 323,
      "outputs": [
        {
          "output_type": "execute_result",
          "data": {
            "text/plain": [
              "<bound method Module.parameters of MyNeuralNet(\n",
              "  (input_to_hidden_layer): Linear(in_features=2, out_features=8, bias=True)\n",
              "  (hidden_layer_activation): ReLU()\n",
              "  (hidden_to_output_layer): Linear(in_features=8, out_features=1, bias=True)\n",
              ")>"
            ]
          },
          "metadata": {},
          "execution_count": 323
        }
      ]
    },
    {
      "cell_type": "code",
      "source": [
        "for par in mynet.parameters():\n",
        "  print(par)"
      ],
      "metadata": {
        "colab": {
          "base_uri": "https://localhost:8080/"
        },
        "id": "qZpiilRqW0xR",
        "outputId": "1abc5684-5f9d-4c30-ce07-4c86ce6c1d7d"
      },
      "execution_count": 324,
      "outputs": [
        {
          "output_type": "stream",
          "name": "stdout",
          "text": [
            "Parameter containing:\n",
            "tensor([[-0.6810,  0.0548],\n",
            "        [-0.3354,  0.0076],\n",
            "        [ 0.5867,  0.5304],\n",
            "        [ 0.4797, -0.5506],\n",
            "        [ 0.4368, -0.3606],\n",
            "        [-0.3048,  0.1569],\n",
            "        [-0.3282,  0.1165],\n",
            "        [-0.3376, -0.4103]], device='cuda:0', requires_grad=True)\n",
            "Parameter containing:\n",
            "tensor([ 0.3066, -0.4140,  0.6138,  0.0104,  0.4605, -0.4880,  0.6429,  0.0320],\n",
            "       device='cuda:0', requires_grad=True)\n",
            "Parameter containing:\n",
            "tensor([[ 0.2455,  0.1003, -0.2751,  0.3181,  0.1634,  0.1565,  0.2506,  0.2646]],\n",
            "       device='cuda:0', requires_grad=True)\n",
            "Parameter containing:\n",
            "tensor([0.2470], device='cuda:0', requires_grad=True)\n"
          ]
        }
      ]
    },
    {
      "cell_type": "markdown",
      "source": [
        "### 6. Define the loss function:\n",
        "CrossEntropyLoss -> for multinomial classification.\n",
        "BCELoss -> binary cross-entropy loss for binary classification."
      ],
      "metadata": {
        "id": "2wT7octyXaNM"
      }
    },
    {
      "cell_type": "code",
      "source": [
        "loss_func = nn.MSELoss()"
      ],
      "metadata": {
        "id": "3pxw52ecXEOc"
      },
      "execution_count": 325,
      "outputs": []
    },
    {
      "cell_type": "markdown",
      "source": [
        "**The loss value of a neural network can be calculated by passing the input values through the neuralnet object and then calculating MSELoss for the given input.**"
      ],
      "metadata": {
        "id": "ZHzUqQwqYRVC"
      }
    },
    {
      "cell_type": "code",
      "source": [
        "_Y = mynet(X) # _y -> prediction\n",
        "print(f'- Prediction values: \\n {_Y} \\n')\n",
        "print(f'- Actual values: \\n {Y} \\n')\n",
        "loss_value = loss_func(_Y,Y)\n",
        "print(f'- Loss value: \\n {loss_value}')"
      ],
      "metadata": {
        "colab": {
          "base_uri": "https://localhost:8080/"
        },
        "id": "bVRxT9shXp1I",
        "outputId": "068f1c02-2d71-439b-9a05-807ca4bace7e"
      },
      "execution_count": 326,
      "outputs": [
        {
          "output_type": "stream",
          "name": "stdout",
          "text": [
            "- Prediction values: \n",
            " tensor([[-0.2092],\n",
            "        [-0.9051],\n",
            "        [-1.5261],\n",
            "        [-2.1160]], device='cuda:0', grad_fn=<AddmmBackward0>) \n",
            "\n",
            "- Actual values: \n",
            " tensor([[ 3.],\n",
            "        [ 7.],\n",
            "        [11.],\n",
            "        [15.]], device='cuda:0') \n",
            "\n",
            "- Loss value: \n",
            " 130.66275024414062\n"
          ]
        }
      ]
    },
    {
      "cell_type": "markdown",
      "source": [
        "### 7.  Import the SGD method:"
      ],
      "metadata": {
        "id": "YDjRu1tPaRxy"
      }
    },
    {
      "cell_type": "code",
      "source": [
        "opt = SGD(mynet.parameters(), lr = 0.001)"
      ],
      "metadata": {
        "id": "83QHXa9LYyzc"
      },
      "execution_count": 327,
      "outputs": []
    },
    {
      "cell_type": "markdown",
      "source": [
        "###8. Perform all the steps to be done in an epoch together:\n",
        "\n",
        "*NOTE: Problem:  Can't convert cuda:0 device type tensor to numpy. Use Tensor.cpu() to copy the tensor to host memory first.*\n",
        "\n",
        "*solution: \n",
        "Converting: type(loss_value): tensor -> numpy: tensor.cpu().detach.numpy()*"
      ],
      "metadata": {
        "id": "ma1-MWLSan3t"
      }
    },
    {
      "cell_type": "code",
      "source": [
        "loss_history = []\n",
        "for _ in range(50):\n",
        "    opt.zero_grad() # flush the previous epoch's gradients. \n",
        "    loss_value = loss_func(mynet(X),Y) # compute loss.\n",
        "    loss_value.backward() # perform back-propagation.\n",
        "    loss_value = loss_value.cpu().detach().numpy() # Convert cuda:0 device type tensor to numpy to plotting.\n",
        "    opt.step() # update the weights according to the gradients computed.\n",
        "    loss_history.append(loss_value)"
      ],
      "metadata": {
        "id": "9AdLlBJ6alAU"
      },
      "execution_count": 328,
      "outputs": []
    },
    {
      "cell_type": "markdown",
      "source": [
        "  *After Backpropagation:*"
      ],
      "metadata": {
        "id": "phs5oyqJbvWY"
      }
    },
    {
      "cell_type": "code",
      "source": [
        "_Y = mynet(X) # _y -> prediction\n",
        "print(f'- Prediction values: \\n {_Y} \\n')\n",
        "print(f'- Actual values: \\n {Y} \\n')\n",
        "loss_value = loss_func(_Y,Y)\n",
        "print(f'- Loss value: \\n {loss_value}')"
      ],
      "metadata": {
        "colab": {
          "base_uri": "https://localhost:8080/"
        },
        "id": "lyjQEj7ubnWB",
        "outputId": "6452ec9b-a01c-4c03-bc85-c36e4e092c84"
      },
      "execution_count": 329,
      "outputs": [
        {
          "output_type": "stream",
          "name": "stdout",
          "text": [
            "- Prediction values: \n",
            " tensor([[ 3.9166],\n",
            "        [ 7.4529],\n",
            "        [10.9892],\n",
            "        [14.5703]], device='cuda:0', grad_fn=<AddmmBackward0>) \n",
            "\n",
            "- Actual values: \n",
            " tensor([[ 3.],\n",
            "        [ 7.],\n",
            "        [11.],\n",
            "        [15.]], device='cuda:0') \n",
            "\n",
            "- Loss value: \n",
            " 0.30749088525772095\n"
          ]
        }
      ]
    },
    {
      "cell_type": "markdown",
      "source": [
        "### *9. Plotting the vartion in loss over increasing epochs:*"
      ],
      "metadata": {
        "id": "NQmK0TmTcRsz"
      }
    },
    {
      "cell_type": "code",
      "source": [
        "plt.plot(loss_history)\n",
        "plt.title('Loss variation over increasing epochs')\n",
        "plt.xlabel('epochs')\n",
        "plt.ylabel('loss value')"
      ],
      "metadata": {
        "colab": {
          "base_uri": "https://localhost:8080/",
          "height": 312
        },
        "id": "fJRuJGltbqNN",
        "outputId": "f0b69195-b59b-4123-92a6-922c14865bb0"
      },
      "execution_count": 330,
      "outputs": [
        {
          "output_type": "execute_result",
          "data": {
            "text/plain": [
              "Text(0, 0.5, 'loss value')"
            ]
          },
          "metadata": {},
          "execution_count": 330
        },
        {
          "output_type": "display_data",
          "data": {
            "text/plain": [
              "<Figure size 432x288 with 1 Axes>"
            ],
            "image/png": "[encoded data removed]"
          },
          "metadata": {
            "needs_background": "light"
          }
        }
      ]
    },
    {
      "cell_type": "code",
      "source": [
        ""
      ],
      "metadata": {
        "id": "j7g8235EcmiB"
      },
      "execution_count": 330,
      "outputs": []
    }
  ]
}