{
  "nbformat": 4,
  "nbformat_minor": 0,
  "metadata": {
    "colab": {
      "name": "PyTorch Fundamentals.ipynb",
      "provenance": [],
      "authorship_tag": "ABX9TyM5VDlr0hGk72UvIQSYAWFg",
      "include_colab_link": true
    },
    "kernelspec": {
      "name": "python3",
      "display_name": "Python 3"
    },
    "language_info": {
      "name": "python"
    },
    "accelerator": "GPU",
    "gpuClass": "standard"
  },
  "cells": [
    {
      "cell_type": "markdown",
      "metadata": {
        "id": "view-in-github",
        "colab_type": "text"
      },
      "source": [
        "<a href=\"https://colab.research.google.com/github/ahmadSoliman94/Machine-Learning/blob/main/DL/Modern%20Computer%20Vision%20with%20Pytorch/PyTorch_Fundamentals.ipynb\" target=\"_parent\"><img src=\"https://colab.research.google.com/assets/colab-badge.svg\" alt=\"Open In Colab\"/></a>"
      ]
    },
    {
      "cell_type": "code",
      "execution_count": 1,
      "metadata": {
        "colab": {
          "base_uri": "https://localhost:8080/"
        },
        "id": "hycj6QmNaPIp",
        "outputId": "a8f36ccc-d182-4158-ecf0-cac80b040941"
      },
      "outputs": [
        {
          "output_type": "stream",
          "name": "stdout",
          "text": [
            "1.12.0+cu113\n"
          ]
        }
      ],
      "source": [
        "%matplotlib inline\n",
        "import matplotlib.pyplot as plt\n",
        "import numpy as np\n",
        "\n",
        "import torch\n",
        "import torch.nn as nn\n",
        "from torch.optim import SGD\n",
        "\n",
        "print(torch.__version__)"
      ]
    },
    {
      "cell_type": "markdown",
      "source": [
        "## PyTorch tensors:\n",
        "- scaler can be represented as a zero-dimensional tensor.\n",
        "- scaler can be represented as a one-dimensional tensor.\n",
        "- scaler can be represented as a tow-dimensional tensor."
      ],
      "metadata": {
        "id": "z5R463ydbM03"
      }
    },
    {
      "cell_type": "markdown",
      "source": [
        "### Initalize a tensor"
      ],
      "metadata": {
        "id": "wGavmpkjuSIl"
      }
    },
    {
      "cell_type": "code",
      "source": [
        "x = torch.tensor([[1,2]])\n",
        "y = torch.tensor([[1],[2]])"
      ],
      "metadata": {
        "id": "zYKoGuLvaiMU"
      },
      "execution_count": 2,
      "outputs": []
    },
    {
      "cell_type": "markdown",
      "source": [
        "### object's shape and data type"
      ],
      "metadata": {
        "id": "K2yMhux3uuOA"
      }
    },
    {
      "cell_type": "code",
      "source": [
        "print(x.shape)"
      ],
      "metadata": {
        "colab": {
          "base_uri": "https://localhost:8080/"
        },
        "id": "PbWHy18Wuo-D",
        "outputId": "b0323906-fa77-45ed-e32b-d20e2e632a5a"
      },
      "execution_count": 3,
      "outputs": [
        {
          "output_type": "stream",
          "name": "stdout",
          "text": [
            "torch.Size([1, 2])\n"
          ]
        }
      ]
    },
    {
      "cell_type": "code",
      "source": [
        "print(y.shape)"
      ],
      "metadata": {
        "colab": {
          "base_uri": "https://localhost:8080/"
        },
        "id": "AhJ9LtsZu95r",
        "outputId": "cfa366fe-6a51-4f59-98b2-eeca52123930"
      },
      "execution_count": 4,
      "outputs": [
        {
          "output_type": "stream",
          "name": "stdout",
          "text": [
            "torch.Size([2, 1])\n"
          ]
        }
      ]
    },
    {
      "cell_type": "code",
      "source": [
        "print(x.dtype)"
      ],
      "metadata": {
        "colab": {
          "base_uri": "https://localhost:8080/"
        },
        "id": "Hfeo_rQKvCD3",
        "outputId": "4711aa97-02ff-4fa4-8d30-19a54b1f0931"
      },
      "execution_count": 5,
      "outputs": [
        {
          "output_type": "stream",
          "name": "stdout",
          "text": [
            "torch.int64\n"
          ]
        }
      ]
    },
    {
      "cell_type": "markdown",
      "source": [
        "### Generate a tensor object with 3 rows and 4 columns filled with zeros"
      ],
      "metadata": {
        "id": "PT8ow9tDvlyw"
      }
    },
    {
      "cell_type": "code",
      "source": [
        "torch.zeros((3,4))"
      ],
      "metadata": {
        "colab": {
          "base_uri": "https://localhost:8080/"
        },
        "id": "mw58FylEvJet",
        "outputId": "3cd9963e-c0eb-42f2-950b-989554fa0522"
      },
      "execution_count": 6,
      "outputs": [
        {
          "output_type": "execute_result",
          "data": {
            "text/plain": [
              "tensor([[0., 0., 0., 0.],\n",
              "        [0., 0., 0., 0.],\n",
              "        [0., 0., 0., 0.]])"
            ]
          },
          "metadata": {},
          "execution_count": 6
        }
      ]
    },
    {
      "cell_type": "markdown",
      "source": [
        "### Generate a tensor object with 3 rows and 4 columns filled with ones"
      ],
      "metadata": {
        "id": "SbjxDhiCv5ty"
      }
    },
    {
      "cell_type": "code",
      "source": [
        "torch.ones((3,4))"
      ],
      "metadata": {
        "colab": {
          "base_uri": "https://localhost:8080/"
        },
        "id": "Zrzhy2LPv2Rd",
        "outputId": "37bab364-63d7-461c-898f-2c6216a7efd9"
      },
      "execution_count": 7,
      "outputs": [
        {
          "output_type": "execute_result",
          "data": {
            "text/plain": [
              "tensor([[1., 1., 1., 1.],\n",
              "        [1., 1., 1., 1.],\n",
              "        [1., 1., 1., 1.]])"
            ]
          },
          "metadata": {},
          "execution_count": 7
        }
      ]
    },
    {
      "cell_type": "markdown",
      "source": [
        "### Generate three rows and four columns of vlaues between 0 and 10 (including just the low value but mot including the heigh value) 0 -> 9"
      ],
      "metadata": {
        "id": "y3T9cWOvwDxf"
      }
    },
    {
      "cell_type": "code",
      "source": [
        "torch.randint(low=0, high=10, size=(3,4))"
      ],
      "metadata": {
        "colab": {
          "base_uri": "https://localhost:8080/"
        },
        "id": "jH5oAlYrv-hu",
        "outputId": "de68cb3c-f321-4c47-df47-28f86cedd810"
      },
      "execution_count": 8,
      "outputs": [
        {
          "output_type": "execute_result",
          "data": {
            "text/plain": [
              "tensor([[1, 1, 1, 6],\n",
              "        [9, 3, 9, 4],\n",
              "        [2, 2, 0, 2]])"
            ]
          },
          "metadata": {},
          "execution_count": 8
        }
      ]
    },
    {
      "cell_type": "markdown",
      "source": [
        "### Generate random numbers between 0 and 1 with three row and four columns"
      ],
      "metadata": {
        "id": "l0m5cQh4xiC9"
      }
    },
    {
      "cell_type": "code",
      "source": [
        "torch.rand(3,4)"
      ],
      "metadata": {
        "colab": {
          "base_uri": "https://localhost:8080/"
        },
        "id": "jbH1iuhnwnJ8",
        "outputId": "f643b104-478a-4d07-f68c-4607ca48aab0"
      },
      "execution_count": 9,
      "outputs": [
        {
          "output_type": "execute_result",
          "data": {
            "text/plain": [
              "tensor([[0.5025, 0.1353, 0.7368, 0.6711],\n",
              "        [0.2332, 0.0206, 0.3233, 0.7025],\n",
              "        [0.2262, 0.7369, 0.3551, 0.2666]])"
            ]
          },
          "metadata": {},
          "execution_count": 9
        }
      ]
    },
    {
      "cell_type": "markdown",
      "source": [
        "### convert a NumPy array into a Torch tensor"
      ],
      "metadata": {
        "id": "IeBmMx3Kx8-O"
      }
    },
    {
      "cell_type": "code",
      "source": [
        "x = np.array([[10,20,30],[2,3,4]])\n",
        "y = torch.tensor(x)\n",
        "print(type(x),type(y))"
      ],
      "metadata": {
        "colab": {
          "base_uri": "https://localhost:8080/"
        },
        "id": "KmqLPESfxsm-",
        "outputId": "26af89cb-6d95-4b2c-df33-ec9646c6ee75"
      },
      "execution_count": 10,
      "outputs": [
        {
          "output_type": "stream",
          "name": "stdout",
          "text": [
            "<class 'numpy.ndarray'> <class 'torch.Tensor'>\n"
          ]
        }
      ]
    },
    {
      "cell_type": "code",
      "source": [
        "np_torch = torch.from_numpy(x)"
      ],
      "metadata": {
        "id": "rqdT5GLdyuRt"
      },
      "execution_count": 11,
      "outputs": []
    },
    {
      "cell_type": "code",
      "source": [
        "print(type(x),type(np_torch))"
      ],
      "metadata": {
        "colab": {
          "base_uri": "https://localhost:8080/"
        },
        "id": "dPSKnT9uy9ma",
        "outputId": "afc5810f-e837-421a-f4d0-482cfa2b1d49"
      },
      "execution_count": 12,
      "outputs": [
        {
          "output_type": "stream",
          "name": "stdout",
          "text": [
            "<class 'numpy.ndarray'> <class 'torch.Tensor'>\n"
          ]
        }
      ]
    },
    {
      "cell_type": "markdown",
      "source": [
        "## Operations on tensors"
      ],
      "metadata": {
        "id": "7FxaSe74OYeJ"
      }
    },
    {
      "cell_type": "markdown",
      "source": [
        "### Multiplication of all the elemnts"
      ],
      "metadata": {
        "id": "NhvPLsjKO_nO"
      }
    },
    {
      "cell_type": "code",
      "source": [
        "x = torch.tensor([[1,2,3,4],\n",
        "                  [5,6,7,8]])\n",
        "\n",
        "print(x * 10)\n",
        "print(x.shape)"
      ],
      "metadata": {
        "id": "doaPoki2zAXW",
        "colab": {
          "base_uri": "https://localhost:8080/"
        },
        "outputId": "d5e5537e-1cee-4e7a-f51d-1700dd6e6c4c"
      },
      "execution_count": 13,
      "outputs": [
        {
          "output_type": "stream",
          "name": "stdout",
          "text": [
            "tensor([[10, 20, 30, 40],\n",
            "        [50, 60, 70, 80]])\n",
            "torch.Size([2, 4])\n"
          ]
        }
      ]
    },
    {
      "cell_type": "markdown",
      "source": [
        "### Adding of all the elemnts"
      ],
      "metadata": {
        "id": "1wxE3gtsPYdb"
      }
    },
    {
      "cell_type": "code",
      "source": [
        "x = torch.tensor([[1,2,4,5],\n",
        "                  [6,7,8,9]])\n",
        "y = x.add(10)\n",
        "print(y)"
      ],
      "metadata": {
        "colab": {
          "base_uri": "https://localhost:8080/"
        },
        "id": "EXfHPJUOPQD8",
        "outputId": "d4b45bfd-6ef5-4eb6-a248-14cc551af3aa"
      },
      "execution_count": 14,
      "outputs": [
        {
          "output_type": "stream",
          "name": "stdout",
          "text": [
            "tensor([[11, 12, 14, 15],\n",
            "        [16, 17, 18, 19]])\n"
          ]
        }
      ]
    },
    {
      "cell_type": "code",
      "source": [
        "print( x + 10)"
      ],
      "metadata": {
        "colab": {
          "base_uri": "https://localhost:8080/"
        },
        "id": "eeJnciUCPrY0",
        "outputId": "61c8f65f-abdd-4fdf-b62b-3e126c4d90c9"
      },
      "execution_count": 15,
      "outputs": [
        {
          "output_type": "stream",
          "name": "stdout",
          "text": [
            "tensor([[11, 12, 14, 15],\n",
            "        [16, 17, 18, 19]])\n"
          ]
        }
      ]
    },
    {
      "cell_type": "markdown",
      "source": [
        "### Reshaping a tensor"
      ],
      "metadata": {
        "id": "hkNBUvETP2NY"
      }
    },
    {
      "cell_type": "code",
      "source": [
        "y = torch.tensor([2,3,1,0])\n",
        "print(y.shape)\n",
        "y = y.view(4,1)\n",
        "print(y.shape)"
      ],
      "metadata": {
        "colab": {
          "base_uri": "https://localhost:8080/"
        },
        "id": "Nf6Ga6ewPwEG",
        "outputId": "8fd97a0f-87e8-4313-cc9c-1d3a721fa68d"
      },
      "execution_count": 16,
      "outputs": [
        {
          "output_type": "stream",
          "name": "stdout",
          "text": [
            "torch.Size([4])\n",
            "torch.Size([4, 1])\n"
          ]
        }
      ]
    },
    {
      "cell_type": "markdown",
      "source": [
        "### Adding a dimension to the matrix using unsqueeze"
      ],
      "metadata": {
        "id": "pGOgsnVuQ2qI"
      }
    },
    {
      "cell_type": "code",
      "source": [
        "x = torch.randn(10,10)\n",
        "print(x.shape)\n",
        "z1 = x.unsqueeze(0)\n",
        "print(z1.shape)\n",
        "\n",
        "# The same can be achieved using [None] indexing\n",
        "# Adding None will auto create a fake dim at the\n",
        "# specified axis\n",
        "\n",
        "x = torch.randn(10,10)\n",
        "z2, z3, z4 = x[None], x[:,None], x[:,:,None]\n",
        "print(z2.shape, z3.shape, z4.shape)"
      ],
      "metadata": {
        "colab": {
          "base_uri": "https://localhost:8080/"
        },
        "id": "yhhg7SRwQHCD",
        "outputId": "1fb030e2-f7d5-4459-c341-71c19fd508f8"
      },
      "execution_count": 17,
      "outputs": [
        {
          "output_type": "stream",
          "name": "stdout",
          "text": [
            "torch.Size([10, 10])\n",
            "torch.Size([1, 10, 10])\n",
            "torch.Size([1, 10, 10]) torch.Size([10, 1, 10]) torch.Size([10, 10, 1])\n"
          ]
        }
      ]
    },
    {
      "cell_type": "markdown",
      "source": [
        "### Matrix multiplication of two different tensors"
      ],
      "metadata": {
        "id": "7LRvfkOzR5fE"
      }
    },
    {
      "cell_type": "code",
      "source": [
        "x = torch.tensor([[1,2,3,4], [5,6,7,8]])\n",
        "print(torch.matmul(x, y))"
      ],
      "metadata": {
        "colab": {
          "base_uri": "https://localhost:8080/"
        },
        "id": "hS_LTKpZRV4v",
        "outputId": "6c29cf4c-125f-4dc0-8aa5-680709d6e77e"
      },
      "execution_count": 18,
      "outputs": [
        {
          "output_type": "stream",
          "name": "stdout",
          "text": [
            "tensor([[11],\n",
            "        [35]])\n"
          ]
        }
      ]
    },
    {
      "cell_type": "code",
      "source": [
        "print(x@y)"
      ],
      "metadata": {
        "colab": {
          "base_uri": "https://localhost:8080/"
        },
        "id": "RH0opw0XSJc2",
        "outputId": "e47ba288-dcb6-4785-8765-501259e39921"
      },
      "execution_count": 19,
      "outputs": [
        {
          "output_type": "stream",
          "name": "stdout",
          "text": [
            "tensor([[11],\n",
            "        [35]])\n"
          ]
        }
      ]
    },
    {
      "cell_type": "markdown",
      "source": [
        "### concatenation of tensors"
      ],
      "metadata": {
        "id": "hFrTrZimSWwn"
      }
    },
    {
      "cell_type": "code",
      "source": [
        "x = torch.randn(10,10,10)\n",
        "z = torch.cat([x,x], axis=0) # np.concatenate()\n",
        "print('Cat axis 0:', x.shape, z.shape)\n",
        "\n",
        "z = torch.cat([x,x], axis=1) # np.concatenate()\n",
        "print('Cat axis 1:', x.shape, z.shape)\n",
        "\n",
        "o = torch.cat([x,x], axis=2) # np.concatenate()\n",
        "print('Cat axis 2:', x.shape, z.shape, o.shape)"
      ],
      "metadata": {
        "colab": {
          "base_uri": "https://localhost:8080/"
        },
        "id": "iKVjUwgZSOOP",
        "outputId": "6fa59ac3-f195-4545-d4fd-c5e934cb27a7"
      },
      "execution_count": 20,
      "outputs": [
        {
          "output_type": "stream",
          "name": "stdout",
          "text": [
            "Cat axis 0: torch.Size([10, 10, 10]) torch.Size([20, 10, 10])\n",
            "Cat axis 1: torch.Size([10, 10, 10]) torch.Size([10, 20, 10])\n",
            "Cat axis 2: torch.Size([10, 10, 10]) torch.Size([10, 20, 10]) torch.Size([10, 10, 20])\n"
          ]
        }
      ]
    },
    {
      "cell_type": "markdown",
      "source": [
        "### Extraction of the maximum value in tensor"
      ],
      "metadata": {
        "id": "x-1AAm3LS-7j"
      }
    },
    {
      "cell_type": "code",
      "source": [
        "x = torch.arange(25).reshape(5,5)\n",
        "print(x)\n",
        "print('Max:', x.shape, x.max()) "
      ],
      "metadata": {
        "colab": {
          "base_uri": "https://localhost:8080/"
        },
        "id": "NKYYg8LSSjQJ",
        "outputId": "83c5dc29-7f0e-4885-bc3d-a2682acec0f6"
      },
      "execution_count": 21,
      "outputs": [
        {
          "output_type": "stream",
          "name": "stdout",
          "text": [
            "tensor([[ 0,  1,  2,  3,  4],\n",
            "        [ 5,  6,  7,  8,  9],\n",
            "        [10, 11, 12, 13, 14],\n",
            "        [15, 16, 17, 18, 19],\n",
            "        [20, 21, 22, 23, 24]])\n",
            "Max: torch.Size([5, 5]) tensor(24)\n"
          ]
        }
      ]
    },
    {
      "cell_type": "code",
      "source": [
        "x.max(dim=0) # row"
      ],
      "metadata": {
        "colab": {
          "base_uri": "https://localhost:8080/"
        },
        "id": "Gp8fsrYfTKZG",
        "outputId": "f6615d4a-93f7-4efe-e6b7-46c05baa2786"
      },
      "execution_count": 22,
      "outputs": [
        {
          "output_type": "execute_result",
          "data": {
            "text/plain": [
              "torch.return_types.max(values=tensor([20, 21, 22, 23, 24]), indices=tensor([4, 4, 4, 4, 4]))"
            ]
          },
          "metadata": {},
          "execution_count": 22
        }
      ]
    },
    {
      "cell_type": "code",
      "source": [
        "m, argm = x.max(dim=1) # columns\n",
        "print('Max in axis 1:\\n', m, argm) "
      ],
      "metadata": {
        "colab": {
          "base_uri": "https://localhost:8080/"
        },
        "id": "kFSBUpQsTfQT",
        "outputId": "5caa30b8-dc10-40dd-c5a4-90ed21dce466"
      },
      "execution_count": 23,
      "outputs": [
        {
          "output_type": "stream",
          "name": "stdout",
          "text": [
            "Max in axis 1:\n",
            " tensor([ 4,  9, 14, 19, 24]) tensor([4, 4, 4, 4, 4])\n"
          ]
        }
      ]
    },
    {
      "cell_type": "markdown",
      "source": [
        "### Permute the dimensions of a tensor object\n",
        "(swap dimensions)"
      ],
      "metadata": {
        "id": "yVr88kNmUG77"
      }
    },
    {
      "cell_type": "code",
      "source": [
        "x = torch.randn(10,20,30)\n",
        "z = x.permute(1,0,2) # x.prmute(0,2,1) -> torch.Size(10,30,20)\n",
        "print('Permute dimensions:', x.shape, z.shape)"
      ],
      "metadata": {
        "colab": {
          "base_uri": "https://localhost:8080/"
        },
        "id": "-Vg6r_ikTwpX",
        "outputId": "66e285f9-e4e1-4964-8999-565d9c998ebd"
      },
      "execution_count": 24,
      "outputs": [
        {
          "output_type": "stream",
          "name": "stdout",
          "text": [
            "Permute dimensions: torch.Size([10, 20, 30]) torch.Size([20, 10, 30])\n"
          ]
        }
      ]
    },
    {
      "cell_type": "markdown",
      "source": [
        "## Auto gradients of tensor objects"
      ],
      "metadata": {
        "id": "uxeY-uN9VsF1"
      }
    },
    {
      "cell_type": "markdown",
      "source": [
        "### 1. Define a tensor object\n",
        " requires_grad parameter specifies the gradient is to be calculated for the tensor object."
      ],
      "metadata": {
        "id": "kiBZAliNV4dv"
      }
    },
    {
      "cell_type": "code",
      "source": [
        "x = torch.tensor([[2., -1.], [1., 1.]], requires_grad=True) \n",
        "print(x)"
      ],
      "metadata": {
        "colab": {
          "base_uri": "https://localhost:8080/"
        },
        "id": "dGCRoC2EUOUe",
        "outputId": "7c432ca5-aacb-4399-ca6a-d56ae1b8c9c4"
      },
      "execution_count": 25,
      "outputs": [
        {
          "output_type": "stream",
          "name": "stdout",
          "text": [
            "tensor([[ 2., -1.],\n",
            "        [ 1.,  1.]], requires_grad=True)\n"
          ]
        }
      ]
    },
    {
      "cell_type": "markdown",
      "source": [
        "### 2.  Define the way to calculate the output, wich in this specific case is the sum of the squares of all input: \n",
        "\n",
        "$\\mathbf{output} = \\sum_{i=1}^4 x_i^2$."
      ],
      "metadata": {
        "id": "dzZEmq5FYTUl"
      }
    },
    {
      "cell_type": "code",
      "source": [
        "out = x.pow(2).sum()"
      ],
      "metadata": {
        "id": "wdiumxTUWBl-"
      },
      "execution_count": 26,
      "outputs": []
    },
    {
      "cell_type": "code",
      "source": [
        "out"
      ],
      "metadata": {
        "colab": {
          "base_uri": "https://localhost:8080/"
        },
        "id": "3GrJw871Z3Zy",
        "outputId": "1e069a78-7aee-460a-8f54-eda154f02ae0"
      },
      "execution_count": 27,
      "outputs": [
        {
          "output_type": "execute_result",
          "data": {
            "text/plain": [
              "tensor(7., grad_fn=<SumBackward0>)"
            ]
          },
          "metadata": {},
          "execution_count": 27
        }
      ]
    },
    {
      "cell_type": "markdown",
      "source": [
        "### 3. The gradient of a value can be calculated"
      ],
      "metadata": {
        "id": "yPvZVKW7Z9Vh"
      }
    },
    {
      "cell_type": "code",
      "source": [
        "out.backward()"
      ],
      "metadata": {
        "id": "mjGBbVT2Z4Lg"
      },
      "execution_count": 28,
      "outputs": []
    },
    {
      "cell_type": "code",
      "source": [
        "x.grad"
      ],
      "metadata": {
        "colab": {
          "base_uri": "https://localhost:8080/"
        },
        "id": "ym_ZT7gmaIyk",
        "outputId": "c3a51842-9e47-46a7-a0b2-fe842e3c89c7"
      },
      "execution_count": 29,
      "outputs": [
        {
          "output_type": "execute_result",
          "data": {
            "text/plain": [
              "tensor([[ 4., -2.],\n",
              "        [ 2.,  2.]])"
            ]
          },
          "metadata": {},
          "execution_count": 29
        }
      ]
    },
    {
      "cell_type": "markdown",
      "source": [
        "####Computing gradients for the same case that was present in Chain_rule.ipynb notebook in previous chapter."
      ],
      "metadata": {
        "id": "oxiPNF_HavPr"
      }
    },
    {
      "cell_type": "code",
      "source": [
        "x = np.array([[1,1]])\n",
        "y = np.array([[0]])\n",
        "x, y = [torch.tensor(i).float() for i in [x,y]]\n",
        "print(x,y)"
      ],
      "metadata": {
        "colab": {
          "base_uri": "https://localhost:8080/"
        },
        "id": "qRXcctmYabVQ",
        "outputId": "15608b52-45e7-4b53-b8dc-cdb0a825ade0"
      },
      "execution_count": 30,
      "outputs": [
        {
          "output_type": "stream",
          "name": "stdout",
          "text": [
            "tensor([[1., 1.]]) tensor([[0.]])\n"
          ]
        }
      ]
    },
    {
      "cell_type": "code",
      "source": [
        "W = [\n",
        "    np.array([[-0.0053, 0.3793],\n",
        "              [-0.5820, -0.5204],\n",
        "              [-0.2723, 0.1896]], dtype=np.float32).T, \n",
        "    np.array([-0.0140, 0.5607, -0.0628], dtype=np.float32), \n",
        "    np.array([[ 0.1528, -0.1745, -0.1135]], dtype=np.float32).T, \n",
        "    np.array([-0.5516], dtype=np.float32)\n",
        "]\n",
        "\n",
        "W = [torch.tensor(i, requires_grad=True) for i in W]\n",
        "print(W)"
      ],
      "metadata": {
        "colab": {
          "base_uri": "https://localhost:8080/"
        },
        "id": "jWoeRyTwa7BA",
        "outputId": "1d57e174-fed1-4c45-e6e8-af4d71971e01"
      },
      "execution_count": 31,
      "outputs": [
        {
          "output_type": "stream",
          "name": "stdout",
          "text": [
            "[tensor([[-0.0053, -0.5820, -0.2723],\n",
            "        [ 0.3793, -0.5204,  0.1896]], requires_grad=True), tensor([-0.0140,  0.5607, -0.0628], requires_grad=True), tensor([[ 0.1528],\n",
            "        [-0.1745],\n",
            "        [-0.1135]], requires_grad=True), tensor([-0.5516], requires_grad=True)]\n"
          ]
        }
      ]
    },
    {
      "cell_type": "code",
      "source": [
        "def feed_forward(inputs, outputs, weights):\n",
        "    pre_hidden = torch.matmul(inputs,weights[0])+ weights[1]\n",
        "    hidden = 1/(1+torch.exp(-pre_hidden))\n",
        "    out = torch.matmul(hidden, weights[2]) + weights[3]\n",
        "    mean_squared_error = torch.mean(torch.square(out - outputs))\n",
        "    return mean_squared_error"
      ],
      "metadata": {
        "id": "rEmPYFHDbAKH"
      },
      "execution_count": 32,
      "outputs": []
    },
    {
      "cell_type": "code",
      "source": [
        "loss = feed_forward(x, y, W)\n",
        "loss"
      ],
      "metadata": {
        "colab": {
          "base_uri": "https://localhost:8080/"
        },
        "id": "FxaMEyRYbGup",
        "outputId": "1620a37f-b60c-49f0-8739-1a179f554ab6"
      },
      "execution_count": 33,
      "outputs": [
        {
          "output_type": "execute_result",
          "data": {
            "text/plain": [
              "tensor(0.3346, grad_fn=<MeanBackward0>)"
            ]
          },
          "metadata": {},
          "execution_count": 33
        }
      ]
    },
    {
      "cell_type": "code",
      "source": [
        "loss.backward()"
      ],
      "metadata": {
        "id": "14cT1-k8bT1n"
      },
      "execution_count": 34,
      "outputs": []
    },
    {
      "cell_type": "code",
      "source": [
        "print([w.grad for w in W])"
      ],
      "metadata": {
        "colab": {
          "base_uri": "https://localhost:8080/"
        },
        "id": "Q3uV2hrrbWDo",
        "outputId": "151123b7-7c82-4e80-9976-7dd678a03738"
      },
      "execution_count": 35,
      "outputs": [
        {
          "output_type": "stream",
          "name": "stdout",
          "text": [
            "[tensor([[-0.0428,  0.0469,  0.0327],\n",
            "        [-0.0428,  0.0469,  0.0327]]), tensor([-0.0428,  0.0469,  0.0327]), tensor([[-0.6814],\n",
            "        [-0.4255],\n",
            "        [-0.5364]]), tensor([-1.1568])]\n"
          ]
        }
      ]
    },
    {
      "cell_type": "code",
      "source": [
        "updated_W = [w-w.grad for w in W]\n",
        "updated_W"
      ],
      "metadata": {
        "colab": {
          "base_uri": "https://localhost:8080/"
        },
        "id": "6OY-0vT1bYMH",
        "outputId": "4af438fb-67b3-4e4f-e20c-bd3f6f828324"
      },
      "execution_count": 36,
      "outputs": [
        {
          "output_type": "execute_result",
          "data": {
            "text/plain": [
              "[tensor([[ 0.0375, -0.6289, -0.3050],\n",
              "         [ 0.4221, -0.5673,  0.1569]], grad_fn=<SubBackward0>),\n",
              " tensor([ 0.0288,  0.5138, -0.0955], grad_fn=<SubBackward0>),\n",
              " tensor([[0.8342],\n",
              "         [0.2510],\n",
              "         [0.4229]], grad_fn=<SubBackward0>),\n",
              " tensor([0.6052], grad_fn=<SubBackward0>)]"
            ]
          },
          "metadata": {},
          "execution_count": 36
        }
      ]
    },
    {
      "cell_type": "markdown",
      "source": [
        "## Advantages of PyTorch's tensors over NumPy's ndarrays#"
      ],
      "metadata": {
        "id": "GryThUV1cgy2"
      }
    },
    {
      "cell_type": "markdown",
      "source": [
        "Numpy vs Torch computation speed comparison"
      ],
      "metadata": {
        "id": "S3WwSDGrdb6A"
      }
    },
    {
      "cell_type": "markdown",
      "source": [
        "### 1. Generate two different torch objects"
      ],
      "metadata": {
        "id": "kILX40Mfdrq9"
      }
    },
    {
      "cell_type": "code",
      "source": [
        "x = torch.rand(1,6400)\n",
        "y = torch.rand(6400,5000)"
      ],
      "metadata": {
        "id": "G2tlypRlbaW2"
      },
      "execution_count": 37,
      "outputs": []
    },
    {
      "cell_type": "markdown",
      "source": [
        "### 2. Define the device "
      ],
      "metadata": {
        "id": "ySXWaa01e73b"
      }
    },
    {
      "cell_type": "code",
      "source": [
        "device = 'cuda' if torch.cuda.is_available() else 'cpu'\n",
        "assert device == 'cuda', \"This exercise assumes the notebook is on a GPU machine\""
      ],
      "metadata": {
        "id": "yiaLpmDnd_qt"
      },
      "execution_count": 38,
      "outputs": []
    },
    {
      "cell_type": "code",
      "source": [
        "device"
      ],
      "metadata": {
        "colab": {
          "base_uri": "https://localhost:8080/",
          "height": 0
        },
        "id": "KMD-wu1-fFYR",
        "outputId": "61c69d16-80c9-4de0-f5e0-5508d2c0cdc1"
      },
      "execution_count": 39,
      "outputs": [
        {
          "output_type": "execute_result",
          "data": {
            "text/plain": [
              "'cuda'"
            ],
            "application/vnd.google.colaboratory.intrinsic+json": {
              "type": "string"
            }
          },
          "metadata": {},
          "execution_count": 39
        }
      ]
    },
    {
      "cell_type": "markdown",
      "source": [
        "### 3. Storing information in a device"
      ],
      "metadata": {
        "id": "BbZ68XTyfb7n"
      }
    },
    {
      "cell_type": "code",
      "source": [
        "x,y = x.to(device=device),  y.to(device=device)"
      ],
      "metadata": {
        "id": "iMJOXEzofVEr"
      },
      "execution_count": 40,
      "outputs": []
    },
    {
      "cell_type": "code",
      "source": [
        "x"
      ],
      "metadata": {
        "colab": {
          "base_uri": "https://localhost:8080/"
        },
        "id": "M_I7oW0vftgZ",
        "outputId": "5f622822-32e0-426a-e156-c7268d2f2ecb"
      },
      "execution_count": 41,
      "outputs": [
        {
          "output_type": "execute_result",
          "data": {
            "text/plain": [
              "tensor([[0.2727, 0.5383, 0.9698,  ..., 0.9984, 0.0401, 0.4789]],\n",
              "       device='cuda:0')"
            ]
          },
          "metadata": {},
          "execution_count": 41
        }
      ]
    },
    {
      "cell_type": "markdown",
      "source": [
        "### 4. Perform matrix multiplication of Torch objects and time it to compare the speed  between Torch and Numpy"
      ],
      "metadata": {
        "id": "ZEXg28B5f9bf"
      }
    },
    {
      "cell_type": "code",
      "source": [
        "%timeit z=(x@y)"
      ],
      "metadata": {
        "colab": {
          "base_uri": "https://localhost:8080/"
        },
        "id": "jxhCj3crfv0I",
        "outputId": "9d3e543c-6a4f-4880-ca52-7d8b78fc8acf"
      },
      "execution_count": 42,
      "outputs": [
        {
          "output_type": "stream",
          "name": "stdout",
          "text": [
            "The slowest run took 251598.41 times longer than the fastest. This could mean that an intermediate result is being cached.\n",
            "1 loop, best of 5: 11.7 µs per loop\n"
          ]
        }
      ]
    },
    {
      "cell_type": "code",
      "source": [
        "x, y = x.cpu(), y.cpu()\n",
        "%timeit z=(x@y)"
      ],
      "metadata": {
        "colab": {
          "base_uri": "https://localhost:8080/"
        },
        "id": "0yrEzyxFgP5T",
        "outputId": "5fb15364-b596-4599-d73d-d7d8e9316b67"
      },
      "execution_count": 43,
      "outputs": [
        {
          "output_type": "stream",
          "name": "stdout",
          "text": [
            "100 loops, best of 5: 8.85 ms per loop\n"
          ]
        }
      ]
    },
    {
      "cell_type": "code",
      "source": [
        "import numpy as np\n",
        "x = np.random.random((1, 6400))\n",
        "y = np.random.random((6400, 5000))\n",
        "%timeit z = np.matmul(x,y)"
      ],
      "metadata": {
        "colab": {
          "base_uri": "https://localhost:8080/"
        },
        "id": "Yc2GRWSIgaI2",
        "outputId": "e409d34c-e9f4-4056-c406-3758827ace3c"
      },
      "execution_count": 44,
      "outputs": [
        {
          "output_type": "stream",
          "name": "stdout",
          "text": [
            "100 loops, best of 5: 19.1 ms per loop\n"
          ]
        }
      ]
    },
    {
      "cell_type": "markdown",
      "source": [
        "## Building a neural network using PyTorch"
      ],
      "metadata": {
        "id": "7FouKG2eQUZP"
      }
    },
    {
      "cell_type": "markdown",
      "source": [
        "### 1. Define the input and output values:"
      ],
      "metadata": {
        "id": "TWuhbtlMRmuw"
      }
    },
    {
      "cell_type": "code",
      "source": [
        "x = [[1,2],[3,4],[5,6],[7,8]]\n",
        "y = [[3],[7],[11],[15]]"
      ],
      "metadata": {
        "id": "c_cC0gfvgil-"
      },
      "execution_count": 45,
      "outputs": []
    },
    {
      "cell_type": "markdown",
      "source": [
        "### 2. Convert the input lists into tensor objects:"
      ],
      "metadata": {
        "id": "o_7emT8WRzbm"
      }
    },
    {
      "cell_type": "code",
      "source": [
        "X = torch.tensor(x).float()\n",
        "Y = torch.tensor(y).float()"
      ],
      "metadata": {
        "id": "dwDp-WdNRuWl"
      },
      "execution_count": 46,
      "outputs": []
    },
    {
      "cell_type": "markdown",
      "source": [
        "### 3. register the input and out put data points to the decive"
      ],
      "metadata": {
        "id": "7MrBfLMhSFir"
      }
    },
    {
      "cell_type": "code",
      "source": [
        "device = 'cuda' if torch.cuda.is_available() else 'cpu'\n",
        "X = X.to(device)\n",
        "Y = Y.to(device)"
      ],
      "metadata": {
        "id": "QT-DNhPIR8h4"
      },
      "execution_count": 47,
      "outputs": []
    },
    {
      "cell_type": "markdown",
      "source": [
        "### 4. Define the neural network architecture:"
      ],
      "metadata": {
        "id": "szITR2UJSWPf"
      }
    },
    {
      "cell_type": "code",
      "source": [
        "class MyNeuralNet(nn.Module):\n",
        "  def __init__(self):\n",
        "    super().__init__()\n",
        "    self.input_to_hidden_layer = nn.Linear(2,8)\n",
        "    self.hidden_layer_activation = nn.ReLU()\n",
        "    self.hidden_to_output_layer = nn.Linear(8,1)\n",
        "\n",
        "  def forward(self,x):\n",
        "    x = self.input_to_hidden_layer(x)\n",
        "    x = self.hidden_layer_activation(x)\n",
        "    x = self.hidden_to_output_layer(x)\n",
        "    return x"
      ],
      "metadata": {
        "id": "dNO9E0YgSODI"
      },
      "execution_count": 48,
      "outputs": []
    },
    {
      "cell_type": "markdown",
      "source": [
        "### 5. access the inital weights of each of the components: "
      ],
      "metadata": {
        "id": "M3oR89izVMWQ"
      }
    },
    {
      "cell_type": "code",
      "source": [
        "mynet = MyNeuralNet().to(device)"
      ],
      "metadata": {
        "id": "uzXFx4ZoVVu1"
      },
      "execution_count": 49,
      "outputs": []
    },
    {
      "cell_type": "markdown",
      "source": [
        "- Note: they are used only for illustration of how to obtain parameters of a given layer."
      ],
      "metadata": {
        "id": "Gi3fdoR9V8jv"
      }
    },
    {
      "cell_type": "code",
      "source": [
        "print(f'input to hidden layer weigths: \\n {mynet.input_to_hidden_layer.weight}' ) # (2,8)"
      ],
      "metadata": {
        "colab": {
          "base_uri": "https://localhost:8080/"
        },
        "id": "0StoHUcdVZ9x",
        "outputId": "d77720dd-6543-4517-f4c9-d29bf7b719f7"
      },
      "execution_count": 50,
      "outputs": [
        {
          "output_type": "stream",
          "name": "stdout",
          "text": [
            "input to hidden layer weigths: \n",
            " Parameter containing:\n",
            "tensor([[ 0.3896, -0.1668],\n",
            "        [-0.1321,  0.1493],\n",
            "        [ 0.4026,  0.6723],\n",
            "        [ 0.1598,  0.4438],\n",
            "        [ 0.6527,  0.0993],\n",
            "        [ 0.6780, -0.1942],\n",
            "        [-0.3065,  0.7014],\n",
            "        [ 0.1150,  0.2840]], device='cuda:0', requires_grad=True)\n"
          ]
        }
      ]
    },
    {
      "cell_type": "code",
      "source": [
        "print(f'hidden layer to output layer weigths: \\n {mynet.hidden_to_output_layer.weight}' ) # (8,1)"
      ],
      "metadata": {
        "colab": {
          "base_uri": "https://localhost:8080/"
        },
        "id": "edLLwFpcVwq9",
        "outputId": "90a92e96-764b-4b79-d10c-6bdd2d5eb7e2"
      },
      "execution_count": 51,
      "outputs": [
        {
          "output_type": "stream",
          "name": "stdout",
          "text": [
            "hidden layer to output layer weigths: \n",
            " Parameter containing:\n",
            "tensor([[ 0.1808,  0.0736, -0.0854, -0.3344,  0.0035,  0.1143,  0.3365,  0.1519]],\n",
            "       device='cuda:0', requires_grad=True)\n"
          ]
        }
      ]
    },
    {
      "cell_type": "code",
      "source": [
        "mynet.parameters"
      ],
      "metadata": {
        "colab": {
          "base_uri": "https://localhost:8080/"
        },
        "id": "s5NSc2c9WQuS",
        "outputId": "cc6b4efa-35bd-4ef6-c393-0a1fdefdb4c4"
      },
      "execution_count": 52,
      "outputs": [
        {
          "output_type": "execute_result",
          "data": {
            "text/plain": [
              "<bound method Module.parameters of MyNeuralNet(\n",
              "  (input_to_hidden_layer): Linear(in_features=2, out_features=8, bias=True)\n",
              "  (hidden_layer_activation): ReLU()\n",
              "  (hidden_to_output_layer): Linear(in_features=8, out_features=1, bias=True)\n",
              ")>"
            ]
          },
          "metadata": {},
          "execution_count": 52
        }
      ]
    },
    {
      "cell_type": "code",
      "source": [
        "for par in mynet.parameters():\n",
        "  print(par)"
      ],
      "metadata": {
        "colab": {
          "base_uri": "https://localhost:8080/"
        },
        "id": "qZpiilRqW0xR",
        "outputId": "46cc05ee-54af-466e-863e-459326a436e0"
      },
      "execution_count": 53,
      "outputs": [
        {
          "output_type": "stream",
          "name": "stdout",
          "text": [
            "Parameter containing:\n",
            "tensor([[ 0.3896, -0.1668],\n",
            "        [-0.1321,  0.1493],\n",
            "        [ 0.4026,  0.6723],\n",
            "        [ 0.1598,  0.4438],\n",
            "        [ 0.6527,  0.0993],\n",
            "        [ 0.6780, -0.1942],\n",
            "        [-0.3065,  0.7014],\n",
            "        [ 0.1150,  0.2840]], device='cuda:0', requires_grad=True)\n",
            "Parameter containing:\n",
            "tensor([-0.6513, -0.5171,  0.3980, -0.6950,  0.1055,  0.0632, -0.3871, -0.4835],\n",
            "       device='cuda:0', requires_grad=True)\n",
            "Parameter containing:\n",
            "tensor([[ 0.1808,  0.0736, -0.0854, -0.3344,  0.0035,  0.1143,  0.3365,  0.1519]],\n",
            "       device='cuda:0', requires_grad=True)\n",
            "Parameter containing:\n",
            "tensor([0.2177], device='cuda:0', requires_grad=True)\n"
          ]
        }
      ]
    },
    {
      "cell_type": "markdown",
      "source": [
        "### 6. Define the loss function:\n",
        "CrossEntropyLoss -> for multinomial classification.\n",
        "BCELoss -> binary cross-entropy loss for binary classification."
      ],
      "metadata": {
        "id": "2wT7octyXaNM"
      }
    },
    {
      "cell_type": "code",
      "source": [
        "loss_func = nn.MSELoss()"
      ],
      "metadata": {
        "id": "3pxw52ecXEOc"
      },
      "execution_count": 54,
      "outputs": []
    },
    {
      "cell_type": "markdown",
      "source": [
        "**The loss value of a neural network can be calculated by passing the input values through the neuralnet object and then calculating MSELoss for the given input.**"
      ],
      "metadata": {
        "id": "ZHzUqQwqYRVC"
      }
    },
    {
      "cell_type": "code",
      "source": [
        "_Y = mynet(X) # _y -> prediction\n",
        "print(f'- Prediction values: \\n {_Y} \\n')\n",
        "print(f'- Actual values: \\n {Y} \\n')\n",
        "loss_value = loss_func(_Y,Y)\n",
        "print(f'- Loss value: \\n {loss_value}')"
      ],
      "metadata": {
        "colab": {
          "base_uri": "https://localhost:8080/"
        },
        "id": "bVRxT9shXp1I",
        "outputId": "9c495045-5fa4-4125-ed3e-11825a950c32"
      },
      "execution_count": 55,
      "outputs": [
        {
          "output_type": "stream",
          "name": "stdout",
          "text": [
            "- Prediction values: \n",
            " tensor([[0.2293],\n",
            "        [0.1449],\n",
            "        [0.1139],\n",
            "        [0.1099]], device='cuda:0', grad_fn=<AddmmBackward0>) \n",
            "\n",
            "- Actual values: \n",
            " tensor([[ 3.],\n",
            "        [ 7.],\n",
            "        [11.],\n",
            "        [15.]], device='cuda:0') \n",
            "\n",
            "- Loss value: \n",
            " 98.72303771972656\n"
          ]
        }
      ]
    },
    {
      "cell_type": "markdown",
      "source": [
        "### 7.  Import the SGD method:"
      ],
      "metadata": {
        "id": "YDjRu1tPaRxy"
      }
    },
    {
      "cell_type": "code",
      "source": [
        "opt = SGD(mynet.parameters(), lr = 0.001)"
      ],
      "metadata": {
        "id": "83QHXa9LYyzc"
      },
      "execution_count": 56,
      "outputs": []
    },
    {
      "cell_type": "markdown",
      "source": [
        "###8. Perform all the steps to be done in an epoch together:\n",
        "\n",
        "*NOTE: Problem:  Can't convert cuda:0 device type tensor to numpy. Use Tensor.cpu() to copy the tensor to host memory first.*\n",
        "\n",
        "*solution: \n",
        "Converting: type(loss_value): tensor -> numpy: tensor.cpu().detach.numpy()*"
      ],
      "metadata": {
        "id": "ma1-MWLSan3t"
      }
    },
    {
      "cell_type": "code",
      "source": [
        "loss_history = []\n",
        "for _ in range(50):\n",
        "    opt.zero_grad() # flush the previous epoch's gradients. \n",
        "    loss_value = loss_func(mynet(X),Y) # compute loss.\n",
        "    loss_value.backward() # perform back-propagation.\n",
        "    loss_value = loss_value.cpu().detach().numpy() # Convert cuda:0 device type tensor to numpy to plotting.\n",
        "    opt.step() # update the weights according to the gradients computed.\n",
        "    loss_history.append(loss_value)"
      ],
      "metadata": {
        "id": "9AdLlBJ6alAU"
      },
      "execution_count": 57,
      "outputs": []
    },
    {
      "cell_type": "markdown",
      "source": [
        "  *After Backpropagation:*"
      ],
      "metadata": {
        "id": "phs5oyqJbvWY"
      }
    },
    {
      "cell_type": "code",
      "source": [
        "_Y = mynet(X) # _y -> prediction\n",
        "print(f'- Prediction values: \\n {_Y} \\n')\n",
        "print(f'- Actual values: \\n {Y} \\n')\n",
        "loss_value = loss_func(_Y,Y)\n",
        "print(f'- Loss value: \\n {loss_value}')"
      ],
      "metadata": {
        "colab": {
          "base_uri": "https://localhost:8080/"
        },
        "id": "lyjQEj7ubnWB",
        "outputId": "4344816d-9941-4ba6-c071-e4afd1415e6f"
      },
      "execution_count": 58,
      "outputs": [
        {
          "output_type": "stream",
          "name": "stdout",
          "text": [
            "- Prediction values: \n",
            " tensor([[ 3.2249],\n",
            "        [ 7.0776],\n",
            "        [10.9983],\n",
            "        [14.9191]], device='cuda:0', grad_fn=<AddmmBackward0>) \n",
            "\n",
            "- Actual values: \n",
            " tensor([[ 3.],\n",
            "        [ 7.],\n",
            "        [11.],\n",
            "        [15.]], device='cuda:0') \n",
            "\n",
            "- Loss value: \n",
            " 0.015792448073625565\n"
          ]
        }
      ]
    },
    {
      "cell_type": "markdown",
      "source": [
        "### *9. Plotting the vartion in loss over increasing epochs:*"
      ],
      "metadata": {
        "id": "NQmK0TmTcRsz"
      }
    },
    {
      "cell_type": "code",
      "source": [
        "plt.plot(loss_history)\n",
        "plt.title('Loss variation over increasing epochs')\n",
        "plt.xlabel('epochs')\n",
        "plt.ylabel('loss value')"
      ],
      "metadata": {
        "colab": {
          "base_uri": "https://localhost:8080/",
          "height": 312
        },
        "id": "fJRuJGltbqNN",
        "outputId": "c3f31da2-09a3-40ab-f3f5-8d4c2d4df80c"
      },
      "execution_count": 59,
      "outputs": [
        {
          "output_type": "execute_result",
          "data": {
            "text/plain": [
              "Text(0, 0.5, 'loss value')"
            ]
          },
          "metadata": {},
          "execution_count": 59
        },
        {
          "output_type": "display_data",
          "data": {
            "text/plain": [
              "<Figure size 432x288 with 1 Axes>"
            ],
            "image/png": "[encoded data removed]"
          },
          "metadata": {
            "needs_background": "light"
          }
        }
      ]
    },
    {
      "cell_type": "markdown",
      "source": [
        "## Implementing costom loss function"
      ],
      "metadata": {
        "id": "FFCA4MYdhm8D"
      }
    },
    {
      "cell_type": "code",
      "source": [
        "x = [[1,2],[3,4],[5,6],[7,8]]\n",
        "y = [[3],[7],[11],[15]]\n",
        "import torch\n",
        "X = torch.tensor(x).float()\n",
        "Y = torch.tensor(y).float()\n",
        "import torch.nn as nn\n",
        "device = 'cuda' if torch.cuda.is_available() else 'cpu'\n",
        "X = X.to(device)\n",
        "Y = Y.to(device) \n",
        "import torch.nn as nn\n",
        "from torch.utils.data import Dataset, DataLoader\n",
        "class MyDataset(Dataset):\n",
        "    def __init__(self,x,y):\n",
        "        self.x = torch.tensor(x).float()\n",
        "        self.y = torch.tensor(y).float()\n",
        "    def __len__(self):\n",
        "        return len(self.x)\n",
        "    def __getitem__(self, ix):\n",
        "        return self.x[ix], self.y[ix]\n",
        "ds = MyDataset(X, Y)\n",
        "dl = DataLoader(ds, batch_size=2, shuffle=True)\n",
        "class MyNeuralNet(nn.Module):\n",
        "    def __init__(self):\n",
        "        super().__init__()\n",
        "        self.input_to_hidden_layer = nn.Linear(2,8)\n",
        "        self.hidden_layer_activation = nn.ReLU()\n",
        "        self.hidden_to_output_layer = nn.Linear(8,1)\n",
        "    def forward(self, x):\n",
        "        x = self.input_to_hidden_layer(x)\n",
        "        x = self.hidden_layer_activation(x)\n",
        "        x = self.hidden_to_output_layer(x)\n",
        "        return x\n",
        "mynet = MyNeuralNet().to(device)"
      ],
      "metadata": {
        "id": "PbrhCwi3hvrU",
        "outputId": "459c2378-67f4-4e84-94d1-9b205608f183",
        "colab": {
          "base_uri": "https://localhost:8080/"
        }
      },
      "execution_count": 60,
      "outputs": [
        {
          "output_type": "stream",
          "name": "stderr",
          "text": [
            "/usr/local/lib/python3.7/dist-packages/ipykernel_launcher.py:14: UserWarning: To copy construct from a tensor, it is recommended to use sourceTensor.clone().detach() or sourceTensor.clone().detach().requires_grad_(True), rather than torch.tensor(sourceTensor).\n",
            "  \n",
            "/usr/local/lib/python3.7/dist-packages/ipykernel_launcher.py:15: UserWarning: To copy construct from a tensor, it is recommended to use sourceTensor.clone().detach() or sourceTensor.clone().detach().requires_grad_(True), rather than torch.tensor(sourceTensor).\n",
            "  from ipykernel import kernelapp as app\n"
          ]
        }
      ]
    },
    {
      "cell_type": "code",
      "source": [
        "def my_mean_squared_error(_y, y):\n",
        "    loss = (_y-y)**2\n",
        "    loss = loss.mean()\n",
        "    return loss"
      ],
      "metadata": {
        "id": "GJM1Kmw_h29c"
      },
      "execution_count": 61,
      "outputs": []
    },
    {
      "cell_type": "code",
      "source": [
        "loss_func = nn.MSELoss()\n",
        "loss_value = loss_func(mynet(X),Y)\n",
        "print(loss_value)"
      ],
      "metadata": {
        "id": "WDi4n-DTh4kj",
        "outputId": "da2627f3-c129-4cc4-ddc0-d2344cab6152",
        "colab": {
          "base_uri": "https://localhost:8080/"
        }
      },
      "execution_count": 62,
      "outputs": [
        {
          "output_type": "stream",
          "name": "stdout",
          "text": [
            "tensor(92.0884, device='cuda:0', grad_fn=<MseLossBackward0>)\n"
          ]
        }
      ]
    },
    {
      "cell_type": "code",
      "source": [
        "my_mean_squared_error(mynet(X),Y)"
      ],
      "metadata": {
        "id": "_SM0xST5h5vJ",
        "outputId": "df3276c6-0154-48e1-f67b-867107943881",
        "colab": {
          "base_uri": "https://localhost:8080/"
        }
      },
      "execution_count": 63,
      "outputs": [
        {
          "output_type": "execute_result",
          "data": {
            "text/plain": [
              "tensor(92.0884, device='cuda:0', grad_fn=<MeanBackward0>)"
            ]
          },
          "metadata": {},
          "execution_count": 63
        }
      ]
    }
  ]
}