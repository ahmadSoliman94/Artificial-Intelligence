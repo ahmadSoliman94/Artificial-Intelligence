{
  "nbformat": 4,
  "nbformat_minor": 0,
  "metadata": {
    "colab": {
      "name": "PyTorch Fundamentals.ipynb",
      "provenance": [],
      "authorship_tag": "ABX9TyPGcgIUrO3r+rAGikpplOhZ",
      "include_colab_link": true
    },
    "kernelspec": {
      "name": "python3",
      "display_name": "Python 3"
    },
    "language_info": {
      "name": "python"
    },
    "accelerator": "GPU",
    "gpuClass": "standard"
  },
  "cells": [
    {
      "cell_type": "markdown",
      "metadata": {
        "id": "view-in-github",
        "colab_type": "text"
      },
      "source": [
        "<a href=\"https://colab.research.google.com/github/ahmadSoliman94/Machine-Learning/blob/main/DL/Modern%20Computer%20Vision%20with%20Pytorch/PyTorch_Fundamentals.ipynb\" target=\"_parent\"><img src=\"https://colab.research.google.com/assets/colab-badge.svg\" alt=\"Open In Colab\"/></a>"
      ]
    },
    {
      "cell_type": "code",
      "execution_count": 81,
      "metadata": {
        "colab": {
          "base_uri": "https://localhost:8080/"
        },
        "id": "hycj6QmNaPIp",
        "outputId": "300dc4cb-92d2-4800-9bc4-5a1871f1895c"
      },
      "outputs": [
        {
          "output_type": "stream",
          "name": "stdout",
          "text": [
            "1.12.0+cu113\n"
          ]
        }
      ],
      "source": [
        "%matplotlib inline\n",
        "import matplotlib.pyplot as plt\n",
        "import numpy as np\n",
        "\n",
        "import torch\n",
        "import torch.nn as nn\n",
        "from torch.optim import SGD\n",
        "\n",
        "print(torch.__version__)"
      ]
    },
    {
      "cell_type": "markdown",
      "source": [
        "## PyTorch tensors:\n",
        "- scaler can be represented as a zero-dimensional tensor.\n",
        "- scaler can be represented as a one-dimensional tensor.\n",
        "- scaler can be represented as a tow-dimensional tensor."
      ],
      "metadata": {
        "id": "z5R463ydbM03"
      }
    },
    {
      "cell_type": "markdown",
      "source": [
        "### Initalize a tensor"
      ],
      "metadata": {
        "id": "wGavmpkjuSIl"
      }
    },
    {
      "cell_type": "code",
      "source": [
        "x = torch.tensor([[1,2]])\n",
        "y = torch.tensor([[1],[2]])"
      ],
      "metadata": {
        "id": "zYKoGuLvaiMU"
      },
      "execution_count": 82,
      "outputs": []
    },
    {
      "cell_type": "markdown",
      "source": [
        "### object's shape and data type"
      ],
      "metadata": {
        "id": "K2yMhux3uuOA"
      }
    },
    {
      "cell_type": "code",
      "source": [
        "print(x.shape)"
      ],
      "metadata": {
        "colab": {
          "base_uri": "https://localhost:8080/"
        },
        "id": "PbWHy18Wuo-D",
        "outputId": "26551c29-aaca-436c-a534-ac703cd3a2c8"
      },
      "execution_count": 83,
      "outputs": [
        {
          "output_type": "stream",
          "name": "stdout",
          "text": [
            "torch.Size([1, 2])\n"
          ]
        }
      ]
    },
    {
      "cell_type": "code",
      "source": [
        "print(y.shape)"
      ],
      "metadata": {
        "colab": {
          "base_uri": "https://localhost:8080/"
        },
        "id": "AhJ9LtsZu95r",
        "outputId": "aca2e3eb-9e34-457c-bf7d-5ff8f989ab58"
      },
      "execution_count": 84,
      "outputs": [
        {
          "output_type": "stream",
          "name": "stdout",
          "text": [
            "torch.Size([2, 1])\n"
          ]
        }
      ]
    },
    {
      "cell_type": "code",
      "source": [
        "print(x.dtype)"
      ],
      "metadata": {
        "colab": {
          "base_uri": "https://localhost:8080/"
        },
        "id": "Hfeo_rQKvCD3",
        "outputId": "29fd3fa1-f5a3-4bb2-d798-41e69c65b6f2"
      },
      "execution_count": 85,
      "outputs": [
        {
          "output_type": "stream",
          "name": "stdout",
          "text": [
            "torch.int64\n"
          ]
        }
      ]
    },
    {
      "cell_type": "markdown",
      "source": [
        "### Generate a tensor object with 3 rows and 4 columns filled with zeros"
      ],
      "metadata": {
        "id": "PT8ow9tDvlyw"
      }
    },
    {
      "cell_type": "code",
      "source": [
        "torch.zeros((3,4))"
      ],
      "metadata": {
        "colab": {
          "base_uri": "https://localhost:8080/"
        },
        "id": "mw58FylEvJet",
        "outputId": "e09fb70d-8f5d-4b51-87dd-883cc4ffb8c4"
      },
      "execution_count": 86,
      "outputs": [
        {
          "output_type": "execute_result",
          "data": {
            "text/plain": [
              "tensor([[0., 0., 0., 0.],\n",
              "        [0., 0., 0., 0.],\n",
              "        [0., 0., 0., 0.]])"
            ]
          },
          "metadata": {},
          "execution_count": 86
        }
      ]
    },
    {
      "cell_type": "markdown",
      "source": [
        "### Generate a tensor object with 3 rows and 4 columns filled with ones"
      ],
      "metadata": {
        "id": "SbjxDhiCv5ty"
      }
    },
    {
      "cell_type": "code",
      "source": [
        "torch.ones((3,4))"
      ],
      "metadata": {
        "colab": {
          "base_uri": "https://localhost:8080/"
        },
        "id": "Zrzhy2LPv2Rd",
        "outputId": "c2649739-57a8-43ac-990c-30a79617a40f"
      },
      "execution_count": 87,
      "outputs": [
        {
          "output_type": "execute_result",
          "data": {
            "text/plain": [
              "tensor([[1., 1., 1., 1.],\n",
              "        [1., 1., 1., 1.],\n",
              "        [1., 1., 1., 1.]])"
            ]
          },
          "metadata": {},
          "execution_count": 87
        }
      ]
    },
    {
      "cell_type": "markdown",
      "source": [
        "### Generate three rows and four columns of vlaues between 0 and 10 (including just the low value but mot including the heigh value) 0 -> 9"
      ],
      "metadata": {
        "id": "y3T9cWOvwDxf"
      }
    },
    {
      "cell_type": "code",
      "source": [
        "torch.randint(low=0, high=10, size=(3,4))"
      ],
      "metadata": {
        "colab": {
          "base_uri": "https://localhost:8080/"
        },
        "id": "jH5oAlYrv-hu",
        "outputId": "1b343c4c-efbb-4b08-921d-7ac7ba78127d"
      },
      "execution_count": 88,
      "outputs": [
        {
          "output_type": "execute_result",
          "data": {
            "text/plain": [
              "tensor([[0, 8, 9, 3],\n",
              "        [0, 9, 3, 7],\n",
              "        [9, 5, 2, 9]])"
            ]
          },
          "metadata": {},
          "execution_count": 88
        }
      ]
    },
    {
      "cell_type": "markdown",
      "source": [
        "### Generate random numbers between 0 and 1 with three row and four columns"
      ],
      "metadata": {
        "id": "l0m5cQh4xiC9"
      }
    },
    {
      "cell_type": "code",
      "source": [
        "torch.rand(3,4)"
      ],
      "metadata": {
        "colab": {
          "base_uri": "https://localhost:8080/"
        },
        "id": "jbH1iuhnwnJ8",
        "outputId": "30b7bba8-1fbd-487f-bb00-9d0ea56c689d"
      },
      "execution_count": 89,
      "outputs": [
        {
          "output_type": "execute_result",
          "data": {
            "text/plain": [
              "tensor([[0.4787, 0.5782, 0.7536, 0.1093],\n",
              "        [0.4771, 0.1076, 0.9829, 0.1483],\n",
              "        [0.5956, 0.3634, 0.7842, 0.5017]])"
            ]
          },
          "metadata": {},
          "execution_count": 89
        }
      ]
    },
    {
      "cell_type": "markdown",
      "source": [
        "### convert a NumPy array into a Torch tensor"
      ],
      "metadata": {
        "id": "IeBmMx3Kx8-O"
      }
    },
    {
      "cell_type": "code",
      "source": [
        "x = np.array([[10,20,30],[2,3,4]])\n",
        "y = torch.tensor(x)\n",
        "print(type(x),type(y))"
      ],
      "metadata": {
        "colab": {
          "base_uri": "https://localhost:8080/"
        },
        "id": "KmqLPESfxsm-",
        "outputId": "05b6f816-6207-429e-eba7-3d6604e31d9e"
      },
      "execution_count": 90,
      "outputs": [
        {
          "output_type": "stream",
          "name": "stdout",
          "text": [
            "<class 'numpy.ndarray'> <class 'torch.Tensor'>\n"
          ]
        }
      ]
    },
    {
      "cell_type": "code",
      "source": [
        "np_torch = torch.from_numpy(x)"
      ],
      "metadata": {
        "id": "rqdT5GLdyuRt"
      },
      "execution_count": 91,
      "outputs": []
    },
    {
      "cell_type": "code",
      "source": [
        "print(type(x),type(np_torch))"
      ],
      "metadata": {
        "colab": {
          "base_uri": "https://localhost:8080/"
        },
        "id": "dPSKnT9uy9ma",
        "outputId": "b79a2813-bd63-4d5b-d610-a5ff72d1322b"
      },
      "execution_count": 92,
      "outputs": [
        {
          "output_type": "stream",
          "name": "stdout",
          "text": [
            "<class 'numpy.ndarray'> <class 'torch.Tensor'>\n"
          ]
        }
      ]
    },
    {
      "cell_type": "markdown",
      "source": [
        "## Operations on tensors"
      ],
      "metadata": {
        "id": "7FxaSe74OYeJ"
      }
    },
    {
      "cell_type": "markdown",
      "source": [
        "### Multiplication of all the elemnts"
      ],
      "metadata": {
        "id": "NhvPLsjKO_nO"
      }
    },
    {
      "cell_type": "code",
      "source": [
        "x = torch.tensor([[1,2,3,4],\n",
        "                  [5,6,7,8]])\n",
        "\n",
        "print(x * 10)\n",
        "print(x.shape)"
      ],
      "metadata": {
        "id": "doaPoki2zAXW",
        "colab": {
          "base_uri": "https://localhost:8080/"
        },
        "outputId": "d0b040d9-4941-412b-ea2d-0a2cb232fad3"
      },
      "execution_count": 93,
      "outputs": [
        {
          "output_type": "stream",
          "name": "stdout",
          "text": [
            "tensor([[10, 20, 30, 40],\n",
            "        [50, 60, 70, 80]])\n",
            "torch.Size([2, 4])\n"
          ]
        }
      ]
    },
    {
      "cell_type": "markdown",
      "source": [
        "### Adding of all the elemnts"
      ],
      "metadata": {
        "id": "1wxE3gtsPYdb"
      }
    },
    {
      "cell_type": "code",
      "source": [
        "x = torch.tensor([[1,2,4,5],\n",
        "                  [6,7,8,9]])\n",
        "y = x.add(10)\n",
        "print(y)"
      ],
      "metadata": {
        "colab": {
          "base_uri": "https://localhost:8080/"
        },
        "id": "EXfHPJUOPQD8",
        "outputId": "41cac2a8-0fa0-454d-ccbd-dec9cdb50725"
      },
      "execution_count": 94,
      "outputs": [
        {
          "output_type": "stream",
          "name": "stdout",
          "text": [
            "tensor([[11, 12, 14, 15],\n",
            "        [16, 17, 18, 19]])\n"
          ]
        }
      ]
    },
    {
      "cell_type": "code",
      "source": [
        "print( x + 10)"
      ],
      "metadata": {
        "colab": {
          "base_uri": "https://localhost:8080/"
        },
        "id": "eeJnciUCPrY0",
        "outputId": "20946395-1c3d-44bc-dff9-b59c177cc828"
      },
      "execution_count": 95,
      "outputs": [
        {
          "output_type": "stream",
          "name": "stdout",
          "text": [
            "tensor([[11, 12, 14, 15],\n",
            "        [16, 17, 18, 19]])\n"
          ]
        }
      ]
    },
    {
      "cell_type": "markdown",
      "source": [
        "### Reshaping a tensor"
      ],
      "metadata": {
        "id": "hkNBUvETP2NY"
      }
    },
    {
      "cell_type": "code",
      "source": [
        "y = torch.tensor([2,3,1,0])\n",
        "print(y.shape)\n",
        "y = y.view(4,1)\n",
        "print(y.shape)"
      ],
      "metadata": {
        "colab": {
          "base_uri": "https://localhost:8080/"
        },
        "id": "Nf6Ga6ewPwEG",
        "outputId": "4d6e6744-e57a-42cd-8d04-39d32cacd498"
      },
      "execution_count": 96,
      "outputs": [
        {
          "output_type": "stream",
          "name": "stdout",
          "text": [
            "torch.Size([4])\n",
            "torch.Size([4, 1])\n"
          ]
        }
      ]
    },
    {
      "cell_type": "markdown",
      "source": [
        "### Adding a dimension to the matrix using unsqueeze"
      ],
      "metadata": {
        "id": "pGOgsnVuQ2qI"
      }
    },
    {
      "cell_type": "code",
      "source": [
        "x = torch.randn(10,10)\n",
        "print(x.shape)\n",
        "z1 = x.unsqueeze(0)\n",
        "print(z1.shape)\n",
        "\n",
        "# The same can be achieved using [None] indexing\n",
        "# Adding None will auto create a fake dim at the\n",
        "# specified axis\n",
        "\n",
        "x = torch.randn(10,10)\n",
        "z2, z3, z4 = x[None], x[:,None], x[:,:,None]\n",
        "print(z2.shape, z3.shape, z4.shape)"
      ],
      "metadata": {
        "colab": {
          "base_uri": "https://localhost:8080/"
        },
        "id": "yhhg7SRwQHCD",
        "outputId": "725ea23c-e6d6-4cd1-ddc9-cb4027785d29"
      },
      "execution_count": 97,
      "outputs": [
        {
          "output_type": "stream",
          "name": "stdout",
          "text": [
            "torch.Size([10, 10])\n",
            "torch.Size([1, 10, 10])\n",
            "torch.Size([1, 10, 10]) torch.Size([10, 1, 10]) torch.Size([10, 10, 1])\n"
          ]
        }
      ]
    },
    {
      "cell_type": "markdown",
      "source": [
        "### Matrix multiplication of two different tensors"
      ],
      "metadata": {
        "id": "7LRvfkOzR5fE"
      }
    },
    {
      "cell_type": "code",
      "source": [
        "x = torch.tensor([[1,2,3,4], [5,6,7,8]])\n",
        "print(torch.matmul(x, y))"
      ],
      "metadata": {
        "colab": {
          "base_uri": "https://localhost:8080/"
        },
        "id": "hS_LTKpZRV4v",
        "outputId": "7c7c0426-f2dd-4bc3-e7b5-3fa2ed1c18c4"
      },
      "execution_count": 98,
      "outputs": [
        {
          "output_type": "stream",
          "name": "stdout",
          "text": [
            "tensor([[11],\n",
            "        [35]])\n"
          ]
        }
      ]
    },
    {
      "cell_type": "code",
      "source": [
        "print(x@y)"
      ],
      "metadata": {
        "colab": {
          "base_uri": "https://localhost:8080/"
        },
        "id": "RH0opw0XSJc2",
        "outputId": "75a2ddd2-ae61-4955-aa37-530b548b9acc"
      },
      "execution_count": 99,
      "outputs": [
        {
          "output_type": "stream",
          "name": "stdout",
          "text": [
            "tensor([[11],\n",
            "        [35]])\n"
          ]
        }
      ]
    },
    {
      "cell_type": "markdown",
      "source": [
        "### concatenation of tensors"
      ],
      "metadata": {
        "id": "hFrTrZimSWwn"
      }
    },
    {
      "cell_type": "code",
      "source": [
        "x = torch.randn(10,10,10)\n",
        "z = torch.cat([x,x], axis=0) # np.concatenate()\n",
        "print('Cat axis 0:', x.shape, z.shape)\n",
        "\n",
        "z = torch.cat([x,x], axis=1) # np.concatenate()\n",
        "print('Cat axis 1:', x.shape, z.shape)\n",
        "\n",
        "o = torch.cat([x,x], axis=2) # np.concatenate()\n",
        "print('Cat axis 2:', x.shape, z.shape, o.shape)"
      ],
      "metadata": {
        "colab": {
          "base_uri": "https://localhost:8080/"
        },
        "id": "iKVjUwgZSOOP",
        "outputId": "d103e568-490f-4022-986d-9dc575f42225"
      },
      "execution_count": 100,
      "outputs": [
        {
          "output_type": "stream",
          "name": "stdout",
          "text": [
            "Cat axis 0: torch.Size([10, 10, 10]) torch.Size([20, 10, 10])\n",
            "Cat axis 1: torch.Size([10, 10, 10]) torch.Size([10, 20, 10])\n",
            "Cat axis 2: torch.Size([10, 10, 10]) torch.Size([10, 20, 10]) torch.Size([10, 10, 20])\n"
          ]
        }
      ]
    },
    {
      "cell_type": "markdown",
      "source": [
        "### Extraction of the maximum value in tensor"
      ],
      "metadata": {
        "id": "x-1AAm3LS-7j"
      }
    },
    {
      "cell_type": "code",
      "source": [
        "x = torch.arange(25).reshape(5,5)\n",
        "print(x)\n",
        "print('Max:', x.shape, x.max()) "
      ],
      "metadata": {
        "colab": {
          "base_uri": "https://localhost:8080/"
        },
        "id": "NKYYg8LSSjQJ",
        "outputId": "a8065260-0809-4e7f-a345-63ba2a25be37"
      },
      "execution_count": 101,
      "outputs": [
        {
          "output_type": "stream",
          "name": "stdout",
          "text": [
            "tensor([[ 0,  1,  2,  3,  4],\n",
            "        [ 5,  6,  7,  8,  9],\n",
            "        [10, 11, 12, 13, 14],\n",
            "        [15, 16, 17, 18, 19],\n",
            "        [20, 21, 22, 23, 24]])\n",
            "Max: torch.Size([5, 5]) tensor(24)\n"
          ]
        }
      ]
    },
    {
      "cell_type": "code",
      "source": [
        "x.max(dim=0) # row"
      ],
      "metadata": {
        "colab": {
          "base_uri": "https://localhost:8080/"
        },
        "id": "Gp8fsrYfTKZG",
        "outputId": "3a360528-f171-4af0-d97f-3bfaacb87edc"
      },
      "execution_count": 102,
      "outputs": [
        {
          "output_type": "execute_result",
          "data": {
            "text/plain": [
              "torch.return_types.max(values=tensor([20, 21, 22, 23, 24]), indices=tensor([4, 4, 4, 4, 4]))"
            ]
          },
          "metadata": {},
          "execution_count": 102
        }
      ]
    },
    {
      "cell_type": "code",
      "source": [
        "m, argm = x.max(dim=1) # columns\n",
        "print('Max in axis 1:\\n', m, argm) "
      ],
      "metadata": {
        "colab": {
          "base_uri": "https://localhost:8080/"
        },
        "id": "kFSBUpQsTfQT",
        "outputId": "873043ef-a1ee-4576-a686-f531ab665dcf"
      },
      "execution_count": 103,
      "outputs": [
        {
          "output_type": "stream",
          "name": "stdout",
          "text": [
            "Max in axis 1:\n",
            " tensor([ 4,  9, 14, 19, 24]) tensor([4, 4, 4, 4, 4])\n"
          ]
        }
      ]
    },
    {
      "cell_type": "markdown",
      "source": [
        "### Permute the dimensions of a tensor object\n",
        "(swap dimensions)"
      ],
      "metadata": {
        "id": "yVr88kNmUG77"
      }
    },
    {
      "cell_type": "code",
      "source": [
        "x = torch.randn(10,20,30)\n",
        "z = x.permute(1,0,2) # x.prmute(0,2,1) -> torch.Size(10,30,20)\n",
        "print('Permute dimensions:', x.shape, z.shape)"
      ],
      "metadata": {
        "colab": {
          "base_uri": "https://localhost:8080/"
        },
        "id": "-Vg6r_ikTwpX",
        "outputId": "90d3d6e1-4eac-4e91-fd0b-73d08f6cace8"
      },
      "execution_count": 104,
      "outputs": [
        {
          "output_type": "stream",
          "name": "stdout",
          "text": [
            "Permute dimensions: torch.Size([10, 20, 30]) torch.Size([20, 10, 30])\n"
          ]
        }
      ]
    },
    {
      "cell_type": "markdown",
      "source": [
        "## Auto gradients of tensor objects"
      ],
      "metadata": {
        "id": "uxeY-uN9VsF1"
      }
    },
    {
      "cell_type": "markdown",
      "source": [
        "### 1. Define a tensor object\n",
        " requires_grad parameter specifies the gradient is to be calculated for the tensor object."
      ],
      "metadata": {
        "id": "kiBZAliNV4dv"
      }
    },
    {
      "cell_type": "code",
      "source": [
        "x = torch.tensor([[2., -1.], [1., 1.]], requires_grad=True) \n",
        "print(x)"
      ],
      "metadata": {
        "colab": {
          "base_uri": "https://localhost:8080/"
        },
        "id": "dGCRoC2EUOUe",
        "outputId": "fab8dab9-0651-4c4a-94fc-b0d0d91ca0d7"
      },
      "execution_count": 105,
      "outputs": [
        {
          "output_type": "stream",
          "name": "stdout",
          "text": [
            "tensor([[ 2., -1.],\n",
            "        [ 1.,  1.]], requires_grad=True)\n"
          ]
        }
      ]
    },
    {
      "cell_type": "markdown",
      "source": [
        "### 2.  Define the way to calculate the output, wich in this specific case is the sum of the squares of all input: \n",
        "\n",
        "$\\mathbf{output} = \\sum_{i=1}^4 x_i^2$."
      ],
      "metadata": {
        "id": "dzZEmq5FYTUl"
      }
    },
    {
      "cell_type": "code",
      "source": [
        "out = x.pow(2).sum()"
      ],
      "metadata": {
        "id": "wdiumxTUWBl-"
      },
      "execution_count": 106,
      "outputs": []
    },
    {
      "cell_type": "code",
      "source": [
        "out"
      ],
      "metadata": {
        "colab": {
          "base_uri": "https://localhost:8080/"
        },
        "id": "3GrJw871Z3Zy",
        "outputId": "b544d204-cdf7-4742-c3bf-bf439bf79611"
      },
      "execution_count": 107,
      "outputs": [
        {
          "output_type": "execute_result",
          "data": {
            "text/plain": [
              "tensor(7., grad_fn=<SumBackward0>)"
            ]
          },
          "metadata": {},
          "execution_count": 107
        }
      ]
    },
    {
      "cell_type": "markdown",
      "source": [
        "### 3. The gradient of a value can be calculated"
      ],
      "metadata": {
        "id": "yPvZVKW7Z9Vh"
      }
    },
    {
      "cell_type": "code",
      "source": [
        "out.backward()"
      ],
      "metadata": {
        "id": "mjGBbVT2Z4Lg"
      },
      "execution_count": 108,
      "outputs": []
    },
    {
      "cell_type": "code",
      "source": [
        "x.grad"
      ],
      "metadata": {
        "colab": {
          "base_uri": "https://localhost:8080/"
        },
        "id": "ym_ZT7gmaIyk",
        "outputId": "463b0555-d3d7-4b4a-dfa2-c34a1e7161c3"
      },
      "execution_count": 109,
      "outputs": [
        {
          "output_type": "execute_result",
          "data": {
            "text/plain": [
              "tensor([[ 4., -2.],\n",
              "        [ 2.,  2.]])"
            ]
          },
          "metadata": {},
          "execution_count": 109
        }
      ]
    },
    {
      "cell_type": "markdown",
      "source": [
        "####Computing gradients for the same case that was present in Chain_rule.ipynb notebook in previous chapter."
      ],
      "metadata": {
        "id": "oxiPNF_HavPr"
      }
    },
    {
      "cell_type": "code",
      "source": [
        "x = np.array([[1,1]])\n",
        "y = np.array([[0]])\n",
        "x, y = [torch.tensor(i).float() for i in [x,y]]\n",
        "print(x,y)"
      ],
      "metadata": {
        "colab": {
          "base_uri": "https://localhost:8080/"
        },
        "id": "qRXcctmYabVQ",
        "outputId": "6931c0bf-28e4-423a-c6ef-31117edfc383"
      },
      "execution_count": 110,
      "outputs": [
        {
          "output_type": "stream",
          "name": "stdout",
          "text": [
            "tensor([[1., 1.]]) tensor([[0.]])\n"
          ]
        }
      ]
    },
    {
      "cell_type": "code",
      "source": [
        "W = [\n",
        "    np.array([[-0.0053, 0.3793],\n",
        "              [-0.5820, -0.5204],\n",
        "              [-0.2723, 0.1896]], dtype=np.float32).T, \n",
        "    np.array([-0.0140, 0.5607, -0.0628], dtype=np.float32), \n",
        "    np.array([[ 0.1528, -0.1745, -0.1135]], dtype=np.float32).T, \n",
        "    np.array([-0.5516], dtype=np.float32)\n",
        "]\n",
        "\n",
        "W = [torch.tensor(i, requires_grad=True) for i in W]\n",
        "print(W)"
      ],
      "metadata": {
        "colab": {
          "base_uri": "https://localhost:8080/"
        },
        "id": "jWoeRyTwa7BA",
        "outputId": "f434cc13-9d49-4d20-972b-2f7624ee6a40"
      },
      "execution_count": 111,
      "outputs": [
        {
          "output_type": "stream",
          "name": "stdout",
          "text": [
            "[tensor([[-0.0053, -0.5820, -0.2723],\n",
            "        [ 0.3793, -0.5204,  0.1896]], requires_grad=True), tensor([-0.0140,  0.5607, -0.0628], requires_grad=True), tensor([[ 0.1528],\n",
            "        [-0.1745],\n",
            "        [-0.1135]], requires_grad=True), tensor([-0.5516], requires_grad=True)]\n"
          ]
        }
      ]
    },
    {
      "cell_type": "code",
      "source": [
        "def feed_forward(inputs, outputs, weights):\n",
        "    pre_hidden = torch.matmul(inputs,weights[0])+ weights[1]\n",
        "    hidden = 1/(1+torch.exp(-pre_hidden))\n",
        "    out = torch.matmul(hidden, weights[2]) + weights[3]\n",
        "    mean_squared_error = torch.mean(torch.square(out - outputs))\n",
        "    return mean_squared_error"
      ],
      "metadata": {
        "id": "rEmPYFHDbAKH"
      },
      "execution_count": 112,
      "outputs": []
    },
    {
      "cell_type": "code",
      "source": [
        "loss = feed_forward(x, y, W)\n",
        "loss"
      ],
      "metadata": {
        "colab": {
          "base_uri": "https://localhost:8080/"
        },
        "id": "FxaMEyRYbGup",
        "outputId": "f85335d7-3029-4708-c5fb-7e4026cc4b2d"
      },
      "execution_count": 113,
      "outputs": [
        {
          "output_type": "execute_result",
          "data": {
            "text/plain": [
              "tensor(0.3346, grad_fn=<MeanBackward0>)"
            ]
          },
          "metadata": {},
          "execution_count": 113
        }
      ]
    },
    {
      "cell_type": "code",
      "source": [
        "loss.backward()"
      ],
      "metadata": {
        "id": "14cT1-k8bT1n"
      },
      "execution_count": 114,
      "outputs": []
    },
    {
      "cell_type": "code",
      "source": [
        "print([w.grad for w in W])"
      ],
      "metadata": {
        "colab": {
          "base_uri": "https://localhost:8080/"
        },
        "id": "Q3uV2hrrbWDo",
        "outputId": "d894bf10-cc70-49f3-f42c-ae66ebcad18b"
      },
      "execution_count": 115,
      "outputs": [
        {
          "output_type": "stream",
          "name": "stdout",
          "text": [
            "[tensor([[-0.0428,  0.0469,  0.0327],\n",
            "        [-0.0428,  0.0469,  0.0327]]), tensor([-0.0428,  0.0469,  0.0327]), tensor([[-0.6814],\n",
            "        [-0.4255],\n",
            "        [-0.5364]]), tensor([-1.1568])]\n"
          ]
        }
      ]
    },
    {
      "cell_type": "code",
      "source": [
        "updated_W = [w-w.grad for w in W]\n",
        "updated_W"
      ],
      "metadata": {
        "colab": {
          "base_uri": "https://localhost:8080/"
        },
        "id": "6OY-0vT1bYMH",
        "outputId": "83d01b04-8803-4406-cbd9-7b5c8bba2459"
      },
      "execution_count": 116,
      "outputs": [
        {
          "output_type": "execute_result",
          "data": {
            "text/plain": [
              "[tensor([[ 0.0375, -0.6289, -0.3050],\n",
              "         [ 0.4221, -0.5673,  0.1569]], grad_fn=<SubBackward0>),\n",
              " tensor([ 0.0288,  0.5138, -0.0955], grad_fn=<SubBackward0>),\n",
              " tensor([[0.8342],\n",
              "         [0.2510],\n",
              "         [0.4229]], grad_fn=<SubBackward0>),\n",
              " tensor([0.6052], grad_fn=<SubBackward0>)]"
            ]
          },
          "metadata": {},
          "execution_count": 116
        }
      ]
    },
    {
      "cell_type": "markdown",
      "source": [
        "## Advantages of PyTorch's tensors over NumPy's ndarrays#"
      ],
      "metadata": {
        "id": "GryThUV1cgy2"
      }
    },
    {
      "cell_type": "markdown",
      "source": [
        "Numpy vs Torch computation speed comparison"
      ],
      "metadata": {
        "id": "S3WwSDGrdb6A"
      }
    },
    {
      "cell_type": "markdown",
      "source": [
        "### 1. Generate two different torch objects"
      ],
      "metadata": {
        "id": "kILX40Mfdrq9"
      }
    },
    {
      "cell_type": "code",
      "source": [
        "x = torch.rand(1,6400)\n",
        "y = torch.rand(6400,5000)"
      ],
      "metadata": {
        "id": "G2tlypRlbaW2"
      },
      "execution_count": 117,
      "outputs": []
    },
    {
      "cell_type": "markdown",
      "source": [
        "### 2. Define the device "
      ],
      "metadata": {
        "id": "ySXWaa01e73b"
      }
    },
    {
      "cell_type": "code",
      "source": [
        "device = 'cuda' if torch.cuda.is_available() else 'cpu'\n",
        "assert device == 'cuda', \"This exercise assumes the notebook is on a GPU machine\""
      ],
      "metadata": {
        "id": "yiaLpmDnd_qt"
      },
      "execution_count": 118,
      "outputs": []
    },
    {
      "cell_type": "code",
      "source": [
        "device"
      ],
      "metadata": {
        "colab": {
          "base_uri": "https://localhost:8080/",
          "height": 36
        },
        "id": "KMD-wu1-fFYR",
        "outputId": "29f6c0cf-42ad-488a-ba61-f8318876267c"
      },
      "execution_count": 119,
      "outputs": [
        {
          "output_type": "execute_result",
          "data": {
            "text/plain": [
              "'cuda'"
            ],
            "application/vnd.google.colaboratory.intrinsic+json": {
              "type": "string"
            }
          },
          "metadata": {},
          "execution_count": 119
        }
      ]
    },
    {
      "cell_type": "markdown",
      "source": [
        "### 3. Storing information in a device"
      ],
      "metadata": {
        "id": "BbZ68XTyfb7n"
      }
    },
    {
      "cell_type": "code",
      "source": [
        "x,y = x.to(device=device),  y.to(device=device)"
      ],
      "metadata": {
        "id": "iMJOXEzofVEr"
      },
      "execution_count": 120,
      "outputs": []
    },
    {
      "cell_type": "code",
      "source": [
        "x"
      ],
      "metadata": {
        "colab": {
          "base_uri": "https://localhost:8080/"
        },
        "id": "M_I7oW0vftgZ",
        "outputId": "09d77841-d923-4ae0-8bdc-be4ef01d51d5"
      },
      "execution_count": 121,
      "outputs": [
        {
          "output_type": "execute_result",
          "data": {
            "text/plain": [
              "tensor([[0.3096, 0.1606, 0.7462,  ..., 0.2648, 0.3167, 0.9052]],\n",
              "       device='cuda:0')"
            ]
          },
          "metadata": {},
          "execution_count": 121
        }
      ]
    },
    {
      "cell_type": "markdown",
      "source": [
        "### 4. Perform matrix multiplication of Torch objects and time it to compare the speed  between Torch and Numpy"
      ],
      "metadata": {
        "id": "ZEXg28B5f9bf"
      }
    },
    {
      "cell_type": "code",
      "source": [
        "%timeit z=(x@y)"
      ],
      "metadata": {
        "colab": {
          "base_uri": "https://localhost:8080/"
        },
        "id": "jxhCj3crfv0I",
        "outputId": "50cb982d-5f07-449b-ce02-35b83d4be2dc"
      },
      "execution_count": 122,
      "outputs": [
        {
          "output_type": "stream",
          "name": "stdout",
          "text": [
            "10000 loops, best of 5: 237 µs per loop\n"
          ]
        }
      ]
    },
    {
      "cell_type": "code",
      "source": [
        "x, y = x.cpu(), y.cpu()\n",
        "%timeit z=(x@y)"
      ],
      "metadata": {
        "colab": {
          "base_uri": "https://localhost:8080/"
        },
        "id": "0yrEzyxFgP5T",
        "outputId": "ea314c49-501f-4a3b-d179-bf57334fb8ad"
      },
      "execution_count": 123,
      "outputs": [
        {
          "output_type": "stream",
          "name": "stdout",
          "text": [
            "100 loops, best of 5: 8.65 ms per loop\n"
          ]
        }
      ]
    },
    {
      "cell_type": "code",
      "source": [
        "import numpy as np\n",
        "x = np.random.random((1, 6400))\n",
        "y = np.random.random((6400, 5000))\n",
        "%timeit z = np.matmul(x,y)"
      ],
      "metadata": {
        "colab": {
          "base_uri": "https://localhost:8080/"
        },
        "id": "Yc2GRWSIgaI2",
        "outputId": "83c0b362-58f1-407c-b55a-75f3a89e000b"
      },
      "execution_count": 124,
      "outputs": [
        {
          "output_type": "stream",
          "name": "stdout",
          "text": [
            "10 loops, best of 5: 19.5 ms per loop\n"
          ]
        }
      ]
    },
    {
      "cell_type": "markdown",
      "source": [
        "## Building a neural network using PyTorch"
      ],
      "metadata": {
        "id": "7FouKG2eQUZP"
      }
    },
    {
      "cell_type": "markdown",
      "source": [
        "### 1. Define the input and output values:"
      ],
      "metadata": {
        "id": "TWuhbtlMRmuw"
      }
    },
    {
      "cell_type": "code",
      "source": [
        "x = [[1,2],[3,4],[5,6],[7,8]]\n",
        "y = [[3],[7],[11],[15]]"
      ],
      "metadata": {
        "id": "c_cC0gfvgil-"
      },
      "execution_count": 125,
      "outputs": []
    },
    {
      "cell_type": "markdown",
      "source": [
        "### 2. Convert the input lists into tensor objects:"
      ],
      "metadata": {
        "id": "o_7emT8WRzbm"
      }
    },
    {
      "cell_type": "code",
      "source": [
        "X = torch.tensor(x).float()\n",
        "Y = torch.tensor(y).float()"
      ],
      "metadata": {
        "id": "dwDp-WdNRuWl"
      },
      "execution_count": 126,
      "outputs": []
    },
    {
      "cell_type": "markdown",
      "source": [
        "### 3. register the input and out put data points to the decive"
      ],
      "metadata": {
        "id": "7MrBfLMhSFir"
      }
    },
    {
      "cell_type": "code",
      "source": [
        "device = 'cuda' if torch.cuda.is_available() else 'cpu'\n",
        "X = X.to(device)\n",
        "Y = Y.to(device)"
      ],
      "metadata": {
        "id": "QT-DNhPIR8h4"
      },
      "execution_count": 127,
      "outputs": []
    },
    {
      "cell_type": "markdown",
      "source": [
        "### 4. Define the neural network architecture:"
      ],
      "metadata": {
        "id": "szITR2UJSWPf"
      }
    },
    {
      "cell_type": "code",
      "source": [
        "class MyNeuralNet(nn.Module):\n",
        "  def __init__(self):\n",
        "    super().__init__()\n",
        "    self.input_to_hidden_layer = nn.Linear(2,8)\n",
        "    self.hidden_layer_activation = nn.ReLU()\n",
        "    self.hidden_to_output_layer = nn.Linear(8,1)\n",
        "\n",
        "  def forward(self,x):\n",
        "    x = self.input_to_hidden_layer(x)\n",
        "    x = self.hidden_layer_activation(x)\n",
        "    x = self.hidden_to_output_layer(x)\n",
        "    return x"
      ],
      "metadata": {
        "id": "dNO9E0YgSODI"
      },
      "execution_count": 128,
      "outputs": []
    },
    {
      "cell_type": "markdown",
      "source": [
        "### 5. access the inital weights of each of the components: "
      ],
      "metadata": {
        "id": "M3oR89izVMWQ"
      }
    },
    {
      "cell_type": "code",
      "source": [
        "mynet = MyNeuralNet().to(device)"
      ],
      "metadata": {
        "id": "uzXFx4ZoVVu1"
      },
      "execution_count": 129,
      "outputs": []
    },
    {
      "cell_type": "markdown",
      "source": [
        "- Note: they are used only for illustration of how to obtain parameters of a given layer."
      ],
      "metadata": {
        "id": "Gi3fdoR9V8jv"
      }
    },
    {
      "cell_type": "code",
      "source": [
        "print(f'input to hidden layer weigths: \\n {mynet.input_to_hidden_layer.weight}' ) # (2,8)"
      ],
      "metadata": {
        "colab": {
          "base_uri": "https://localhost:8080/"
        },
        "id": "0StoHUcdVZ9x",
        "outputId": "9c2250ab-e9cc-4aa3-92eb-79c00d7ebc4b"
      },
      "execution_count": 130,
      "outputs": [
        {
          "output_type": "stream",
          "name": "stdout",
          "text": [
            "input to hidden layer weigths: \n",
            " Parameter containing:\n",
            "tensor([[-0.2462,  0.6568],\n",
            "        [-0.1943,  0.1951],\n",
            "        [-0.4083,  0.1317],\n",
            "        [ 0.3268, -0.5531],\n",
            "        [ 0.6873, -0.4925],\n",
            "        [-0.0627,  0.3486],\n",
            "        [ 0.6945,  0.2569],\n",
            "        [-0.5516, -0.0247]], device='cuda:0', requires_grad=True)\n"
          ]
        }
      ]
    },
    {
      "cell_type": "code",
      "source": [
        "print(f'hidden layer to output layer weigths: \\n {mynet.hidden_to_output_layer.weight}' ) # (8,1)"
      ],
      "metadata": {
        "colab": {
          "base_uri": "https://localhost:8080/"
        },
        "id": "edLLwFpcVwq9",
        "outputId": "95d39cc5-d487-4181-e51e-8ec2f09ad432"
      },
      "execution_count": 131,
      "outputs": [
        {
          "output_type": "stream",
          "name": "stdout",
          "text": [
            "hidden layer to output layer weigths: \n",
            " Parameter containing:\n",
            "tensor([[-4.1252e-02,  2.4823e-01, -3.1590e-01,  7.1085e-02, -6.6336e-02,\n",
            "         -2.1027e-01, -1.3023e-05, -2.5583e-01]], device='cuda:0',\n",
            "       requires_grad=True)\n"
          ]
        }
      ]
    },
    {
      "cell_type": "code",
      "source": [
        "mynet.parameters"
      ],
      "metadata": {
        "colab": {
          "base_uri": "https://localhost:8080/"
        },
        "id": "s5NSc2c9WQuS",
        "outputId": "d170a61d-4314-4f9e-8af6-d2a2a1abdc64"
      },
      "execution_count": 132,
      "outputs": [
        {
          "output_type": "execute_result",
          "data": {
            "text/plain": [
              "<bound method Module.parameters of MyNeuralNet(\n",
              "  (input_to_hidden_layer): Linear(in_features=2, out_features=8, bias=True)\n",
              "  (hidden_layer_activation): ReLU()\n",
              "  (hidden_to_output_layer): Linear(in_features=8, out_features=1, bias=True)\n",
              ")>"
            ]
          },
          "metadata": {},
          "execution_count": 132
        }
      ]
    },
    {
      "cell_type": "code",
      "source": [
        "for par in mynet.parameters():\n",
        "  print(par)"
      ],
      "metadata": {
        "colab": {
          "base_uri": "https://localhost:8080/"
        },
        "id": "qZpiilRqW0xR",
        "outputId": "b6ac4285-a786-43ab-cec8-b83c8483d7c2"
      },
      "execution_count": 133,
      "outputs": [
        {
          "output_type": "stream",
          "name": "stdout",
          "text": [
            "Parameter containing:\n",
            "tensor([[-0.2462,  0.6568],\n",
            "        [-0.1943,  0.1951],\n",
            "        [-0.4083,  0.1317],\n",
            "        [ 0.3268, -0.5531],\n",
            "        [ 0.6873, -0.4925],\n",
            "        [-0.0627,  0.3486],\n",
            "        [ 0.6945,  0.2569],\n",
            "        [-0.5516, -0.0247]], device='cuda:0', requires_grad=True)\n",
            "Parameter containing:\n",
            "tensor([-0.4044, -0.1451, -0.2970, -0.2816, -0.3905,  0.3920, -0.0337, -0.4157],\n",
            "       device='cuda:0', requires_grad=True)\n",
            "Parameter containing:\n",
            "tensor([[-4.1252e-02,  2.4823e-01, -3.1590e-01,  7.1085e-02, -6.6336e-02,\n",
            "         -2.1027e-01, -1.3023e-05, -2.5583e-01]], device='cuda:0',\n",
            "       requires_grad=True)\n",
            "Parameter containing:\n",
            "tensor([0.2873], device='cuda:0', requires_grad=True)\n"
          ]
        }
      ]
    },
    {
      "cell_type": "markdown",
      "source": [
        "### 6. Define the loss function:\n",
        "CrossEntropyLoss -> for multinomial classification.\n",
        "BCELoss -> binary cross-entropy loss for binary classification."
      ],
      "metadata": {
        "id": "2wT7octyXaNM"
      }
    },
    {
      "cell_type": "code",
      "source": [
        "loss_func = nn.MSELoss()"
      ],
      "metadata": {
        "id": "3pxw52ecXEOc"
      },
      "execution_count": 134,
      "outputs": []
    },
    {
      "cell_type": "markdown",
      "source": [
        "**The loss value of a neural network can be calculated by passing the input values through the neuralnet object and then calculating MSELoss for the given input.**"
      ],
      "metadata": {
        "id": "ZHzUqQwqYRVC"
      }
    },
    {
      "cell_type": "code",
      "source": [
        "_Y = mynet(X) # _y -> prediction\n",
        "print(f'- Prediction values: \\n {_Y} \\n')\n",
        "print(f'- Actual values: \\n {Y} \\n')\n",
        "loss_value = loss_func(_Y,Y)\n",
        "print(f'- Loss value: \\n {loss_value}')"
      ],
      "metadata": {
        "colab": {
          "base_uri": "https://localhost:8080/"
        },
        "id": "bVRxT9shXp1I",
        "outputId": "279e1f9c-abaf-4129-ff88-0b56a98cb1aa"
      },
      "execution_count": 135,
      "outputs": [
        {
          "output_type": "stream",
          "name": "stdout",
          "text": [
            "- Prediction values: \n",
            " tensor([[ 0.0568],\n",
            "        [-0.0970],\n",
            "        [-0.2568],\n",
            "        [-0.4364]], device='cuda:0', grad_fn=<AddmmBackward0>) \n",
            "\n",
            "- Actual values: \n",
            " tensor([[ 3.],\n",
            "        [ 7.],\n",
            "        [11.],\n",
            "        [15.]], device='cuda:0') \n",
            "\n",
            "- Loss value: \n",
            " 106.00655364990234\n"
          ]
        }
      ]
    },
    {
      "cell_type": "markdown",
      "source": [
        "### 7.  Import the SGD method:"
      ],
      "metadata": {
        "id": "YDjRu1tPaRxy"
      }
    },
    {
      "cell_type": "code",
      "source": [
        "opt = SGD(mynet.parameters(), lr = 0.001)"
      ],
      "metadata": {
        "id": "83QHXa9LYyzc"
      },
      "execution_count": 136,
      "outputs": []
    },
    {
      "cell_type": "markdown",
      "source": [
        "###8. Perform all the steps to be done in an epoch together:\n",
        "\n",
        "*NOTE: Problem:  Can't convert cuda:0 device type tensor to numpy. Use Tensor.cpu() to copy the tensor to host memory first.*\n",
        "\n",
        "*solution: \n",
        "Converting: type(loss_value): tensor -> numpy: tensor.cpu().detach.numpy()*"
      ],
      "metadata": {
        "id": "ma1-MWLSan3t"
      }
    },
    {
      "cell_type": "code",
      "source": [
        "loss_history = []\n",
        "for _ in range(50):\n",
        "    opt.zero_grad() # flush the previous epoch's gradients. \n",
        "    loss_value = loss_func(mynet(X),Y) # compute loss.\n",
        "    loss_value.backward() # perform back-propagation.\n",
        "    loss_value = loss_value.cpu().detach().numpy() # Convert cuda:0 device type tensor to numpy to plotting.\n",
        "    opt.step() # update the weights according to the gradients computed.\n",
        "    loss_history.append(loss_value)"
      ],
      "metadata": {
        "id": "9AdLlBJ6alAU"
      },
      "execution_count": 137,
      "outputs": []
    },
    {
      "cell_type": "markdown",
      "source": [
        "  *After Backpropagation:*"
      ],
      "metadata": {
        "id": "phs5oyqJbvWY"
      }
    },
    {
      "cell_type": "code",
      "source": [
        "_Y = mynet(X) # _y -> prediction\n",
        "print(f'- Prediction values: \\n {_Y} \\n')\n",
        "print(f'- Actual values: \\n {Y} \\n')\n",
        "loss_value = loss_func(_Y,Y)\n",
        "print(f'- Loss value: \\n {loss_value}')"
      ],
      "metadata": {
        "colab": {
          "base_uri": "https://localhost:8080/"
        },
        "id": "lyjQEj7ubnWB",
        "outputId": "bfcb79f0-cf16-467e-cf30-221891e46fc7"
      },
      "execution_count": 138,
      "outputs": [
        {
          "output_type": "stream",
          "name": "stdout",
          "text": [
            "- Prediction values: \n",
            " tensor([[ 3.2669],\n",
            "        [ 7.1364],\n",
            "        [11.0059],\n",
            "        [14.8754]], device='cuda:0', grad_fn=<AddmmBackward0>) \n",
            "\n",
            "- Actual values: \n",
            " tensor([[ 3.],\n",
            "        [ 7.],\n",
            "        [11.],\n",
            "        [15.]], device='cuda:0') \n",
            "\n",
            "- Loss value: \n",
            " 0.026354173198342323\n"
          ]
        }
      ]
    },
    {
      "cell_type": "markdown",
      "source": [
        "### *9. Plotting the vartion in loss over increasing epochs:*"
      ],
      "metadata": {
        "id": "NQmK0TmTcRsz"
      }
    },
    {
      "cell_type": "code",
      "source": [
        "plt.plot(loss_history)\n",
        "plt.title('Loss variation over increasing epochs')\n",
        "plt.xlabel('epochs')\n",
        "plt.ylabel('loss value')"
      ],
      "metadata": {
        "colab": {
          "base_uri": "https://localhost:8080/",
          "height": 312
        },
        "id": "fJRuJGltbqNN",
        "outputId": "efc0f0fb-c659-4721-9677-2c5edb338461"
      },
      "execution_count": 139,
      "outputs": [
        {
          "output_type": "execute_result",
          "data": {
            "text/plain": [
              "Text(0, 0.5, 'loss value')"
            ]
          },
          "metadata": {},
          "execution_count": 139
        },
        {
          "output_type": "display_data",
          "data": {
            "text/plain": [
              "<Figure size 432x288 with 1 Axes>"
            ],
            "image/png": "[encoded data removed]"
          },
          "metadata": {
            "needs_background": "light"
          }
        }
      ]
    },
    {
      "cell_type": "markdown",
      "source": [
        "## Implementing costom loss function"
      ],
      "metadata": {
        "id": "FFCA4MYdhm8D"
      }
    },
    {
      "cell_type": "code",
      "source": [
        "x = [[1,2],[3,4],[5,6],[7,8]]\n",
        "y = [[3],[7],[11],[15]]\n",
        "import torch\n",
        "X = torch.tensor(x).float()\n",
        "Y = torch.tensor(y).float()\n",
        "import torch.nn as nn\n",
        "device = 'cuda' if torch.cuda.is_available() else 'cpu'\n",
        "X = X.to(device)\n",
        "Y = Y.to(device) \n",
        "import torch.nn as nn\n",
        "from torch.utils.data import Dataset, DataLoader\n",
        "class MyDataset(Dataset):\n",
        "    def __init__(self,x,y):\n",
        "        self.x = torch.tensor(x).float()\n",
        "        self.y = torch.tensor(y).float()\n",
        "    def __len__(self):\n",
        "        return len(self.x)\n",
        "    def __getitem__(self, ix):\n",
        "        return self.x[ix], self.y[ix]\n",
        "ds = MyDataset(X, Y)\n",
        "dl = DataLoader(ds, batch_size=2, shuffle=True)\n",
        "class MyNeuralNet(nn.Module):\n",
        "    def __init__(self):\n",
        "        super().__init__()\n",
        "        self.input_to_hidden_layer = nn.Linear(2,8)\n",
        "        self.hidden_layer_activation = nn.ReLU()\n",
        "        self.hidden_to_output_layer = nn.Linear(8,1)\n",
        "    def forward(self, x):\n",
        "        x = self.input_to_hidden_layer(x)\n",
        "        x = self.hidden_layer_activation(x)\n",
        "        x = self.hidden_to_output_layer(x)\n",
        "        return x\n",
        "mynet = MyNeuralNet().to(device)"
      ],
      "metadata": {
        "colab": {
          "base_uri": "https://localhost:8080/"
        },
        "id": "PbrhCwi3hvrU",
        "outputId": "59885467-24ec-4cb0-8cda-70847eeb8219"
      },
      "execution_count": 140,
      "outputs": [
        {
          "output_type": "stream",
          "name": "stderr",
          "text": [
            "/usr/local/lib/python3.7/dist-packages/ipykernel_launcher.py:14: UserWarning: To copy construct from a tensor, it is recommended to use sourceTensor.clone().detach() or sourceTensor.clone().detach().requires_grad_(True), rather than torch.tensor(sourceTensor).\n",
            "  \n",
            "/usr/local/lib/python3.7/dist-packages/ipykernel_launcher.py:15: UserWarning: To copy construct from a tensor, it is recommended to use sourceTensor.clone().detach() or sourceTensor.clone().detach().requires_grad_(True), rather than torch.tensor(sourceTensor).\n",
            "  from ipykernel import kernelapp as app\n"
          ]
        }
      ]
    },
    {
      "cell_type": "code",
      "source": [
        "def my_mean_squared_error(_y, y):\n",
        "    loss = (_y-y)**2\n",
        "    loss = loss.mean()\n",
        "    return loss"
      ],
      "metadata": {
        "id": "GJM1Kmw_h29c"
      },
      "execution_count": 141,
      "outputs": []
    },
    {
      "cell_type": "code",
      "source": [
        "loss_func = nn.MSELoss()\n",
        "loss_value = loss_func(mynet(X),Y)\n",
        "print(loss_value)"
      ],
      "metadata": {
        "colab": {
          "base_uri": "https://localhost:8080/"
        },
        "id": "WDi4n-DTh4kj",
        "outputId": "381653c9-c76b-40b3-ce2e-825596d737d1"
      },
      "execution_count": 142,
      "outputs": [
        {
          "output_type": "stream",
          "name": "stdout",
          "text": [
            "tensor(139.7135, device='cuda:0', grad_fn=<MseLossBackward0>)\n"
          ]
        }
      ]
    },
    {
      "cell_type": "code",
      "source": [
        "my_mean_squared_error(mynet(X),Y)"
      ],
      "metadata": {
        "colab": {
          "base_uri": "https://localhost:8080/"
        },
        "id": "_SM0xST5h5vJ",
        "outputId": "0c9cb84f-2e8e-4091-91ee-9e28890ff6bd"
      },
      "execution_count": 143,
      "outputs": [
        {
          "output_type": "execute_result",
          "data": {
            "text/plain": [
              "tensor(139.7135, device='cuda:0', grad_fn=<MeanBackward0>)"
            ]
          },
          "metadata": {},
          "execution_count": 143
        }
      ]
    },
    {
      "cell_type": "markdown",
      "source": [
        "## Fetching the values of intemediate layers"
      ],
      "metadata": {
        "id": "iigEFSYtian1"
      }
    },
    {
      "cell_type": "code",
      "source": [
        "x = [[1,2],[3,4],[5,6],[7,8]]\n",
        "y = [[3],[7],[11],[15]]"
      ],
      "metadata": {
        "id": "wi5_0Ia1igsG"
      },
      "execution_count": 144,
      "outputs": []
    },
    {
      "cell_type": "code",
      "source": [
        "X = torch.tensor(x).float()\n",
        "Y = torch.tensor(y).float()"
      ],
      "metadata": {
        "id": "3313VlCMi1Bi"
      },
      "execution_count": 145,
      "outputs": []
    },
    {
      "cell_type": "code",
      "source": [
        "device = 'cuda' if torch.cuda.is_available() else 'cpu'\n",
        "X = X.to(device)\n",
        "Y = Y.to(device)"
      ],
      "metadata": {
        "id": "YBWTRZNOi1-E"
      },
      "execution_count": 146,
      "outputs": []
    },
    {
      "cell_type": "code",
      "source": [
        "class MyNeuralNet(nn.Module):\n",
        "    def __init__(self):\n",
        "        super().__init__()\n",
        "        self.input_to_hidden_layer = nn.Linear(2,8)\n",
        "        self.hidden_layer_activation = nn.ReLU()\n",
        "        self.hidden_to_output_layer = nn.Linear(8,1)\n",
        "    def forward(self, x):\n",
        "        x = self.input_to_hidden_layer(x)\n",
        "        x = self.hidden_layer_activation(x)\n",
        "        x = self.hidden_to_output_layer(x)\n",
        "        return x"
      ],
      "metadata": {
        "id": "6Au9r2Kui22b"
      },
      "execution_count": 147,
      "outputs": []
    },
    {
      "cell_type": "code",
      "source": [
        "torch.random.manual_seed(10)\n",
        "mynet = MyNeuralNet().to(device)"
      ],
      "metadata": {
        "id": "8rXcZjOZi4NO"
      },
      "execution_count": 148,
      "outputs": []
    },
    {
      "cell_type": "code",
      "source": [
        "loss_func = nn.MSELoss()\n"
      ],
      "metadata": {
        "id": "FYEwYwXni5cE"
      },
      "execution_count": 149,
      "outputs": []
    },
    {
      "cell_type": "code",
      "source": [
        "_Y = mynet(X)\n",
        "loss_value = loss_func(_Y,Y)\n",
        "print(loss_value)"
      ],
      "metadata": {
        "id": "d4uKzLjvi62V",
        "outputId": "48c3907c-c4a6-46e3-fbc1-ae49ee716e0f",
        "colab": {
          "base_uri": "https://localhost:8080/"
        }
      },
      "execution_count": 150,
      "outputs": [
        {
          "output_type": "stream",
          "name": "stdout",
          "text": [
            "tensor(102.1545, device='cuda:0', grad_fn=<MseLossBackward0>)\n"
          ]
        }
      ]
    },
    {
      "cell_type": "code",
      "source": [
        "opt = SGD(mynet.parameters(), lr = 0.001)\n"
      ],
      "metadata": {
        "id": "A8tu4rUOi79t"
      },
      "execution_count": 151,
      "outputs": []
    },
    {
      "cell_type": "code",
      "source": [
        "loss_history = []\n",
        "for _ in range(50):\n",
        "    opt.zero_grad()\n",
        "    loss_value = loss_func(mynet(X),Y)\n",
        "    loss_value.backward()\n",
        "    loss_value = loss_value.cpu().detach().numpy()\n",
        "    opt.step()\n",
        "    loss_history.append(loss_value)"
      ],
      "metadata": {
        "id": "mbny6Ghci-S4"
      },
      "execution_count": 152,
      "outputs": []
    },
    {
      "cell_type": "code",
      "source": [
        "plt.plot(loss_history)\n",
        "plt.title('Loss variation over increasing epochs')\n",
        "plt.xlabel('epochs')\n",
        "plt.ylabel('loss value')"
      ],
      "metadata": {
        "id": "Pd3Lvg1Zi_Rl",
        "outputId": "208eeac8-5853-44c4-a6bd-a17392aca198",
        "colab": {
          "base_uri": "https://localhost:8080/",
          "height": 312
        }
      },
      "execution_count": 153,
      "outputs": [
        {
          "output_type": "execute_result",
          "data": {
            "text/plain": [
              "Text(0, 0.5, 'loss value')"
            ]
          },
          "metadata": {},
          "execution_count": 153
        },
        {
          "output_type": "display_data",
          "data": {
            "text/plain": [
              "<Figure size 432x288 with 1 Axes>"
            ],
            "image/png": "[encoded data removed]"
          },
          "metadata": {
            "needs_background": "light"
          }
        }
      ]
    },
    {
      "cell_type": "markdown",
      "source": [
        "### **1. Fetching intermediate values by directly calling the intermediate layer:**"
      ],
      "metadata": {
        "id": "zuOFZ32PjwWh"
      }
    },
    {
      "cell_type": "code",
      "source": [
        "print(mynet.input_to_hidden_layer(X))"
      ],
      "metadata": {
        "id": "WLg2S1QjjBok",
        "outputId": "7f82e0f2-9501-4a15-ee5e-3ad85ff7e653",
        "colab": {
          "base_uri": "https://localhost:8080/"
        }
      },
      "execution_count": 156,
      "outputs": [
        {
          "output_type": "stream",
          "name": "stdout",
          "text": [
            "tensor([[-4.0139e-01,  7.2154e-03, -4.9131e-01,  1.4615e+00, -3.8093e-01,\n",
            "         -7.1646e-01,  4.6765e-01,  2.0814e+00],\n",
            "        [-5.6844e-01, -2.2575e-01, -1.5498e+00,  3.1695e+00, -5.2755e-01,\n",
            "         -7.3935e-01,  1.9716e+00,  5.3073e+00],\n",
            "        [-7.3548e-01, -4.5871e-01, -2.6083e+00,  4.8776e+00, -6.7418e-01,\n",
            "         -7.6225e-01,  3.4756e+00,  8.5332e+00],\n",
            "        [-9.0252e-01, -6.9167e-01, -3.6667e+00,  6.5856e+00, -8.2080e-01,\n",
            "         -7.8514e-01,  4.9795e+00,  1.1759e+01]], device='cuda:0',\n",
            "       grad_fn=<AddmmBackward0>)\n"
          ]
        }
      ]
    },
    {
      "cell_type": "code",
      "source": [
        "torch.random.manual_seed(10)\n",
        "class MyNeuralNet(nn.Module):\n",
        "    def __init__(self):\n",
        "        super().__init__()\n",
        "        self.input_to_hidden_layer = nn.Linear(2,8)\n",
        "        self.hidden_layer_activation = nn.ReLU()\n",
        "        self.hidden_to_output_layer = nn.Linear(8,1)\n",
        "    def forward(self, x):\n",
        "        hidden1 = self.input_to_hidden_layer(x)\n",
        "        hidden2 = self.hidden_layer_activation(hidden1)\n",
        "        x = self.hidden_to_output_layer(hidden2)\n",
        "        return x, hidden1\n",
        "\n",
        "mynet = MyNeuralNet().to(device)\n",
        "loss_func = nn.MSELoss()\n",
        "_Y, _Y_hidden = mynet(X)\n",
        "loss_value = loss_func(_Y,Y)\n",
        "opt = SGD(mynet.parameters(), lr = 0.001)\n",
        "loss_history = []\n",
        "for _ in range(50):\n",
        "    opt.zero_grad()\n",
        "    loss_value = loss_func(mynet(X)[0],Y)\n",
        "    loss_value.backward()\n",
        "    loss_value = loss_value.cpu().detach().numpy()\n",
        "    opt.step()\n",
        "    loss_history.append(loss_value)\n",
        "\n",
        "\n",
        "plt.plot(loss_history)\n",
        "plt.title('Loss variation over increasing epochs')\n",
        "plt.xlabel('epochs')\n",
        "plt.ylabel('loss value')"
      ],
      "metadata": {
        "id": "Op-_0iamkKhe",
        "outputId": "d239f8f9-5f5e-4b60-ed73-dbe599db56b2",
        "colab": {
          "base_uri": "https://localhost:8080/",
          "height": 312
        }
      },
      "execution_count": 158,
      "outputs": [
        {
          "output_type": "execute_result",
          "data": {
            "text/plain": [
              "Text(0, 0.5, 'loss value')"
            ]
          },
          "metadata": {},
          "execution_count": 158
        },
        {
          "output_type": "display_data",
          "data": {
            "text/plain": [
              "<Figure size 432x288 with 1 Axes>"
            ],
            "image/png": "[encoded data removed]"
          },
          "metadata": {
            "needs_background": "light"
          }
        }
      ]
    },
    {
      "cell_type": "markdown",
      "source": [
        ""
      ],
      "metadata": {
        "id": "dPZZCFLJlIf2"
      }
    },
    {
      "cell_type": "code",
      "source": [
        "mynet(X)[1] # access the hidden layer values. index 0 -> output of model & index 1 -> output of the hidden layer value."
      ],
      "metadata": {
        "id": "nRjDZHNckwgh",
        "outputId": "1343727d-9635-4a41-c320-dc05ed22b20b",
        "colab": {
          "base_uri": "https://localhost:8080/"
        }
      },
      "execution_count": 161,
      "outputs": [
        {
          "output_type": "execute_result",
          "data": {
            "text/plain": [
              "tensor([[-4.0139e-01,  7.2154e-03, -4.9131e-01,  1.4615e+00, -3.8093e-01,\n",
              "         -7.1646e-01,  4.6765e-01,  2.0814e+00],\n",
              "        [-5.6844e-01, -2.2575e-01, -1.5498e+00,  3.1695e+00, -5.2755e-01,\n",
              "         -7.3935e-01,  1.9716e+00,  5.3073e+00],\n",
              "        [-7.3548e-01, -4.5871e-01, -2.6083e+00,  4.8776e+00, -6.7418e-01,\n",
              "         -7.6225e-01,  3.4756e+00,  8.5332e+00],\n",
              "        [-9.0252e-01, -6.9167e-01, -3.6667e+00,  6.5856e+00, -8.2080e-01,\n",
              "         -7.8514e-01,  4.9795e+00,  1.1759e+01]], device='cuda:0',\n",
              "       grad_fn=<AddmmBackward0>)"
            ]
          },
          "metadata": {},
          "execution_count": 161
        }
      ]
    },
    {
      "cell_type": "markdown",
      "source": [
        "## Using a sequential method to build a neural network"
      ],
      "metadata": {
        "id": "23GMTJGKlrjm"
      }
    },
    {
      "cell_type": "markdown",
      "source": [
        "### 1. Define the dataset:"
      ],
      "metadata": {
        "id": "SbN5PfM4l_Z4"
      }
    },
    {
      "cell_type": "code",
      "source": [
        "x = [[1,2],[3,4],[5,6],[7,8]]\n",
        "y = [[3],[7],[11],[15]]"
      ],
      "metadata": {
        "id": "Ttwfx9iok8Xe"
      },
      "execution_count": 181,
      "outputs": []
    },
    {
      "cell_type": "markdown",
      "source": [
        "### 2. Define the device we will work on:"
      ],
      "metadata": {
        "id": "D7cQ4b5zmLnA"
      }
    },
    {
      "cell_type": "code",
      "source": [
        "device = 'cuda' if torch.cuda.is_available() else 'cpu'"
      ],
      "metadata": {
        "id": "L0vUoeRCmHaf"
      },
      "execution_count": 182,
      "outputs": []
    },
    {
      "cell_type": "markdown",
      "source": [
        "### 3. Define the dataset class:"
      ],
      "metadata": {
        "id": "ygsopuNNmYXM"
      }
    },
    {
      "cell_type": "code",
      "source": [
        "class MyDataset(Dataset):\n",
        "    def __init__(self, x, y):\n",
        "        self.x = torch.tensor(x).float().to(device)\n",
        "        self.y = torch.tensor(y).float().to(device)\n",
        "    def __getitem__(self, ix):\n",
        "        return self.x[ix], self.y[ix]\n",
        "    def __len__(self): \n",
        "        return len(self.x)"
      ],
      "metadata": {
        "id": "1TVXkk23mVQm"
      },
      "execution_count": 183,
      "outputs": []
    },
    {
      "cell_type": "markdown",
      "source": [
        "### 4. Define the dataset and downloader object:"
      ],
      "metadata": {
        "id": "za7Uy1aDmjO5"
      }
    },
    {
      "cell_type": "code",
      "source": [
        "ds = MyDataset(x, y)\n",
        "dl = DataLoader(ds, batch_size=2, shuffle=True)"
      ],
      "metadata": {
        "id": "CtaiPbxUmfql"
      },
      "execution_count": 184,
      "outputs": []
    },
    {
      "cell_type": "markdown",
      "source": [
        "### 5. Define the model architecture usnig the Sequential method:"
      ],
      "metadata": {
        "id": "dJ8gew57mtOA"
      }
    },
    {
      "cell_type": "code",
      "source": [
        "model = nn.Sequential(\n",
        "    nn.Linear(2, 8),\n",
        "    nn.ReLU(),\n",
        "    nn.Linear(8, 1)\n",
        ").to(device)"
      ],
      "metadata": {
        "id": "twDM7lmrmpmJ"
      },
      "execution_count": 185,
      "outputs": []
    },
    {
      "cell_type": "markdown",
      "source": [
        "### 6. Print a summary of the model we defined in step 5:"
      ],
      "metadata": {
        "id": "1M_lbbTmndQ9"
      }
    },
    {
      "cell_type": "code",
      "source": [
        "!pip install torch_summary\n",
        "from torchsummary import summary"
      ],
      "metadata": {
        "id": "UYS2oYhKm7iA",
        "outputId": "291d0a99-d694-47d1-f758-ad34923185f0",
        "colab": {
          "base_uri": "https://localhost:8080/"
        }
      },
      "execution_count": 186,
      "outputs": [
        {
          "output_type": "stream",
          "name": "stdout",
          "text": [
            "Looking in indexes: https://pypi.org/simple, https://us-python.pkg.dev/colab-wheels/public/simple/\n",
            "Requirement already satisfied: torch_summary in /usr/local/lib/python3.7/dist-packages (1.4.5)\n"
          ]
        }
      ]
    },
    {
      "cell_type": "code",
      "source": [
        "summary(model, torch.zeros(1,2));"
      ],
      "metadata": {
        "id": "HHDdZ0JgnmwO",
        "outputId": "2e026740-7ed6-453d-f1fb-e0b6b74089e7",
        "colab": {
          "base_uri": "https://localhost:8080/"
        }
      },
      "execution_count": 187,
      "outputs": [
        {
          "output_type": "stream",
          "name": "stdout",
          "text": [
            "==========================================================================================\n",
            "Layer (type:depth-idx)                   Output Shape              Param #\n",
            "==========================================================================================\n",
            "├─Linear: 1-1                            [-1, 8]                   24\n",
            "├─ReLU: 1-2                              [-1, 8]                   --\n",
            "├─Linear: 1-3                            [-1, 1]                   9\n",
            "==========================================================================================\n",
            "Total params: 33\n",
            "Trainable params: 33\n",
            "Non-trainable params: 0\n",
            "Total mult-adds (M): 0.00\n",
            "==========================================================================================\n",
            "Input size (MB): 0.00\n",
            "Forward/backward pass size (MB): 0.00\n",
            "Params size (MB): 0.00\n",
            "Estimated Total Size (MB): 0.00\n",
            "==========================================================================================\n"
          ]
        }
      ]
    },
    {
      "cell_type": "markdown",
      "source": [
        "### 7. Define the loss function, optimizer and train the model:"
      ],
      "metadata": {
        "id": "m4Ilm-j_oEsk"
      }
    },
    {
      "cell_type": "code",
      "source": [
        "loss_func = nn.MSELoss()\n",
        "from torch.optim import SGD\n",
        "opt = SGD(model.parameters(), lr = 0.001)\n",
        "import time\n",
        "loss_history = []\n",
        "start = time.time()\n",
        "for _ in range(50):\n",
        "    for ix, iy in dl:\n",
        "        opt.zero_grad()\n",
        "        loss_value = loss_func(model(ix),iy)\n",
        "        loss_value.backward()\n",
        "        opt.step()\n",
        "        loss_history.append(loss_value)\n",
        "end = time.time()\n",
        "print(end - start)"
      ],
      "metadata": {
        "id": "ZMe4y0Ftnso9",
        "outputId": "1ba13d3d-3434-4b84-a8d3-76e1eff0414f",
        "colab": {
          "base_uri": "https://localhost:8080/"
        }
      },
      "execution_count": 177,
      "outputs": [
        {
          "output_type": "stream",
          "name": "stdout",
          "text": [
            "0.08501005172729492\n",
            "0.08628201484680176\n"
          ]
        }
      ]
    },
    {
      "cell_type": "markdown",
      "source": [
        "### 8. predict values on a validation dataset: "
      ],
      "metadata": {
        "id": "0aN4HNK7ohkx"
      }
    },
    {
      "cell_type": "code",
      "source": [
        "val = [[8,9],[10,11],[1.5,2.5]]\n",
        "val = torch.tensor(val).float()"
      ],
      "metadata": {
        "id": "Hi7kNsukoVIq"
      },
      "execution_count": 178,
      "outputs": []
    },
    {
      "cell_type": "code",
      "source": [
        "model(val.to(device))"
      ],
      "metadata": {
        "id": "mk1LhFu6or_N",
        "outputId": "ab86cadf-1d3a-40a1-b95b-1fa4046e6219",
        "colab": {
          "base_uri": "https://localhost:8080/"
        }
      },
      "execution_count": 179,
      "outputs": [
        {
          "output_type": "execute_result",
          "data": {
            "text/plain": [
              "tensor([[16.3741],\n",
              "        [19.9486],\n",
              "        [ 4.7181]], device='cuda:0', grad_fn=<AddmmBackward0>)"
            ]
          },
          "metadata": {},
          "execution_count": 179
        }
      ]
    },
    {
      "cell_type": "code",
      "source": [
        "val.sum(-1)"
      ],
      "metadata": {
        "id": "9XJ0-cREoy3q",
        "outputId": "c71b8278-b9c8-4ac2-c47a-4f9125b237e0",
        "colab": {
          "base_uri": "https://localhost:8080/"
        }
      },
      "execution_count": 180,
      "outputs": [
        {
          "output_type": "execute_result",
          "data": {
            "text/plain": [
              "tensor([17., 21.,  4.])"
            ]
          },
          "metadata": {},
          "execution_count": 180
        }
      ]
    }
  ]
}