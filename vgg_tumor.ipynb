{
  "nbformat": 4,
  "nbformat_minor": 0,
  "metadata": {
    "colab": {
      "name": "vgg_tumor.ipynb",
      "provenance": [],
      "include_colab_link": true
    },
    "kernelspec": {
      "name": "python3",
      "display_name": "Python 3"
    },
    "language_info": {
      "name": "python"
    },
    "accelerator": "GPU"
  },
  "cells": [
    {
      "cell_type": "markdown",
      "metadata": {
        "id": "view-in-github",
        "colab_type": "text"
      },
      "source": [
        "<a href=\"https://colab.research.google.com/github/ahmadSoliman94/Machine-Learning/blob/main/vgg_tumor.ipynb\" target=\"_parent\"><img src=\"https://colab.research.google.com/assets/colab-badge.svg\" alt=\"Open In Colab\"/></a>"
      ]
    },
    {
      "cell_type": "code",
      "execution_count": null,
      "metadata": {
        "colab": {
          "base_uri": "https://localhost:8080/"
        },
        "id": "E0Y18i_K0GpP",
        "outputId": "0109184f-45a6-43de-c2a4-88c0e313ce28"
      },
      "outputs": [
        {
          "output_type": "stream",
          "name": "stdout",
          "text": [
            "--2022-04-28 20:17:06--  http://brain-tumor-mri-dataset.zip/\n",
            "Resolving brain-tumor-mri-dataset.zip (brain-tumor-mri-dataset.zip)... failed: Name or service not known.\n",
            "wget: unable to resolve host address ‘brain-tumor-mri-dataset.zip’\n",
            "--2022-04-28 20:17:06--  https://www.dropbox.com/s/n2bj9xj1cpyrboi/brain-tumor-mri-dataset.zip\n",
            "Resolving www.dropbox.com (www.dropbox.com)... 162.125.81.18, 2620:100:6030:18::a27d:5012\n",
            "Connecting to www.dropbox.com (www.dropbox.com)|162.125.81.18|:443... connected.\n",
            "HTTP request sent, awaiting response... 301 Moved Permanently\n",
            "Location: /s/raw/n2bj9xj1cpyrboi/brain-tumor-mri-dataset.zip [following]\n",
            "--2022-04-28 20:17:06--  https://www.dropbox.com/s/raw/n2bj9xj1cpyrboi/brain-tumor-mri-dataset.zip\n",
            "Reusing existing connection to www.dropbox.com:443.\n",
            "HTTP request sent, awaiting response... 302 Found\n",
            "Location: https://uc2ef4a843c9d23f580c4c24d44a.dl.dropboxusercontent.com/cd/0/inline/BkSMNYbvHlHFt3xRm4ULnRg0qQpH7_5lm79xZ674Fk_jzPvDU-IhXtCb6KrSzlaHuM3VAOMaNLt29c3FiMLA_GS-W--MYmWzMtI55V4hmOqq9eJ__QbvsNirx7B28l71CWBxh5tjp8ps9TgWnBoRCuZz_aO4AYHJ0nmiH2hat_VCFw/file# [following]\n",
            "--2022-04-28 20:17:07--  https://uc2ef4a843c9d23f580c4c24d44a.dl.dropboxusercontent.com/cd/0/inline/BkSMNYbvHlHFt3xRm4ULnRg0qQpH7_5lm79xZ674Fk_jzPvDU-IhXtCb6KrSzlaHuM3VAOMaNLt29c3FiMLA_GS-W--MYmWzMtI55V4hmOqq9eJ__QbvsNirx7B28l71CWBxh5tjp8ps9TgWnBoRCuZz_aO4AYHJ0nmiH2hat_VCFw/file\n",
            "Resolving uc2ef4a843c9d23f580c4c24d44a.dl.dropboxusercontent.com (uc2ef4a843c9d23f580c4c24d44a.dl.dropboxusercontent.com)... 162.125.81.15, 2620:100:6030:15::a27d:500f\n",
            "Connecting to uc2ef4a843c9d23f580c4c24d44a.dl.dropboxusercontent.com (uc2ef4a843c9d23f580c4c24d44a.dl.dropboxusercontent.com)|162.125.81.15|:443... connected.\n",
            "HTTP request sent, awaiting response... 302 Found\n",
            "Location: /cd/0/inline2/BkRg3RRiBXoe3Mrn-rTKaAYKTqUUeQYMqBPLd6f367Xn3glO1GynsS77m7bpy-Urw5qRSsdUA9QpKyGR8jw0wWQzFpiivBaEn8ZK_QgYsD0lGZLyQa3Ggr3ymto7u9f7Gh_LpkdkIGFjN-j6j_UBPKjC2P8mnXdoVJsa9APNPxruQ3_xfEpY6SQtYpRV7VKfRhieyNvnYzCOiZcwZe6SYv9sJ4ug9_nBUG38fEP0zns2qxtJLrOJFZ41sLu3ld39hQJULlgqbOCdLonzCSI7u4z_NuRytaZPmBfciLUuji34BcFAJgZ8ORbf1Xofw7CIP55hFCLA1IQEKSA6jzRUXlg6wHyIiSffkkKbT93n4rmryuEzEzEDTBvdPoy2b4w7Sjr0iZH8ajdVr-wdmMqNSaJHjleX7q47c6tNniktYA0lNw/file [following]\n",
            "--2022-04-28 20:17:07--  https://uc2ef4a843c9d23f580c4c24d44a.dl.dropboxusercontent.com/cd/0/inline2/BkRg3RRiBXoe3Mrn-rTKaAYKTqUUeQYMqBPLd6f367Xn3glO1GynsS77m7bpy-Urw5qRSsdUA9QpKyGR8jw0wWQzFpiivBaEn8ZK_QgYsD0lGZLyQa3Ggr3ymto7u9f7Gh_LpkdkIGFjN-j6j_UBPKjC2P8mnXdoVJsa9APNPxruQ3_xfEpY6SQtYpRV7VKfRhieyNvnYzCOiZcwZe6SYv9sJ4ug9_nBUG38fEP0zns2qxtJLrOJFZ41sLu3ld39hQJULlgqbOCdLonzCSI7u4z_NuRytaZPmBfciLUuji34BcFAJgZ8ORbf1Xofw7CIP55hFCLA1IQEKSA6jzRUXlg6wHyIiSffkkKbT93n4rmryuEzEzEDTBvdPoy2b4w7Sjr0iZH8ajdVr-wdmMqNSaJHjleX7q47c6tNniktYA0lNw/file\n",
            "Reusing existing connection to uc2ef4a843c9d23f580c4c24d44a.dl.dropboxusercontent.com:443.\n",
            "HTTP request sent, awaiting response... 200 OK\n",
            "Length: 155791278 (149M) [application/zip]\n",
            "Saving to: ‘brain-tumor-mri-dataset.zip’\n",
            "\n",
            "brain-tumor-mri-dat 100%[===================>] 148.57M  9.34MB/s    in 17s     \n",
            "\n",
            "2022-04-28 20:17:25 (8.64 MB/s) - ‘brain-tumor-mri-dataset.zip’ saved [155791278/155791278]\n",
            "\n",
            "FINISHED --2022-04-28 20:17:25--\n",
            "Total wall clock time: 20s\n",
            "Downloaded: 1 files, 149M in 17s (8.64 MB/s)\n"
          ]
        }
      ],
      "source": [
        "!wget   brain-tumor-mri-dataset.zip  https://www.dropbox.com/s/n2bj9xj1cpyrboi/brain-tumor-mri-dataset.zip"
      ]
    },
    {
      "cell_type": "code",
      "source": [
        "import os\n",
        "from zipfile import ZipFile\n",
        "work_dir = os.getcwd()                                                \n",
        "with ZipFile(os.path.join(work_dir ,'/content/brain-tumor-mri-dataset.zip'),'r') as zipobject:\n",
        "  zipobject.extractall()"
      ],
      "metadata": {
        "id": "I7zRZZNf0MAx"
      },
      "execution_count": null,
      "outputs": []
    },
    {
      "cell_type": "code",
      "source": [
        "train_data_dir =  \"/content/Training\"\n",
        "validation_data_dir =\"/content/Testing\""
      ],
      "metadata": {
        "id": "h0mBgsjP0amB"
      },
      "execution_count": null,
      "outputs": []
    },
    {
      "cell_type": "code",
      "source": [
        "\n",
        "from tensorflow import keras\n",
        "from keras.preprocessing.image import ImageDataGenerator\n",
        "\n",
        "# Define a data generator with data augmentation transformations for the \n",
        "# training dataset.\n",
        "train_datagen = ImageDataGenerator(rescale=1./255,\n",
        "                                   shear_range=0.2,\n",
        "                                   zoom_range=0.2,\n",
        "                                   width_shift_range=0.2,\n",
        "                                   height_shift_range=0.2,\n",
        "                                   fill_mode='nearest')\n",
        "\n",
        "valid_datagen = ImageDataGenerator(rescale=1./255)\n",
        "\n",
        "\n",
        "train_set = train_datagen.flow_from_directory(train_data_dir,\n",
        "                                              target_size=(224, 224),\n",
        "                                              batch_size=64,\n",
        "                                              class_mode='categorical')\n",
        "\n",
        "valid_set = valid_datagen.flow_from_directory(validation_data_dir,\n",
        "                                              target_size=(224, 224),\n",
        "                                              batch_size=64,\n",
        "                                              class_mode='categorical')"
      ],
      "metadata": {
        "colab": {
          "base_uri": "https://localhost:8080/"
        },
        "id": "1xLSWDoE03ZA",
        "outputId": "7398a807-1a4f-40b6-c20e-5f830fcfdeba"
      },
      "execution_count": null,
      "outputs": [
        {
          "output_type": "stream",
          "name": "stdout",
          "text": [
            "Found 5712 images belonging to 4 classes.\n",
            "Found 1311 images belonging to 4 classes.\n"
          ]
        }
      ]
    },
    {
      "cell_type": "code",
      "source": [
        "from tensorflow.keras.applications.vgg16  import preprocess_input"
      ],
      "metadata": {
        "id": "0Dyi74mk05TJ"
      },
      "execution_count": null,
      "outputs": []
    },
    {
      "cell_type": "code",
      "source": [
        "base_model = keras.applications.VGG16(\n",
        "    weights=\"imagenet\",  # load weights pretrained on the ImageNet\n",
        "    input_shape=(224, 224, 3),\n",
        "    include_top=False  # do not include the ImageNet classifier at the top\n",
        ")  "
      ],
      "metadata": {
        "colab": {
          "base_uri": "https://localhost:8080/"
        },
        "id": "MavrQhzE07sB",
        "outputId": "b34b6155-0e95-42f4-8089-fd57d4995fb5"
      },
      "execution_count": null,
      "outputs": [
        {
          "output_type": "stream",
          "name": "stdout",
          "text": [
            "Downloading data from https://storage.googleapis.com/tensorflow/keras-applications/vgg16/vgg16_weights_tf_dim_ordering_tf_kernels_notop.h5\n",
            "58892288/58889256 [==============================] - 0s 0us/step\n",
            "58900480/58889256 [==============================] - 0s 0us/step\n"
          ]
        }
      ]
    },
    {
      "cell_type": "code",
      "source": [
        "base_model.summary()\n"
      ],
      "metadata": {
        "colab": {
          "base_uri": "https://localhost:8080/"
        },
        "id": "yv-3OQay091P",
        "outputId": "8df8721a-85dc-4bb9-d1f1-d61a0da9ec29"
      },
      "execution_count": null,
      "outputs": [
        {
          "output_type": "stream",
          "name": "stdout",
          "text": [
            "Model: \"vgg16\"\n",
            "_________________________________________________________________\n",
            " Layer (type)                Output Shape              Param #   \n",
            "=================================================================\n",
            " input_1 (InputLayer)        [(None, 224, 224, 3)]     0         \n",
            "                                                                 \n",
            " block1_conv1 (Conv2D)       (None, 224, 224, 64)      1792      \n",
            "                                                                 \n",
            " block1_conv2 (Conv2D)       (None, 224, 224, 64)      36928     \n",
            "                                                                 \n",
            " block1_pool (MaxPooling2D)  (None, 112, 112, 64)      0         \n",
            "                                                                 \n",
            " block2_conv1 (Conv2D)       (None, 112, 112, 128)     73856     \n",
            "                                                                 \n",
            " block2_conv2 (Conv2D)       (None, 112, 112, 128)     147584    \n",
            "                                                                 \n",
            " block2_pool (MaxPooling2D)  (None, 56, 56, 128)       0         \n",
            "                                                                 \n",
            " block3_conv1 (Conv2D)       (None, 56, 56, 256)       295168    \n",
            "                                                                 \n",
            " block3_conv2 (Conv2D)       (None, 56, 56, 256)       590080    \n",
            "                                                                 \n",
            " block3_conv3 (Conv2D)       (None, 56, 56, 256)       590080    \n",
            "                                                                 \n",
            " block3_pool (MaxPooling2D)  (None, 28, 28, 256)       0         \n",
            "                                                                 \n",
            " block4_conv1 (Conv2D)       (None, 28, 28, 512)       1180160   \n",
            "                                                                 \n",
            " block4_conv2 (Conv2D)       (None, 28, 28, 512)       2359808   \n",
            "                                                                 \n",
            " block4_conv3 (Conv2D)       (None, 28, 28, 512)       2359808   \n",
            "                                                                 \n",
            " block4_pool (MaxPooling2D)  (None, 14, 14, 512)       0         \n",
            "                                                                 \n",
            " block5_conv1 (Conv2D)       (None, 14, 14, 512)       2359808   \n",
            "                                                                 \n",
            " block5_conv2 (Conv2D)       (None, 14, 14, 512)       2359808   \n",
            "                                                                 \n",
            " block5_conv3 (Conv2D)       (None, 14, 14, 512)       2359808   \n",
            "                                                                 \n",
            " block5_pool (MaxPooling2D)  (None, 7, 7, 512)         0         \n",
            "                                                                 \n",
            "=================================================================\n",
            "Total params: 14,714,688\n",
            "Trainable params: 14,714,688\n",
            "Non-trainable params: 0\n",
            "_________________________________________________________________\n"
          ]
        }
      ]
    },
    {
      "cell_type": "code",
      "source": [
        "for layer in base_model.layers[:-12]:\n",
        "    layer.trainable=False"
      ],
      "metadata": {
        "id": "N9gja09o1AGl"
      },
      "execution_count": null,
      "outputs": []
    },
    {
      "cell_type": "code",
      "source": [
        "# Freeze the base_model\n",
        "#base_model.trainable = False\n",
        "\n",
        "# Create new model on top\n",
        "inputs = keras.Input(shape=(224, 224, 3))\n",
        "\n",
        "# The base model contains batchnorm layers. We want to keep them in inference mode\n",
        "# when we unfreeze the base model for fine-tuning, so we make sure that the\n",
        "# base_model is running in inference mode here.\n",
        "x = keras.layers.Flatten()(base_model.output)\n",
        "x = keras.layers.Dense(512,activation='relu')(x)\n",
        "x = keras.layers.Dense(512,activation='relu')(x)\n",
        "out = keras.layers.Dense(4,activation='softmax')(x)\n",
        "model =keras.Model(inputs=base_model.input, outputs=out)\n",
        "model.summary()\n",
        "\n"
      ],
      "metadata": {
        "colab": {
          "base_uri": "https://localhost:8080/"
        },
        "id": "6ibIpJ7L1Cpx",
        "outputId": "deae3696-2e24-4429-818f-c91d2be15a7d"
      },
      "execution_count": null,
      "outputs": [
        {
          "output_type": "stream",
          "name": "stdout",
          "text": [
            "Model: \"model_1\"\n",
            "_________________________________________________________________\n",
            " Layer (type)                Output Shape              Param #   \n",
            "=================================================================\n",
            " input_1 (InputLayer)        [(None, 224, 224, 3)]     0         \n",
            "                                                                 \n",
            " block1_conv1 (Conv2D)       (None, 224, 224, 64)      1792      \n",
            "                                                                 \n",
            " block1_conv2 (Conv2D)       (None, 224, 224, 64)      36928     \n",
            "                                                                 \n",
            " block1_pool (MaxPooling2D)  (None, 112, 112, 64)      0         \n",
            "                                                                 \n",
            " block2_conv1 (Conv2D)       (None, 112, 112, 128)     73856     \n",
            "                                                                 \n",
            " block2_conv2 (Conv2D)       (None, 112, 112, 128)     147584    \n",
            "                                                                 \n",
            " block2_pool (MaxPooling2D)  (None, 56, 56, 128)       0         \n",
            "                                                                 \n",
            " block3_conv1 (Conv2D)       (None, 56, 56, 256)       295168    \n",
            "                                                                 \n",
            " block3_conv2 (Conv2D)       (None, 56, 56, 256)       590080    \n",
            "                                                                 \n",
            " block3_conv3 (Conv2D)       (None, 56, 56, 256)       590080    \n",
            "                                                                 \n",
            " block3_pool (MaxPooling2D)  (None, 28, 28, 256)       0         \n",
            "                                                                 \n",
            " block4_conv1 (Conv2D)       (None, 28, 28, 512)       1180160   \n",
            "                                                                 \n",
            " block4_conv2 (Conv2D)       (None, 28, 28, 512)       2359808   \n",
            "                                                                 \n",
            " block4_conv3 (Conv2D)       (None, 28, 28, 512)       2359808   \n",
            "                                                                 \n",
            " block4_pool (MaxPooling2D)  (None, 14, 14, 512)       0         \n",
            "                                                                 \n",
            " block5_conv1 (Conv2D)       (None, 14, 14, 512)       2359808   \n",
            "                                                                 \n",
            " block5_conv2 (Conv2D)       (None, 14, 14, 512)       2359808   \n",
            "                                                                 \n",
            " block5_conv3 (Conv2D)       (None, 14, 14, 512)       2359808   \n",
            "                                                                 \n",
            " block5_pool (MaxPooling2D)  (None, 7, 7, 512)         0         \n",
            "                                                                 \n",
            " flatten_1 (Flatten)         (None, 25088)             0         \n",
            "                                                                 \n",
            " dense_3 (Dense)             (None, 512)               12845568  \n",
            "                                                                 \n",
            " dense_4 (Dense)             (None, 512)               262656    \n",
            "                                                                 \n",
            " dense_5 (Dense)             (None, 4)                 2052      \n",
            "                                                                 \n",
            "=================================================================\n",
            "Total params: 27,824,964\n",
            "Trainable params: 27,564,804\n",
            "Non-trainable params: 260,160\n",
            "_________________________________________________________________\n"
          ]
        }
      ]
    },
    {
      "cell_type": "code",
      "source": [
        "model.compile(optimizer=keras.optimizers.Adam(1e-4),\n",
        "              loss=keras.losses.CategoricalCrossentropy(from_logits=True),\n",
        "              metrics=[keras.metrics.CategoricalAccuracy()]\n",
        ")\n"
      ],
      "metadata": {
        "id": "ZpidkfhP1Erl"
      },
      "execution_count": null,
      "outputs": []
    },
    {
      "cell_type": "code",
      "source": [
        "\n",
        "epochs = 13\n",
        "\n",
        "# train_num = train_set.samples  # num of training samples\n",
        "# valid_num = valid_set.samples  # num of validation samples\n",
        "\n",
        "vgg16_history = model.fit(train_set,\n",
        "                                steps_per_epoch =85,\n",
        "                                validation_data=valid_set,\n",
        "                                validation_steps=12,\n",
        "                                epochs=epochs,\n",
        ")"
      ],
      "metadata": {
        "colab": {
          "base_uri": "https://localhost:8080/"
        },
        "id": "yiv9wLi71HkT",
        "outputId": "9b1db2c2-e8cd-48a1-8ebc-b1cb048e4352"
      },
      "execution_count": null,
      "outputs": [
        {
          "output_type": "stream",
          "name": "stdout",
          "text": [
            "Epoch 1/13\n"
          ]
        },
        {
          "output_type": "stream",
          "name": "stderr",
          "text": [
            "/usr/local/lib/python3.7/dist-packages/tensorflow/python/util/dispatch.py:1082: UserWarning: \"`categorical_crossentropy` received `from_logits=True`, but the `output` argument was produced by a sigmoid or softmax activation and thus does not represent logits. Was this intended?\"\n",
            "  return dispatch_target(*args, **kwargs)\n"
          ]
        },
        {
          "output_type": "stream",
          "name": "stdout",
          "text": [
            "85/85 [==============================] - 136s 2s/step - loss: 0.6393 - categorical_accuracy: 0.7457 - val_loss: 0.3693 - val_categorical_accuracy: 0.8529\n",
            "Epoch 2/13\n",
            "85/85 [==============================] - 114s 1s/step - loss: 0.2716 - categorical_accuracy: 0.9023 - val_loss: 0.8088 - val_categorical_accuracy: 0.7982\n",
            "Epoch 3/13\n",
            "85/85 [==============================] - 115s 1s/step - loss: 0.2601 - categorical_accuracy: 0.9000 - val_loss: 0.1833 - val_categorical_accuracy: 0.9206\n",
            "Epoch 4/13\n",
            "85/85 [==============================] - 115s 1s/step - loss: 0.1338 - categorical_accuracy: 0.9496 - val_loss: 0.1222 - val_categorical_accuracy: 0.9531\n",
            "Epoch 5/13\n",
            "85/85 [==============================] - 114s 1s/step - loss: 0.0953 - categorical_accuracy: 0.9653 - val_loss: 0.1772 - val_categorical_accuracy: 0.9362\n",
            "Epoch 6/13\n",
            "85/85 [==============================] - 114s 1s/step - loss: 0.0801 - categorical_accuracy: 0.9703 - val_loss: 0.0967 - val_categorical_accuracy: 0.9688\n",
            "Epoch 7/13\n",
            "85/85 [==============================] - 115s 1s/step - loss: 0.0701 - categorical_accuracy: 0.9743 - val_loss: 0.1383 - val_categorical_accuracy: 0.9492\n",
            "Epoch 8/13\n",
            "85/85 [==============================] - 114s 1s/step - loss: 0.0575 - categorical_accuracy: 0.9805 - val_loss: 0.1174 - val_categorical_accuracy: 0.9622\n",
            "Epoch 9/13\n",
            "85/85 [==============================] - 113s 1s/step - loss: 0.0647 - categorical_accuracy: 0.9790 - val_loss: 0.0960 - val_categorical_accuracy: 0.9688\n",
            "Epoch 10/13\n",
            "85/85 [==============================] - 113s 1s/step - loss: 0.0578 - categorical_accuracy: 0.9796 - val_loss: 0.0714 - val_categorical_accuracy: 0.9701\n",
            "Epoch 11/13\n",
            "85/85 [==============================] - 113s 1s/step - loss: 0.0411 - categorical_accuracy: 0.9863 - val_loss: 0.0656 - val_categorical_accuracy: 0.9779\n",
            "Epoch 12/13\n",
            "85/85 [==============================] - 113s 1s/step - loss: 0.0238 - categorical_accuracy: 0.9909 - val_loss: 0.0949 - val_categorical_accuracy: 0.9714\n",
            "Epoch 13/13\n",
            "85/85 [==============================] - 113s 1s/step - loss: 0.0441 - categorical_accuracy: 0.9846 - val_loss: 0.0674 - val_categorical_accuracy: 0.9818\n"
          ]
        }
      ]
    },
    {
      "cell_type": "code",
      "source": [
        "results = model.evaluate(valid_set)\n",
        "\n",
        "print('val loss:', results[0])\n",
        "print('val acc:', results[1])\n"
      ],
      "metadata": {
        "colab": {
          "base_uri": "https://localhost:8080/"
        },
        "id": "NRKmAK6t1fqc",
        "outputId": "580c817c-939e-46b8-8cd7-3648aea55d4b"
      },
      "execution_count": null,
      "outputs": [
        {
          "output_type": "stream",
          "name": "stdout",
          "text": [
            "21/21 [==============================] - 16s 748ms/step - loss: 0.0683 - categorical_accuracy: 0.9786\n",
            "val loss: 0.06828851997852325\n",
            "val acc: 0.9786422848701477\n"
          ]
        }
      ]
    },
    {
      "cell_type": "code",
      "source": [
        "import  numpy  as np\n",
        "pred = model.predict(valid_set)\n",
        "pred = np.argmax(pred,axis=1)\n",
        "\n",
        "# Map the label\n",
        "labels = (train_set.class_indices)\n",
        "labels = dict((v,k) for k,v in labels.items())\n",
        "pred = [labels[k] for k in pred]\n",
        "\n",
        "y_test = [labels[k] for k in valid_set.classes]"
      ],
      "metadata": {
        "id": "VMwKqmJ01JWT"
      },
      "execution_count": null,
      "outputs": []
    },
    {
      "cell_type": "code",
      "source": [
        "from sklearn.metrics import accuracy_score\n",
        "from sklearn.metrics import classification_report\n",
        "acc = accuracy_score(y_test, pred)\n",
        "print(classification_report(y_test, pred))"
      ],
      "metadata": {
        "colab": {
          "base_uri": "https://localhost:8080/"
        },
        "id": "L6JkAYW41lcs",
        "outputId": "109d5d46-32f8-436c-c577-75ef5c0d6f16"
      },
      "execution_count": null,
      "outputs": [
        {
          "output_type": "stream",
          "name": "stdout",
          "text": [
            "              precision    recall  f1-score   support\n",
            "\n",
            "      glioma       0.24      0.23      0.24       300\n",
            "  meningioma       0.21      0.21      0.21       306\n",
            "     notumor       0.33      0.33      0.33       405\n",
            "   pituitary       0.21      0.22      0.22       300\n",
            "\n",
            "    accuracy                           0.25      1311\n",
            "   macro avg       0.25      0.25      0.25      1311\n",
            "weighted avg       0.25      0.25      0.25      1311\n",
            "\n"
          ]
        }
      ]
    },
    {
      "cell_type": "code",
      "source": [
        "import matplotlib.pyplot as plt"
      ],
      "metadata": {
        "id": "zgDyPoGJ1naa"
      },
      "execution_count": null,
      "outputs": []
    },
    {
      "cell_type": "code",
      "source": [
        "from sklearn.metrics import confusion_matrix\n",
        "import seaborn as sns\n",
        "\n",
        "cf_matrix = confusion_matrix(y_test, pred, normalize='true')\n",
        "plt.figure(figsize = (15,10))\n",
        "sns.heatmap(cf_matrix, \n",
        "            annot=True, \n",
        "            xticklabels = sorted(set(y_test)), \n",
        "            yticklabels = sorted(set(y_test)),\n",
        "            )\n",
        "plt.title('Normalized Confusion Matrix')\n",
        "plt.show()"
      ],
      "metadata": {
        "colab": {
          "base_uri": "https://localhost:8080/",
          "height": 607
        },
        "id": "St9jxSPQ1q9o",
        "outputId": "e2559454-bf7e-417e-a921-95df2195ee18"
      },
      "execution_count": null,
      "outputs": [
        {
          "output_type": "display_data",
          "data": {
            "text/plain": [
              "<Figure size 1080x720 with 2 Axes>"
            ],
            "image/png": "[encoded data removed]"
          },
          "metadata": {
            "needs_background": "light"
          }
        }
      ]
    },
    {
      "cell_type": "code",
      "source": [
        "import matplotlib.pyplot as plt\n",
        "import seaborn as sns\n",
        "\n",
        "# Set parameters for plotting\n",
        "plt.rc('figure', figsize=(8, 4))\n",
        "sns.set(font_scale=1)"
      ],
      "metadata": {
        "id": "B_e41ekH1tX2"
      },
      "execution_count": null,
      "outputs": []
    },
    {
      "cell_type": "code",
      "source": [
        "train_acc = vgg16_history.history['categorical_accuracy']\n",
        "val_acc = vgg16_history.history['val_categorical_accuracy']\n",
        "\n",
        "epochs_list = list(range(1, epochs + 1))\n",
        "\n",
        "plt.plot(epochs_list, train_acc, label='train acc')\n",
        "plt.plot(epochs_list, val_acc, label='val acc')\n",
        "plt.title(\"VGG-16's Accuracy\")\n",
        "plt.xlabel('Epochs')\n",
        "plt.ylabel('Accuracy')\n",
        "plt.legend(loc='best')"
      ],
      "metadata": {
        "colab": {
          "base_uri": "https://localhost:8080/",
          "height": 318
        },
        "id": "IE3h9Goe1u2m",
        "outputId": "9cafac6a-3e6f-451a-ac0e-40383c82e454"
      },
      "execution_count": null,
      "outputs": [
        {
          "output_type": "execute_result",
          "data": {
            "text/plain": [
              "<matplotlib.legend.Legend at 0x7f7ca0274610>"
            ]
          },
          "metadata": {},
          "execution_count": 22
        },
        {
          "output_type": "display_data",
          "data": {
            "text/plain": [
              "<Figure size 576x288 with 1 Axes>"
            ],
            "image/png": "[encoded data removed]"
          },
          "metadata": {}
        }
      ]
    },
    {
      "cell_type": "code",
      "source": [
        "train_loss = vgg16_history.history['loss']\n",
        "val_loss = vgg16_history.history['val_loss']\n",
        "\n",
        "plt.plot(epochs_list, train_loss, label='train loss')\n",
        "plt.plot(epochs_list, val_loss, label='val loss')\n",
        "plt.title(\"VGG-16's Loss\")\n",
        "plt.xlabel('Epochs')\n",
        "plt.ylabel('Loss')\n",
        "plt.legend(loc='best')"
      ],
      "metadata": {
        "colab": {
          "base_uri": "https://localhost:8080/",
          "height": 318
        },
        "id": "MvLTpzLA1wSa",
        "outputId": "9b679cb0-af24-4048-c325-e6c392f91e8d"
      },
      "execution_count": null,
      "outputs": [
        {
          "output_type": "execute_result",
          "data": {
            "text/plain": [
              "<matplotlib.legend.Legend at 0x7f7ca03ed650>"
            ]
          },
          "metadata": {},
          "execution_count": 23
        },
        {
          "output_type": "display_data",
          "data": {
            "text/plain": [
              "<Figure size 576x288 with 1 Axes>"
            ],
            "image/png": "[encoded data removed]"
          },
          "metadata": {}
        }
      ]
    },
    {
      "cell_type": "code",
      "source": [
        ""
      ],
      "metadata": {
        "id": "yrFrp97f1yJm"
      },
      "execution_count": null,
      "outputs": []
    }
  ]
}